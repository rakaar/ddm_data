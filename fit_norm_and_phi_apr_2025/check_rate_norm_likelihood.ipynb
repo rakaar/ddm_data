{
 "cells": [
  {
   "cell_type": "code",
   "execution_count": 1,
   "id": "b9bde631",
   "metadata": {},
   "outputs": [],
   "source": [
    "import numpy as np\n",
    "import matplotlib.pyplot as plt\n",
    "from joblib import Parallel, delayed\n",
    "from tqdm.notebook import tqdm\n",
    "import pandas as pd\n",
    "from scipy.integrate import trapezoid as trapz\n",
    "import random"
   ]
  },
  {
   "cell_type": "code",
   "execution_count": 2,
   "id": "52c53d99",
   "metadata": {},
   "outputs": [],
   "source": [
    "from time_vary_and_norm_simulators import psiam_tied_data_gen_wrapper_rate_norm_fn"
   ]
  },
  {
   "cell_type": "code",
   "execution_count": 3,
   "id": "f7cd0fc4",
   "metadata": {},
   "outputs": [],
   "source": [
    "from time_vary_norm_utils import up_or_down_RTs_fit_fn, up_or_down_RTs_fit_wrt_stim_fn"
   ]
  },
  {
   "cell_type": "code",
   "execution_count": 4,
   "id": "6c487932",
   "metadata": {},
   "outputs": [
    {
     "name": "stdout",
     "output_type": "stream",
     "text": [
      "len of LED off: 66226\n",
      "len of led off valid trials = 53472\n",
      "len of valid trials < 1s : 52799\n"
     ]
    }
   ],
   "source": [
    "# repeat_trial, T16, S7\n",
    "og_df = pd.read_csv('../out_LED.csv')\n",
    "df = og_df[ og_df['repeat_trial'].isin([0,2]) | og_df['repeat_trial'].isna() ]\n",
    "session_type = 7    \n",
    "df = df[ df['session_type'].isin([session_type]) ]\n",
    "training_level = 16\n",
    "df = df[ df['training_level'].isin([training_level]) ]\n",
    "\n",
    "\n",
    "# t_stim, t_LED, ABL, ILD\n",
    "t_stim_and_led_tuple = [(row['intended_fix'], row['intended_fix'] - row['LED_onset_time']) for _, row in df.iterrows()]\n",
    "ABL_arr = df['ABL'].unique(); ABL_arr.sort()\n",
    "ILD_arr = df['ILD'].unique(); ILD_arr.sort()\n",
    "\n",
    "\n",
    "# 1 is right , -1 is left\n",
    "df['choice'] = df['response_poke'].apply(lambda x: 1 if x == 3 else (-1 if x == 2 else random.choice([1, -1])))\n",
    "# 1 or 0 if the choice was correct or not\n",
    "df['correct'] = (df['ILD'] * df['choice']).apply(lambda x: 1 if x > 0 else 0)\n",
    "\n",
    "# LED OFF\n",
    "df_led_off = df[df['LED_trial'] == 0]\n",
    "print(f'len of LED off: {len(df_led_off)}')\n",
    "\n",
    "\n",
    "\n",
    "# valid trials\n",
    "df_led_off_valid_trials = df_led_off[df_led_off['success'].isin([1,-1])]\n",
    "print(f'len of led off valid trials = {len(df_led_off_valid_trials)}')\n",
    "\n",
    "# remove trials with RT > 1s\n",
    "df_led_off_valid_trials = df_led_off_valid_trials[df_led_off_valid_trials['timed_fix'] - df_led_off_valid_trials['intended_fix'] < 1]\n",
    "print(f'len of valid trials < 1s : {len(df_led_off_valid_trials)}')"
   ]
  },
  {
   "cell_type": "code",
   "execution_count": 5,
   "id": "a305e40e",
   "metadata": {},
   "outputs": [],
   "source": [
    "N_sim = int(1e5)\n",
    "dt = 1e-4\n",
    "\n",
    "V_A = 1.6\n",
    "theta_A = 2.5\n",
    "t_A_aff = -0.22\n",
    "# t_A_aff = 0\n",
    "# t_A_aff = 0.2\n",
    "\n",
    "t_stim = 0.25\n",
    "\n",
    "rate_lambda = 2\n",
    "T_0 = 200 * 1e-3\n",
    "theta_E = 3\n",
    "\n",
    "t_E_aff = 0.068\n",
    "# t_E_aff = 0\n",
    "del_go = 0.13\n",
    "# del_go = 0\n",
    "\n",
    "rate_norm_l = 0.95\n",
    "\n",
    "N_print = int(N_sim / 5)\n",
    "\n",
    "ABL = 20\n",
    "ILD = 2\n",
    "\n",
    "Z_E = 0.15\n"
   ]
  },
  {
   "cell_type": "code",
   "execution_count": 6,
   "id": "2c59e784",
   "metadata": {},
   "outputs": [
    {
     "name": "stdout",
     "output_type": "stream",
     "text": [
      "==========================================================\n",
      "lamda = 2, T_0 = 200.0 ms, theta_E = 3\n",
      "==========================================================\n",
      "    ABL  abs_ILD  data mean  model_mean_RT\n",
      "0    20      1.0   0.297731       1.375083\n",
      "1    20      2.0   0.287823       1.241103\n",
      "2    20      4.0   0.263780       0.942313\n",
      "3    20      8.0   0.197015       0.618777\n",
      "4    20     16.0   0.158144       0.456267\n",
      "5    40      1.0   0.226616       1.092267\n",
      "6    40      2.0   0.214530       0.985843\n",
      "7    40      4.0   0.190349       0.748506\n",
      "8    40      8.0   0.160279       0.491512\n",
      "9    40     16.0   0.138245       0.362426\n",
      "10   60      1.0   0.188789       0.867619\n",
      "11   60      2.0   0.185669       0.783083\n",
      "12   60      4.0   0.174776       0.594559\n",
      "13   60      8.0   0.152016       0.390422\n",
      "14   60     16.0   0.129234       0.287885\n"
     ]
    }
   ],
   "source": [
    "import numpy as np\n",
    "import pandas as pd\n",
    "\n",
    "# Step 1: Add abs_ILD and rt_wrt_stim to the dataframe\n",
    "df_led_off_valid_trials['abs_ILD'] = df_led_off_valid_trials['ILD'].abs()\n",
    "df_led_off_valid_trials['rt_wrt_stim'] = df_led_off_valid_trials['timed_fix'] - df_led_off_valid_trials['intended_fix']\n",
    "\n",
    "# Step 2: Compute empirical mean RTs\n",
    "empirical_rt = df_led_off_valid_trials.groupby(['ABL', 'abs_ILD'])['rt_wrt_stim'].median().reset_index()\n",
    "empirical_rt.rename(columns={'rt_wrt_stim': 'data mean'}, inplace=True)\n",
    "\n",
    "\n",
    "print('==========================================================')\n",
    "print(f'lamda = {rate_lambda}, T_0 = {T_0 * 1e3} ms, theta_E = {theta_E}')\n",
    "print('==========================================================')\n",
    "\n",
    "# Step 4: Generate theoretical mean RTs\n",
    "theoretical_rows = []\n",
    "chi = 17.37\n",
    "all_ABL = empirical_rt['ABL'].unique()\n",
    "all_ILD = empirical_rt['abs_ILD'].unique()\n",
    "\n",
    "for ABL in all_ABL:\n",
    "    for ILD in all_ILD:\n",
    "        lambda_ABL_term = (10 ** (rate_lambda * (1 - rate_norm_l) * ABL / 20))\n",
    "        lambda_ILD_arg = rate_lambda * ILD / chi\n",
    "        lambda_ILD_L_arg = rate_lambda * rate_norm_l * ILD / chi\n",
    "        mu = (1 / T_0) * lambda_ABL_term * (np.sinh(lambda_ILD_arg) / np.cosh(lambda_ILD_L_arg))\n",
    "        sigma_sq = (1 / T_0) * lambda_ABL_term * (np.cosh(lambda_ILD_arg) / np.cosh(lambda_ILD_L_arg))\n",
    "        model_rt = (theta_E / mu) * np.tanh(mu * theta_E / sigma_sq)\n",
    "        theoretical_rows.append({'ABL': ABL, 'abs_ILD': ILD, 'model_mean_RT': model_rt})\n",
    "\n",
    "theoretical_rt = pd.DataFrame(theoretical_rows)\n",
    "\n",
    "# Step 5: Merge and print side by side\n",
    "merged = pd.merge(empirical_rt, theoretical_rt, on=['ABL', 'abs_ILD'])\n",
    "print(merged)\n"
   ]
  },
  {
   "cell_type": "code",
   "execution_count": 7,
   "id": "29fb1ec7",
   "metadata": {},
   "outputs": [
    {
     "data": {
      "text/plain": [
       "<matplotlib.legend.Legend at 0x75ff04faa690>"
      ]
     },
     "execution_count": 7,
     "metadata": {},
     "output_type": "execute_result"
    },
    {
     "data": {
      "image/png": "[encoded data removed]",
      "text/plain": [
       "<Figure size 800x600 with 1 Axes>"
      ]
     },
     "metadata": {},
     "output_type": "display_data"
    }
   ],
   "source": [
    "import matplotlib.pyplot as plt\n",
    "\n",
    "# Assume `theoretical_rt` contains columns: ABL, abs_ILD, model_mean_RT\n",
    "\n",
    "plt.figure(figsize=(8, 6))\n",
    "\n",
    "for abl in sorted(theoretical_rt['ABL'].unique()):\n",
    "    subset = theoretical_rt[theoretical_rt['ABL'] == abl]\n",
    "    plt.plot(subset['abs_ILD'], subset['model_mean_RT'], marker='o', label=f'ABL = {abl} dB')\n",
    "\n",
    "plt.xlabel('Absolute ILD')\n",
    "plt.ylabel('Model Mean RT')\n",
    "plt.title('Model Mean RT vs Absolute ILD for Different ABLs')\n",
    "plt.legend(title='ABL')\n"
   ]
  },
  {
   "cell_type": "markdown",
   "id": "fb495a24",
   "metadata": {},
   "source": [
    "# sim test params"
   ]
  },
  {
   "cell_type": "code",
   "execution_count": 8,
   "id": "5c5ccc5e",
   "metadata": {},
   "outputs": [],
   "source": [
    "ABL = 20\n",
    "ILD = 1\n",
    "t_stim = 0.25"
   ]
  },
  {
   "cell_type": "markdown",
   "id": "14a0ea0d",
   "metadata": {},
   "source": [
    "# only norm"
   ]
  },
  {
   "cell_type": "code",
   "execution_count": 9,
   "id": "6936e76e",
   "metadata": {},
   "outputs": [
    {
     "data": {
      "application/vnd.jupyter.widget-view+json": {
       "model_id": "dcf51db9131e49ebb9842b6d6ea96f2d",
       "version_major": 2,
       "version_minor": 0
      },
      "text/plain": [
       "  0%|          | 0/100000 [00:00<?, ?it/s]"
      ]
     },
     "metadata": {},
     "output_type": "display_data"
    },
    {
     "name": "stdout",
     "output_type": "stream",
     "text": [
      "os id: 2326520, In iter_num: 0, ABL: 20, ILD: 1, t_stim: 0.25\n",
      "os id: 2326522, In iter_num: 20000, ABL: 20, ILD: 1, t_stim: 0.25\n",
      "os id: 2326570, In iter_num: 40000, ABL: 20, ILD: 1, t_stim: 0.25\n",
      "os id: 2326564, In iter_num: 60000, ABL: 20, ILD: 1, t_stim: 0.25\n",
      "os id: 2326565, In iter_num: 80000, ABL: 20, ILD: 1, t_stim: 0.25\n"
     ]
    }
   ],
   "source": [
    "sim_results = Parallel(n_jobs=30)(\n",
    "    delayed(psiam_tied_data_gen_wrapper_rate_norm_fn)(\n",
    "        V_A, theta_A, ABL, ILD, rate_lambda, T_0, theta_E, Z_E, t_A_aff, t_E_aff, del_go, \n",
    "        t_stim, rate_norm_l, iter_num, N_print, dt\n",
    "    ) for iter_num in tqdm(range(N_sim))\n",
    ")"
   ]
  },
  {
   "cell_type": "code",
   "execution_count": 10,
   "id": "04255d9d",
   "metadata": {},
   "outputs": [],
   "source": [
    "sim_results_df = pd.DataFrame(sim_results)\n",
    "sim_df_up = sim_results_df[(sim_results_df['choice'] == 1)]\n",
    "sim_df_down = sim_results_df[(sim_results_df['choice'] == -1)]\n",
    "sim_rt_up = sim_df_up['rt'] - sim_df_up['t_stim']\n",
    "sim_rt_down = sim_df_down['rt'] - sim_df_down['t_stim']\n",
    "total_len = len(sim_rt_up) + len(sim_rt_down)"
   ]
  },
  {
   "cell_type": "code",
   "execution_count": 11,
   "id": "3a03d487",
   "metadata": {},
   "outputs": [],
   "source": [
    "# theory\n",
    "is_norm = True\n",
    "is_time_vary = False\n",
    "K_max = 10\n",
    "t_pts = np.arange(-1, 4, 0.001)\n",
    "theory_up = np.array([up_or_down_RTs_fit_fn(\n",
    "                    t, 1,\n",
    "                    V_A, theta_A, t_A_aff,\n",
    "                    t_stim, ABL, ILD, rate_lambda, T_0, theta_E, Z_E, t_E_aff, del_go,\n",
    "                    np.nan, rate_norm_l, \n",
    "                    is_norm, is_time_vary, K_max) for t in t_pts])\n",
    "\n",
    "theory_down = np.array([up_or_down_RTs_fit_fn(\n",
    "                    t, -1,\n",
    "                    V_A, theta_A, t_A_aff,\n",
    "                    t_stim, ABL, ILD, rate_lambda, T_0, theta_E, Z_E, t_E_aff, del_go,\n",
    "                    np.nan, rate_norm_l, \n",
    "                    is_norm, is_time_vary, K_max) for t in t_pts])"
   ]
  },
  {
   "cell_type": "code",
   "execution_count": 12,
   "id": "1c9df12e",
   "metadata": {},
   "outputs": [
    {
     "data": {
      "text/plain": [
       "[<matplotlib.lines.Line2D at 0x75ffa2be9040>]"
      ]
     },
     "execution_count": 12,
     "metadata": {},
     "output_type": "execute_result"
    },
    {
     "data": {
      "image/png": "[encoded data removed]",
      "text/plain": [
       "<Figure size 1000x500 with 1 Axes>"
      ]
     },
     "metadata": {},
     "output_type": "display_data"
    }
   ],
   "source": [
    "bw = 0.02\n",
    "bins = np.arange(-1, 5, bw)\n",
    "sim_rt_up_hist, _ = np.histogram(sim_rt_up, bins=bins, density=True)\n",
    "sim_rt_down_hist, _ = np.histogram(sim_rt_down,bins=bins, density=True)\n",
    "bin_centers = bins[:-1] + 0.5*bw\n",
    "plt.figure(figsize=(10,5))\n",
    "plt.plot(bin_centers, sim_rt_up_hist * len(sim_rt_up)/total_len, alpha=0.5, lw=3)\n",
    "plt.plot(bin_centers, -sim_rt_down_hist * len(sim_rt_down)/total_len, alpha=0.5, lw=3)\n",
    "\n",
    "plt.plot(t_pts - t_stim, theory_up, ls='--')\n",
    "plt.plot(t_pts - t_stim, -theory_down, ls='--')\n"
   ]
  },
  {
   "cell_type": "markdown",
   "id": "47acf19f",
   "metadata": {},
   "source": [
    "# norm & time vary"
   ]
  },
  {
   "cell_type": "code",
   "execution_count": 13,
   "id": "f6fa32e4",
   "metadata": {},
   "outputs": [],
   "source": [
    "from time_vary_and_norm_simulators import psiam_tied_data_gen_wrapper_rate_norm_time_vary_fn, phi_t_fn"
   ]
  },
  {
   "cell_type": "code",
   "execution_count": 14,
   "id": "5133dcdf",
   "metadata": {},
   "outputs": [],
   "source": [
    "from types import SimpleNamespace\n",
    "\n",
    "bump_offset = 0\n",
    "bump_width = 0.240\n",
    "dip_width = 0.038\n",
    "dip_height = 0.327\n",
    "\n",
    "bump_height = 0.5\n",
    "\n",
    "phi_params = {\n",
    "    'h1': bump_width,\n",
    "    'a1': bump_height,\n",
    "    'h2': dip_width,\n",
    "    'a2': dip_height,\n",
    "    'b1': bump_offset\n",
    "}\n",
    "\n",
    "phi_params_obj = SimpleNamespace(**phi_params)"
   ]
  },
  {
   "cell_type": "code",
   "execution_count": null,
   "id": "ea3fdc43",
   "metadata": {},
   "outputs": [],
   "source": [
    "sim_results = Parallel(n_jobs=30)(\n",
    "    delayed(psiam_tied_data_gen_wrapper_rate_norm_time_vary_fn)(\n",
    "        V_A, theta_A, ABL, ILD, rate_lambda, T_0, theta_E, Z_E, t_A_aff, t_E_aff, del_go, \n",
    "        t_stim, rate_norm_l, iter_num, N_print, phi_params_obj, dt\n",
    "    ) for iter_num in tqdm(range(N_sim))\n",
    ")"
   ]
  },
  {
   "cell_type": "code",
   "execution_count": null,
   "id": "9ba8e71a",
   "metadata": {},
   "outputs": [],
   "source": [
    "sim_results_df = pd.DataFrame(sim_results)\n",
    "# sim_df_up = sim_results_df[(sim_results_df['choice'] == 1) & (sim_results_df['rt'] > sim_results_df['t_stim'])]\n",
    "# sim_df_down = sim_results_df[(sim_results_df['choice'] == -1) & (sim_results_df['rt'] > sim_results_df['t_stim'])]\n",
    "sim_df_up = sim_results_df[(sim_results_df['choice'] == 1) ]\n",
    "sim_df_down = sim_results_df[(sim_results_df['choice'] == -1) ]\n",
    "\n",
    "sim_rt_up = sim_df_up['rt'] - sim_df_up['t_stim']\n",
    "sim_rt_down = sim_df_down['rt'] - sim_df_down['t_stim']\n",
    "total_len = len(sim_rt_up) + len(sim_rt_down)"
   ]
  },
  {
   "cell_type": "code",
   "execution_count": null,
   "id": "0a469485",
   "metadata": {},
   "outputs": [],
   "source": [
    "# theory\n",
    "is_norm = True\n",
    "is_time_vary = True\n",
    "K_max = 10\n",
    "t_pts = np.arange(-1, 5, 0.001)\n",
    "theory_up = np.array([up_or_down_RTs_fit_fn(\n",
    "                    t, 1,\n",
    "                    V_A, theta_A, t_A_aff,\n",
    "                    t_stim, ABL, ILD, rate_lambda, T_0, theta_E, Z_E, t_E_aff, del_go,\n",
    "                    phi_params_obj, rate_norm_l, \n",
    "                    is_norm, is_time_vary, K_max) for t in t_pts])\n",
    "\n",
    "theory_down = np.array([up_or_down_RTs_fit_fn(\n",
    "                    t, -1,\n",
    "                    V_A, theta_A, t_A_aff,\n",
    "                    t_stim, ABL, ILD, rate_lambda, T_0, theta_E, Z_E, t_E_aff, del_go,\n",
    "                    phi_params_obj, rate_norm_l, \n",
    "                    is_norm, is_time_vary, K_max) for t in t_pts])"
   ]
  },
  {
   "cell_type": "code",
   "execution_count": null,
   "id": "f9e02a97",
   "metadata": {},
   "outputs": [],
   "source": [
    "bw = 0.02\n",
    "bins = np.arange(-1, 5, bw)\n",
    "sim_rt_up_hist, _ = np.histogram(sim_rt_up, bins=bins, density=True)\n",
    "sim_rt_down_hist, _ = np.histogram(sim_rt_down,bins=bins, density=True)\n",
    "bin_centers = bins[:-1] + 0.5*bw\n",
    "plt.plot(bin_centers, sim_rt_up_hist * len(sim_rt_up)/total_len, lw=2.5, alpha=0.5)\n",
    "plt.plot(bin_centers, -sim_rt_down_hist * len(sim_rt_down)/total_len, lw=2.5, alpha=0.5)\n",
    "\n",
    "plt.plot(t_pts - t_stim, theory_up, ls='--')\n",
    "plt.plot(t_pts - t_stim, -theory_down, ls='--')"
   ]
  },
  {
   "cell_type": "code",
   "execution_count": null,
   "id": "adc9c023",
   "metadata": {},
   "outputs": [],
   "source": [
    "from time_vary_norm_utils import rho_A_t_VEC_fn\n",
    "from scipy.integrate import cumulative_trapezoid as cumtrapz\n",
    "\n",
    "N_theory = int(1e3)\n",
    "pdf = rho_A_t_VEC_fn(t_pts - t_A_aff + t_stim, V_A, theta_A)\n",
    "\n",
    "P_A_samples_mean =  pdf\n",
    "C_A_mean = cumtrapz(P_A_samples_mean, t_pts, initial=0)"
   ]
  },
  {
   "cell_type": "code",
   "execution_count": null,
   "id": "2ac5c2c7",
   "metadata": {},
   "outputs": [],
   "source": [
    "up_theory_2 = np.zeros_like(t_pts)\n",
    "down_theory_2 = np.zeros_like(t_pts)\n",
    "for idx, t in enumerate(t_pts):\n",
    "    P_A = P_A_samples_mean[idx]\n",
    "    C_A = C_A_mean[idx]\n",
    "    up_theory_2[idx] = up_or_down_RTs_fit_wrt_stim_fn(\n",
    "        t, 1,\n",
    "        P_A, C_A,\n",
    "        np.nan, ABL, ILD, rate_lambda, T_0, theta_E, Z_E, t_E_aff, del_go,\n",
    "        phi_params_obj, rate_norm_l,\n",
    "        is_norm, is_time_vary, K_max)\n",
    "\n",
    "    down_theory_2[idx] = up_or_down_RTs_fit_wrt_stim_fn(\n",
    "        t, -1,\n",
    "        P_A, C_A,\n",
    "        np.nan, ABL, ILD, rate_lambda, T_0, theta_E, Z_E, t_E_aff, del_go,\n",
    "        phi_params_obj, rate_norm_l,\n",
    "        is_norm, is_time_vary, K_max)"
   ]
  },
  {
   "cell_type": "code",
   "execution_count": null,
   "id": "66984772",
   "metadata": {},
   "outputs": [],
   "source": [
    "bw = 0.02\n",
    "bins = np.arange(-1, 5, bw)\n",
    "sim_rt_up_hist, _ = np.histogram(sim_rt_up, bins=bins, density=True)\n",
    "sim_rt_down_hist, _ = np.histogram(sim_rt_down,bins=bins, density=True)\n",
    "bin_centers = bins[:-1] + 0.5*bw\n",
    "plt.plot(bin_centers, sim_rt_up_hist * len(sim_rt_up)/total_len)\n",
    "plt.plot(bin_centers, -sim_rt_down_hist * len(sim_rt_down)/total_len)\n",
    "\n",
    "plt.plot(t_pts, up_theory_2, ls='--')\n",
    "plt.plot(t_pts, -down_theory_2, ls='--')"
   ]
  },
  {
   "cell_type": "markdown",
   "id": "ff5f4c55",
   "metadata": {},
   "source": [
    "# check cdf?"
   ]
  },
  {
   "cell_type": "code",
   "execution_count": null,
   "id": "e0c87102",
   "metadata": {},
   "outputs": [],
   "source": [
    "from time_vary_norm_utils import cum_pro_and_reactive_time_vary_fn"
   ]
  },
  {
   "cell_type": "code",
   "execution_count": null,
   "id": "8ab930b9",
   "metadata": {},
   "outputs": [],
   "source": [
    "tpts2 = np.arange(0, 5, 0.02)\n",
    "cdf_theory = np.array([cum_pro_and_reactive_time_vary_fn(\n",
    "                            t,\n",
    "                            V_A, theta_A, t_A_aff,\n",
    "                            t_stim, ABL, ILD, rate_lambda, T_0, theta_E, Z_E, t_E_aff,\n",
    "                            phi_params_obj, rate_norm_l, \n",
    "                            is_norm, is_time_vary, K_max) for t in tpts2])"
   ]
  },
  {
   "cell_type": "code",
   "execution_count": null,
   "id": "7692c463",
   "metadata": {},
   "outputs": [],
   "source": [
    "import numpy as np\n",
    "import matplotlib.pyplot as plt\n",
    "\n",
    "rt_values = np.sort(sim_results_df['rt'])\n",
    "cdf = np.linspace(0, 1, len(rt_values))\n",
    "\n",
    "plt.figure()\n",
    "plt.plot(rt_values, cdf, label='Empirical CDF', color='orange')\n",
    "plt.xlabel('Reaction Time (rt) wrt fx')\n",
    "plt.ylabel('Cumulative Probability')\n",
    "\n",
    "\n",
    "\n",
    "plt.plot(tpts2, cdf_theory, ls='--')\n",
    "plt.axhline(1, alpha=0.2, color='k')"
   ]
  },
  {
   "cell_type": "markdown",
   "id": "d0196df4",
   "metadata": {},
   "source": [
    "# only time vary, no norm"
   ]
  },
  {
   "cell_type": "code",
   "execution_count": null,
   "id": "e00bc9b1",
   "metadata": {},
   "outputs": [],
   "source": [
    "from time_vary_and_norm_simulators import psiam_tied_data_gen_wrapper_rate_norm_time_vary_fn, phi_t_fn"
   ]
  },
  {
   "cell_type": "code",
   "execution_count": null,
   "id": "6a49ab36",
   "metadata": {},
   "outputs": [],
   "source": [
    "ABL = 20; ILD = 1"
   ]
  },
  {
   "cell_type": "code",
   "execution_count": null,
   "id": "960a6df0",
   "metadata": {},
   "outputs": [],
   "source": [
    "from types import SimpleNamespace\n",
    "\n",
    "bump_offset = 0\n",
    "bump_width = 0.240\n",
    "dip_width = 0.038\n",
    "dip_height = 0.327\n",
    "\n",
    "bump_height = 0.5\n",
    "\n",
    "phi_params = {\n",
    "    'h1': bump_width,\n",
    "    'a1': bump_height,\n",
    "    'h2': dip_width,\n",
    "    'a2': dip_height,\n",
    "    'b1': bump_offset\n",
    "}\n",
    "\n",
    "phi_params_obj = SimpleNamespace(**phi_params)"
   ]
  },
  {
   "cell_type": "code",
   "execution_count": null,
   "id": "c2c99d34",
   "metadata": {},
   "outputs": [],
   "source": [
    "is_norm = False\n",
    "is_time_vary = True\n",
    "rate_norm_l = 0"
   ]
  },
  {
   "cell_type": "code",
   "execution_count": null,
   "id": "035ef530",
   "metadata": {},
   "outputs": [],
   "source": [
    "rate_lambda = 0.13\n",
    "T_0 = 0.45 * 1e-3\n",
    "theta_E = 45\n"
   ]
  },
  {
   "cell_type": "code",
   "execution_count": null,
   "id": "cc13e41e",
   "metadata": {},
   "outputs": [],
   "source": [
    "N_sim = int(1e6)\n",
    "dt = 1e-3\n",
    "sim_results = Parallel(n_jobs=30)(\n",
    "    delayed(psiam_tied_data_gen_wrapper_rate_norm_time_vary_fn)(\n",
    "        V_A, theta_A, ABL, ILD, rate_lambda, T_0, theta_E, Z_E, t_A_aff, t_E_aff, del_go, \n",
    "        t_stim, rate_norm_l, iter_num, N_print, phi_params_obj, dt\n",
    "    ) for iter_num in tqdm(range(N_sim))\n",
    ")"
   ]
  },
  {
   "cell_type": "code",
   "execution_count": null,
   "id": "3ed80433",
   "metadata": {},
   "outputs": [],
   "source": [
    "sim_results_df = pd.DataFrame(sim_results)\n",
    "# sim_df_up = sim_results_df[(sim_results_df['choice'] == 1) & (sim_results_df['rt'] > sim_results_df['t_stim'])]\n",
    "# sim_df_down = sim_results_df[(sim_results_df['choice'] == -1) & (sim_results_df['rt'] > sim_results_df['t_stim'])]\n",
    "sim_df_up = sim_results_df[(sim_results_df['choice'] == 1) ]\n",
    "sim_df_down = sim_results_df[(sim_results_df['choice'] == -1) ]\n",
    "\n",
    "sim_rt_up = sim_df_up['rt'] - sim_df_up['t_stim']\n",
    "sim_rt_down = sim_df_down['rt'] - sim_df_down['t_stim']\n",
    "total_len = len(sim_rt_up) + len(sim_rt_down)"
   ]
  },
  {
   "cell_type": "code",
   "execution_count": null,
   "id": "41377374",
   "metadata": {},
   "outputs": [],
   "source": [
    "### does changing is_norm=True and L = 0 change things?\n",
    "is_norm = False\n",
    "rate_norm_l = np.nan"
   ]
  },
  {
   "cell_type": "code",
   "execution_count": null,
   "id": "bd15c638",
   "metadata": {},
   "outputs": [],
   "source": [
    "# theory\n",
    "K_max = 10\n",
    "t_pts = np.arange(-1, 1, 0.001)\n",
    "theory_up = np.array([up_or_down_RTs_fit_fn(\n",
    "                    t, 1,\n",
    "                    V_A, theta_A, t_A_aff,\n",
    "                    t_stim, ABL, ILD, rate_lambda, T_0, theta_E, Z_E, t_E_aff, del_go,\n",
    "                    phi_params_obj, rate_norm_l, \n",
    "                    is_norm, is_time_vary, K_max) for t in t_pts])\n",
    "\n",
    "theory_down = np.array([up_or_down_RTs_fit_fn(\n",
    "                    t, -1,\n",
    "                    V_A, theta_A, t_A_aff,\n",
    "                    t_stim, ABL, ILD, rate_lambda, T_0, theta_E, Z_E, t_E_aff, del_go,\n",
    "                    phi_params_obj, rate_norm_l, \n",
    "                    is_norm, is_time_vary, K_max) for t in t_pts])"
   ]
  },
  {
   "cell_type": "code",
   "execution_count": null,
   "id": "5e0b2272",
   "metadata": {},
   "outputs": [],
   "source": [
    "bw = 0.02\n",
    "bins = np.arange(-1, 1, bw)\n",
    "sim_rt_up_hist, _ = np.histogram(sim_rt_up, bins=bins, density=True)\n",
    "sim_rt_down_hist, _ = np.histogram(sim_rt_down,bins=bins, density=True)\n",
    "bin_centers = bins[:-1] + 0.5*bw\n",
    "plt.plot(bin_centers, sim_rt_up_hist * len(sim_rt_up)/total_len, lw=2.5, alpha=0.5)\n",
    "plt.plot(bin_centers, -sim_rt_down_hist * len(sim_rt_down)/total_len, lw=2.5, alpha=0.5)\n",
    "\n",
    "plt.plot(t_pts - t_stim, theory_up, ls='--')\n",
    "plt.plot(t_pts - t_stim, -theory_down, ls='--')"
   ]
  },
  {
   "cell_type": "markdown",
   "id": "6691a768",
   "metadata": {},
   "source": [
    "# linear and non-linear gamma"
   ]
  },
  {
   "cell_type": "code",
   "execution_count": null,
   "id": "6621ea71",
   "metadata": {},
   "outputs": [],
   "source": [
    "rate_lambda = 2\n",
    "T_0 = 100 * 1e-3\n",
    "theta_E = 3\n",
    "\n",
    "rate_norm_l = 0.95\n",
    "\n",
    "\n",
    "plt.scatter(ILD_arr, [theta_E * np.tanh(rate_lambda * ILD / 17.37) for ILD in ILD_arr],\n",
    "            label=r'$\\theta_E \\cdot \\tanh\\left(\\frac{\\lambda \\cdot ILD}{17.37}\\right)$')\n",
    "plt.scatter(ILD_arr, [theta_E * (rate_lambda * ILD / 17.37) for ILD in ILD_arr],\n",
    "            label=r'$\\theta_E \\cdot \\left(\\frac{\\lambda \\cdot ILD}{17.37}\\right)$')\n",
    "plt.legend()\n",
    "plt.xlabel('ILD')\n",
    "plt.ylabel('Gamma')\n",
    "plt.title(fr'$\\lambda$={rate_lambda}, $\\theta_E$={theta_E}');"
   ]
  },
  {
   "cell_type": "code",
   "execution_count": null,
   "id": "383034ba",
   "metadata": {},
   "outputs": [],
   "source": [
    "chi = 17.37\n",
    "def calc_mu(ABL, ILD, rate_norm_l):\n",
    "    lambda_ABL_term = (10 ** (rate_lambda * (1 - rate_norm_l) * ABL / 20))\n",
    "    lambda_ILD_arg = rate_lambda * ILD / chi\n",
    "    lambda_ILD_L_arg = rate_lambda * rate_norm_l * ILD / chi\n",
    "    mu = (1/T_0) * lambda_ABL_term * (np.sinh(lambda_ILD_arg) / np.cosh(lambda_ILD_L_arg))\n",
    "    return mu"
   ]
  },
  {
   "cell_type": "code",
   "execution_count": null,
   "id": "baea6e82",
   "metadata": {},
   "outputs": [],
   "source": [
    "pos_ILD = [1,2,4,8, 16]\n",
    "for ABL in ABL_arr:\n",
    "    plt.scatter(pos_ILD, np.log([calc_mu(ABL, ILD, rate_norm_l) for ILD in pos_ILD]), color='b')\n",
    "    plt.scatter(pos_ILD, np.log([calc_mu(ABL, ILD, 0) for ILD in pos_ILD]), color='r')\n",
    "plt.title(fr'log($\\mu$) vs ILD');"
   ]
  },
  {
   "cell_type": "markdown",
   "id": "a2ed92bd",
   "metadata": {},
   "source": [
    "# check diagnostics"
   ]
  },
  {
   "cell_type": "markdown",
   "id": "4f1c460a",
   "metadata": {},
   "source": [
    "## up and down RTD"
   ]
  },
  {
   "cell_type": "code",
   "execution_count": null,
   "id": "a13115f5",
   "metadata": {},
   "outputs": [],
   "source": [
    "V_A = 1.6\n",
    "theta_A = 2.5\n",
    "t_A_aff = -0.22\n",
    "\n",
    "# rate_lambda = 0.13\n",
    "# T_0 = 0.45 * 1e-3\n",
    "# theta_E = 45\n",
    "rate_lambda = 2.2\n",
    "T_0 = 100 * 1e-3\n",
    "theta_E = 3\n",
    "\n",
    "t_E_aff = 0.068\n",
    "del_go = 0.13\n",
    "\n",
    "Z_E = 0.15\n",
    "\n",
    "from types import SimpleNamespace\n",
    "\n",
    "bump_offset = 0\n",
    "bump_width = 0.240\n",
    "dip_width = 0.038\n",
    "dip_height = 0.327\n",
    "\n",
    "bump_height = 0.5\n",
    "\n",
    "phi_params = {\n",
    "    'h1': bump_width,\n",
    "    'a1': bump_height,\n",
    "    'h2': dip_width,\n",
    "    'a2': dip_height,\n",
    "    'b1': bump_offset\n",
    "}\n",
    "\n",
    "phi_params_obj = SimpleNamespace(**phi_params)"
   ]
  },
  {
   "cell_type": "code",
   "execution_count": null,
   "id": "01576830",
   "metadata": {},
   "outputs": [
    {
     "data": {
      "application/vnd.jupyter.widget-view+json": {
       "model_id": "7a35876b4c174fc3bfbecdc4f4a25afc",
       "version_major": 2,
       "version_minor": 0
      },
      "text/plain": [
       "  0%|          | 0/1000000 [00:00<?, ?it/s]"
      ]
     },
     "metadata": {},
     "output_type": "display_data"
    },
    {
     "name": "stdout",
     "output_type": "stream",
     "text": [
      "os id: 2301103, In iter_num: 0, ABL: 20, ILD: 1.0, t_stim: 0.26903025771978\n",
      "os id: 2301110, In iter_num: 200000, ABL: 40, ILD: 1.0, t_stim: 0.363935978398485\n",
      "os id: 2301115, In iter_num: 400000, ABL: 60, ILD: -1.0, t_stim: 0.458536336226441\n",
      "os id: 2301109, In iter_num: 600000, ABL: 20, ILD: 1.0, t_stim: 0.260293622875413\n",
      "os id: 2301112, In iter_num: 800000, ABL: 40, ILD: -8.0, t_stim: 0.656606074694289\n"
     ]
    }
   ],
   "source": [
    "from time_vary_and_norm_simulators import psiam_tied_data_gen_wrapper_rate_norm_time_vary_fn\n",
    "\n",
    "N_sim = int(1e6)\n",
    "\n",
    "t_stim_samples = df['intended_fix'].sample(N_sim, replace=True).values\n",
    "ABL_samples = df['ABL'].sample(N_sim, replace=True).values\n",
    "ILD_samples = df['ILD'].sample(N_sim, replace=True).values\n",
    "\n",
    "N_print = int(N_sim / 5)\n",
    "dt  = 1e-4\n",
    "\n",
    "rate_norm_l = 0.95 # NO NORM\n",
    "\n",
    "sim_results = Parallel(n_jobs=30)(\n",
    "    delayed(psiam_tied_data_gen_wrapper_rate_norm_time_vary_fn)(\n",
    "        V_A, theta_A, ABL_samples[iter_num], ILD_samples[iter_num], rate_lambda, T_0, theta_E, Z_E, t_A_aff, t_E_aff, del_go, \n",
    "        t_stim_samples[iter_num], rate_norm_l, iter_num, N_print, phi_params_obj, dt\n",
    "    ) for iter_num in tqdm(range(N_sim))\n",
    ")"
   ]
  },
  {
   "cell_type": "code",
   "execution_count": null,
   "id": "33cfe23f",
   "metadata": {},
   "outputs": [],
   "source": [
    "import pickle\n",
    "with open('sim_results_rate_norm_l_0.95.pkl', 'wb') as f:\n",
    "    pickle.dump(sim_results, f)"
   ]
  },
  {
   "cell_type": "code",
   "execution_count": null,
   "id": "f55ef4ee",
   "metadata": {},
   "outputs": [],
   "source": [
    "sim_results_df = pd.DataFrame(sim_results)\n",
    "# sim_results_df_1 = sim_results_df[\n",
    "#     (sim_results_df['rt'] - sim_results_df['t_stim'] > 0) &\n",
    "#     (sim_results_df['rt'] - sim_results_df['t_stim'] < 1)\n",
    "# ]\n",
    "sim_results_df_1 = sim_results_df.copy()"
   ]
  },
  {
   "cell_type": "code",
   "execution_count": null,
   "id": "39f50b13",
   "metadata": {},
   "outputs": [
    {
     "name": "stdout",
     "output_type": "stream",
     "text": [
      "is_norm: True\n"
     ]
    }
   ],
   "source": [
    "if rate_norm_l == 0:\n",
    "    is_norm = False\n",
    "else:\n",
    "    is_norm = True\n",
    "\n",
    "print(f'is_norm: {is_norm}')\n",
    "is_time_vary = True"
   ]
  },
  {
   "cell_type": "code",
   "execution_count": null,
   "id": "96c234e1",
   "metadata": {},
   "outputs": [],
   "source": [
    "# cdf trunc factor\n",
    "from time_vary_norm_utils import cum_pro_and_reactive_time_vary_fn"
   ]
  },
  {
   "cell_type": "code",
   "execution_count": null,
   "id": "6dfe8b7b",
   "metadata": {},
   "outputs": [],
   "source": [
    "from time_vary_norm_utils import (\n",
    "    int_phi_fn,\n",
    "    phi_t_fn,\n",
    "    CDF_E_minus_small_t_NORM_rate_norm_l_time_varying_fn,\n",
    "    rho_E_minus_small_t_NORM_rate_norm_time_varying_fn\n",
    ")\n",
    "\n",
    "def up_or_down_RTs_fit_PA_C_A_given_wrt_t_stim_fn(\n",
    "        t, bound,\n",
    "        P_A, C_A,\n",
    "        ABL, ILD, rate_lambda, T0, theta_E, Z_E, t_E_aff, del_go,\n",
    "        phi_params, rate_norm_l, \n",
    "        is_norm, is_time_vary, K_max):\n",
    "    \n",
    "    # t1, t2 - if proactive wins, time range in which EA can hit bound and confirm a choice\n",
    "    t1 = max(t - t_E_aff, 1e-6)\n",
    "    t2 = max(t - t_E_aff + del_go, 1e-6)\n",
    "\n",
    "    # phi(t) and its integral for different times\n",
    "    if is_time_vary:\n",
    "        int_phi_t_E_g = int_phi_fn(max(t - t_E_aff + del_go, 1e-6), phi_params.h1, phi_params.a1, phi_params.b1, phi_params.h2, phi_params.a2)\n",
    "\n",
    "        phi_t_e = phi_t_fn(max(t - t_E_aff, 1e-6), phi_params.h1, phi_params.a1, phi_params.b1, phi_params.h2, phi_params.a2)\n",
    "        int_phi_t_e = int_phi_fn(max(t - t_E_aff, 1e-6), phi_params.h1, phi_params.a1, phi_params.b1, phi_params.h2, phi_params.a2)\n",
    "\n",
    "        int_phi_t2 = int_phi_fn(t2, phi_params.h1, phi_params.a1, phi_params.b1, phi_params.h2, phi_params.a2)\n",
    "        int_phi_t1 = int_phi_fn(t1, phi_params.h1, phi_params.a1, phi_params.b1, phi_params.h2, phi_params.a2)\n",
    "\n",
    "        if int_phi_t_E_g * int_phi_t_e * int_phi_t2 * int_phi_t1 == 0:\n",
    "            raise ValueError(\n",
    "                f'''\n",
    "                t = {t}, t_E_aff = {t_E_aff}\n",
    "                t1 = {t1}\n",
    "                one of them is zero\n",
    "                int_phi_t_E_g = {int_phi_t_E_g}\n",
    "                int_phi_t_e = {int_phi_t_e}\n",
    "                int_phi_t2 = {int_phi_t2}\n",
    "                int_phi_t1 = {int_phi_t1}\n",
    "\n",
    "                params  = {phi_params.h1, phi_params.a1, phi_params.b1, phi_params.h2, phi_params.a2}\n",
    "                '''\n",
    "                    \n",
    "                )\n",
    "    else:\n",
    "        int_phi_t_E_g = np.nan\n",
    "        \n",
    "        phi_t_e = np.nan\n",
    "        int_phi_t_e = np.nan\n",
    "\n",
    "        int_phi_t2 = np.nan\n",
    "        int_phi_t1 = np.nan\n",
    "\n",
    "    # PA wins and random choice due to EA survival\n",
    "    P_EA_hits_either_bound = CDF_E_minus_small_t_NORM_rate_norm_l_time_varying_fn(\n",
    "                                t - t_E_aff + del_go, 1, \n",
    "                                ABL, ILD, rate_lambda, T0, theta_E, Z_E, int_phi_t_E_g, rate_norm_l, \n",
    "                                is_norm, is_time_vary, K_max)  \\\n",
    "                                + \\\n",
    "                                CDF_E_minus_small_t_NORM_rate_norm_l_time_varying_fn(\n",
    "                                t - t_E_aff + del_go, -1, \n",
    "                                ABL, ILD, rate_lambda, T0, theta_E, Z_E, int_phi_t_E_g, rate_norm_l,\n",
    "                                is_norm, is_time_vary, K_max)\n",
    "    \n",
    "    P_EA_survives = 1 - P_EA_hits_either_bound\n",
    "    random_readout_if_EA_survives = 0.5 * P_EA_survives\n",
    "    \n",
    "    # PA wins and EA hits later\n",
    "    P_E_plus_cum = CDF_E_minus_small_t_NORM_rate_norm_l_time_varying_fn(\n",
    "                            t2, bound, \n",
    "                            ABL, ILD, rate_lambda, T0, theta_E, Z_E, int_phi_t2, rate_norm_l, \n",
    "                            is_norm, is_time_vary, K_max)  \\\n",
    "                            - \\\n",
    "                            CDF_E_minus_small_t_NORM_rate_norm_l_time_varying_fn(\n",
    "                            t1, bound, \n",
    "                            ABL, ILD, rate_lambda, T0, theta_E, Z_E, int_phi_t1, rate_norm_l,\n",
    "                            is_norm, is_time_vary, K_max)\n",
    "    \n",
    "\n",
    "    # EA wins\n",
    "    P_E_plus = rho_E_minus_small_t_NORM_rate_norm_time_varying_fn(\n",
    "        t - t_E_aff, bound, ABL, ILD, rate_lambda, T0, theta_E, Z_E, phi_t_e, int_phi_t_e, \n",
    "        rate_norm_l, is_norm, is_time_vary, K_max)\n",
    "    \n",
    "\n",
    "    \n",
    "\n",
    "    return (P_A*(random_readout_if_EA_survives + P_E_plus_cum) + P_E_plus*(1-C_A))\n"
   ]
  },
  {
   "cell_type": "code",
   "execution_count": null,
   "id": "e46a2651",
   "metadata": {},
   "outputs": [],
   "source": [
    "# test stim\n",
    "ABL = 20\n",
    "ILD = 1"
   ]
  },
  {
   "cell_type": "code",
   "execution_count": null,
   "id": "29cedea6",
   "metadata": {},
   "outputs": [],
   "source": [
    "from time_vary_norm_utils import rho_A_t_fn\n",
    "t_pts = np.arange(-1, 2, 0.001)\n",
    "N_theory = 1000\n",
    "t_stim_samples = df['intended_fix'].sample(N_theory, replace=True).values\n",
    "K_max = 10\n",
    "\n",
    "\n",
    "P_A_samples = np.zeros((N_theory, len(t_pts)))\n",
    "trunc_fac_samples = np.zeros((N_theory))\n",
    "\n",
    "for idx, t_stim in enumerate(t_stim_samples):\n",
    "    P_A_samples[idx, :] = [rho_A_t_fn(t + t_stim - t_A_aff, V_A, theta_A) for t in t_pts]\n",
    "\n",
    "    trunc_fac_samples[idx] = cum_pro_and_reactive_time_vary_fn(\n",
    "                                t_stim + 1,\n",
    "                                V_A, theta_A, t_A_aff,\n",
    "                                t_stim, ABL, ILD, rate_lambda, T_0, theta_E, Z_E, t_E_aff,\n",
    "                                phi_params_obj, rate_norm_l, \n",
    "                                is_norm, is_time_vary, K_max) \\\n",
    "                                - \\\n",
    "                                cum_pro_and_reactive_time_vary_fn(\n",
    "                                t_stim,\n",
    "                                V_A, theta_A, t_A_aff,\n",
    "                                t_stim, ABL, ILD, rate_lambda, T_0, theta_E, Z_E, t_E_aff,\n",
    "                                phi_params_obj, rate_norm_l, \n",
    "                                is_norm, is_time_vary, K_max) + 1e-10"
   ]
  },
  {
   "cell_type": "code",
   "execution_count": null,
   "id": "6fbcafb5",
   "metadata": {},
   "outputs": [],
   "source": [
    "from scipy.integrate import cumulative_trapezoid as cumtrapz\n",
    "\n",
    "P_A_mean = np.mean(P_A_samples, axis=0)\n",
    "C_A_mean = cumtrapz(P_A_mean, t_pts, initial=0)\n",
    "\n",
    "up_mean = np.array([up_or_down_RTs_fit_PA_C_A_given_wrt_t_stim_fn(\n",
    "        t, 1,\n",
    "        P_A_mean[i], C_A_mean[i],\n",
    "        ABL, ILD, rate_lambda, T_0, theta_E, Z_E, t_E_aff, del_go,\n",
    "        phi_params_obj, rate_norm_l, \n",
    "        is_norm, is_time_vary, K_max) for i, t in enumerate(t_pts)])\n",
    "down_mean = np.array([up_or_down_RTs_fit_PA_C_A_given_wrt_t_stim_fn(\n",
    "        t, -1,\n",
    "        P_A_mean[i], C_A_mean[i],\n",
    "        ABL, ILD, rate_lambda, T_0, theta_E, Z_E, t_E_aff, del_go,\n",
    "        phi_params_obj, rate_norm_l, \n",
    "        is_norm, is_time_vary, K_max) for i, t in enumerate(t_pts)])"
   ]
  },
  {
   "cell_type": "code",
   "execution_count": null,
   "id": "c142a8c1",
   "metadata": {},
   "outputs": [
    {
     "name": "stdout",
     "output_type": "stream",
     "text": [
      "area up mean = 0.6154436732705739\n",
      "area down mean = 0.3813774257949668\n",
      "area up + down = 0.9968210990655407\n",
      "area up mean btn 0 and 1 = 0.4944206757636934\n",
      "area down mean btn 0 and 1 = 0.27802947260451005\n",
      "area up + down btn 0 and 1 = 0.7724501483682034\n"
     ]
    }
   ],
   "source": [
    "print(f'area up mean = {trapz(up_mean, t_pts)}')\n",
    "print(f'area down mean = {trapz(down_mean, t_pts)}')\n",
    "\n",
    "print(f'area up + down = {trapz(up_mean + down_mean, t_pts)}')\n",
    "\n",
    "# btn 0 and 1\n",
    "print(f'area up mean btn 0 and 1 = {trapz(up_mean[(t_pts>=0)&(t_pts<=1)], t_pts[(t_pts>=0)&(t_pts<=1)])}')\n",
    "print(f'area down mean btn 0 and 1 = {trapz(down_mean[(t_pts>=0)&(t_pts<=1)], t_pts[(t_pts>=0)&(t_pts<=1)])}')\n",
    "\n",
    "print(f'area up + down btn 0 and 1 = {trapz(up_mean[(t_pts>=0)&(t_pts<=1)] + down_mean[(t_pts>=0)&(t_pts<=1)], t_pts[(t_pts>=0)&(t_pts<=1)])}')"
   ]
  },
  {
   "cell_type": "code",
   "execution_count": null,
   "id": "d96d9a92",
   "metadata": {},
   "outputs": [],
   "source": [
    "# trunc_factor = np.mean(trunc_fac_samples)\n",
    "trunc_factor = 1\n",
    "up_theory_mean_norm = up_mean / trunc_factor\n",
    "down_theory_mean_norm = down_mean / trunc_factor"
   ]
  },
  {
   "cell_type": "code",
   "execution_count": null,
   "id": "8ebd249d",
   "metadata": {},
   "outputs": [
    {
     "data": {
      "text/plain": [
       "<matplotlib.legend.Legend at 0x7f330e7a2840>"
      ]
     },
     "execution_count": 66,
     "metadata": {},
     "output_type": "execute_result"
    },
    {
     "data": {
      "image/png": "[encoded data removed]",
      "text/plain": [
       "<Figure size 640x480 with 1 Axes>"
      ]
     },
     "metadata": {},
     "output_type": "display_data"
    }
   ],
   "source": [
    "### test - single case ####\n",
    "ABL = 20; ILD = 1\n",
    "sim_abl_ild = sim_results_df_1[(sim_results_df_1['ABL'] == ABL) & (sim_results_df_1['ILD'] == ILD)]\n",
    "sim_up = sim_abl_ild[sim_abl_ild['choice'] == 1]\n",
    "sim_down = sim_abl_ild[sim_abl_ild['choice'] == -1]\n",
    "\n",
    "up_rt = sim_up['rt'] - sim_up['t_stim']\n",
    "down_rt = sim_down['rt'] - sim_down['t_stim']\n",
    "\n",
    "bw = 0.02\n",
    "bins = np.arange(-1, 2, bw)\n",
    "up_hist, _ = np.histogram(up_rt, bins=bins, density=True)\n",
    "down_hist, _ = np.histogram(down_rt, bins=bins, density=True)\n",
    "\n",
    "frac_up = len(sim_up) / len(sim_abl_ild)\n",
    "frac_down = len(sim_down) / len(sim_abl_ild)\n",
    "\n",
    "bin_centers = bins[:-1] + 0.5*bw\n",
    "plt.plot(bin_centers, up_hist * frac_up, label='up')\n",
    "plt.plot(t_pts, up_theory_mean_norm, ls='--')\n",
    "\n",
    "plt.plot(bin_centers, -down_hist * frac_down, label='down')\n",
    "plt.plot(t_pts, -down_theory_mean_norm, ls='--')\n",
    "plt.legend()\n"
   ]
  },
  {
   "cell_type": "markdown",
   "id": "b206a540",
   "metadata": {},
   "source": [
    "# btn 0 and 1"
   ]
  },
  {
   "cell_type": "code",
   "execution_count": null,
   "id": "9e683079",
   "metadata": {},
   "outputs": [],
   "source": [
    "sim_results_df_og = pd.DataFrame(sim_results)\n",
    "ABL = 20; ILD = 1\n",
    "sim_results_df = sim_results_df_og[(sim_results_df_og['ABL'] == ABL) & (sim_results_df_og['ILD'] == ILD)]\n",
    "\n",
    "sim_results_df_1 = sim_results_df[\n",
    "    (sim_results_df['rt'] - sim_results_df['t_stim'] > 0) &\n",
    "    (sim_results_df['rt'] - sim_results_df['t_stim'] < 1)\n",
    "]\n",
    "# sim_results_df_1 = sim_results_df.copy()"
   ]
  },
  {
   "cell_type": "code",
   "execution_count": null,
   "id": "821ef65c",
   "metadata": {},
   "outputs": [
    {
     "name": "stdout",
     "output_type": "stream",
     "text": [
      "frac of trials btn 0 and 1: 0.771\n"
     ]
    }
   ],
   "source": [
    "# frac of trials btn 0 and 1\n",
    "print(f'frac of trials btn 0 and 1: {len(sim_results_df_1)/len(sim_results_df) :.3f}')"
   ]
  },
  {
   "cell_type": "code",
   "execution_count": null,
   "id": "85c16acf",
   "metadata": {},
   "outputs": [],
   "source": [
    "from time_vary_norm_utils import rho_A_t_fn\n",
    "t_pts = np.arange(0, 1, 0.001)\n",
    "N_theory = 1000\n",
    "t_stim_samples = df['intended_fix'].sample(N_theory, replace=True).values\n",
    "K_max = 10\n",
    "\n",
    "\n",
    "P_A_samples = np.zeros((N_theory, len(t_pts)))\n",
    "trunc_fac_samples = np.zeros((N_theory))\n",
    "\n",
    "for idx, t_stim in enumerate(t_stim_samples):\n",
    "    P_A_samples[idx, :] = [rho_A_t_fn(t + t_stim - t_A_aff, V_A, theta_A) for t in t_pts]\n",
    "\n",
    "    trunc_fac_samples[idx] = cum_pro_and_reactive_time_vary_fn(\n",
    "                                t_stim + 1,\n",
    "                                V_A, theta_A, t_A_aff,\n",
    "                                t_stim, ABL, ILD, rate_lambda, T_0, theta_E, Z_E, t_E_aff,\n",
    "                                phi_params_obj, rate_norm_l, \n",
    "                                is_norm, is_time_vary, K_max) \\\n",
    "                                - \\\n",
    "                                cum_pro_and_reactive_time_vary_fn(\n",
    "                                t_stim,\n",
    "                                V_A, theta_A, t_A_aff,\n",
    "                                t_stim, ABL, ILD, rate_lambda, T_0, theta_E, Z_E, t_E_aff,\n",
    "                                phi_params_obj, rate_norm_l, \n",
    "                                is_norm, is_time_vary, K_max) + 1e-10"
   ]
  },
  {
   "cell_type": "code",
   "execution_count": null,
   "id": "62d9d52e",
   "metadata": {},
   "outputs": [
    {
     "name": "stdout",
     "output_type": "stream",
     "text": [
      "trunc factor = 0.770\n"
     ]
    }
   ],
   "source": [
    "trunc_factor = np.mean(trunc_fac_samples)\n",
    "print(f'trunc factor = {trunc_factor :.3f}')"
   ]
  },
  {
   "cell_type": "code",
   "execution_count": null,
   "id": "570bbdc5",
   "metadata": {},
   "outputs": [],
   "source": [
    "P_A_mean = np.mean(P_A_samples, axis=0)\n",
    "C_A_mean = cumtrapz(P_A_mean, t_pts, initial=0)\n",
    "\n",
    "up_mean = np.array([up_or_down_RTs_fit_PA_C_A_given_wrt_t_stim_fn(\n",
    "        t, 1,\n",
    "        P_A_mean[i], C_A_mean[i],\n",
    "        ABL, ILD, rate_lambda, T_0, theta_E, Z_E, t_E_aff, del_go,\n",
    "        phi_params_obj, rate_norm_l, \n",
    "        is_norm, is_time_vary, K_max) for i, t in enumerate(t_pts)])\n",
    "down_mean = np.array([up_or_down_RTs_fit_PA_C_A_given_wrt_t_stim_fn(\n",
    "        t, -1,\n",
    "        P_A_mean[i], C_A_mean[i],\n",
    "        ABL, ILD, rate_lambda, T_0, theta_E, Z_E, t_E_aff, del_go,\n",
    "        phi_params_obj, rate_norm_l, \n",
    "        is_norm, is_time_vary, K_max) for i, t in enumerate(t_pts)])"
   ]
  },
  {
   "cell_type": "code",
   "execution_count": null,
   "id": "46460de6",
   "metadata": {},
   "outputs": [],
   "source": [
    "up_theory_mean_norm = up_mean / trunc_factor\n",
    "down_theory_mean_norm = down_mean / trunc_factor"
   ]
  },
  {
   "cell_type": "code",
   "execution_count": null,
   "id": "6147735f",
   "metadata": {},
   "outputs": [
    {
     "data": {
      "text/plain": [
       "<matplotlib.legend.Legend at 0x7f337a36a6f0>"
      ]
     },
     "execution_count": 84,
     "metadata": {},
     "output_type": "execute_result"
    },
    {
     "data": {
      "image/png": "[encoded data removed]",
      "text/plain": [
       "<Figure size 640x480 with 1 Axes>"
      ]
     },
     "metadata": {},
     "output_type": "display_data"
    }
   ],
   "source": [
    "### test - single case ####\n",
    "ABL = 20; ILD = 1\n",
    "sim_up = sim_results_df_1[sim_results_df_1['choice'] == 1]\n",
    "sim_down = sim_results_df_1[sim_results_df_1['choice'] == -1]\n",
    "\n",
    "up_rt = sim_up['rt'] - sim_up['t_stim']\n",
    "down_rt = sim_down['rt'] - sim_down['t_stim']\n",
    "\n",
    "bw = 0.02\n",
    "bins = np.arange(-1, 2, bw)\n",
    "up_hist, _ = np.histogram(up_rt, bins=bins, density=True)\n",
    "down_hist, _ = np.histogram(down_rt, bins=bins, density=True)\n",
    "\n",
    "frac_up = len(sim_up) / len(sim_results_df_1)\n",
    "frac_down = len(sim_down) / len(sim_results_df_1)\n",
    "\n",
    "bin_centers = bins[:-1] + 0.5*bw\n",
    "plt.plot(bin_centers, up_hist * frac_up, label='up')\n",
    "plt.plot(t_pts, up_theory_mean_norm, ls='--')\n",
    "\n",
    "plt.plot(bin_centers, -down_hist * frac_down, label='down')\n",
    "plt.plot(t_pts, -down_theory_mean_norm, ls='--')\n",
    "plt.legend()\n"
   ]
  },
  {
   "cell_type": "code",
   "execution_count": null,
   "id": "6a4c4a22",
   "metadata": {},
   "outputs": [
    {
     "name": "stdout",
     "output_type": "stream",
     "text": [
      "non-truncated\n",
      "area up = 0.578218273475129\n",
      "area down = 0.31248277518747003\n",
      "area up + down = 0.890701048662599\n",
      "--- truncated ----\n",
      "area up : 0.7507954573988975\n",
      "area down : 0.4057475505160505\n",
      "theory up + down = 1.156543007914948\n",
      "--- data truncated ---\n",
      "data area up: 0.6408019589837771\n",
      "data area down: 0.3591980410162228\n",
      "data up + down = 1.0\n",
      "--- data non-truncated ---\n",
      "data area up: 0.4935077839265895\n",
      "data area down: 0.2766330950264403\n",
      "data up + down = 0.7701408789530297\n"
     ]
    }
   ],
   "source": [
    "from scipy.integrate import trapezoid as trapz\n",
    "print(f'non-truncated')\n",
    "print(f'area up = {trapz(up_mean, t_pts)}')\n",
    "print(f'area down = {trapz(down_mean, t_pts)}')\n",
    "print(f'area up + down = {trapz(up_mean, t_pts) + trapz(down_mean, t_pts)}')\n",
    "\n",
    "print('--- truncated ----')\n",
    "print(f'area up : {trapz(up_theory_mean_norm, t_pts)}')\n",
    "print(f'area down : {trapz(down_theory_mean_norm, t_pts)}')\n",
    "print(f'theory up + down = {trapz(up_theory_mean_norm, t_pts) + trapz(down_theory_mean_norm, t_pts)}')\n",
    "\n",
    "print('--- data truncated ---')\n",
    "print(f'data area up: {frac_up}')\n",
    "print(f'data area down: {frac_down}')\n",
    "print(f'data up + down = {frac_up + frac_down}')\n",
    "\n",
    "print('--- data non-truncated ---')\n",
    "print(f'data area up: {frac_up * trunc_factor}')\n",
    "print(f'data area down: {frac_down * trunc_factor}')\n",
    "print(f'data up + down = {frac_up * trunc_factor + frac_down * trunc_factor}')\n"
   ]
  }
 ],
 "metadata": {
  "kernelspec": {
   "display_name": ".venv",
   "language": "python",
   "name": "python3"
  },
  "language_info": {
   "codemirror_mode": {
    "name": "ipython",
    "version": 3
   },
   "file_extension": ".py",
   "mimetype": "text/x-python",
   "name": "python",
   "nbconvert_exporter": "python",
   "pygments_lexer": "ipython3",
   "version": "3.12.3"
  }
 },
 "nbformat": 4,
 "nbformat_minor": 5
}
