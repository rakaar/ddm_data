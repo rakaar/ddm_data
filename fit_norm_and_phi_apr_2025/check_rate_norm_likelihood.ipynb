{
 "cells": [
  {
   "cell_type": "code",
   "execution_count": 1,
   "id": "b9bde631",
   "metadata": {},
   "outputs": [],
   "source": [
    "import numpy as np\n",
    "import matplotlib.pyplot as plt\n",
    "from joblib import Parallel, delayed\n",
    "from tqdm.notebook import tqdm\n",
    "import pandas as pd\n",
    "from scipy.integrate import trapezoid as trapz\n",
    "import random"
   ]
  },
  {
   "cell_type": "code",
   "execution_count": 2,
   "id": "52c53d99",
   "metadata": {},
   "outputs": [],
   "source": [
    "from time_vary_and_norm_simulators import psiam_tied_data_gen_wrapper_rate_norm_fn"
   ]
  },
  {
   "cell_type": "code",
   "execution_count": 3,
   "id": "f7cd0fc4",
   "metadata": {},
   "outputs": [],
   "source": [
    "from time_vary_norm_utils import up_or_down_RTs_fit_fn, up_or_down_RTs_fit_wrt_stim_fn"
   ]
  },
  {
   "cell_type": "code",
   "execution_count": 4,
   "id": "a305e40e",
   "metadata": {},
   "outputs": [],
   "source": [
    "N_sim = int(1e5)\n",
    "dt = 1e-4\n",
    "\n",
    "V_A = 1.6\n",
    "theta_A = 2.5\n",
    "t_A_aff = -0.22\n",
    "# t_A_aff = 0\n",
    "# t_A_aff = 0.2\n",
    "\n",
    "t_stim = 0.25\n",
    "\n",
    "rate_lambda = 2\n",
    "T_0 = 200 * 1e-3\n",
    "theta_E = 3\n",
    "\n",
    "t_E_aff = 0.068\n",
    "# t_E_aff = 0\n",
    "del_go = 0.13\n",
    "# del_go = 0\n",
    "\n",
    "rate_norm_l = 0.95\n",
    "\n",
    "N_print = int(N_sim / 5)\n",
    "\n",
    "ABL = 20\n",
    "ILD = 2\n",
    "\n",
    "Z_E = 0.15\n"
   ]
  },
  {
   "cell_type": "code",
   "execution_count": 8,
   "id": "2945a059",
   "metadata": {},
   "outputs": [
    {
     "name": "stdout",
     "output_type": "stream",
     "text": [
      "len of LED off: 66226\n",
      "len of led off valid trials = 53472\n",
      "len of valid trials < 1s : 52799\n"
     ]
    }
   ],
   "source": [
    "# repeat_trial, T16, S7\n",
    "og_df = pd.read_csv('../out_LED.csv')\n",
    "df = og_df[ og_df['repeat_trial'].isin([0,2]) | og_df['repeat_trial'].isna() ]\n",
    "session_type = 7    \n",
    "df = df[ df['session_type'].isin([session_type]) ]\n",
    "training_level = 16\n",
    "df = df[ df['training_level'].isin([training_level]) ]\n",
    "\n",
    "\n",
    "# t_stim, t_LED, ABL, ILD\n",
    "t_stim_and_led_tuple = [(row['intended_fix'], row['intended_fix'] - row['LED_onset_time']) for _, row in df.iterrows()]\n",
    "ABL_arr = df['ABL'].unique(); ABL_arr.sort()\n",
    "ILD_arr = df['ILD'].unique(); ILD_arr.sort()\n",
    "\n",
    "\n",
    "# 1 is right , -1 is left\n",
    "df['choice'] = df['response_poke'].apply(lambda x: 1 if x == 3 else (-1 if x == 2 else random.choice([1, -1])))\n",
    "# 1 or 0 if the choice was correct or not\n",
    "df['correct'] = (df['ILD'] * df['choice']).apply(lambda x: 1 if x > 0 else 0)\n",
    "\n",
    "# LED OFF\n",
    "df_led_off = df[df['LED_trial'] == 0]\n",
    "print(f'len of LED off: {len(df_led_off)}')\n",
    "\n",
    "\n",
    "\n",
    "# valid trials\n",
    "df_led_off_valid_trials = df_led_off[df_led_off['success'].isin([1,-1])]\n",
    "print(f'len of led off valid trials = {len(df_led_off_valid_trials)}')\n",
    "\n",
    "# remove trials with RT > 1s\n",
    "df_led_off_valid_trials = df_led_off_valid_trials[df_led_off_valid_trials['timed_fix'] - df_led_off_valid_trials['intended_fix'] < 1]\n",
    "print(f'len of valid trials < 1s : {len(df_led_off_valid_trials)}')"
   ]
  },
  {
   "cell_type": "code",
   "execution_count": null,
   "id": "2c59e784",
   "metadata": {},
   "outputs": [],
   "source": [
    "import numpy as np\n",
    "import pandas as pd\n",
    "\n",
    "# Step 1: Add abs_ILD and rt_wrt_stim to the dataframe\n",
    "df_led_off_valid_trials['abs_ILD'] = df_led_off_valid_trials['ILD'].abs()\n",
    "df_led_off_valid_trials['rt_wrt_stim'] = df_led_off_valid_trials['timed_fix'] - df_led_off_valid_trials['intended_fix']\n",
    "\n",
    "# Step 2: Compute empirical mean RTs\n",
    "empirical_rt = df_led_off_valid_trials.groupby(['ABL', 'abs_ILD'])['rt_wrt_stim'].median().reset_index()\n",
    "empirical_rt.rename(columns={'rt_wrt_stim': 'data mean'}, inplace=True)\n",
    "\n",
    "\n",
    "print('==========================================================')\n",
    "print(f'lamda = {rate_lambda}, T_0 = {T_0 * 1e3} ms, theta_E = {theta_E}')\n",
    "print('==========================================================')\n",
    "\n",
    "# Step 4: Generate theoretical mean RTs\n",
    "theoretical_rows = []\n",
    "chi = 17.37\n",
    "all_ABL = empirical_rt['ABL'].unique()\n",
    "all_ILD = empirical_rt['abs_ILD'].unique()\n",
    "\n",
    "for ABL in all_ABL:\n",
    "    for ILD in all_ILD:\n",
    "        lambda_ABL_term = (10 ** (rate_lambda * (1 - rate_norm_l) * ABL / 20))\n",
    "        lambda_ILD_arg = rate_lambda * ILD / chi\n",
    "        lambda_ILD_L_arg = rate_lambda * rate_norm_l * ILD / chi\n",
    "        mu = (1 / T_0) * lambda_ABL_term * (np.sinh(lambda_ILD_arg) / np.cosh(lambda_ILD_L_arg))\n",
    "        sigma_sq = (1 / T_0) * lambda_ABL_term * (np.cosh(lambda_ILD_arg) / np.cosh(lambda_ILD_L_arg))\n",
    "        model_rt = (theta_E / mu) * np.tanh(mu * theta_E / sigma_sq)\n",
    "        theoretical_rows.append({'ABL': ABL, 'abs_ILD': ILD, 'model_mean_RT': model_rt})\n",
    "\n",
    "theoretical_rt = pd.DataFrame(theoretical_rows)\n",
    "\n",
    "# Step 5: Merge and print side by side\n",
    "merged = pd.merge(empirical_rt, theoretical_rt, on=['ABL', 'abs_ILD'])\n",
    "print(merged)\n"
   ]
  },
  {
   "cell_type": "code",
   "execution_count": null,
   "id": "29fb1ec7",
   "metadata": {},
   "outputs": [],
   "source": [
    "import matplotlib.pyplot as plt\n",
    "\n",
    "# Assume `theoretical_rt` contains columns: ABL, abs_ILD, model_mean_RT\n",
    "\n",
    "plt.figure(figsize=(8, 6))\n",
    "\n",
    "for abl in sorted(theoretical_rt['ABL'].unique()):\n",
    "    subset = theoretical_rt[theoretical_rt['ABL'] == abl]\n",
    "    plt.plot(subset['abs_ILD'], subset['model_mean_RT'], marker='o', label=f'ABL = {abl} dB')\n",
    "\n",
    "plt.xlabel('Absolute ILD')\n",
    "plt.ylabel('Model Mean RT')\n",
    "plt.title('Model Mean RT vs Absolute ILD for Different ABLs')\n",
    "plt.legend(title='ABL')\n"
   ]
  },
  {
   "cell_type": "markdown",
   "id": "fb495a24",
   "metadata": {},
   "source": [
    "# sim test params"
   ]
  },
  {
   "cell_type": "code",
   "execution_count": null,
   "id": "5c5ccc5e",
   "metadata": {},
   "outputs": [],
   "source": [
    "ABL = 20\n",
    "ILD = 1\n",
    "t_stim = 0.25"
   ]
  },
  {
   "cell_type": "markdown",
   "id": "14a0ea0d",
   "metadata": {},
   "source": [
    "# only norm"
   ]
  },
  {
   "cell_type": "code",
   "execution_count": null,
   "id": "6936e76e",
   "metadata": {},
   "outputs": [],
   "source": [
    "sim_results = Parallel(n_jobs=30)(\n",
    "    delayed(psiam_tied_data_gen_wrapper_rate_norm_fn)(\n",
    "        V_A, theta_A, ABL, ILD, rate_lambda, T_0, theta_E, Z_E, t_A_aff, t_E_aff, del_go, \n",
    "        t_stim, rate_norm_l, iter_num, N_print, dt\n",
    "    ) for iter_num in tqdm(range(N_sim))\n",
    ")"
   ]
  },
  {
   "cell_type": "code",
   "execution_count": null,
   "id": "04255d9d",
   "metadata": {},
   "outputs": [],
   "source": [
    "sim_results_df = pd.DataFrame(sim_results)\n",
    "sim_df_up = sim_results_df[(sim_results_df['choice'] == 1)]\n",
    "sim_df_down = sim_results_df[(sim_results_df['choice'] == -1)]\n",
    "sim_rt_up = sim_df_up['rt'] - sim_df_up['t_stim']\n",
    "sim_rt_down = sim_df_down['rt'] - sim_df_down['t_stim']\n",
    "total_len = len(sim_rt_up) + len(sim_rt_down)"
   ]
  },
  {
   "cell_type": "code",
   "execution_count": null,
   "id": "3a03d487",
   "metadata": {},
   "outputs": [],
   "source": [
    "# theory\n",
    "is_norm = True\n",
    "is_time_vary = False\n",
    "K_max = 10\n",
    "t_pts = np.arange(-1, 4, 0.001)\n",
    "theory_up = np.array([up_or_down_RTs_fit_fn(\n",
    "                    t, 1,\n",
    "                    V_A, theta_A, t_A_aff,\n",
    "                    t_stim, ABL, ILD, rate_lambda, T_0, theta_E, Z_E, t_E_aff, del_go,\n",
    "                    np.nan, rate_norm_l, \n",
    "                    is_norm, is_time_vary, K_max) for t in t_pts])\n",
    "\n",
    "theory_down = np.array([up_or_down_RTs_fit_fn(\n",
    "                    t, -1,\n",
    "                    V_A, theta_A, t_A_aff,\n",
    "                    t_stim, ABL, ILD, rate_lambda, T_0, theta_E, Z_E, t_E_aff, del_go,\n",
    "                    np.nan, rate_norm_l, \n",
    "                    is_norm, is_time_vary, K_max) for t in t_pts])"
   ]
  },
  {
   "cell_type": "code",
   "execution_count": null,
   "id": "1c9df12e",
   "metadata": {},
   "outputs": [],
   "source": [
    "bw = 0.02\n",
    "bins = np.arange(-1, 5, bw)\n",
    "sim_rt_up_hist, _ = np.histogram(sim_rt_up, bins=bins, density=True)\n",
    "sim_rt_down_hist, _ = np.histogram(sim_rt_down,bins=bins, density=True)\n",
    "bin_centers = bins[:-1] + 0.5*bw\n",
    "plt.figure(figsize=(10,5))\n",
    "plt.plot(bin_centers, sim_rt_up_hist * len(sim_rt_up)/total_len, alpha=0.5, lw=3)\n",
    "plt.plot(bin_centers, -sim_rt_down_hist * len(sim_rt_down)/total_len, alpha=0.5, lw=3)\n",
    "\n",
    "plt.plot(t_pts - t_stim, theory_up, ls='--')\n",
    "plt.plot(t_pts - t_stim, -theory_down, ls='--')\n"
   ]
  },
  {
   "cell_type": "markdown",
   "id": "47acf19f",
   "metadata": {},
   "source": [
    "# norm & time vary"
   ]
  },
  {
   "cell_type": "code",
   "execution_count": 6,
   "id": "f6fa32e4",
   "metadata": {},
   "outputs": [],
   "source": [
    "from time_vary_and_norm_simulators import psiam_tied_data_gen_wrapper_rate_norm_time_vary_fn, phi_t_fn"
   ]
  },
  {
   "cell_type": "code",
   "execution_count": 5,
   "id": "5133dcdf",
   "metadata": {},
   "outputs": [],
   "source": [
    "from types import SimpleNamespace\n",
    "\n",
    "bump_offset = 0\n",
    "bump_width = 0.240\n",
    "dip_width = 0.038\n",
    "dip_height = 0.327\n",
    "\n",
    "bump_height = 0.5\n",
    "\n",
    "phi_params = {\n",
    "    'h1': bump_width,\n",
    "    'a1': bump_height,\n",
    "    'h2': dip_width,\n",
    "    'a2': dip_height,\n",
    "    'b1': bump_offset\n",
    "}\n",
    "\n",
    "phi_params_obj = SimpleNamespace(**phi_params)"
   ]
  },
  {
   "cell_type": "code",
   "execution_count": null,
   "id": "ea3fdc43",
   "metadata": {},
   "outputs": [],
   "source": [
    "sim_results = Parallel(n_jobs=30)(\n",
    "    delayed(psiam_tied_data_gen_wrapper_rate_norm_time_vary_fn)(\n",
    "        V_A, theta_A, ABL, ILD, rate_lambda, T_0, theta_E, Z_E, t_A_aff, t_E_aff, del_go, \n",
    "        t_stim, rate_norm_l, iter_num, N_print, phi_params_obj, dt\n",
    "    ) for iter_num in tqdm(range(N_sim))\n",
    ")"
   ]
  },
  {
   "cell_type": "code",
   "execution_count": null,
   "id": "9ba8e71a",
   "metadata": {},
   "outputs": [],
   "source": [
    "sim_results_df = pd.DataFrame(sim_results)\n",
    "# sim_df_up = sim_results_df[(sim_results_df['choice'] == 1) & (sim_results_df['rt'] > sim_results_df['t_stim'])]\n",
    "# sim_df_down = sim_results_df[(sim_results_df['choice'] == -1) & (sim_results_df['rt'] > sim_results_df['t_stim'])]\n",
    "sim_df_up = sim_results_df[(sim_results_df['choice'] == 1) ]\n",
    "sim_df_down = sim_results_df[(sim_results_df['choice'] == -1) ]\n",
    "\n",
    "sim_rt_up = sim_df_up['rt'] - sim_df_up['t_stim']\n",
    "sim_rt_down = sim_df_down['rt'] - sim_df_down['t_stim']\n",
    "total_len = len(sim_rt_up) + len(sim_rt_down)"
   ]
  },
  {
   "cell_type": "code",
   "execution_count": null,
   "id": "0a469485",
   "metadata": {},
   "outputs": [],
   "source": [
    "# theory\n",
    "is_norm = True\n",
    "is_time_vary = True\n",
    "K_max = 10\n",
    "t_pts = np.arange(-1, 5, 0.001)\n",
    "theory_up = np.array([up_or_down_RTs_fit_fn(\n",
    "                    t, 1,\n",
    "                    V_A, theta_A, t_A_aff,\n",
    "                    t_stim, ABL, ILD, rate_lambda, T_0, theta_E, Z_E, t_E_aff, del_go,\n",
    "                    phi_params_obj, rate_norm_l, \n",
    "                    is_norm, is_time_vary, K_max) for t in t_pts])\n",
    "\n",
    "theory_down = np.array([up_or_down_RTs_fit_fn(\n",
    "                    t, -1,\n",
    "                    V_A, theta_A, t_A_aff,\n",
    "                    t_stim, ABL, ILD, rate_lambda, T_0, theta_E, Z_E, t_E_aff, del_go,\n",
    "                    phi_params_obj, rate_norm_l, \n",
    "                    is_norm, is_time_vary, K_max) for t in t_pts])"
   ]
  },
  {
   "cell_type": "code",
   "execution_count": null,
   "id": "f9e02a97",
   "metadata": {},
   "outputs": [],
   "source": [
    "bw = 0.02\n",
    "bins = np.arange(-1, 5, bw)\n",
    "sim_rt_up_hist, _ = np.histogram(sim_rt_up, bins=bins, density=True)\n",
    "sim_rt_down_hist, _ = np.histogram(sim_rt_down,bins=bins, density=True)\n",
    "bin_centers = bins[:-1] + 0.5*bw\n",
    "plt.plot(bin_centers, sim_rt_up_hist * len(sim_rt_up)/total_len, lw=2.5, alpha=0.5)\n",
    "plt.plot(bin_centers, -sim_rt_down_hist * len(sim_rt_down)/total_len, lw=2.5, alpha=0.5)\n",
    "\n",
    "plt.plot(t_pts - t_stim, theory_up, ls='--')\n",
    "plt.plot(t_pts - t_stim, -theory_down, ls='--')"
   ]
  },
  {
   "cell_type": "code",
   "execution_count": null,
   "id": "adc9c023",
   "metadata": {},
   "outputs": [],
   "source": [
    "from time_vary_norm_utils import rho_A_t_VEC_fn\n",
    "from scipy.integrate import cumulative_trapezoid as cumtrapz\n",
    "\n",
    "N_theory = int(1e3)\n",
    "pdf = rho_A_t_VEC_fn(t_pts - t_A_aff + t_stim, V_A, theta_A)\n",
    "\n",
    "P_A_samples_mean =  pdf\n",
    "C_A_mean = cumtrapz(P_A_samples_mean, t_pts, initial=0)"
   ]
  },
  {
   "cell_type": "code",
   "execution_count": null,
   "id": "2ac5c2c7",
   "metadata": {},
   "outputs": [],
   "source": [
    "up_theory_2 = np.zeros_like(t_pts)\n",
    "down_theory_2 = np.zeros_like(t_pts)\n",
    "for idx, t in enumerate(t_pts):\n",
    "    P_A = P_A_samples_mean[idx]\n",
    "    C_A = C_A_mean[idx]\n",
    "    up_theory_2[idx] = up_or_down_RTs_fit_wrt_stim_fn(\n",
    "        t, 1,\n",
    "        P_A, C_A,\n",
    "        np.nan, ABL, ILD, rate_lambda, T_0, theta_E, Z_E, t_E_aff, del_go,\n",
    "        phi_params_obj, rate_norm_l,\n",
    "        is_norm, is_time_vary, K_max)\n",
    "\n",
    "    down_theory_2[idx] = up_or_down_RTs_fit_wrt_stim_fn(\n",
    "        t, -1,\n",
    "        P_A, C_A,\n",
    "        np.nan, ABL, ILD, rate_lambda, T_0, theta_E, Z_E, t_E_aff, del_go,\n",
    "        phi_params_obj, rate_norm_l,\n",
    "        is_norm, is_time_vary, K_max)"
   ]
  },
  {
   "cell_type": "code",
   "execution_count": null,
   "id": "66984772",
   "metadata": {},
   "outputs": [],
   "source": [
    "bw = 0.02\n",
    "bins = np.arange(-1, 5, bw)\n",
    "sim_rt_up_hist, _ = np.histogram(sim_rt_up, bins=bins, density=True)\n",
    "sim_rt_down_hist, _ = np.histogram(sim_rt_down,bins=bins, density=True)\n",
    "bin_centers = bins[:-1] + 0.5*bw\n",
    "plt.plot(bin_centers, sim_rt_up_hist * len(sim_rt_up)/total_len)\n",
    "plt.plot(bin_centers, -sim_rt_down_hist * len(sim_rt_down)/total_len)\n",
    "\n",
    "plt.plot(t_pts, up_theory_2, ls='--')\n",
    "plt.plot(t_pts, -down_theory_2, ls='--')"
   ]
  },
  {
   "cell_type": "markdown",
   "id": "ff5f4c55",
   "metadata": {},
   "source": [
    "# check cdf?"
   ]
  },
  {
   "cell_type": "code",
   "execution_count": null,
   "id": "e0c87102",
   "metadata": {},
   "outputs": [],
   "source": [
    "from time_vary_norm_utils import cum_pro_and_reactive_time_vary_fn"
   ]
  },
  {
   "cell_type": "code",
   "execution_count": null,
   "id": "8ab930b9",
   "metadata": {},
   "outputs": [],
   "source": [
    "tpts2 = np.arange(0, 5, 0.02)\n",
    "cdf_theory = np.array([cum_pro_and_reactive_time_vary_fn(\n",
    "                            t,\n",
    "                            V_A, theta_A, t_A_aff,\n",
    "                            t_stim, ABL, ILD, rate_lambda, T_0, theta_E, Z_E, t_E_aff,\n",
    "                            phi_params_obj, rate_norm_l, \n",
    "                            is_norm, is_time_vary, K_max) for t in tpts2])"
   ]
  },
  {
   "cell_type": "code",
   "execution_count": null,
   "id": "7692c463",
   "metadata": {},
   "outputs": [],
   "source": [
    "import numpy as np\n",
    "import matplotlib.pyplot as plt\n",
    "\n",
    "rt_values = np.sort(sim_results_df['rt'])\n",
    "cdf = np.linspace(0, 1, len(rt_values))\n",
    "\n",
    "plt.figure()\n",
    "plt.plot(rt_values, cdf, label='Empirical CDF', color='orange')\n",
    "plt.xlabel('Reaction Time (rt) wrt fx')\n",
    "plt.ylabel('Cumulative Probability')\n",
    "\n",
    "\n",
    "\n",
    "plt.plot(tpts2, cdf_theory, ls='--')\n",
    "plt.axhline(1, alpha=0.2, color='k')"
   ]
  },
  {
   "cell_type": "markdown",
   "id": "d0196df4",
   "metadata": {},
   "source": [
    "# only time vary, no norm"
   ]
  },
  {
   "cell_type": "code",
   "execution_count": null,
   "id": "e00bc9b1",
   "metadata": {},
   "outputs": [],
   "source": [
    "from time_vary_and_norm_simulators import psiam_tied_data_gen_wrapper_rate_norm_time_vary_fn, phi_t_fn"
   ]
  },
  {
   "cell_type": "code",
   "execution_count": null,
   "id": "960a6df0",
   "metadata": {},
   "outputs": [],
   "source": [
    "from types import SimpleNamespace\n",
    "\n",
    "bump_offset = 0\n",
    "bump_width = 0.240\n",
    "dip_width = 0.038\n",
    "dip_height = 0.327\n",
    "\n",
    "bump_height = 0.5\n",
    "\n",
    "phi_params = {\n",
    "    'h1': bump_width,\n",
    "    'a1': bump_height,\n",
    "    'h2': dip_width,\n",
    "    'a2': dip_height,\n",
    "    'b1': bump_offset\n",
    "}\n",
    "\n",
    "phi_params_obj = SimpleNamespace(**phi_params)"
   ]
  },
  {
   "cell_type": "code",
   "execution_count": null,
   "id": "c2c99d34",
   "metadata": {},
   "outputs": [],
   "source": [
    "is_norm = False\n",
    "is_time_vary = True\n",
    "rate_norm_l = 0"
   ]
  },
  {
   "cell_type": "code",
   "execution_count": null,
   "id": "035ef530",
   "metadata": {},
   "outputs": [],
   "source": [
    "rate_lambda = 0.13\n",
    "T_0 = 0.45 * 1e-3\n",
    "theta_E = 45\n"
   ]
  },
  {
   "cell_type": "code",
   "execution_count": null,
   "id": "cc13e41e",
   "metadata": {},
   "outputs": [],
   "source": [
    "sim_results = Parallel(n_jobs=30)(\n",
    "    delayed(psiam_tied_data_gen_wrapper_rate_norm_time_vary_fn)(\n",
    "        V_A, theta_A, ABL, ILD, rate_lambda, T_0, theta_E, Z_E, t_A_aff, t_E_aff, del_go, \n",
    "        t_stim, rate_norm_l, iter_num, N_print, phi_params_obj, dt\n",
    "    ) for iter_num in tqdm(range(N_sim))\n",
    ")"
   ]
  },
  {
   "cell_type": "code",
   "execution_count": null,
   "id": "3ed80433",
   "metadata": {},
   "outputs": [],
   "source": [
    "sim_results_df = pd.DataFrame(sim_results)\n",
    "# sim_df_up = sim_results_df[(sim_results_df['choice'] == 1) & (sim_results_df['rt'] > sim_results_df['t_stim'])]\n",
    "# sim_df_down = sim_results_df[(sim_results_df['choice'] == -1) & (sim_results_df['rt'] > sim_results_df['t_stim'])]\n",
    "sim_df_up = sim_results_df[(sim_results_df['choice'] == 1) ]\n",
    "sim_df_down = sim_results_df[(sim_results_df['choice'] == -1) ]\n",
    "\n",
    "sim_rt_up = sim_df_up['rt'] - sim_df_up['t_stim']\n",
    "sim_rt_down = sim_df_down['rt'] - sim_df_down['t_stim']\n",
    "total_len = len(sim_rt_up) + len(sim_rt_down)"
   ]
  },
  {
   "cell_type": "code",
   "execution_count": null,
   "id": "41377374",
   "metadata": {},
   "outputs": [],
   "source": [
    "### does changing is_norm=True and L = 0 change things?\n",
    "is_norm = False\n",
    "rate_norm_l = np.nan"
   ]
  },
  {
   "cell_type": "code",
   "execution_count": null,
   "id": "bd15c638",
   "metadata": {},
   "outputs": [],
   "source": [
    "# theory\n",
    "K_max = 10\n",
    "t_pts = np.arange(-1, 5, 0.001)\n",
    "theory_up = np.array([up_or_down_RTs_fit_fn(\n",
    "                    t, 1,\n",
    "                    V_A, theta_A, t_A_aff,\n",
    "                    t_stim, ABL, ILD, rate_lambda, T_0, theta_E, Z_E, t_E_aff, del_go,\n",
    "                    phi_params_obj, rate_norm_l, \n",
    "                    is_norm, is_time_vary, K_max) for t in t_pts])\n",
    "\n",
    "theory_down = np.array([up_or_down_RTs_fit_fn(\n",
    "                    t, -1,\n",
    "                    V_A, theta_A, t_A_aff,\n",
    "                    t_stim, ABL, ILD, rate_lambda, T_0, theta_E, Z_E, t_E_aff, del_go,\n",
    "                    phi_params_obj, rate_norm_l, \n",
    "                    is_norm, is_time_vary, K_max) for t in t_pts])"
   ]
  },
  {
   "cell_type": "code",
   "execution_count": null,
   "id": "5e0b2272",
   "metadata": {},
   "outputs": [],
   "source": [
    "bw = 0.02\n",
    "bins = np.arange(-1, 5, bw)\n",
    "sim_rt_up_hist, _ = np.histogram(sim_rt_up, bins=bins, density=True)\n",
    "sim_rt_down_hist, _ = np.histogram(sim_rt_down,bins=bins, density=True)\n",
    "bin_centers = bins[:-1] + 0.5*bw\n",
    "plt.plot(bin_centers, sim_rt_up_hist * len(sim_rt_up)/total_len, lw=2.5, alpha=0.5)\n",
    "plt.plot(bin_centers, -sim_rt_down_hist * len(sim_rt_down)/total_len, lw=2.5, alpha=0.5)\n",
    "\n",
    "plt.plot(t_pts - t_stim, theory_up, ls='--')\n",
    "plt.plot(t_pts - t_stim, -theory_down, ls='--')"
   ]
  },
  {
   "cell_type": "markdown",
   "id": "a2ed92bd",
   "metadata": {},
   "source": [
    "# check diagnostics"
   ]
  },
  {
   "cell_type": "markdown",
   "id": "4f1c460a",
   "metadata": {},
   "source": [
    "## up and down RTD"
   ]
  },
  {
   "cell_type": "code",
   "execution_count": 13,
   "id": "a13115f5",
   "metadata": {},
   "outputs": [],
   "source": [
    "rate_lambda = 0.13\n",
    "T_0 = 0.45 * 1e-3\n",
    "theta_E = 45"
   ]
  },
  {
   "cell_type": "code",
   "execution_count": 14,
   "id": "01576830",
   "metadata": {},
   "outputs": [
    {
     "data": {
      "application/vnd.jupyter.widget-view+json": {
       "model_id": "ae30b63f3487437bba2a17098dbcb42d",
       "version_major": 2,
       "version_minor": 0
      },
      "text/plain": [
       "  0%|          | 0/1000000 [00:00<?, ?it/s]"
      ]
     },
     "metadata": {},
     "output_type": "display_data"
    },
    {
     "name": "stdout",
     "output_type": "stream",
     "text": [
      "os id: 492756, In iter_num: 0, ABL: 40, ILD: 4.0, t_stim: 0.350922798801748\n",
      "os id: 492784, In iter_num: 200000, ABL: 20, ILD: 1.0, t_stim: 1.54773652775454\n",
      "os id: 492789, In iter_num: 400000, ABL: 20, ILD: -16.0, t_stim: 1.28477598280918\n",
      "os id: 492757, In iter_num: 600000, ABL: 40, ILD: -4.0, t_stim: 0.42192585151968\n",
      "os id: 492789, In iter_num: 800000, ABL: 20, ILD: 16.0, t_stim: 0.420701326993842\n"
     ]
    }
   ],
   "source": [
    "from time_vary_and_norm_simulators import psiam_tied_data_gen_wrapper_rate_norm_time_vary_fn\n",
    "\n",
    "N_sim = int(1e6)\n",
    "\n",
    "t_stim_samples = df['intended_fix'].sample(N_sim, replace=True).values\n",
    "ABL_samples = df['ABL'].sample(N_sim, replace=True).values\n",
    "ILD_samples = df['ILD'].sample(N_sim, replace=True).values\n",
    "\n",
    "N_print = int(N_sim / 5)\n",
    "dt  = 1e-4\n",
    "\n",
    "rate_norm_l = 0 # NO NORM\n",
    "\n",
    "sim_results = Parallel(n_jobs=30)(\n",
    "    delayed(psiam_tied_data_gen_wrapper_rate_norm_time_vary_fn)(\n",
    "        V_A, theta_A, ABL_samples[iter_num], ILD_samples[iter_num], rate_lambda, T_0, theta_E, Z_E, t_A_aff, t_E_aff, del_go, \n",
    "        t_stim_samples[iter_num], rate_norm_l, iter_num, N_print, phi_params_obj, dt\n",
    "    ) for iter_num in tqdm(range(N_sim))\n",
    ")"
   ]
  },
  {
   "cell_type": "code",
   "execution_count": 15,
   "id": "f55ef4ee",
   "metadata": {},
   "outputs": [],
   "source": [
    "sim_results_df = pd.DataFrame(sim_results)\n",
    "sim_results_df_1 = sim_results_df[\n",
    "    (sim_results_df['rt'] - sim_results_df['t_stim'] > 0) &\n",
    "    (sim_results_df['rt'] - sim_results_df['t_stim'] < 1)\n",
    "]"
   ]
  },
  {
   "cell_type": "code",
   "execution_count": 38,
   "id": "39f50b13",
   "metadata": {},
   "outputs": [
    {
     "name": "stdout",
     "output_type": "stream",
     "text": [
      "is_norm: False\n"
     ]
    }
   ],
   "source": [
    "if rate_norm_l == 0:\n",
    "    is_norm = False\n",
    "else:\n",
    "    is_norm = True\n",
    "\n",
    "print(f'is_norm: {is_norm}')\n",
    "is_time_vary = True"
   ]
  },
  {
   "cell_type": "code",
   "execution_count": 101,
   "id": "96c234e1",
   "metadata": {},
   "outputs": [],
   "source": [
    "# cdf trunc factor\n",
    "from time_vary_norm_utils import cum_pro_and_reactive_time_vary_fn"
   ]
  },
  {
   "cell_type": "code",
   "execution_count": 102,
   "id": "6dfe8b7b",
   "metadata": {},
   "outputs": [],
   "source": [
    "from time_vary_norm_utils import (\n",
    "    int_phi_fn,\n",
    "    phi_t_fn,\n",
    "    CDF_E_minus_small_t_NORM_rate_norm_l_time_varying_fn,\n",
    "    rho_E_minus_small_t_NORM_rate_norm_time_varying_fn\n",
    ")\n",
    "\n",
    "def up_or_down_RTs_fit_PA_C_A_given_wrt_t_stim_fn(\n",
    "        t, bound,\n",
    "        P_A, C_A,\n",
    "        ABL, ILD, rate_lambda, T0, theta_E, Z_E, t_E_aff, del_go,\n",
    "        phi_params, rate_norm_l, \n",
    "        is_norm, is_time_vary, K_max):\n",
    "    \n",
    "    # t1, t2 - if proactive wins, time range in which EA can hit bound and confirm a choice\n",
    "    t1 = max(t - t_E_aff, 1e-6)\n",
    "    t2 = max(t - t_E_aff + del_go, 1e-6)\n",
    "\n",
    "    # phi(t) and its integral for different times\n",
    "    if is_time_vary:\n",
    "        int_phi_t_E_g = int_phi_fn(max(t - t_E_aff + del_go, 1e-6), phi_params.h1, phi_params.a1, phi_params.b1, phi_params.h2, phi_params.a2)\n",
    "\n",
    "        phi_t_e = phi_t_fn(max(t - t_E_aff, 1e-6), phi_params.h1, phi_params.a1, phi_params.b1, phi_params.h2, phi_params.a2)\n",
    "        int_phi_t_e = int_phi_fn(max(t - t_E_aff, 1e-6), phi_params.h1, phi_params.a1, phi_params.b1, phi_params.h2, phi_params.a2)\n",
    "\n",
    "        int_phi_t2 = int_phi_fn(t2, phi_params.h1, phi_params.a1, phi_params.b1, phi_params.h2, phi_params.a2)\n",
    "        int_phi_t1 = int_phi_fn(t1, phi_params.h1, phi_params.a1, phi_params.b1, phi_params.h2, phi_params.a2)\n",
    "\n",
    "        if int_phi_t_E_g * int_phi_t_e * int_phi_t2 * int_phi_t1 == 0:\n",
    "            raise ValueError(\n",
    "                f'''\n",
    "                t = {t}, t_E_aff = {t_E_aff}\n",
    "                t1 = {t1}\n",
    "                one of them is zero\n",
    "                int_phi_t_E_g = {int_phi_t_E_g}\n",
    "                int_phi_t_e = {int_phi_t_e}\n",
    "                int_phi_t2 = {int_phi_t2}\n",
    "                int_phi_t1 = {int_phi_t1}\n",
    "\n",
    "                params  = {phi_params.h1, phi_params.a1, phi_params.b1, phi_params.h2, phi_params.a2}\n",
    "                '''\n",
    "                    \n",
    "                )\n",
    "    else:\n",
    "        int_phi_t_E_g = np.nan\n",
    "        \n",
    "        phi_t_e = np.nan\n",
    "        int_phi_t_e = np.nan\n",
    "\n",
    "        int_phi_t2 = np.nan\n",
    "        int_phi_t1 = np.nan\n",
    "\n",
    "    # PA wins and random choice due to EA survival\n",
    "    P_EA_hits_either_bound = CDF_E_minus_small_t_NORM_rate_norm_l_time_varying_fn(\n",
    "                                t - t_E_aff + del_go, 1, \n",
    "                                ABL, ILD, rate_lambda, T0, theta_E, Z_E, int_phi_t_E_g, rate_norm_l, \n",
    "                                is_norm, is_time_vary, K_max)  \\\n",
    "                                + \\\n",
    "                                CDF_E_minus_small_t_NORM_rate_norm_l_time_varying_fn(\n",
    "                                t - t_E_aff + del_go, -1, \n",
    "                                ABL, ILD, rate_lambda, T0, theta_E, Z_E, int_phi_t_E_g, rate_norm_l,\n",
    "                                is_norm, is_time_vary, K_max)\n",
    "    \n",
    "    P_EA_survives = 1 - P_EA_hits_either_bound\n",
    "    random_readout_if_EA_survives = 0.5 * P_EA_survives\n",
    "    \n",
    "    # PA wins and EA hits later\n",
    "    P_E_plus_cum = CDF_E_minus_small_t_NORM_rate_norm_l_time_varying_fn(\n",
    "                            t2, bound, \n",
    "                            ABL, ILD, rate_lambda, T0, theta_E, Z_E, int_phi_t2, rate_norm_l, \n",
    "                            is_norm, is_time_vary, K_max)  \\\n",
    "                            - \\\n",
    "                            CDF_E_minus_small_t_NORM_rate_norm_l_time_varying_fn(\n",
    "                            t1, bound, \n",
    "                            ABL, ILD, rate_lambda, T0, theta_E, Z_E, int_phi_t1, rate_norm_l,\n",
    "                            is_norm, is_time_vary, K_max)\n",
    "    \n",
    "\n",
    "    # EA wins\n",
    "    P_E_plus = rho_E_minus_small_t_NORM_rate_norm_time_varying_fn(\n",
    "        t - t_E_aff, bound, ABL, ILD, rate_lambda, T0, theta_E, Z_E, phi_t_e, int_phi_t_e, \n",
    "        rate_norm_l, is_norm, is_time_vary, K_max)\n",
    "    \n",
    "\n",
    "    \n",
    "\n",
    "    return (P_A*(random_readout_if_EA_survives + P_E_plus_cum) + P_E_plus*(1-C_A))\n"
   ]
  },
  {
   "cell_type": "code",
   "execution_count": 87,
   "id": "29cedea6",
   "metadata": {},
   "outputs": [],
   "source": [
    "from time_vary_norm_utils import rho_A_t_fn\n",
    "t_pts = np.arange(0, 1, 0.001)\n",
    "N_theory = 1000\n",
    "t_stim_samples = df['intended_fix'].sample(N_theory, replace=True).values\n",
    "\n",
    "\n",
    "P_A_samples = np.zeros((N_theory, len(t_pts)))\n",
    "trunc_fac_samples = np.zeros((N_theory))\n",
    "\n",
    "for idx, t_stim in enumerate(t_stim_samples):\n",
    "    P_A_samples[idx, :] = [rho_A_t_fn(t + t_stim - t_A_aff, V_A, theta_A) for t in t_pts]\n",
    "\n",
    "    trunc_fac_samples[idx] = cum_pro_and_reactive_time_vary_fn(\n",
    "                                t_stim + 1,\n",
    "                                V_A, theta_A, t_A_aff,\n",
    "                                t_stim, ABL, ILD, rate_lambda, T_0, theta_E, Z_E, t_E_aff,\n",
    "                                phi_params_obj, rate_norm_l, \n",
    "                                is_norm, is_time_vary, K_max) \\\n",
    "                                - \\\n",
    "                                cum_pro_and_reactive_time_vary_fn(\n",
    "                                t_stim,\n",
    "                                V_A, theta_A, t_A_aff,\n",
    "                                t_stim, ABL, ILD, rate_lambda, T_0, theta_E, Z_E, t_E_aff,\n",
    "                                phi_params_obj, rate_norm_l, \n",
    "                                is_norm, is_time_vary, K_max) + 1e-10"
   ]
  },
  {
   "cell_type": "code",
   "execution_count": 88,
   "id": "6fbcafb5",
   "metadata": {},
   "outputs": [],
   "source": [
    "from scipy.integrate import cumulative_trapezoid as cumtrapz\n",
    "\n",
    "P_A_mean = np.mean(P_A_samples, axis=0)\n",
    "C_A_mean = cumtrapz(P_A_mean, t_pts, initial=0)\n",
    "\n",
    "up_mean = np.array([up_or_down_RTs_fit_PA_C_A_given_wrt_t_stim_fn(\n",
    "        t, 1,\n",
    "        P_A_mean[i], C_A_mean[i],\n",
    "        ABL, ILD, rate_lambda, T_0, theta_E, Z_E, t_E_aff, del_go,\n",
    "        phi_params_obj, rate_norm_l, \n",
    "        is_norm, is_time_vary, K_max) for i, t in enumerate(t_pts)])\n",
    "down_mean = np.array([up_or_down_RTs_fit_PA_C_A_given_wrt_t_stim_fn(\n",
    "        t, -1,\n",
    "        P_A_mean[i], C_A_mean[i],\n",
    "        ABL, ILD, rate_lambda, T_0, theta_E, Z_E, t_E_aff, del_go,\n",
    "        phi_params_obj, rate_norm_l, \n",
    "        is_norm, is_time_vary, K_max) for i, t in enumerate(t_pts)])"
   ]
  },
  {
   "cell_type": "code",
   "execution_count": 95,
   "id": "d96d9a92",
   "metadata": {},
   "outputs": [],
   "source": [
    "trunc_factor = np.mean(trunc_fac_samples)\n",
    "up_theory_mean_norm = up_mean / trunc_factor\n",
    "down_theory_mean_norm = down_mean / trunc_factor"
   ]
  },
  {
   "cell_type": "code",
   "execution_count": 96,
   "id": "8ebd249d",
   "metadata": {},
   "outputs": [
    {
     "data": {
      "text/plain": [
       "<matplotlib.legend.Legend at 0x75382e2e0e90>"
      ]
     },
     "execution_count": 96,
     "metadata": {},
     "output_type": "execute_result"
    },
    {
     "data": {
      "image/png": "[encoded data removed]",
      "text/plain": [
       "<Figure size 640x480 with 1 Axes>"
      ]
     },
     "metadata": {},
     "output_type": "display_data"
    }
   ],
   "source": [
    "### test - single case ####\n",
    "ABL = 20; ILD = 1\n",
    "sim_abl_ild = sim_results_df_1[(sim_results_df_1['ABL'] == ABL) & (sim_results_df_1['ILD'] == ILD)]\n",
    "sim_up = sim_abl_ild[sim_abl_ild['choice'] == 1]\n",
    "sim_down = sim_abl_ild[sim_abl_ild['choice'] == -1]\n",
    "\n",
    "up_rt = sim_up['rt'] - sim_up['t_stim']\n",
    "down_rt = sim_down['rt'] - sim_down['t_stim']\n",
    "\n",
    "bw = 0.02\n",
    "bins = np.arange(0, 1, bw)\n",
    "up_hist, _ = np.histogram(up_rt, bins=bins, density=True)\n",
    "down_hist, _ = np.histogram(down_rt, bins=bins, density=True)\n",
    "\n",
    "frac_up = len(sim_up) / len(sim_abl_ild)\n",
    "frac_down = len(sim_down) / len(sim_abl_ild)\n",
    "\n",
    "bin_centers = bins[:-1] + 0.5*bw\n",
    "plt.plot(bin_centers, up_hist * frac_up, label='up')\n",
    "plt.plot(t_pts, up_theory_mean_norm, ls='--')\n",
    "\n",
    "plt.plot(bin_centers, -down_hist * frac_down, label='down')\n",
    "plt.plot(t_pts, -down_theory_mean_norm, ls='--')\n",
    "plt.legend()\n"
   ]
  },
  {
   "cell_type": "code",
   "execution_count": null,
   "id": "b176afd0",
   "metadata": {},
   "outputs": [
    {
     "data": {
      "text/plain": [
       "0.7692539129832542"
      ]
     },
     "execution_count": 104,
     "metadata": {},
     "output_type": "execute_result"
    }
   ],
   "source": [
    "trunc_factor, len()"
   ]
  },
  {
   "cell_type": "code",
   "execution_count": 100,
   "id": "96a5b1a0",
   "metadata": {},
   "outputs": [
    {
     "data": {
      "text/plain": [
       "1.1605795086244695"
      ]
     },
     "execution_count": 100,
     "metadata": {},
     "output_type": "execute_result"
    }
   ],
   "source": [
    "from scipy.integrate import trapezoid as trapz\n",
    "\n",
    "\n",
    "(trapz(up_mean, t_pts) + trapz(down_mean, t_pts)) / trunc_factor"
   ]
  }
 ],
 "metadata": {
  "kernelspec": {
   "display_name": ".venv",
   "language": "python",
   "name": "python3"
  },
  "language_info": {
   "codemirror_mode": {
    "name": "ipython",
    "version": 3
   },
   "file_extension": ".py",
   "mimetype": "text/x-python",
   "name": "python",
   "nbconvert_exporter": "python",
   "pygments_lexer": "ipython3",
   "version": "3.12.3"
  }
 },
 "nbformat": 4,
 "nbformat_minor": 5
}
