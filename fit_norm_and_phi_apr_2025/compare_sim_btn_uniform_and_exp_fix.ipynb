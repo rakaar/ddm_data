{
 "cells": [
  {
   "cell_type": "code",
   "execution_count": 7,
   "metadata": {},
   "outputs": [],
   "source": [
    "import numpy as np\n",
    "import matplotlib.pyplot as plt\n",
    "import pandas as pd\n",
    "import random\n",
    "from types import SimpleNamespace\n",
    "from joblib import Parallel, delayed\n",
    "from tqdm.notebook import tqdm\n",
    "\n",
    "from time_vary_and_norm_simulators import psiam_tied_data_gen_wrapper_rate_norm_time_vary_fn, psiam_tied_data_gen_wrapper_rate_norm_fn"
   ]
  },
  {
   "cell_type": "code",
   "execution_count": 2,
   "metadata": {},
   "outputs": [
    {
     "name": "stdout",
     "output_type": "stream",
     "text": [
      "ABL: [20 40 60]\n",
      "ILD: [-16.  -8.  -4.  -2.  -1.   1.   2.   4.   8.  16.]\n"
     ]
    }
   ],
   "source": [
    "# read out_LED.csv as dataframe\n",
    "og_df = pd.read_csv('../out_LED.csv')\n",
    "\n",
    "# chose non repeat trials - 0 or 2 or missing\n",
    "df = og_df[ og_df['repeat_trial'].isin([0,2]) | og_df['repeat_trial'].isna() ]\n",
    "\n",
    "# only session type 7\n",
    "session_type = 7    \n",
    "df = df[ df['session_type'].isin([session_type]) ]\n",
    "\n",
    "# training level 16\n",
    "training_level = 16\n",
    "df = df[ df['training_level'].isin([training_level]) ]\n",
    "\n",
    "df = df[  df['LED_trial'] == 0 ]\n",
    "\n",
    "# 1 is right , -1 is left\n",
    "df['choice'] = df['response_poke'].apply(lambda x: 1 if x == 3 else (-1 if x == 2 else random.choice([1, -1])))\n",
    "\n",
    "# 1 or 0 if the choice was correct or not\n",
    "df['correct'] = (df['ILD'] * df['choice']).apply(lambda x: 1 if x > 0 else 0)\n",
    "\n",
    "# find ABL and ILD\n",
    "ABL_arr = df['ABL'].unique()\n",
    "ILD_arr = df['ILD'].unique()\n",
    "\n",
    "\n",
    "# sort ILD arr in ascending order\n",
    "ILD_arr = np.sort(ILD_arr)\n",
    "ABL_arr = np.sort(ABL_arr)\n",
    "\n",
    "print('ABL:', ABL_arr)\n",
    "print('ILD:', ILD_arr)"
   ]
  },
  {
   "cell_type": "markdown",
   "metadata": {},
   "source": [
    "# exp fixation"
   ]
  },
  {
   "cell_type": "code",
   "execution_count": 3,
   "metadata": {},
   "outputs": [],
   "source": [
    "V_A = 1.596\n",
    "theta_A = 2.531\n",
    "t_A_aff = -0.226\n",
    "del_go = 0.13"
   ]
  },
  {
   "cell_type": "code",
   "execution_count": 4,
   "metadata": {},
   "outputs": [],
   "source": [
    "rate_lambda  = 0.13\n",
    "T_0    = 0.45 * 1e-3\n",
    "theta_E       = 45 \n",
    "Z_E           = 0\n",
    "t_E_aff       = 68 * 1e-3\n",
    "rate_norm_l   = 0\n",
    "bump_height = 0.35843\n",
    "bump_width = 0.28042\n",
    "dip_height = 0.29913\n",
    "dip_width = 0.01818\n",
    "bump_offset = 0\n",
    "\n",
    "phi_params = {\n",
    "    'h1': bump_width,\n",
    "    'a1': bump_height,\n",
    "    'h2': dip_width,\n",
    "    'a2': dip_height,\n",
    "    'b1': bump_offset\n",
    "}\n",
    "\n",
    "phi_params_obj = SimpleNamespace(**phi_params)"
   ]
  },
  {
   "cell_type": "code",
   "execution_count": 5,
   "metadata": {},
   "outputs": [
    {
     "data": {
      "application/vnd.jupyter.widget-view+json": {
       "model_id": "237dfaf8ea7b4cb496f7bb554b78bcf2",
       "version_major": 2,
       "version_minor": 0
      },
      "text/plain": [
       "  0%|          | 0/1000000 [00:00<?, ?it/s]"
      ]
     },
     "metadata": {},
     "output_type": "display_data"
    },
    {
     "name": "stdout",
     "output_type": "stream",
     "text": [
      "os id: 1120201, In iter_num: 0, ABL: 60, ILD: 2.0, t_stim: 0.4315720947279156\n",
      "os id: 1120259, In iter_num: 200000, ABL: 40, ILD: 1.0, t_stim: 0.43794990074525525\n",
      "os id: 1120204, In iter_num: 400000, ABL: 40, ILD: 8.0, t_stim: 0.36694080486583397\n",
      "os id: 1120249, In iter_num: 600000, ABL: 40, ILD: 2.0, t_stim: 0.920160322756874\n",
      "os id: 1120257, In iter_num: 800000, ABL: 40, ILD: -8.0, t_stim: 0.4574463607604818\n"
     ]
    }
   ],
   "source": [
    "N_sim = int(1e6)\n",
    "t_stim_samples_exp_fix = np.random.exponential(scale=0.4, size=N_sim) + 0.2\n",
    "ABL_samples = df['ABL'].sample(N_sim, replace=True).values\n",
    "ILD_samples = df['ILD'].sample(N_sim, replace=True).values\n",
    "\n",
    "\n",
    "N_print = int(N_sim / 5)\n",
    "dt  = 1e-4\n",
    "\n",
    "sim_results_exp_fix = Parallel(n_jobs=30)(\n",
    "    delayed(psiam_tied_data_gen_wrapper_rate_norm_time_vary_fn)(\n",
    "        V_A, theta_A, ABL_samples[iter_num], ILD_samples[iter_num], rate_lambda, T_0, theta_E, Z_E, t_A_aff, t_E_aff, del_go, \n",
    "        t_stim_samples_exp_fix[iter_num], rate_norm_l, iter_num, N_print, phi_params_obj, dt\n",
    "    ) for iter_num in tqdm(range(N_sim))\n",
    ")"
   ]
  },
  {
   "cell_type": "markdown",
   "metadata": {},
   "source": [
    "# uniform fix"
   ]
  },
  {
   "cell_type": "code",
   "execution_count": 30,
   "metadata": {},
   "outputs": [
    {
     "data": {
      "application/vnd.jupyter.widget-view+json": {
       "model_id": "31549837d3c54487b950d45508e903eb",
       "version_major": 2,
       "version_minor": 0
      },
      "text/plain": [
       "  0%|          | 0/1000000 [00:00<?, ?it/s]"
      ]
     },
     "metadata": {},
     "output_type": "display_data"
    },
    {
     "name": "stdout",
     "output_type": "stream",
     "text": [
      "os id: 1126035, In iter_num: 0, ABL: 60, ILD: 2.0, t_stim: 0.32866698569094177\n",
      "os id: 1126059, In iter_num: 200000, ABL: 40, ILD: 1.0, t_stim: 0.3482598424780105\n",
      "os id: 1126054, In iter_num: 400000, ABL: 40, ILD: 8.0, t_stim: 0.3179405991150929\n",
      "os id: 1126047, In iter_num: 600000, ABL: 40, ILD: 2.0, t_stim: 0.30118436084024786\n",
      "os id: 1126063, In iter_num: 800000, ABL: 40, ILD: -8.0, t_stim: 0.3372048652091456\n"
     ]
    }
   ],
   "source": [
    "t_stim_samples_unif_fix = np.random.uniform(0.300, 0.350, N_sim)\n",
    "\n",
    "V_A_1 = V_A\n",
    "sim_results_unif_fix = Parallel(n_jobs=30)(\n",
    "    delayed(psiam_tied_data_gen_wrapper_rate_norm_fn)(\n",
    "        V_A_1, theta_A, ABL_samples[iter_num], ILD_samples[iter_num], rate_lambda, T_0, theta_E, Z_E, t_A_aff, t_E_aff, del_go, \n",
    "        t_stim_samples_unif_fix[iter_num], rate_norm_l, iter_num, N_print, dt\n",
    "    ) for iter_num in tqdm(range(N_sim))\n",
    ")"
   ]
  },
  {
   "cell_type": "markdown",
   "metadata": {},
   "source": [
    "# compare uniform fix and exp fix"
   ]
  },
  {
   "cell_type": "code",
   "execution_count": 31,
   "metadata": {},
   "outputs": [],
   "source": [
    "exp_fix_df = pd.DataFrame(sim_results_exp_fix)\n",
    "unif_fix_df = pd.DataFrame(sim_results_unif_fix)\n",
    "\n",
    "exp_fix_rt = exp_fix_df['rt'] - exp_fix_df['t_stim']\n",
    "unif_fix_rt = unif_fix_df['rt'] - unif_fix_df['t_stim']"
   ]
  },
  {
   "cell_type": "code",
   "execution_count": 32,
   "metadata": {},
   "outputs": [
    {
     "data": {
      "image/png": "[encoded data removed]",
      "text/plain": [
       "<Figure size 2000x500 with 2 Axes>"
      ]
     },
     "metadata": {},
     "output_type": "display_data"
    }
   ],
   "source": [
    "plt.figure(figsize=(20,5))\n",
    "\n",
    "plt.subplot(1,2,1)\n",
    "t_stim_bins = np.arange(0.2, 1, 0.01)\n",
    "plt.hist(t_stim_samples_exp_fix, bins=t_stim_bins, alpha=0.5, label='Exp Fix', color='b', density=True)\n",
    "plt.hist(t_stim_samples_unif_fix, bins=t_stim_bins, alpha=0.5, label='Uniform Fix', color='r', density=True)\n",
    "plt.legend();\n",
    "plt.title('t_stim')\n",
    "\n",
    "plt.subplot(1,2,2)\n",
    "bins = np.arange(-2, 2, 0.02)\n",
    "plt.hist(exp_fix_rt, label='Exp Fix', color='b', density=True, histtype='step', bins=bins)\n",
    "plt.hist(unif_fix_rt, label='Uniform Fix', color='r', density=True, histtype='step', bins=bins)\n",
    "plt.axhline(0, color='k', alpha=0.3)\n",
    "plt.legend();\n",
    "plt.title('rt wrt stim')\n",
    "plt.show()\n",
    "\n"
   ]
  },
  {
   "cell_type": "code",
   "execution_count": null,
   "metadata": {},
   "outputs": [],
   "source": []
  }
 ],
 "metadata": {
  "kernelspec": {
   "display_name": ".venv",
   "language": "python",
   "name": "python3"
  },
  "language_info": {
   "codemirror_mode": {
    "name": "ipython",
    "version": 3
   },
   "file_extension": ".py",
   "mimetype": "text/x-python",
   "name": "python",
   "nbconvert_exporter": "python",
   "pygments_lexer": "ipython3",
   "version": "3.12.3"
  }
 },
 "nbformat": 4,
 "nbformat_minor": 2
}
