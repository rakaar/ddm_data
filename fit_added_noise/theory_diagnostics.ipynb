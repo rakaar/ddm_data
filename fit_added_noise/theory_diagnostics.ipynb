{
 "cells": [
  {
   "cell_type": "code",
   "execution_count": 168,
   "metadata": {},
   "outputs": [],
   "source": [
    "import numpy as np\n",
    "import matplotlib.pyplot as plt\n",
    "\n",
    "from joblib import Parallel, delayed, parallel_backend\n",
    "from psiam_tied_dv_map_utils_for_noise import psiam_tied_data_gen_wrapper_noise_change_no_L_T0_change\n",
    "from psiam_tied_dv_map_utils_with_PDFs import all_RTs_fit_OPTIM_V_A_change_added_noise_fn, up_RTs_fit_OPTIM_V_A_change_added_noise_fn, down_RTs_fit_OPTIM_V_A_change_added_noise_fn, PA_with_LEDON_2\n",
    "from psiam_tied_dv_map_utils_with_PDFs import up_RTs_fit_OPTIM_V_A_change_added_noise_M3_delGO_fn, down_RTs_fit_OPTIM_V_A_change_added_noise_M3_delGO_fn\n",
    "import pandas as pd\n",
    "import random\n",
    "from tqdm.notebook import tqdm\n",
    "from joblib import Parallel, delayed\n",
    "from scipy.integrate import trapezoid as trapz\n",
    "from pyvbmc import VBMC\n",
    "import corner\n",
    "from diagnostics_class import Diagnostics\n",
    "from scipy.integrate import cumulative_trapezoid as cumtrapz"
   ]
  },
  {
   "cell_type": "code",
   "execution_count": 169,
   "metadata": {},
   "outputs": [],
   "source": [
    "import os\n",
    "def psiam_tied_data_gen_wrapper_noise_change_no_L_T0_change_M3_delGO(V_A, theta_A, ABL_arr, ILD_arr, rate_lambda, T_0, theta_E, Z_E, t_A_aff, t_E_aff, \\\n",
    "                                t_stim_and_led_tuple, new_V_A, new_noise, T0_factor, iter_num, N_print, is_LED_trial, del_go, dt):\n",
    "    ABL = random.choice(ABL_arr)\n",
    "    ILD = random.choice(ILD_arr)\n",
    "    \n",
    "    # random element from t_stim_and_led_tuple\n",
    "    t_stim, t_led = t_stim_and_led_tuple\n",
    "\n",
    "    # print after every N_print iterations\n",
    "    if iter_num % N_print == 0:\n",
    "        print(f'os id: {os.getpid()}, In iter_num: {iter_num}, ABL: {ABL}, ILD: {ILD}, t_stim: {t_stim}')\n",
    "\n",
    "    choice, rt, is_act = simulate_psiam_tied_noise_change_no_L_T0_factor_M3_delGO(V_A, theta_A, ABL, ILD, rate_lambda, T_0, theta_E, Z_E, t_stim, t_A_aff, t_E_aff, is_LED_trial, t_led, new_V_A, new_noise, T0_factor, del_go, dt)\n",
    "    return {'choice': choice, 'rt': rt, 'is_act': is_act ,'ABL': ABL, 'ILD': ILD, 't_stim': t_stim, 't_led': t_led, 'is_LED_trial': is_LED_trial}\n",
    "\n",
    "def simulate_psiam_tied_noise_change_no_L_T0_factor_M3_delGO(V_A, theta_A, ABL, ILD, rate_lambda, T_0, theta_E, Z_E, t_stim, t_A_aff, t_E_aff, is_LED_trial, t_led, new_V_A, new_noise, T0_factor, del_go, dt):\n",
    "    AI = 0; DV = Z_E; t = t_A_aff; dB = dt**0.5\n",
    "    \n",
    "    chi = 17.37; q_e = 1\n",
    "    theta = theta_E * q_e\n",
    "\n",
    "    mu = (2*q_e/T_0) * (10**(rate_lambda * ABL/20)) * np.sinh(rate_lambda * ILD/chi)\n",
    "    sigma = np.sqrt( (2*(q_e**2)/T_0) * (10**(rate_lambda * ABL/20)) * np.cosh(rate_lambda * ILD/ chi) )\n",
    "\n",
    "    # firing rates decrease\n",
    "    new_T0 = T_0 * T0_factor\n",
    "    # mu changes with firing rate\n",
    "    new_mu = (2*q_e/new_T0) * (10**(rate_lambda * ABL/20)) * np.sinh(rate_lambda * ILD/chi)\n",
    "    # sigma changes with firing rate\n",
    "    new_sigma = np.sqrt( (2*(q_e**2)/new_T0) * (10**(rate_lambda * ABL/20)) * np.cosh(rate_lambda * ILD/ chi) )\n",
    "    new_sigma = np.sqrt(new_sigma**2 + new_noise**2)\n",
    "\n",
    "    is_act = 0\n",
    "    while True:\n",
    "        if t >= t_led and is_LED_trial:\n",
    "            mu = new_mu\n",
    "            sigma = new_sigma\n",
    "            V_A = new_V_A\n",
    "        \n",
    "        AI += V_A*dt + np.random.normal(0, dB)\n",
    "\n",
    "        if t > t_stim + t_E_aff:\n",
    "            DV += mu*dt + sigma*np.random.normal(0, dB)\n",
    "        \n",
    "        \n",
    "        t += dt\n",
    "        \n",
    "        if DV >= theta:\n",
    "            choice = +1; RT = t\n",
    "            break\n",
    "        elif DV <= -theta:\n",
    "            choice = -1; RT = t\n",
    "            break\n",
    "        \n",
    "        if AI >= theta_A:\n",
    "            is_act = 1\n",
    "            AI_hit_time = t\n",
    "            did_EA_hit = 0\n",
    "            # if t*dt > t_stim - t_motor:\n",
    "            while t <= (AI_hit_time + del_go):#  u can process evidence till stim plays\n",
    "                if t > t_stim + t_E_aff: # Evid accum wil begin only after stim starts and afferent delay\n",
    "                    if t >= t_led and is_LED_trial:\n",
    "                        mu = new_mu\n",
    "                        sigma = new_sigma\n",
    "                        V_A = new_V_A\n",
    "\n",
    "                    DV += mu*dt + sigma*np.random.normal(0, dB)\n",
    "                    if DV >= theta:\n",
    "                        DV = theta\n",
    "                        did_EA_hit = 1\n",
    "                        break\n",
    "                    elif DV <= -theta:\n",
    "                        DV = -theta\n",
    "                        did_EA_hit = -1\n",
    "                        break\n",
    "                t += dt\n",
    "            \n",
    "            break\n",
    "        \n",
    "        \n",
    "    if is_act == 1:\n",
    "        RT = AI_hit_time\n",
    "        if did_EA_hit == 0:\n",
    "            randomly_choose_up = np.random.rand() >= 0.5\n",
    "            if randomly_choose_up:\n",
    "                choice = 1\n",
    "            else:\n",
    "                choice = -1\n",
    "        else:\n",
    "            choice = did_EA_hit\n",
    "               \n",
    "    \n",
    "    return choice, RT, is_act\n",
    "\n"
   ]
  },
  {
   "cell_type": "code",
   "execution_count": 170,
   "metadata": {},
   "outputs": [],
   "source": [
    "V_A = 1.6\n",
    "theta_A = 2.53\n",
    "V_A_post_LED = V_A + 1.8\n",
    "t_A_aff = -0.187\n",
    "t_E_aff = 0.075\n",
    "Z_E = 0\n",
    "K_max = 10\n",
    "\n",
    "rate_lambda = 0.118\n",
    "theta_E = 45\n",
    "T_0 = 2.9 * 1e-3\n",
    "del_go = 0.12\n",
    "noise = 69.54"
   ]
  },
  {
   "cell_type": "code",
   "execution_count": 171,
   "metadata": {},
   "outputs": [],
   "source": [
    "# repeat_trial, T16, S7\n",
    "og_df = pd.read_csv('../out_LED.csv')\n",
    "df = og_df[ og_df['repeat_trial'].isin([0,2]) | og_df['repeat_trial'].isna() ]\n",
    "session_type = 7    \n",
    "df = df[ df['session_type'].isin([session_type]) ]\n",
    "training_level = 16\n",
    "df = df[ df['training_level'].isin([training_level]) ]\n",
    "\n",
    "\n",
    "# t_stim, t_LED, ABL, ILD\n",
    "t_stim_and_led_tuple = [(row['intended_fix'], row['intended_fix'] - row['LED_onset_time']) for _, row in df.iterrows()]\n",
    "ABL_arr = df['ABL'].unique(); ABL_arr.sort()\n",
    "ILD_arr = df['ILD'].unique(); ILD_arr.sort()"
   ]
  },
  {
   "cell_type": "code",
   "execution_count": 172,
   "metadata": {},
   "outputs": [
    {
     "data": {
      "application/vnd.jupyter.widget-view+json": {
       "model_id": "97d0fccc17d34bebafe5d706b23d90b3",
       "version_major": 2,
       "version_minor": 0
      },
      "text/plain": [
       "  0%|          | 0/500000 [00:00<?, ?it/s]"
      ]
     },
     "metadata": {},
     "output_type": "display_data"
    },
    {
     "name": "stdout",
     "output_type": "stream",
     "text": [
      "os id: 213447, In iter_num: 0, ABL: 40, ILD: -16.0, t_stim: 0.292395534603258\n",
      "os id: 213458, In iter_num: 100000, ABL: 20, ILD: 4.0, t_stim: 0.701725900798878\n",
      "os id: 213464, In iter_num: 200000, ABL: 20, ILD: 1.0, t_stim: 0.94658688499405\n",
      "os id: 213462, In iter_num: 300000, ABL: 20, ILD: 2.0, t_stim: 0.388734027143797\n",
      "os id: 213467, In iter_num: 400000, ABL: 20, ILD: 16.0, t_stim: 0.74959987001796\n"
     ]
    }
   ],
   "source": [
    "# sim\n",
    "N_sim = int(500e3)\n",
    "N_print = int(N_sim/5)\n",
    "is_LED_trial = True\n",
    "dt = 1e-4\n",
    "\n",
    "sampled_indices = np.random.choice(len(t_stim_and_led_tuple), N_sim)\n",
    "t_stim_and_led_tuple_samples = [t_stim_and_led_tuple[i] for i in sampled_indices]\n",
    "\n",
    "sim_results = Parallel(n_jobs=30)(delayed(psiam_tied_data_gen_wrapper_noise_change_no_L_T0_change_M3_delGO)(V_A, theta_A, ABL_arr, ILD_arr,\\\n",
    "                                                                                        rate_lambda, T_0, theta_E, Z_E, \\\n",
    "                                                                                            t_A_aff, t_E_aff,\\\n",
    "                                                                                    t_stim_and_led_tuple_samples[iter_num], \\\n",
    "                                                                        V_A_post_LED, noise, 1, iter_num, N_print, is_LED_trial, del_go, dt) \\\n",
    "                                                                              for iter_num in tqdm(range(N_sim)))\n"
   ]
  },
  {
   "cell_type": "markdown",
   "metadata": {},
   "source": [
    "# RTDs sim wise"
   ]
  },
  {
   "cell_type": "code",
   "execution_count": null,
   "metadata": {},
   "outputs": [],
   "source": [
    "def theory_RTD(bin_size, ABL, ILD, t_LED, t_stim):\n",
    "    t_pts = np.arange(-1,1, bin_size)\n",
    "    pdf = [all_RTs_fit_OPTIM_V_A_change_added_noise_fn(t + t_stim, t_LED, V_A, V_A_post_LED, theta_A, ABL, ILD, rate_lambda, T_0, noise, theta_E, Z_E, t_stim, t_A_aff, t_E_aff, K_max) \\\n",
    "           for t in t_pts]\n",
    "    return pdf"
   ]
  },
  {
   "cell_type": "code",
   "execution_count": null,
   "metadata": {},
   "outputs": [],
   "source": [
    "N_theory = int(1e3)\n",
    "bin_size = 0.05\n",
    "\n",
    "sampled_indices = np.random.choice(len(t_stim_and_led_tuple), N_sim)\n",
    "t_stim_and_led_tuple_samples = [t_stim_and_led_tuple[i] for i in sampled_indices]\n",
    "ABL_samples = np.ones((N_theory,))*ABL_arr[0]\n",
    "ILD_samples = np.ones((N_theory,))*ILD_arr[0]\n",
    "\n",
    "\n",
    "theory_results = Parallel(n_jobs=30)(delayed(theory_RTD)(bin_size, ABL_samples[iter], ILD_samples[iter], t_stim_and_led_tuple_samples[iter][1], t_stim_and_led_tuple_samples[iter][0]) for iter in tqdm(range(N_theory)))"
   ]
  },
  {
   "cell_type": "code",
   "execution_count": null,
   "metadata": {},
   "outputs": [],
   "source": [
    "sim_results_df = pd.DataFrame(sim_results)"
   ]
  },
  {
   "cell_type": "code",
   "execution_count": null,
   "metadata": {},
   "outputs": [],
   "source": [
    "sim_results_df_1 = sim_results_df[(sim_results_df['ABL'] == ABL_arr[0]) & (sim_results_df['ILD']==ILD_arr[0])]\n",
    "sim_rt = sim_results_df_1['rt'] - sim_results_df_1['t_stim']"
   ]
  },
  {
   "cell_type": "code",
   "execution_count": null,
   "metadata": {},
   "outputs": [],
   "source": [
    "# add a column called correct in sim_results_df correct = 1 if ILD * choice > 0 else 0\n",
    "sim_results_df['correct'] = (sim_results_df['ILD'] * sim_results_df['choice'] > 0).astype(int)"
   ]
  },
  {
   "cell_type": "code",
   "execution_count": null,
   "metadata": {},
   "outputs": [],
   "source": [
    "theory_results_np = np.array(theory_results)\n",
    "theory_results_np_mean = np.mean(theory_results_np, axis=0)\n",
    "\n",
    "t_pts = np.arange(-1,1, bin_size)\n",
    "\n",
    "plt.hist(sim_rt, bins=t_pts, density=True, histtype='step')\n",
    "plt.plot(t_pts, theory_results_np_mean)"
   ]
  },
  {
   "cell_type": "markdown",
   "metadata": {},
   "source": [
    "# psychometric"
   ]
  },
  {
   "cell_type": "code",
   "execution_count": 173,
   "metadata": {},
   "outputs": [],
   "source": [
    "import numpy as np\n",
    "from scipy.special import erf\n",
    "import math\n",
    "import numpy as np\n",
    "\n",
    "\n",
    "def d_A_RT_VEC(a, t):\n",
    "    \"\"\"\n",
    "    Calculate the standard PA probability density function (vectorized).\n",
    "\n",
    "    Parameters:\n",
    "        a (float): Scalar parameter.\n",
    "        t (numpy.ndarray): Time values (must be > 0).\n",
    "\n",
    "    Returns:\n",
    "        numpy.ndarray: The computed pdf values (0 where t <= 0).\n",
    "    \"\"\"\n",
    "    t = np.asarray(t)  # Ensure t is a NumPy array\n",
    "    p = np.zeros_like(t)\n",
    "    valid_indices = t > 0\n",
    "    p[valid_indices] = (1.0 / np.sqrt(2 * np.pi * (t[valid_indices]**3))) * np.exp(-((1 - a * t[valid_indices])**2) / (2 * t[valid_indices]))\n",
    "    return p\n",
    "\n",
    "def stupid_f_integral_VEC(v, vON, theta, t, tp):\n",
    "    \"\"\"\n",
    "    Calculate the PA pdf after the v_A change via an integral expression (vectorized).\n",
    "\n",
    "    Parameters:\n",
    "        v (float): Scalar parameter.\n",
    "        vON (float): Scalar parameter.\n",
    "        theta (float): Scalar parameter.\n",
    "        t (numpy.ndarray): Time values.\n",
    "        tp (numpy.ndarray): A shifted time values.\n",
    "\n",
    "    Returns:\n",
    "        numpy.ndarray: The evaluated integral expressions.\n",
    "    \"\"\"\n",
    "    t = np.asarray(t)\n",
    "    tp = np.asarray(tp)\n",
    "    a1 = 0.5 * (1 / t + 1 / tp)\n",
    "    b1 = theta / t + (v - vON)\n",
    "    c1 = -0.5 * (vON**2 * t - 2 * theta * vON + theta**2 / t + v**2 * tp)\n",
    "\n",
    "    a2 = a1\n",
    "    b2 = theta * (1 / t + 2 / tp) + (v - vON)\n",
    "    c2 = -0.5 * (vON**2 * t - 2 * theta * vON + theta**2 / t + v**2 * tp + 4 * theta * v + 4 * theta**2 / tp) + 2 * v * theta\n",
    "\n",
    "    F01 = 1.0 / (4 * np.pi * a1 * np.sqrt(tp * t**3))\n",
    "    F02 = 1.0 / (4 * np.pi * a2 * np.sqrt(tp * t**3))\n",
    "\n",
    "    T11 = b1**2 / (4 * a1)\n",
    "    T12 = (2 * a1 * theta - b1) / (2 * np.sqrt(a1))\n",
    "    T13 = theta * (b1 - theta * a1)\n",
    "\n",
    "    T21 = b2**2 / (4 * a2)\n",
    "    T22 = (2 * a2 * theta - b2) / (2 * np.sqrt(a2))\n",
    "    T23 = theta * (b2 - theta * a2)\n",
    "\n",
    "    I1 = F01 * (T12 * np.sqrt(np.pi) * np.exp(T11 + c1) * (erf(T12) + 1) + np.exp(T13 + c1))\n",
    "    I2 = F02 * (T22 * np.sqrt(np.pi) * np.exp(T21 + c2) * (erf(T22) + 1) + np.exp(T23 + c2))\n",
    "\n",
    "    STF = I1 - I2\n",
    "    return STF\n",
    "\n",
    "def PA_with_LEDON_2_VEC(t, v, vON, a, tfix, tled, delta_A):\n",
    "    \"\"\"\n",
    "    Compute the PA pdf by combining contributions before and after LED onset (vectorized).\n",
    "\n",
    "    Parameters:\n",
    "        t (numpy.ndarray): Time values.\n",
    "        v (float): Drift parameter before LED.\n",
    "        vON (float): Drift parameter after LED onset.\n",
    "        a (float): Decision bound.\n",
    "        tfix (float): Fixation time.\n",
    "        tled (float): LED time.\n",
    "        delta_A (float): Delta parameter.\n",
    "\n",
    "    Returns:\n",
    "        numpy.ndarray: The combined PA pdf values.\n",
    "    \"\"\"\n",
    "    t = np.asarray(t)\n",
    "    result = np.zeros_like(t)\n",
    "    before_led = (t + tfix) <= (tled + 1e-6)\n",
    "    result[before_led] = d_A_RT_VEC(v * a, (t[before_led] - delta_A + tfix) / (a**2)) / (a**2)\n",
    "    result[~before_led] = stupid_f_integral_VEC(v, vON, a, t[~before_led] + tfix - tled, tled - delta_A + tfix)\n",
    "    return result"
   ]
  },
  {
   "cell_type": "code",
   "execution_count": 174,
   "metadata": {},
   "outputs": [],
   "source": [
    "from psiam_tied_dv_map_utils_with_PDFs import phi, M\n",
    "def CDF_E_minus_small_t_NORM_added_noise_VEC_fn(t_pts, ABL, ILD, rate_lambda, T_0, theta_E, Z_E, bound, noise, K_max):\n",
    "    \"\"\"\n",
    "    In normalized time, CDF of hitting the lower bound.\n",
    "    Processes a vector of time points t_pts (as a NumPy array) and returns a vector\n",
    "    where each element is a likelihood.\n",
    "    \"\"\"\n",
    "    # Ensure t_pts is a numpy array\n",
    "    t_pts = np.asarray(t_pts)\n",
    "    \n",
    "    # For negative or zero time points, the likelihood is defined as 0.\n",
    "    results = np.zeros_like(t_pts, dtype=float)\n",
    "    positive_mask = t_pts > 0\n",
    "    if not np.any(positive_mask):\n",
    "        return results  # All t_pts are <= 0\n",
    "    \n",
    "    # Work only on t values > 0\n",
    "    t = t_pts[positive_mask]\n",
    "    \n",
    "    # Constant parameters\n",
    "    chi = 17.37\n",
    "    omega = (2/T_0) * (10**(rate_lambda*ABL/20))\n",
    "    sigma_sq = omega\n",
    "    q_e = 1\n",
    "    theta = theta_E * q_e\n",
    "    \n",
    "    arg = rate_lambda * ILD / chi\n",
    "    v = (theta * omega * np.sinh(arg)) / ((omega * np.cosh(arg)) + (noise**2))\n",
    "    \n",
    "    # Compute w and adjust if bound==1\n",
    "    w = (Z_E + theta) / (2*theta)\n",
    "    a = 2\n",
    "    if bound == 1:\n",
    "        v = -v\n",
    "        w = 1 - w\n",
    "    \n",
    "    # Adjust time scaling factor\n",
    "    t_theta = (theta**2) / (sigma_sq + noise**2)\n",
    "    t = t / t_theta  # Now t is scaled and remains a vector.\n",
    "    \n",
    "    # Compute the exponent part for each t\n",
    "    exponent_arg = -v * a * w - ((v**2) * t) / 2\n",
    "    result = np.exp(exponent_arg)  # This is a vector (same shape as t)\n",
    "    \n",
    "    # Prepare vectorized computation over k values.\n",
    "    k_vals = np.arange(K_max + 1)\n",
    "    # Compute r_k for each k; vectorized over k\n",
    "    r_k = np.where(k_vals % 2 == 0, k_vals * a + a * w, k_vals * a + a * (1 - w))\n",
    "    # Reshape r_k to enable broadcasting: shape (K_max+1, 1)\n",
    "    r_k = r_k[:, None]\n",
    "    \n",
    "    # Precompute sqrt(t) with shape (1, n)\n",
    "    sqrt_t = np.sqrt(t)[None, :]\n",
    "    \n",
    "    # Compute term1 = phi(r_k / sqrt(t))\n",
    "    term1 = phi(r_k / sqrt_t)\n",
    "    \n",
    "    # Compute term2 = M((r_k - v*t)/sqrt(t)) + M((r_k + v*t)/sqrt(t))\n",
    "    # Here, note that v*t is broadcast properly since v is a scalar and t is (1, n)\n",
    "    term2 = (M((r_k - v * t) / sqrt_t) + M((r_k + v * t) / sqrt_t))\n",
    "    \n",
    "    # Multiply by (-1)**k. Reshape (-1)**k to (K_max+1, 1) for broadcasting.\n",
    "    signs = ((-1) ** k_vals)[:, None]\n",
    "    \n",
    "    # Sum over k axis (axis=0) to get a vector of length n (matching t)\n",
    "    summation = np.sum(signs * term1 * term2, axis=0)\n",
    "    \n",
    "    # Combine the exponent part with the summation term\n",
    "    likelihood = result * summation\n",
    "    \n",
    "    # Place likelihood values back into the output array, zeros for t_pts <= 0.\n",
    "    results[positive_mask] = likelihood\n",
    "    return results\n"
   ]
  },
  {
   "cell_type": "code",
   "execution_count": 175,
   "metadata": {},
   "outputs": [],
   "source": [
    "def rho_E_minus_small_t_NORM_added_noise_VEC_fn(t_pts, ABL, ILD, rate_lambda, T_0, theta_E, Z_E, bound, noise, K_max):\n",
    "    \"\"\"\n",
    "    In normalized time, added noise to variance of firing rates to PDF of hitting the lower bound.\n",
    "    Processes a vector of time points (t_pts) and returns an array where each element is a likelihood.\n",
    "    \"\"\"\n",
    "    import numpy as np\n",
    "\n",
    "    # Ensure t_pts is a numpy array\n",
    "    t_pts = np.asarray(t_pts, dtype=float)\n",
    "    results = np.zeros_like(t_pts, dtype=float)\n",
    "    \n",
    "    # For t values <= 0, we define the density as 0.\n",
    "    positive_mask = t_pts > 0\n",
    "    if not np.any(positive_mask):\n",
    "        return results  # all t_pts are <= 0\n",
    "    \n",
    "    # Process only t > 0\n",
    "    t = t_pts[positive_mask]\n",
    "    \n",
    "    # Constant parameters\n",
    "    chi = 17.37\n",
    "    omega = (2 / T_0) * (10**(rate_lambda * ABL / 20))\n",
    "    sigma_sq = omega\n",
    "    q_e = 1\n",
    "    theta = theta_E * q_e\n",
    "\n",
    "    # Compute evidence v\n",
    "    arg = rate_lambda * ILD / chi\n",
    "    v = (theta * omega * np.sinh(arg)) / ((omega * np.cosh(arg)) + (noise**2))\n",
    "    \n",
    "    # Compute w and adjust if bound==1\n",
    "    w = (Z_E + theta) / (2 * theta)\n",
    "    a = 2\n",
    "    if bound == 1:\n",
    "        v = -v\n",
    "        w = 1 - w\n",
    "\n",
    "    # Scale time by t_theta\n",
    "    t_theta = (theta**2) / (sigma_sq + noise**2)\n",
    "    t_scaled = t / t_theta\n",
    "\n",
    "    # Compute the non-summation term (vectorized in t)\n",
    "    non_sum_term = (1 / a**2) * (a**3 / np.sqrt(2 * np.pi * t_scaled**3)) * np.exp(-v * a * w - (v**2 * t_scaled) / 2)\n",
    "\n",
    "    # Prepare k values, using only odd number of terms symmetric around zero.\n",
    "    K_max_half = int(K_max / 2)\n",
    "    k_vals = np.linspace(-K_max_half, K_max_half, 2 * K_max_half + 1)\n",
    "    # Reshape k_vals to allow broadcasting: shape (n_k, 1)\n",
    "    k_vals = k_vals[:, None]\n",
    "    \n",
    "    # Compute the term (w + 2*k) for each k value.\n",
    "    sum_w_term = w + 2 * k_vals  # shape (n_k, 1)\n",
    "    \n",
    "    # For the exponential term, we need to broadcast over t_scaled.\n",
    "    # Expand t_scaled to shape (1, n) so that division works elementwise.\n",
    "    t_scaled_exp = t_scaled[None, :]\n",
    "    sum_exp_term = np.exp(-(a**2 * (w + 2 * k_vals)**2) / (2 * t_scaled_exp))\n",
    "    \n",
    "    # Sum over k values (axis=0) to get a vector of length equal to t_scaled.\n",
    "    sum_result = np.sum(sum_w_term * sum_exp_term, axis=0)\n",
    "    \n",
    "    # Compute density (vectorized)\n",
    "    density = non_sum_term * sum_result\n",
    "    # Avoid negative densities by thresholding them at 1e-16.\n",
    "    density = np.where(density <= 0, 1e-16, density)\n",
    "    \n",
    "    # Place the computed densities back in the result vector, rescaling by t_theta.\n",
    "    results[positive_mask] = density / t_theta\n",
    "    return results\n"
   ]
  },
  {
   "cell_type": "code",
   "execution_count": 176,
   "metadata": {},
   "outputs": [],
   "source": [
    "from psiam_tied_dv_map_utils_with_PDFs import CDF_E_minus_small_t_NORM_added_noise_fn, rho_E_minus_small_t_NORM_added_noise_fn\n",
    "\n",
    "\n",
    "def up_RTs_fit_OPTIM_V_A_change_added_noise_M3_delGO_NO_PA_part_VEC_fn(t_pts, P_A, C_A, ABL, ILD, rate_lambda, T_0, noise, theta_E, Z_E, t_stim, t_A_aff, t_E_aff, del_go, K_max):\n",
    "    \"\"\"\n",
    "    PDF of all RTs array irrespective of choice\n",
    "    \"\"\"\n",
    "    bound = 1\n",
    "    t2 = t_pts - t_stim - t_E_aff + del_go\n",
    "    t1 = t_pts - t_stim - t_E_aff\n",
    "\n",
    "    prob_EA_hits_either_bound = CDF_E_minus_small_t_NORM_added_noise_VEC_fn(t_pts - t_stim - t_E_aff + del_go, ABL, ILD,\\\n",
    "                                                                         rate_lambda, T_0, theta_E, Z_E, 1, noise, K_max) \\\n",
    "                             + CDF_E_minus_small_t_NORM_added_noise_VEC_fn(t_pts - t_stim - t_E_aff + del_go, ABL, ILD,\\\n",
    "                                                                         rate_lambda, T_0, theta_E, Z_E, -1, noise, K_max)\n",
    "    \n",
    "    prob_EA_survives = 1 - prob_EA_hits_either_bound\n",
    "    random_readout_if_EA_surives = 0.5 * prob_EA_survives\n",
    "    P_E_plus_cum = CDF_E_minus_small_t_NORM_added_noise_VEC_fn(t2, ABL, ILD, rate_lambda, T_0, theta_E, Z_E, bound, noise, K_max) \\\n",
    "                    - CDF_E_minus_small_t_NORM_added_noise_VEC_fn(t1, ABL, ILD, rate_lambda, T_0, theta_E, Z_E, bound, noise, K_max)\n",
    "    \n",
    "    \n",
    "\n",
    "    P_E_plus = rho_E_minus_small_t_NORM_added_noise_VEC_fn(t_pts-t_E_aff-t_stim, ABL, ILD, rate_lambda, T_0, theta_E, Z_E, bound, noise, K_max)\n",
    "    \n",
    "\n",
    "    P_up = (P_A*(random_readout_if_EA_surives + P_E_plus_cum) + P_E_plus*(1-C_A))\n",
    "\n",
    "    return P_up\n"
   ]
  },
  {
   "cell_type": "code",
   "execution_count": 177,
   "metadata": {},
   "outputs": [
    {
     "data": {
      "application/vnd.jupyter.widget-view+json": {
       "model_id": "f07c79115cdd4133812d4fbb6f65ab4c",
       "version_major": 2,
       "version_minor": 0
      },
      "text/plain": [
       "  0%|          | 0/1000 [00:00<?, ?it/s]"
      ]
     },
     "metadata": {},
     "output_type": "display_data"
    }
   ],
   "source": [
    "\n",
    "t_pts = np.arange(0, 5, 0.05)\n",
    "\n",
    "N_theory = int(1e3)\n",
    "sampled_indices = np.random.choice(len(t_stim_and_led_tuple), N_theory)\n",
    "t_stim_and_led_tuple_samples = [t_stim_and_led_tuple[i] for i in sampled_indices]\n",
    "\n",
    "P_A_t_led_vs_t = np.zeros((N_theory, len(t_pts)))\n",
    "C_A_t_led_vc_t = np.zeros((N_theory, len(t_pts)))\n",
    "\n",
    "for pair_idx, pair in tqdm(enumerate(t_stim_and_led_tuple_samples), total=len(t_stim_and_led_tuple_samples)):\n",
    "    t_LED = pair[1]\n",
    "    P_A_t_led_vs_t[pair_idx, :] = PA_with_LEDON_2_VEC(t_pts, V_A, V_A_post_LED, theta_A, 0, t_LED, t_A_aff)\n",
    "\n",
    "    C_A_vec = cumtrapz(P_A_t_led_vs_t[pair_idx, :], t_pts, initial=0)\n",
    "    C_A_t_led_vc_t[pair_idx, :] = C_A_vec\n",
    "\n",
    "#### SERIAL #####\n",
    "# p_up_per_ABL = np.zeros((len(ABL_arr), len(ILD_arr)))\n",
    "# for ABL_i, ABL in enumerate(ABL_arr):\n",
    "#     print(f'ABL: {ABL}')\n",
    "#     p_up_ILD = np.zeros_like(ILD_arr)\n",
    "#     for ILD_i, ILD in enumerate(ILD_arr):\n",
    "#         print(f'ILD: {ILD}')\n",
    "#         P_up_samples = np.zeros((N_theory, len(t_pts)))\n",
    "#         for pair_idx, pair in enumerate(t_stim_and_led_tuple_samples):\n",
    "#             P_A = P_A_t_led_vs_t[pair_idx, :]\n",
    "#             C_A = C_A_t_led_vc_t[pair_idx, :]\n",
    "#             t_stim = pair[0]    \n",
    "#             P_up_samples[pair_idx, :] = up_RTs_fit_OPTIM_V_A_change_added_noise_M3_delGO_NO_PA_part_VEC_fn(t_pts, P_A, C_A, ABL, ILD,\\\n",
    "#                                                                     rate_lambda, T_0, noise, theta_E, Z_E, t_stim, t_A_aff, t_E_aff, del_go, K_max)\n",
    "        \n",
    "#         P_up_samples_mean = np.mean(P_up_samples, axis=0)\n",
    "#         p_up_ILD[ILD_i] = trapz(P_up_samples_mean, t_pts)\n",
    "\n",
    "    \n",
    "#     p_up_per_ABL[ABL_i] = p_up_ILD"
   ]
  },
  {
   "cell_type": "markdown",
   "metadata": {},
   "source": [
    "# Parallel psychometric"
   ]
  },
  {
   "cell_type": "code",
   "execution_count": 178,
   "metadata": {},
   "outputs": [
    {
     "name": "stderr",
     "output_type": "stream",
     "text": [
      "[Parallel(n_jobs=30)]: Using backend LokyBackend with 30 concurrent workers.\n",
      "[Parallel(n_jobs=30)]: Done   3 out of  30 | elapsed:    0.5s remaining:    4.1s\n",
      "[Parallel(n_jobs=30)]: Done   7 out of  30 | elapsed:    0.6s remaining:    1.8s\n",
      "[Parallel(n_jobs=30)]: Done  11 out of  30 | elapsed:    0.6s remaining:    1.1s\n",
      "[Parallel(n_jobs=30)]: Done  15 out of  30 | elapsed:    0.6s remaining:    0.6s\n",
      "[Parallel(n_jobs=30)]: Done  19 out of  30 | elapsed:    0.7s remaining:    0.4s\n",
      "[Parallel(n_jobs=30)]: Done  23 out of  30 | elapsed:    0.7s remaining:    0.2s\n",
      "[Parallel(n_jobs=30)]: Done  27 out of  30 | elapsed:    0.8s remaining:    0.1s\n",
      "[Parallel(n_jobs=30)]: Done  30 out of  30 | elapsed:    0.8s finished\n"
     ]
    }
   ],
   "source": [
    "# Parallel ###########\n",
    "from joblib import Parallel, delayed\n",
    "\n",
    "def process_ABL_ILD(ABL_idx, ABL, ILD_idx, ILD, t_stim_and_led_tuple_samples, P_A_t_led_vs_t, C_A_t_led_vc_t, \n",
    "                    t_pts, rate_lambda, T_0, noise, theta_E, Z_E, t_A_aff, t_E_aff, del_go, K_max, N_theory):\n",
    "    \"\"\"Process a single ABL/ILD combination and return the results with indices.\"\"\"\n",
    "    P_up_samples = np.zeros((N_theory, len(t_pts)))\n",
    "    \n",
    "    for pair_idx, pair in enumerate(t_stim_and_led_tuple_samples):\n",
    "        P_A = P_A_t_led_vs_t[pair_idx, :]\n",
    "        C_A = C_A_t_led_vc_t[pair_idx, :]\n",
    "        t_stim = pair[0]    \n",
    "        P_up_samples[pair_idx, :] = up_RTs_fit_OPTIM_V_A_change_added_noise_M3_delGO_NO_PA_part_VEC_fn(\n",
    "            t_pts, P_A, C_A, ABL, ILD, rate_lambda, T_0, noise, theta_E, Z_E, \n",
    "            t_stim, t_A_aff, t_E_aff, del_go, K_max\n",
    "        )\n",
    "    \n",
    "    P_up_samples_mean = np.mean(P_up_samples, axis=0)\n",
    "    p_up = trapz(P_up_samples_mean, t_pts)\n",
    "    \n",
    "    return (ABL_idx, ILD_idx, p_up)\n",
    "\n",
    "# Create the output matrix\n",
    "p_up_per_ABL = np.zeros((len(ABL_arr), len(ILD_arr)))\n",
    "\n",
    "# Generate all combinations of ABL and ILD indices and values\n",
    "combinations = [\n",
    "    (ABL_idx, ABL, ILD_idx, ILD) \n",
    "    for ABL_idx, ABL in enumerate(ABL_arr)\n",
    "    for ILD_idx, ILD in enumerate(ILD_arr)\n",
    "]\n",
    "\n",
    "# Run the calculations in parallel\n",
    "results = Parallel(n_jobs=30, verbose=10)(\n",
    "    delayed(process_ABL_ILD)(\n",
    "        ABL_idx, ABL, ILD_idx, ILD, \n",
    "        t_stim_and_led_tuple_samples, P_A_t_led_vs_t, C_A_t_led_vc_t,\n",
    "        t_pts, rate_lambda, T_0, noise, theta_E, Z_E, \n",
    "        t_A_aff, t_E_aff, del_go, K_max, N_theory\n",
    "    )\n",
    "    for ABL_idx, ABL, ILD_idx, ILD in combinations\n",
    ")\n",
    "\n",
    "# Fill the output matrix with the results\n",
    "for ABL_idx, ILD_idx, p_up in results:\n",
    "    p_up_per_ABL[ABL_idx, ILD_idx] = p_up"
   ]
  },
  {
   "cell_type": "code",
   "execution_count": 179,
   "metadata": {},
   "outputs": [
    {
     "data": {
      "image/png": "[encoded data removed]",
      "text/plain": [
       "<Figure size 640x480 with 1 Axes>"
      ]
     },
     "metadata": {},
     "output_type": "display_data"
    }
   ],
   "source": [
    "for ABL_i, ABL in enumerate(ABL_arr):\n",
    "    sim_p_up = np.zeros_like(ILD_arr)\n",
    "    for ILD_i, ILD in enumerate(ILD_arr):\n",
    "        sim_ABL_ILD_df = sim_results_df[ (sim_results_df['ABL'] == ABL) & (sim_results_df['ILD'] == ILD) ]\n",
    "        # convert choice -1 to 0\n",
    "        sim_ABL_ILD_df.loc[:,'choice'] = (sim_ABL_ILD_df['choice'] + 1)/2\n",
    "        # mean of choice\n",
    "        sim_p_up[ILD_i] = np.mean(sim_ABL_ILD_df['choice'])\n",
    "    plt.plot(ILD_arr, p_up_per_ABL[ABL_i], label=f'ABL: {ABL}')\n",
    "    plt.scatter(ILD_arr, sim_p_up, label=f'ABL: {ABL}', marker='x')\n",
    "plt.legend()\n",
    "plt.show()"
   ]
  },
  {
   "cell_type": "markdown",
   "metadata": {},
   "source": [
    "# psychometric efficient"
   ]
  },
  {
   "cell_type": "code",
   "execution_count": 180,
   "metadata": {},
   "outputs": [
    {
     "data": {
      "application/vnd.jupyter.widget-view+json": {
       "model_id": "a68906c66955493599a78b5b6e39c9cc",
       "version_major": 2,
       "version_minor": 0
      },
      "text/plain": [
       "  0%|          | 0/1000 [00:00<?, ?it/s]"
      ]
     },
     "metadata": {},
     "output_type": "display_data"
    }
   ],
   "source": [
    "t_pts = np.arange(-5, 5, 0.001)\n",
    "\n",
    "N_theory = int(1e3)\n",
    "sampled_indices = np.random.choice(len(t_stim_and_led_tuple), N_theory)\n",
    "t_stim_and_led_tuple_samples = [t_stim_and_led_tuple[i] for i in sampled_indices]\n",
    "\n",
    "P_A_t_led_vs_t = np.zeros((N_theory, len(t_pts)))\n",
    "\n",
    "for pair_idx, pair in tqdm(enumerate(t_stim_and_led_tuple_samples), total=len(t_stim_and_led_tuple_samples)):\n",
    "    t_LED = pair[1]\n",
    "    t_stim = pair[0]\n",
    "    P_A_t_led_vs_t[pair_idx, :] = PA_with_LEDON_2_VEC(t_pts, V_A, V_A_post_LED, theta_A, t_stim, t_LED, t_A_aff)\n"
   ]
  },
  {
   "cell_type": "code",
   "execution_count": 181,
   "metadata": {},
   "outputs": [],
   "source": [
    "# P_A mean and C_A \n",
    "P_A_t_mean = np.mean(P_A_t_led_vs_t, axis=0)\n",
    "C_A_t_mean = cumtrapz(P_A_t_mean, t_pts, initial=0)"
   ]
  },
  {
   "cell_type": "code",
   "execution_count": 182,
   "metadata": {},
   "outputs": [],
   "source": [
    "def up_RTs_fit_OPTIM_V_A_change_added_noise_M3_delGO_NO_PA_part_VEC_NO_stimfn(t_pts, P_A, C_A, ABL, ILD, rate_lambda, T_0, noise, theta_E, Z_E, t_stim, t_A_aff, t_E_aff, del_go, K_max):\n",
    "    \"\"\"\n",
    "    PDF of all RTs array irrespective of choice\n",
    "    \"\"\"\n",
    "    bound = 1\n",
    "    t_stim = 0\n",
    "\n",
    "    t2 = t_pts - t_stim - t_E_aff + del_go\n",
    "    t1 = t_pts - t_stim - t_E_aff\n",
    "    \n",
    "    prob_EA_hits_either_bound = CDF_E_minus_small_t_NORM_added_noise_VEC_fn(t_pts - t_stim - t_E_aff + del_go, ABL, ILD,\\\n",
    "                                                                         rate_lambda, T_0, theta_E, Z_E, 1, noise, K_max) \\\n",
    "                             + CDF_E_minus_small_t_NORM_added_noise_VEC_fn(t_pts - t_stim - t_E_aff + del_go, ABL, ILD,\\\n",
    "                                                                         rate_lambda, T_0, theta_E, Z_E, -1, noise, K_max)\n",
    "    \n",
    "    prob_EA_survives = 1 - prob_EA_hits_either_bound\n",
    "    random_readout_if_EA_surives = 0.5 * prob_EA_survives\n",
    "    P_E_plus_cum = CDF_E_minus_small_t_NORM_added_noise_VEC_fn(t2, ABL, ILD, rate_lambda, T_0, theta_E, Z_E, bound, noise, K_max) \\\n",
    "                    - CDF_E_minus_small_t_NORM_added_noise_VEC_fn(t1, ABL, ILD, rate_lambda, T_0, theta_E, Z_E, bound, noise, K_max)\n",
    "    \n",
    "    \n",
    "\n",
    "    P_E_plus = rho_E_minus_small_t_NORM_added_noise_VEC_fn(t_pts-t_E_aff-t_stim, ABL, ILD, rate_lambda, T_0, theta_E, Z_E, bound, noise, K_max)\n",
    "    \n",
    "\n",
    "    P_up = (P_A*(random_readout_if_EA_surives + P_E_plus_cum) + P_E_plus*(1-C_A))\n",
    "\n",
    "    return P_up\n"
   ]
  },
  {
   "cell_type": "code",
   "execution_count": 183,
   "metadata": {},
   "outputs": [],
   "source": [
    "t_pts_wrt_stim = np.arange(-5, 5, 0.001)\n",
    "p_up_dict = {}\n",
    "for ABL in ABL_arr:\n",
    "    p_up_vs_ILD = np.zeros_like(ILD_arr)\n",
    "    for ILD_i, ILD in enumerate(ILD_arr):\n",
    "        p_up_abl_ild_vs_t = up_RTs_fit_OPTIM_V_A_change_added_noise_M3_delGO_NO_PA_part_VEC_NO_stimfn(t_pts, P_A_t_mean, C_A_t_mean, \\\n",
    "                                                                                    ABL, ILD, rate_lambda, T_0, noise, theta_E, Z_E,\\\n",
    "                                                                                          0, t_A_aff, t_E_aff, del_go, K_max)\n",
    "        p_up_vs_ILD[ILD_i] = trapz(p_up_abl_ild_vs_t, t_pts)\n",
    "    p_up_dict[ABL] = p_up_vs_ILD"
   ]
  },
  {
   "cell_type": "code",
   "execution_count": 184,
   "metadata": {},
   "outputs": [
    {
     "data": {
      "image/png": "[encoded data removed]",
      "text/plain": [
       "<Figure size 640x480 with 1 Axes>"
      ]
     },
     "metadata": {},
     "output_type": "display_data"
    }
   ],
   "source": [
    "for ABL_i, ABL in enumerate(ABL_arr):\n",
    "    sim_p_up = np.zeros_like(ILD_arr)\n",
    "    for ILD_i, ILD in enumerate(ILD_arr):\n",
    "        sim_ABL_ILD_df = sim_results_df[ (sim_results_df['ABL'] == ABL) & (sim_results_df['ILD'] == ILD) ]\n",
    "        # convert choice -1 to 0\n",
    "        sim_ABL_ILD_df.loc[:,'choice'] = (sim_ABL_ILD_df['choice'] + 1)/2\n",
    "        # mean of choice\n",
    "        sim_p_up[ILD_i] = np.mean(sim_ABL_ILD_df['choice'])\n",
    "    plt.plot(ILD_arr, p_up_dict[ABL], label=f'ABL: {ABL}')\n",
    "    plt.scatter(ILD_arr, sim_p_up, label=f'ABL: {ABL}', marker='x')\n",
    "plt.legend()\n",
    "plt.show()"
   ]
  },
  {
   "cell_type": "markdown",
   "metadata": {},
   "source": [
    "# check P_A and C_A t_LED"
   ]
  },
  {
   "cell_type": "code",
   "execution_count": 185,
   "metadata": {},
   "outputs": [],
   "source": [
    "def proactive_with_LED_sim(t_LED):\n",
    "    dt = 1e-4; dB = 1e-2\n",
    "    dv = 0; t = t_A_aff\n",
    "    while True:\n",
    "        if t < t_LED:\n",
    "            v = V_A\n",
    "        else:\n",
    "            v = V_A_post_LED\n",
    "        \n",
    "        t += dt\n",
    "        dv += v*dt + np.random.normal(0, dB)\n",
    "        \n",
    "        if dv >= theta_A:\n",
    "            return t"
   ]
  },
  {
   "cell_type": "code",
   "execution_count": 186,
   "metadata": {},
   "outputs": [
    {
     "data": {
      "application/vnd.jupyter.widget-view+json": {
       "model_id": "5487f259f7594f3a97184e0c6cf8b3e3",
       "version_major": 2,
       "version_minor": 0
      },
      "text/plain": [
       "  0%|          | 0/50000 [00:00<?, ?it/s]"
      ]
     },
     "metadata": {},
     "output_type": "display_data"
    }
   ],
   "source": [
    "N_sim_check = int(50e3)\n",
    "# sample 50k indices len(t_stim_and_led_tuple)\n",
    "sampled_indices = np.random.choice(len(t_stim_and_led_tuple), N_sim_check)\n",
    "t_led = [t_stim_and_led_tuple[i][1] for i in sampled_indices]\n",
    "\n",
    "proactive_rts = Parallel(n_jobs=30)(delayed(proactive_with_LED_sim)(t) for t in tqdm(t_led))"
   ]
  },
  {
   "cell_type": "code",
   "execution_count": 187,
   "metadata": {},
   "outputs": [],
   "source": [
    "N_theory = int(5e3)\n",
    "t_led_sampled_idx = np.random.choice(t_led, N_theory)\n",
    "bins_theory = np.arange(0.001, 3, 0.005)\n",
    "\n",
    "P_A_vs_t_LED = np.zeros((N_theory, len(bins_theory)))\n",
    "for idx, t_LED in enumerate(t_led_sampled_idx):\n",
    "    P_A_vs_t_LED[idx] = PA_with_LEDON_2_VEC(bins_theory, V_A, V_A_post_LED, theta_A, 0, t_LED, t_A_aff)\n",
    "\n",
    "\n",
    "P_A_vs_t_LED_mean = np.mean(P_A_vs_t_LED, axis=0)"
   ]
  },
  {
   "cell_type": "code",
   "execution_count": 188,
   "metadata": {},
   "outputs": [
    {
     "data": {
      "text/plain": [
       "[<matplotlib.lines.Line2D at 0x7a4559d8d550>]"
      ]
     },
     "execution_count": 188,
     "metadata": {},
     "output_type": "execute_result"
    },
    {
     "data": {
      "image/png": "[encoded data removed]",
      "text/plain": [
       "<Figure size 640x480 with 1 Axes>"
      ]
     },
     "metadata": {},
     "output_type": "display_data"
    }
   ],
   "source": [
    "bins = np.arange(0,3,0.05)\n",
    "plt.hist(proactive_rts, bins=bins, density=True, histtype='step');\n",
    "plt.plot(bins_theory, P_A_vs_t_LED_mean)\n"
   ]
  },
  {
   "cell_type": "code",
   "execution_count": 189,
   "metadata": {},
   "outputs": [
    {
     "data": {
      "text/plain": [
       "<matplotlib.legend.Legend at 0x7a4593fc31d0>"
      ]
     },
     "execution_count": 189,
     "metadata": {},
     "output_type": "execute_result"
    },
    {
     "data": {
      "image/png": "[encoded data removed]",
      "text/plain": [
       "<Figure size 640x480 with 1 Axes>"
      ]
     },
     "metadata": {},
     "output_type": "display_data"
    }
   ],
   "source": [
    "cdf_theory = cumtrapz(P_A_vs_t_LED_mean, bins_theory, initial=0)\n",
    "counts, bin_edges = np.histogram(proactive_rts, bins=bins, density=True)\n",
    "cdf = np.cumsum(counts * np.diff(bin_edges))  # Normalize to get a CDF\n",
    "\n",
    "# Plot the CDF\n",
    "plt.plot(bin_edges[1:], cdf, drawstyle='steps-post', label=\"CDF\")\n",
    "plt.plot(bins_theory, cdf_theory, label=\"CDF Theory\")\n",
    "plt.legend()"
   ]
  },
  {
   "cell_type": "markdown",
   "metadata": {},
   "source": [
    "# quantile"
   ]
  },
  {
   "cell_type": "code",
   "execution_count": 200,
   "metadata": {},
   "outputs": [],
   "source": [
    "# theory\n",
    "def all_CDF_addeed_noise_VEC_fn(t_pts, P_A, C_A, ABL, ILD, rate_lambda, T_0, noise, theta_E, Z_E, t_stim, t_A_aff, t_E_aff, del_go, K_max):\n",
    "    \"\"\"\n",
    "    PDF of all RTs array irrespective of choice\n",
    "    \"\"\"\n",
    "    C_E = CDF_E_minus_small_t_NORM_added_noise_VEC_fn(t_pts - t_E_aff, ABL, ILD, rate_lambda, T_0, theta_E, Z_E, 1, noise, K_max) \\\n",
    "                    + CDF_E_minus_small_t_NORM_added_noise_VEC_fn(t_pts - t_E_aff, ABL, ILD, rate_lambda, T_0, theta_E, Z_E, -1, noise, K_max)\n",
    "    \n",
    "    \n",
    "    return C_A + C_E - ( C_A * C_E )\n"
   ]
  },
  {
   "cell_type": "code",
   "execution_count": 213,
   "metadata": {},
   "outputs": [
    {
     "data": {
      "application/vnd.jupyter.widget-view+json": {
       "model_id": "45635320f7d447b4a044ae391a0383f2",
       "version_major": 2,
       "version_minor": 0
      },
      "text/plain": [
       "  0%|          | 0/1000 [00:00<?, ?it/s]"
      ]
     },
     "metadata": {},
     "output_type": "display_data"
    }
   ],
   "source": [
    "bin_size = 0.005\n",
    "t_pts = np.linspace(-10, 10, int((5 - (-5)) / bin_size) + 1)  # Ensure it includes 0\n",
    "\n",
    "\n",
    "N_theory = int(1e3)\n",
    "sampled_indices = np.random.choice(len(t_stim_and_led_tuple), N_theory)\n",
    "t_stim_and_led_tuple_samples = [t_stim_and_led_tuple[i] for i in sampled_indices]\n",
    "\n",
    "P_A_t_led_vs_t = np.zeros((N_theory, len(t_pts)))\n",
    "\n",
    "for pair_idx, pair in tqdm(enumerate(t_stim_and_led_tuple_samples), total=len(t_stim_and_led_tuple_samples)):\n",
    "    t_LED = pair[1]\n",
    "    t_stim = pair[0]\n",
    "    P_A_t_led_vs_t[pair_idx, :] = PA_with_LEDON_2_VEC(t_pts, V_A, V_A_post_LED, theta_A, t_stim, t_LED, t_A_aff)\n",
    "\n",
    "P_A_mean = np.mean(P_A_t_led_vs_t, axis=0)\n",
    "C_A = cumtrapz(P_A_mean, t_pts, initial=0)"
   ]
  },
  {
   "cell_type": "code",
   "execution_count": 217,
   "metadata": {},
   "outputs": [
    {
     "data": {
      "text/plain": [
       "(0.775056254048051, 0.775056254048051, 0.598464)"
      ]
     },
     "execution_count": 217,
     "metadata": {},
     "output_type": "execute_result"
    }
   ],
   "source": [
    "\n",
    "# frac of proactive responses\n",
    "trapz(P_A_mean, t_pts), C_A[-1], len(sim_results_df[sim_results_df['is_act'] == 1])/len(sim_results_df)"
   ]
  },
  {
   "cell_type": "code",
   "execution_count": 202,
   "metadata": {},
   "outputs": [
    {
     "name": "stdout",
     "output_type": "stream",
     "text": [
      "frac_aborts: 0.192982\n"
     ]
    }
   ],
   "source": [
    "# frac of aborts\n",
    "N_aborts = len(sim_results_df[sim_results_df['rt'] < sim_results_df['t_stim']])\n",
    "frac_aborts = N_aborts/len(sim_results_df) \n",
    "print(f'frac_aborts: {frac_aborts}')"
   ]
  },
  {
   "cell_type": "code",
   "execution_count": null,
   "metadata": {},
   "outputs": [
    {
     "name": "stdout",
     "output_type": "stream",
     "text": [
      "CDF_0: 0.23440665472515235\n",
      "CDF_0: 0.23440665472515235\n",
      "CDF_0: 0.23440665472515235\n",
      "CDF_0: 0.23440665472515235\n",
      "CDF_0: 0.23440665472515235\n",
      "CDF_0: 0.23440665472515235\n",
      "CDF_0: 0.23440665472515235\n",
      "CDF_0: 0.23440665472515235\n",
      "CDF_0: 0.23440665472515235\n",
      "CDF_0: 0.23440665472515235\n",
      "CDF_0: 0.23440665472515235\n",
      "CDF_0: 0.23440665472515235\n",
      "CDF_0: 0.23440665472515235\n",
      "CDF_0: 0.23440665472515235\n",
      "CDF_0: 0.23440665472515235\n"
     ]
    },
    {
     "data": {
      "image/png": "[encoded data removed]",
      "text/plain": [
       "<Figure size 1500x500 with 3 Axes>"
      ]
     },
     "metadata": {},
     "output_type": "display_data"
    }
   ],
   "source": [
    "def find_quantile(cdf_values, time_points, quantile):\n",
    "    return np.interp(quantile, cdf_values, time_points)\n",
    "\n",
    "\n",
    "t_pts_zero_idx = np.where(t_pts == 0.0)[0][0]\n",
    "positive_t_pts = t_pts[t_pts_zero_idx:]\n",
    "C_A_pos = C_A[t_pts_zero_idx:]\n",
    "C_A_0 = np.interp(0.0, t_pts, C_A) \n",
    "\n",
    "\n",
    "unique_abls = np.sort(sim_results_df['ABL'].unique()) \n",
    "\n",
    "fig, axes = plt.subplots(1, 3, figsize=(15, 5))\n",
    "\n",
    "for idx, abl in enumerate(unique_abls):  \n",
    "    abl_data = sim_results_df[sim_results_df['ABL'] == abl].copy()\n",
    "    abl_data['abs_ILD'] = abs(abl_data['ILD'])\n",
    "    \n",
    "    abl_data['rt_diff'] = abl_data['rt'] - abl_data['t_stim']\n",
    "\n",
    "    sim_quantiles = abl_data.groupby('abs_ILD')['rt_diff'].quantile([0.25, 0.5, 0.75]).unstack()\n",
    "\n",
    "    theoretical_quantiles_25 = []\n",
    "    theoretical_quantiles_50 = []\n",
    "    theoretical_quantiles_75 = []\n",
    "    abs_ild_values = []\n",
    "\n",
    "    for ild in sorted(np.unique(abl_data['abs_ILD'])):  # Iterate over unique abs_ILD\n",
    "        CDF_0_t0_inf = all_CDF_addeed_noise_VEC_fn(\n",
    "            positive_t_pts, np.nan, C_A_pos, abl, ild, \n",
    "            rate_lambda, T_0, noise, theta_E, Z_E, 0, t_A_aff, t_E_aff, del_go, K_max\n",
    "        )\n",
    "        CDF_0 = all_CDF_addeed_noise_VEC_fn(\n",
    "            np.array([0.]), np.nan, np.array([C_A_0]), abl, ild, \n",
    "            rate_lambda, T_0, noise, theta_E, Z_E, 0, t_A_aff, t_E_aff, del_go, K_max\n",
    "        )[0]\n",
    "        print(f'CDF_0: {CDF_0}')\n",
    "        cdf_trunc = (CDF_0_t0_inf - CDF_0) / (1 - CDF_0)\n",
    "\n",
    "        # Compute theoretical quantiles\n",
    "        quantile_25 = find_quantile(cdf_trunc, positive_t_pts, 0.25)\n",
    "        quantile_50 = find_quantile(cdf_trunc, positive_t_pts, 0.50)\n",
    "        quantile_75 = find_quantile(cdf_trunc, positive_t_pts, 0.75)\n",
    "\n",
    "        # Store values\n",
    "        theoretical_quantiles_25.append(quantile_25)\n",
    "        theoretical_quantiles_50.append(quantile_50)\n",
    "        theoretical_quantiles_75.append(quantile_75)\n",
    "        abs_ild_values.append(ild)\n",
    "\n",
    "    # Plot in the correct subplot\n",
    "    ax = axes[idx]\n",
    "    ax.scatter(sim_quantiles.index, sim_quantiles[0.25], label='Simulated 25th Quantile', marker='o', color='b')\n",
    "    ax.scatter(sim_quantiles.index, sim_quantiles[0.5], label='Simulated 50th Quantile (Median)', marker='o', color='g')\n",
    "    ax.scatter(sim_quantiles.index, sim_quantiles[0.75], label='Simulated 75th Quantile', marker='o', color='r')\n",
    "\n",
    "    ax.plot(abs_ild_values, theoretical_quantiles_25, label='Theoretical 25th Quantile', linestyle='-', color='b')\n",
    "    ax.plot(abs_ild_values, theoretical_quantiles_50, label='Theoretical 50th Quantile', linestyle='-', color='g')\n",
    "    ax.plot(abs_ild_values, theoretical_quantiles_75, label='Theoretical 75th Quantile', linestyle='-', color='r')\n",
    "\n",
    "    ax.set_xlabel('Absolute ILD')\n",
    "    ax.set_ylabel('RT - Stimulus Time')\n",
    "    ax.set_title(f'RT Quantiles vs. Absolute ILD (ABL = {abl})')\n",
    "    ax.set_ylim(0, 0.4)\n",
    "\n",
    "\n",
    "plt.tight_layout()  # Adjust layout to prevent overlapcdf_values\n",
    "plt.show()\n"
   ]
  },
  {
   "cell_type": "code",
   "execution_count": null,
   "metadata": {},
   "outputs": [],
   "source": [
    "ild = 16\n",
    "CDF_0_t0_inf = all_CDF_addeed_noise_VEC_fn(positive_t_pts, np.nan, C_A_pos, abl,  ild, rate_lambda, T_0, noise, theta_E, Z_E, 0, t_A_aff, t_E_aff, del_go, K_max)\n",
    "CDF_0 = all_CDF_addeed_noise_VEC_fn(np.array([0.]), np.nan, np.array([C_A_0]), abl, ild, rate_lambda, T_0, noise, theta_E, Z_E, 0, t_A_aff, t_E_aff, del_go, K_max)[0]\n",
    "cdf_trunc_4 = (CDF_0_t0_inf - CDF_0) / (1 - CDF_0)\n",
    "\n",
    "ild = -ild\n",
    "CDF_0_t0_inf = all_CDF_addeed_noise_VEC_fn(positive_t_pts, np.nan, C_A_pos, abl,  ild, rate_lambda, T_0, noise, theta_E, Z_E, 0, t_A_aff, t_E_aff, del_go, K_max)\n",
    "CDF_0 = all_CDF_addeed_noise_VEC_fn(np.array([0.]), np.nan, np.array([C_A_0]), abl, ild, rate_lambda, T_0, noise, theta_E, Z_E, 0, t_A_aff, t_E_aff, del_go, K_max)[0]\n",
    "cdf_trunc_minus_4 = (CDF_0_t0_inf - CDF_0) / (1 - CDF_0)\n",
    "\n",
    "plt.plot(cdf_trunc_4)\n",
    "plt.plot(cdf_trunc_minus_4, ls='--', lw=3)"
   ]
  }
 ],
 "metadata": {
  "kernelspec": {
   "display_name": ".venv",
   "language": "python",
   "name": "python3"
  },
  "language_info": {
   "codemirror_mode": {
    "name": "ipython",
    "version": 3
   },
   "file_extension": ".py",
   "mimetype": "text/x-python",
   "name": "python",
   "nbconvert_exporter": "python",
   "pygments_lexer": "ipython3",
   "version": "3.12.3"
  }
 },
 "nbformat": 4,
 "nbformat_minor": 2
}
