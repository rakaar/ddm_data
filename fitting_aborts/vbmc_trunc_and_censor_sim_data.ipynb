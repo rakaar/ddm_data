{
 "cells": [
  {
   "cell_type": "code",
   "execution_count": 1,
   "metadata": {},
   "outputs": [],
   "source": [
    "import numpy as np\n",
    "import matplotlib.pyplot as plt\n",
    "from joblib import Parallel, delayed\n",
    "from tqdm import tqdm\n",
    "from scipy.integrate import quad\n",
    "import pandas as pd\n",
    "\n",
    "from pyvbmc import VBMC\n",
    "import random\n",
    "import os\n",
    "from tqdm import tqdm"
   ]
  },
  {
   "cell_type": "markdown",
   "metadata": {},
   "source": [
    "# Params"
   ]
  },
  {
   "cell_type": "code",
   "execution_count": 2,
   "metadata": {},
   "outputs": [],
   "source": [
    "V_A = 1.1\n",
    "theta_A = 1.8\n",
    "\n",
    "rate_lambda = 0.14\n",
    "T_0 = 0.66 * (1e-3)\n",
    "theta_E = 40.5\n",
    "\n",
    "t_A_aff = 0.05\n",
    "t_E_aff = 0\n",
    "t_motor = 0\n",
    "\n",
    "Z_E = 0\n",
    "L = 0.5\n",
    "\n",
    "N_sim = int(50e3)\n",
    "dt = 1e-4\n",
    "\n",
    "N_print = int(100e5)\n",
    "\n",
    "t_stim_0 = 0.2\n",
    "t_stim_tau = 0.4\n",
    "\n",
    "T_trunc = 0.3"
   ]
  },
  {
   "cell_type": "markdown",
   "metadata": {},
   "source": [
    "# simualted data"
   ]
  },
  {
   "cell_type": "code",
   "execution_count": 3,
   "metadata": {},
   "outputs": [],
   "source": [
    "def psiam_tied_data_gen_wrapper(V_A, theta_A, ABL_arr, ILD_arr, rate_lambda, T_0, theta_E, Z_E, t_A_aff, t_E_aff, t_motor, L, \\\n",
    "                                t_stim_0, t_stim_tau, iter_num, N_print, dt):\n",
    "    ABL = random.choice(ABL_arr)\n",
    "    ILD = random.choice(ILD_arr)\n",
    "    \n",
    "    # t_stim is picked from a distribution\n",
    "    t_stim = np.random.exponential(t_stim_tau) + t_stim_0\n",
    "\n",
    "    # print after every N_print iterations\n",
    "    if iter_num % N_print == 0:\n",
    "        print(f'In iter_num: {iter_num}, ABL: {ABL}, ILD: {ILD}, t_stim: {t_stim}')\n",
    "\n",
    "\n",
    "    choice, rt, is_act = simulate_psiam_tied(V_A, theta_A, ABL, ILD, rate_lambda, T_0, theta_E, Z_E, t_stim, t_A_aff, t_E_aff, t_motor, L, dt)\n",
    "    return {'choice': choice, 'rt': rt, 'is_act': is_act ,'ABL': ABL, 'ILD': ILD, 't_stim': t_stim}\n",
    "\n",
    "def simulate_psiam_tied(V_A, theta_A, ABL, ILD, rate_lambda, T_0, theta_E, Z_E, t_stim, t_A_aff, t_E_aff, t_motor, L, dt):\n",
    "    AI = 0; DV = Z_E; t = 0; dB = dt**0.5\n",
    "    \n",
    "    chi = 17.37; q_e = 1\n",
    "    theta = theta_E * q_e\n",
    "    mu = (2*q_e/T_0) * (10**(rate_lambda * ABL/20)) * np.sinh(rate_lambda * ILD/chi)\n",
    "    sigma = np.sqrt( (2*(q_e**2)/T_0) * (10**(rate_lambda * ABL/20)) * np.cosh(rate_lambda * ILD/ chi) )\n",
    "    \n",
    "    is_act = 0\n",
    "    while True:\n",
    "        if t*dt > t_stim + t_E_aff:\n",
    "            DV += mu*dt + sigma*np.random.normal(0, dB)\n",
    "        \n",
    "        if t*dt > t_A_aff:\n",
    "            AI += V_A*dt + np.random.normal(0, dB)\n",
    "        \n",
    "        t += 1\n",
    "        \n",
    "        if DV >= theta:\n",
    "            choice = +1; RT = t*dt + t_motor\n",
    "            break\n",
    "        elif DV <= -theta:\n",
    "            choice = -1; RT = t*dt + t_motor\n",
    "            break\n",
    "        \n",
    "        if AI >= theta_A:\n",
    "            is_act = 1\n",
    "            AI_hit_time = t*dt\n",
    "            # if t*dt > t_stim - t_motor:\n",
    "            while t*dt <= (AI_hit_time + t_E_aff + t_motor):#  u can process evidence till stim plays\n",
    "                if t*dt > t_stim + t_E_aff: # Evid accum wil begin only after stim starts and afferent delay\n",
    "                    DV += mu*dt + sigma*np.random.normal(0, dB)\n",
    "                    if DV >= theta:\n",
    "                        DV = theta\n",
    "                        break\n",
    "                    elif DV <= -theta:\n",
    "                        DV = -theta\n",
    "                        break\n",
    "                t += 1\n",
    "            \n",
    "            break\n",
    "        \n",
    "        \n",
    "    if is_act == 1:\n",
    "        RT = AI_hit_time + t_motor\n",
    "        # if DV != 0:\n",
    "        if DV >= (1 + (L/2) - 1)*theta:\n",
    "            choice = 1\n",
    "        elif DV <= (1 - (L/2) - 1)*theta:\n",
    "            choice = -1\n",
    "        else:\n",
    "            prob_hit_up = (1/L)*((DV/theta) + 1) + (0.5 - (1/L))            \n",
    "            if np.random.rand() <= prob_hit_up:\n",
    "                choice = 1\n",
    "            else:\n",
    "                choice = -1\n",
    "        # if DV > 0:\n",
    "        #     choice = 1\n",
    "        # elif DV < 0:\n",
    "        #     choice = -1\n",
    "        # else: # if DV is 0 because stim has not yet been played, then choose right/left randomly\n",
    "        #     randomly_choose_up = np.random.rand() >= 0.5\n",
    "        #     if randomly_choose_up:\n",
    "        #         choice = 1\n",
    "        #     else:\n",
    "        #         choice = -1       \n",
    "    \n",
    "    return choice, RT, is_act"
   ]
  },
  {
   "cell_type": "markdown",
   "metadata": {},
   "source": [
    "# ABL ILD"
   ]
  },
  {
   "cell_type": "code",
   "execution_count": 4,
   "metadata": {},
   "outputs": [
    {
     "name": "stdout",
     "output_type": "stream",
     "text": [
      "ABL: [20 40 60]\n",
      "ILD: [-16.  -8.  -4.  -2.  -1.   1.   2.   4.   8.  16.]\n"
     ]
    }
   ],
   "source": [
    "# read out_LED.csv as dataframe\n",
    "og_df = pd.read_csv('../out_LED.csv')\n",
    "\n",
    "# chose non repeat trials - 0 or 2 or missing\n",
    "df = og_df[ og_df['repeat_trial'].isin([0,2]) | og_df['repeat_trial'].isna() ]\n",
    "\n",
    "# only session type 7\n",
    "session_type = 7    \n",
    "df = df[ df['session_type'].isin([session_type]) ]\n",
    "\n",
    "# training level 16\n",
    "training_level = 16\n",
    "df = df[ df['training_level'].isin([training_level]) ]\n",
    "\n",
    "# find ABL and ILD\n",
    "ABL_arr = df['ABL'].unique()\n",
    "ILD_arr = df['ILD'].unique()\n",
    "\n",
    "\n",
    "# sort ILD arr in ascending order\n",
    "ILD_arr = np.sort(ILD_arr)\n",
    "ABL_arr = np.sort(ABL_arr)\n",
    "\n",
    "print('ABL:', ABL_arr)\n",
    "print('ILD:', ILD_arr)"
   ]
  },
  {
   "cell_type": "markdown",
   "metadata": {},
   "source": [
    "# simulate"
   ]
  },
  {
   "cell_type": "code",
   "execution_count": 5,
   "metadata": {},
   "outputs": [
    {
     "name": "stderr",
     "output_type": "stream",
     "text": [
      "  0%|          | 32/50000 [00:00<03:35, 232.17it/s]"
     ]
    },
    {
     "name": "stdout",
     "output_type": "stream",
     "text": [
      "In iter_num: 0, ABL: 60, ILD: -4.0, t_stim: 0.7551829512633617\n"
     ]
    },
    {
     "name": "stderr",
     "output_type": "stream",
     "text": [
      "100%|██████████| 50000/50000 [00:14<00:00, 3493.06it/s]\n"
     ]
    }
   ],
   "source": [
    "sim_results = Parallel(n_jobs=-1)(\n",
    "            delayed(psiam_tied_data_gen_wrapper)(V_A, theta_A, ABL_arr, ILD_arr, rate_lambda, T_0, theta_E, Z_E, \\\n",
    "                                                  t_A_aff, t_E_aff, t_motor, L, t_stim_0, t_stim_tau, iter_num, N_print, dt)\n",
    "            for iter_num in tqdm(range(N_sim))\n",
    "        )\n",
    "\n",
    "# V_A, theta_A, ABL_arr, ILD_arr, rate_lambda, T_0, theta_E, Z_E, t_A_aff, t_E_aff, t_motor, L, \\\n",
    "#                                 t_stim_0, t_stim_tau, iter_num, N_print, dt"
   ]
  },
  {
   "cell_type": "markdown",
   "metadata": {},
   "source": [
    "# Helper funcs for likeli"
   ]
  },
  {
   "cell_type": "code",
   "execution_count": 6,
   "metadata": {},
   "outputs": [],
   "source": [
    "from scipy.special import erf\n",
    "def Phi(x):\n",
    "    \"\"\"\n",
    "    Define the normal cumulative distribution function Φ(x) using erf\n",
    "    \"\"\"\n",
    "    return 0.5 * (1 + erf(x / np.sqrt(2)))\n",
    "\n",
    "def rho_A_t_fn(t, V_A, theta_A):\n",
    "    \"\"\"\n",
    "    For AI,prob density of t given V_A, theta_A\n",
    "    \"\"\"\n",
    "    if t <= 0:\n",
    "        return 0\n",
    "    return (theta_A*1/np.sqrt(2*np.pi*(t)**3))*np.exp(-0.5 * (V_A**2) * (((t) - (theta_A/V_A))**2)/(t))\n",
    "\n",
    "\n",
    "def cum_A_t_fn(t, V_A, theta_A):\n",
    "    \"\"\"\n",
    "    For AI, calculate cummulative distrn of a time t given V_A, theta_A\n",
    "    \"\"\"\n",
    "    if t <= 0:\n",
    "        return 0\n",
    "\n",
    "    term1 = Phi(V_A * ((t) - (theta_A/V_A)) / np.sqrt(t))\n",
    "    term2 = np.exp(2 * V_A * theta_A) * Phi(-V_A * ((t) + (theta_A / V_A)) / np.sqrt(t))\n",
    "    \n",
    "    return term1 + term2\n"
   ]
  },
  {
   "cell_type": "markdown",
   "metadata": {},
   "source": [
    "# VBMC"
   ]
  },
  {
   "cell_type": "code",
   "execution_count": 7,
   "metadata": {},
   "outputs": [],
   "source": [
    "def compute_loglike(res, V_A, theta_A, t_A_aff):\n",
    "    t_stim = res['t_stim']\n",
    "    rt = res['rt']\n",
    "\n",
    "    rt -= t_A_aff\n",
    "    pdf_trunc_factor = 1 - cum_A_t_fn(T_trunc - t_A_aff, V_A, theta_A) # trunc factor\n",
    "\n",
    "    if rt < T_trunc:\n",
    "        likelihood = 0\n",
    "    elif rt < t_stim: # abort\n",
    "        likelihood = rho_A_t_fn(rt, V_A, theta_A) / pdf_trunc_factor\n",
    "    elif rt > t_stim: # censor\n",
    "        likelihood = 1 - (cum_A_t_fn(t_stim, V_A, theta_A)/pdf_trunc_factor)\n",
    "        \n",
    "\n",
    "    \n",
    "    if likelihood <= 0:\n",
    "        likelihood = 1e-50\n",
    "\n",
    "    \n",
    "    return np.log(likelihood)    \n",
    "\n",
    "\n",
    "def psiam_tied_loglike_fn(params):\n",
    "    V_A, theta_A, t_A_aff = params\n",
    "\n",
    "    all_loglike = Parallel(n_jobs=1)(delayed(compute_loglike)(res, V_A, theta_A, t_A_aff) for res in sim_results )\n",
    "\n",
    "    loglike = np.sum(all_loglike)\n",
    "    return loglike"
   ]
  },
  {
   "cell_type": "markdown",
   "metadata": {},
   "source": [
    "# bounds"
   ]
  },
  {
   "cell_type": "code",
   "execution_count": 8,
   "metadata": {},
   "outputs": [],
   "source": [
    "V_A_bounds = [0.1, 5]\n",
    "theta_A_bounds = [0.1, 5]\n",
    "t_A_aff_bounds = [0.03, 0.06]\n",
    "\n",
    "V_A_plausible_bounds = [0.5, 3]\n",
    "theta_A_plausible_bounds = [0.5, 3]\n",
    "t_A_plausible_bounds = [0.035, 0.05]"
   ]
  },
  {
   "cell_type": "markdown",
   "metadata": {},
   "source": [
    "# prior"
   ]
  },
  {
   "cell_type": "code",
   "execution_count": 9,
   "metadata": {},
   "outputs": [],
   "source": [
    "def trapezoidal_logpdf(x, a, b, c, d):\n",
    "    if x < a or x > d:\n",
    "        return -np.inf  # Logarithm of zero\n",
    "    area = ((b - a) + (d - c)) / 2 + (c - b)\n",
    "    h_max = 1.0 / area  # Height of the trapezoid to normalize the area to 1\n",
    "    \n",
    "    if a <= x <= b:\n",
    "        pdf_value = ((x - a) / (b - a)) * h_max\n",
    "    elif b < x < c:\n",
    "        pdf_value = h_max\n",
    "    elif c <= x <= d:\n",
    "        pdf_value = ((d - x) / (d - c)) * h_max\n",
    "    else:\n",
    "        pdf_value = 0.0  # This case is redundant due to the initial check\n",
    "\n",
    "    if pdf_value <= 0.0:\n",
    "        return -np.inf\n",
    "    else:\n",
    "        return np.log(pdf_value)\n",
    "    \n",
    "\n",
    "def vbmc_prior_abort_fn(params):\n",
    "    V_A, theta_A, t_A_aff = params\n",
    "\n",
    "    V_A_logpdf = trapezoidal_logpdf(V_A, V_A_bounds[0], V_A_plausible_bounds[0], V_A_plausible_bounds[1], V_A_bounds[1])\n",
    "    theta_A_logpdf = trapezoidal_logpdf(theta_A, theta_A_bounds[0], theta_A_plausible_bounds[0], theta_A_plausible_bounds[1], theta_A_bounds[1])\n",
    "    t_A_aff_logpdf = trapezoidal_logpdf(t_A_aff, t_A_aff_bounds[0], t_A_plausible_bounds[0], t_A_plausible_bounds[1], t_A_aff_bounds[1])\n",
    "\n",
    "    return V_A_logpdf + theta_A_logpdf + t_A_aff_logpdf"
   ]
  },
  {
   "cell_type": "markdown",
   "metadata": {},
   "source": [
    "# prior + loglike"
   ]
  },
  {
   "cell_type": "code",
   "execution_count": 10,
   "metadata": {},
   "outputs": [],
   "source": [
    "def vbmc_joint(params):\n",
    "    return vbmc_prior_abort_fn(params) + psiam_tied_loglike_fn(params)"
   ]
  },
  {
   "cell_type": "markdown",
   "metadata": {},
   "source": [
    "# run vbmc"
   ]
  },
  {
   "cell_type": "code",
   "execution_count": 11,
   "metadata": {},
   "outputs": [],
   "source": [
    "lb = [V_A_bounds[0], theta_A_bounds[0], t_A_aff_bounds[0]]\n",
    "ub = [V_A_bounds[1], theta_A_bounds[1], t_A_aff_bounds[1]]\n",
    "\n",
    "\n",
    "plb = [V_A_plausible_bounds[0], theta_A_plausible_bounds[0], t_A_plausible_bounds[0]]\n",
    "pub = [V_A_plausible_bounds[1], theta_A_plausible_bounds[1], t_A_plausible_bounds[1]]\n",
    "\n",
    "np.random.seed(42)\n",
    "V_A_0 = np.random.uniform(V_A_plausible_bounds[0], V_A_plausible_bounds[1])\n",
    "theta_A_0 = np.random.uniform(theta_A_plausible_bounds[0], theta_A_plausible_bounds[1])\n",
    "NDT_0 = np.random.uniform(t_A_plausible_bounds[0], t_A_plausible_bounds[1])\n",
    "\n",
    "x_0 = np.array([V_A_0, theta_A_0, NDT_0])\n"
   ]
  },
  {
   "cell_type": "code",
   "execution_count": 12,
   "metadata": {},
   "outputs": [
    {
     "name": "stdout",
     "output_type": "stream",
     "text": [
      "Reshaping x0 to row vector.\n",
      "Reshaping lower bounds to (1, 3).\n",
      "Reshaping upper bounds to (1, 3).\n",
      "Reshaping plausible lower bounds to (1, 3).\n",
      "Reshaping plausible upper bounds to (1, 3).\n"
     ]
    },
    {
     "name": "stderr",
     "output_type": "stream",
     "text": [
      "/home/rlab/raghavendra/ddm_data/.venv/lib/python3.12/site-packages/pyvbmc/acquisition_functions/acq_fcn_log.py:48: RuntimeWarning: divide by zero encountered in log\n",
      "  acq = -(np.log(var_tot) + f_bar - z + log_p)\n"
     ]
    },
    {
     "name": "stdout",
     "output_type": "stream",
     "text": [
      "Inference terminated: reached maximum number of function evaluations options.max_fun_evals.\n",
      "Estimated ELBO: -453426.493 +/-36043.439.\n",
      "Caution: Returned variational solution may have not converged.\n"
     ]
    }
   ],
   "source": [
    "vbmc = VBMC(vbmc_joint, x_0, lb, ub, plb, pub, options={'display': 'off'})\n",
    "vp, results = vbmc.optimize()"
   ]
  },
  {
   "cell_type": "code",
   "execution_count": 13,
   "metadata": {},
   "outputs": [
    {
     "name": "stdout",
     "output_type": "stream",
     "text": [
      "Too few points to create valid contours\n",
      "Too few points to create valid contours\n",
      "Too few points to create valid contours\n"
     ]
    },
    {
     "data": {
      "image/png": "[encoded data removed]",
      "text/plain": [
       "<Figure size 760x760 with 9 Axes>"
      ]
     },
     "metadata": {},
     "output_type": "display_data"
    }
   ],
   "source": [
    "import corner\n",
    "vp_samples = vp.sample(int(1e6))[0]\n",
    "V_A_samp = vp_samples[:,0]\n",
    "theta_A_samp = vp_samples[:,1]\n",
    "NDT_samp = vp_samples[:,2]\n",
    "\n",
    "combined_samples = np.transpose(np.vstack((V_A_samp, theta_A_samp, NDT_samp)))\n",
    "param_labels = ['V_A', 'theta_A', 'NDT']\n",
    "true_params = [V_A, theta_A, t_A_aff]\n",
    "corner.corner (combined_samples, labels=param_labels, show_titles=True, title_fmt=\".4f\", truths=true_params  );\n"
   ]
  },
  {
   "cell_type": "markdown",
   "metadata": {},
   "source": [
    "# RTD"
   ]
  },
  {
   "cell_type": "code",
   "execution_count": 14,
   "metadata": {},
   "outputs": [],
   "source": [
    "def rho_A_t_fn(t, V_A, theta_A, NDT):\n",
    "    \"\"\"\n",
    "    For AI,prob density of t given V_A, theta_A\n",
    "    \"\"\"\n",
    "    t -= NDT\n",
    "    if t < 0:\n",
    "        return 0\n",
    "    rho = (theta_A*1/np.sqrt(2*np.pi*(t)**3))*np.exp(-0.5 * (V_A**2) * (((t) - (theta_A/V_A))**2)/(t))\n",
    "    return rho\n",
    "\n",
    "def stim_surive_fn(t):\n",
    "    \"\"\"\n",
    "    Prob that stim survives till time t =  1 - _ana(P_stim)\n",
    "    \"\"\"\n",
    "    if t < 0.2:\n",
    "        return 1\n",
    "    p_stim_surive = np.exp(- (t - 0.2)/0.4)\n",
    "    return p_stim_surive\n",
    "\n",
    "def rho_A_t_and_stim_survive(t, V_A, theta_A, NDT):\n",
    "    \"\"\"\n",
    "    prob that AI hit and stim survive till time t\n",
    "    \"\"\"\n",
    "    return rho_A_t_fn(t, V_A, theta_A, NDT)*stim_surive_fn(t)\n",
    "\n",
    "def rho_A_t_and_stim_survive_truncated(t, V_A, theta_A, NDT, pdf_trunc_factor):\n",
    "    \"\"\"\n",
    "    prob that AI hit and stim survive, but truncated at T_trunc. \n",
    "    \"\"\"\n",
    "    if t < T_trunc:\n",
    "        return 0\n",
    "    return rho_A_t_and_stim_survive(t, V_A, theta_A, NDT)*pdf_trunc_factor\n",
    "\n",
    "def area_for_rho_A_t_stim_survive_trunc_0_to_inf(V_A, theta_A, NDT, pdf_factor):\n",
    "    \"\"\"\n",
    "    Area under the curve of rho_A_t_and_stim_survive_truncated from 0 to inf\n",
    "    \"\"\"\n",
    "    area = quad(rho_A_t_and_stim_survive_truncated, 0, np.inf, args=(V_A, theta_A, NDT, pdf_factor))[0]\n",
    "    return area\n",
    "\n",
    "def pdf_trunc_factor_for_stim_surive_trunc(V_A, theta_A, NDT):\n",
    "    \"\"\"\n",
    "    Factor to normalize the truncated pdf\n",
    "    \"\"\"\n",
    "    return 1/(1 - quad(rho_A_t_and_stim_survive, 0, T_trunc, args=(V_A, theta_A, NDT))[0])\n",
    "\n",
    "def rho_A_t_stim_survive_truncated_and_norm(t, V_A, theta_A, NDT, area, pdf_factor):\n",
    "    \"\"\"\n",
    "    prob that AI hit and stim surive but truncated and ALSO normalized\n",
    "    \"\"\"\n",
    "    return rho_A_t_and_stim_survive_truncated(t, V_A, theta_A, NDT, pdf_factor)/area"
   ]
  },
  {
   "cell_type": "code",
   "execution_count": 15,
   "metadata": {},
   "outputs": [],
   "source": [
    "V_A_samp_mean = np.mean(V_A_samp)\n",
    "theta_A_samp_mean = np.mean(theta_A_samp)\n",
    "t_A_aff_samp_mean = np.mean(NDT_samp)"
   ]
  },
  {
   "cell_type": "code",
   "execution_count": 16,
   "metadata": {},
   "outputs": [
    {
     "ename": "TypeError",
     "evalue": "rho_A_t_fn() missing 1 required positional argument: 'NDT'",
     "output_type": "error",
     "traceback": [
      "\u001b[0;31m---------------------------------------------------------------------------\u001b[0m",
      "\u001b[0;31mTypeError\u001b[0m                                 Traceback (most recent call last)",
      "Cell \u001b[0;32mIn[16], line 9\u001b[0m\n\u001b[1;32m      7\u001b[0m \u001b[38;5;66;03m# theory\u001b[39;00m\n\u001b[1;32m      8\u001b[0m t_pts \u001b[38;5;241m=\u001b[39m bins[:\u001b[38;5;241m-\u001b[39m\u001b[38;5;241m1\u001b[39m] \u001b[38;5;241m+\u001b[39m np\u001b[38;5;241m.\u001b[39mdiff(bins)\u001b[38;5;241m/\u001b[39m\u001b[38;5;241m2\u001b[39m\n\u001b[0;32m----> 9\u001b[0m theory \u001b[38;5;241m=\u001b[39m np\u001b[38;5;241m.\u001b[39marray([(res[\u001b[38;5;124m'\u001b[39m\u001b[38;5;124mrt\u001b[39m\u001b[38;5;124m'\u001b[39m], np\u001b[38;5;241m.\u001b[39mexp(\u001b[43mcompute_loglike\u001b[49m\u001b[43m(\u001b[49m\u001b[43mres\u001b[49m\u001b[43m,\u001b[49m\u001b[43m \u001b[49m\u001b[43mV_A_samp_mean\u001b[49m\u001b[43m,\u001b[49m\u001b[43m \u001b[49m\u001b[43mtheta_A_samp_mean\u001b[49m\u001b[43m,\u001b[49m\u001b[43m \u001b[49m\u001b[43mt_A_aff_samp_mean\u001b[49m\u001b[43m)\u001b[49m)) \\\n\u001b[1;32m     10\u001b[0m                     \u001b[38;5;28;01mfor\u001b[39;00m res \u001b[38;5;129;01min\u001b[39;00m sim_results \u001b[38;5;28;01mif\u001b[39;00m res[\u001b[38;5;124m'\u001b[39m\u001b[38;5;124mrt\u001b[39m\u001b[38;5;124m'\u001b[39m] \u001b[38;5;241m>\u001b[39m T_trunc])\n\u001b[1;32m     12\u001b[0m plt\u001b[38;5;241m.\u001b[39mplot(theory[:,\u001b[38;5;241m0\u001b[39m], theory[:,\u001b[38;5;241m1\u001b[39m], label\u001b[38;5;241m=\u001b[39m\u001b[38;5;124m'\u001b[39m\u001b[38;5;124mtheory\u001b[39m\u001b[38;5;124m'\u001b[39m)\n",
      "Cell \u001b[0;32mIn[7], line 11\u001b[0m, in \u001b[0;36mcompute_loglike\u001b[0;34m(res, V_A, theta_A, t_A_aff)\u001b[0m\n\u001b[1;32m      9\u001b[0m     likelihood \u001b[38;5;241m=\u001b[39m \u001b[38;5;241m0\u001b[39m\n\u001b[1;32m     10\u001b[0m \u001b[38;5;28;01melif\u001b[39;00m rt \u001b[38;5;241m<\u001b[39m t_stim: \u001b[38;5;66;03m# abort\u001b[39;00m\n\u001b[0;32m---> 11\u001b[0m     likelihood \u001b[38;5;241m=\u001b[39m \u001b[43mrho_A_t_fn\u001b[49m\u001b[43m(\u001b[49m\u001b[43mrt\u001b[49m\u001b[43m,\u001b[49m\u001b[43m \u001b[49m\u001b[43mV_A\u001b[49m\u001b[43m,\u001b[49m\u001b[43m \u001b[49m\u001b[43mtheta_A\u001b[49m\u001b[43m)\u001b[49m \u001b[38;5;241m/\u001b[39m pdf_trunc_factor\n\u001b[1;32m     12\u001b[0m \u001b[38;5;28;01melif\u001b[39;00m rt \u001b[38;5;241m>\u001b[39m t_stim: \u001b[38;5;66;03m# censor\u001b[39;00m\n\u001b[1;32m     13\u001b[0m     likelihood \u001b[38;5;241m=\u001b[39m \u001b[38;5;241m1\u001b[39m \u001b[38;5;241m-\u001b[39m (cum_A_t_fn(t_stim, V_A, theta_A)\u001b[38;5;241m/\u001b[39mpdf_trunc_factor)\n",
      "\u001b[0;31mTypeError\u001b[0m: rho_A_t_fn() missing 1 required positional argument: 'NDT'"
     ]
    },
    {
     "data": {
      "image/png": "[encoded data removed]",
      "text/plain": [
       "<Figure size 640x480 with 1 Axes>"
      ]
     },
     "metadata": {},
     "output_type": "display_data"
    }
   ],
   "source": [
    "# sim data\n",
    "sim_aborts = [res['rt'] for res in sim_results if res['rt'] > T_trunc and res['rt'] < res['t_stim']]\n",
    "\n",
    "bins = np.linspace(T_trunc, 4, 100)\n",
    "plt.hist(sim_aborts, bins=bins, density=True, alpha=0.5, label='simulated')\n",
    "\n",
    "# theory\n",
    "t_pts = bins[:-1] + np.diff(bins)/2\n",
    "theory = np.array([(res['rt'], np.exp(compute_loglike(res, V_A_samp_mean, theta_A_samp_mean, t_A_aff_samp_mean))) \\\n",
    "                    for res in sim_results if res['rt'] > T_trunc])\n",
    "\n",
    "plt.plot(theory[:,0], theory[:,1], label='theory')\n"
   ]
  },
  {
   "cell_type": "markdown",
   "metadata": {},
   "source": [
    "# PSTH"
   ]
  },
  {
   "cell_type": "code",
   "execution_count": null,
   "metadata": {},
   "outputs": [],
   "source": []
  }
 ],
 "metadata": {
  "kernelspec": {
   "display_name": ".venv",
   "language": "python",
   "name": "python3"
  },
  "language_info": {
   "codemirror_mode": {
    "name": "ipython",
    "version": 3
   },
   "file_extension": ".py",
   "mimetype": "text/x-python",
   "name": "python",
   "nbconvert_exporter": "python",
   "pygments_lexer": "ipython3",
   "version": "3.12.3"
  }
 },
 "nbformat": 4,
 "nbformat_minor": 2
}
