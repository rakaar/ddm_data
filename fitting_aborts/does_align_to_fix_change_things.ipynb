{
 "cells": [
  {
   "cell_type": "code",
   "execution_count": 1,
   "metadata": {},
   "outputs": [],
   "source": [
    "import numpy as np\n",
    "import matplotlib.pyplot as plt\n",
    "import pickle"
   ]
  },
  {
   "cell_type": "code",
   "execution_count": 2,
   "metadata": {},
   "outputs": [
    {
     "name": "stdout",
     "output_type": "stream",
     "text": [
      "V_A_off: 1.6137415618764621, theta_A_off: 2.5738680054594054, t_A_aff_off: -0.1991645627052799\n",
      "base_V_A_on: 1.2783659626730184, new_V_A_on: 2.7455839142702296, theta_A_on: 1.8737390178425732, t_A_aff_on: 0.02066291336232077\n"
     ]
    }
   ],
   "source": [
    "with open('LED_OFF_VBMC_LT_RC_VP_DATA_0.pkl', 'rb') as f:\n",
    "    vp_off = pickle.load(f)\n",
    "\n",
    "vp_off_samples = vp_off.sample(int(1e6))[0]\n",
    "V_A_off = np.mean(vp_off_samples[:, 0])\n",
    "theta_A_off = np.mean(vp_off_samples[:, 1])\n",
    "t_A_aff_off = np.mean(vp_off_samples[:, 2])\n",
    "\n",
    "print(f'V_A_off: {V_A_off}, theta_A_off: {theta_A_off}, t_A_aff_off: {t_A_aff_off}')\n",
    "\n",
    "with open('V_A_step_jump_LED_on_vbmc.pkl', 'rb') as f:\n",
    "    vp_on = pickle.load(f)\n",
    "\n",
    "vp_on_samples = vp_on.sample(int(1e6))[0]\n",
    "\n",
    "base_V_A_on = np.mean(vp_on_samples[:, 0])\n",
    "new_V_A_on = np.mean(vp_on_samples[:, 1])\n",
    "theta_A_on = np.mean(vp_on_samples[:, 2])\n",
    "t_A_aff_on = np.mean(vp_on_samples[:, 3])\n",
    "\n",
    "print(f'base_V_A_on: {base_V_A_on}, new_V_A_on: {new_V_A_on}, theta_A_on: {theta_A_on}, t_A_aff_on: {t_A_aff_on}')\n"
   ]
  },
  {
   "cell_type": "code",
   "execution_count": 3,
   "metadata": {},
   "outputs": [],
   "source": [
    "from V_A_step_jump_fit_utils import PDF_hit_V_A_change, CDF_hit_V_A_change, rho_A_t_fn, cum_A_t_fn\n",
    "T_trunc = 0.3\n",
    "def on_pdf_fn(t, base_V_A, new_V_A, theta_A, t_A_aff, t_led, trunc_factor, t_stim):   \n",
    "    # pdf\n",
    "    if t_led == 0:\n",
    "        if t <= T_trunc or t >= t_stim:\n",
    "            pdf = 0\n",
    "        else:\n",
    "            trunc_factor = 1 - cum_A_t_fn(T_trunc - t_A_aff, new_V_A, theta_A)\n",
    "            pdf = rho_A_t_fn(t - t_A_aff, new_V_A, theta_A) / trunc_factor\n",
    "    else:\n",
    "        if t <= T_trunc or t >= t_stim:\n",
    "            pdf = 0\n",
    "        else:\n",
    "            pdf = PDF_hit_V_A_change(t - t_A_aff, base_V_A, new_V_A, theta_A, t_led) / trunc_factor\n",
    "    \n",
    "    if t > t_stim:\n",
    "        pdf = 0\n",
    "\n",
    "    return pdf\n",
    "\n",
    "\n",
    "def off_pdf_fn(t, t_stim, V_A, theta_A, t_A_aff, T_trunc, trunc_factor):\n",
    "    \"\"\"\n",
    "    PDF(abort / t_stim) that is truncated after T_trunc\n",
    "    \"\"\"\n",
    "    if t <= T_trunc or t >= t_stim:\n",
    "        pdf = 0\n",
    "    else:\n",
    "        pdf = rho_A_t_fn(t - t_A_aff, V_A, theta_A) / trunc_factor\n",
    "\n",
    "    return pdf\n"
   ]
  },
  {
   "cell_type": "code",
   "execution_count": 4,
   "metadata": {},
   "outputs": [
    {
     "name": "stdout",
     "output_type": "stream",
     "text": [
      "ABL: [20 40 60]\n",
      "ILD: [-16.  -8.  -4.  -2.  -1.   1.   2.   4.   8.  16.]\n",
      "T_trunc: 0.3\n",
      "frac_aborts_off: 0.12307854921027996\n",
      "frac_aborts_on: 0.1515062454077884\n"
     ]
    }
   ],
   "source": [
    "import pandas as pd\n",
    "\n",
    "# read out_LED.csv as dataframe\n",
    "og_df = pd.read_csv('../out_LED.csv')\n",
    "\n",
    "# chose non repeat trials - 0 or 2 or missing\n",
    "df = og_df[ og_df['repeat_trial'].isin([0,2]) | og_df['repeat_trial'].isna() ]\n",
    "\n",
    "# only session type 7\n",
    "session_type = 7    \n",
    "df = df[ df['session_type'].isin([session_type]) ]\n",
    "\n",
    "# training level 16\n",
    "training_level = 16\n",
    "df = df[ df['training_level'].isin([training_level]) ]\n",
    "\n",
    "# find ABL and ILD\n",
    "ABL_arr = df['ABL'].unique()\n",
    "ILD_arr = df['ILD'].unique()\n",
    "\n",
    "\n",
    "# sort ILD arr in ascending order\n",
    "ILD_arr = np.sort(ILD_arr)\n",
    "ABL_arr = np.sort(ABL_arr)\n",
    "\n",
    "print('ABL:', ABL_arr)\n",
    "print('ILD:', ILD_arr)\n",
    "\n",
    "T_trunc = 0.3\n",
    "print('T_trunc:', T_trunc)\n",
    "\n",
    "df_led_off = df [ df['LED_trial'] == 0]\n",
    "df_led_off_trunc_aborts = df_led_off[ (df_led_off['timed_fix'] < df_led_off['intended_fix']) & (df_led_off['timed_fix'] > T_trunc)]\n",
    "led_off_trunc_aborts = df_led_off_trunc_aborts['timed_fix']\n",
    "frac_aborts_off = len(led_off_trunc_aborts) / len(df_led_off)\n",
    "\n",
    "\n",
    "df_led_on = df [ df['LED_trial'] == 1]\n",
    "df_led_on_trunc_aborts = df_led_on[ (df_led_on['timed_fix'] < df_led_on['intended_fix']) & (df_led_on['timed_fix'] > T_trunc)]\n",
    "led_on_trunc_aborts = df_led_on_trunc_aborts['timed_fix']\n",
    "frac_aborts_on = len(led_on_trunc_aborts) / len(df_led_on)\n",
    "\n",
    "print('frac_aborts_off:', frac_aborts_off)\n",
    "print('frac_aborts_on:', frac_aborts_on)"
   ]
  },
  {
   "cell_type": "code",
   "execution_count": 8,
   "metadata": {},
   "outputs": [],
   "source": [
    "bw = 0.01\n",
    "bins = np.arange(0, 2, bw)\n",
    "t_pts = bins[:-1] + bw/2"
   ]
  },
  {
   "cell_type": "code",
   "execution_count": 9,
   "metadata": {},
   "outputs": [],
   "source": [
    "import random\n",
    "M = 5000\n",
    "pdf_on = np.zeros((M, len(t_pts)))\n",
    "pdf_off = np.zeros((M, len(t_pts)))\n",
    "pdf_on_pre_led = np.zeros((M, len(t_pts)))\n",
    "\n",
    "unique_pairs = list(zip(df['intended_fix'], df['intended_fix'] - df['LED_onset_time']))\n",
    "sampled_pairs = random.sample(unique_pairs, min(M, len(unique_pairs)))"
   ]
  },
  {
   "cell_type": "code",
   "execution_count": 10,
   "metadata": {},
   "outputs": [],
   "source": [
    "from joblib import Parallel, delayed\n",
    "\n",
    "def process_pair(idx, t_stim, t_led):\n",
    "    if t_stim <= t_led:\n",
    "        print(f' issue at index {idx}')\n",
    "        return None, None, None, None\n",
    "    \n",
    "    trunc_factor_off = 1 - cum_A_t_fn(T_trunc - t_A_aff_off, V_A_off, theta_A_off)\n",
    "    trunc_factor_on_pre_led = 1 - cum_A_t_fn(T_trunc - t_A_aff_on, base_V_A_on, theta_A_on)\n",
    "\n",
    "    pdf_on_sample = np.zeros_like(t_pts)\n",
    "    pdf_off_sample = np.zeros_like(t_pts)\n",
    "    pdf_on_pre_led_sample = np.zeros_like(t_pts)\n",
    "\n",
    "    for ti, t in enumerate(t_pts):\n",
    "        trunc_factor_on = 1 - CDF_hit_V_A_change(T_trunc - t_A_aff_on, base_V_A_on, new_V_A_on, theta_A_on, t_led)\n",
    "        pdf_on_sample[ti] = on_pdf_fn(t, base_V_A_on, new_V_A_on, theta_A_on, t_A_aff_on, t_led, trunc_factor_on, t_stim)\n",
    "\n",
    "        pdf_off_sample[ti] = off_pdf_fn(t, t_stim, V_A_off, theta_A_off, t_A_aff_off, T_trunc, trunc_factor_off)\n",
    "\n",
    "        pdf_on_pre_led_sample[ti] = off_pdf_fn(t, t_stim, base_V_A_on, theta_A_on, t_A_aff_on, T_trunc, trunc_factor_on_pre_led)\n",
    "\n",
    "    \n",
    "    return idx, pdf_on_sample, pdf_off_sample, pdf_on_pre_led_sample\n"
   ]
  },
  {
   "cell_type": "code",
   "execution_count": 11,
   "metadata": {},
   "outputs": [
    {
     "name": "stderr",
     "output_type": "stream",
     "text": [
      "100%|██████████| 5000/5000 [04:34<00:00, 18.23it/s]\n"
     ]
    }
   ],
   "source": [
    "from tqdm import tqdm\n",
    "results = Parallel(n_jobs=30)(delayed(process_pair)(idx, t_stim, t_led) for idx, (t_stim, t_led) in tqdm(enumerate(sampled_pairs), total=len(sampled_pairs)))"
   ]
  },
  {
   "cell_type": "code",
   "execution_count": 12,
   "metadata": {},
   "outputs": [],
   "source": [
    "for mi, pdf_on_sample, pdf_off_sample, pdf_on_pre_led_sample in results:\n",
    "    if mi == None:\n",
    "        print(f'issue at index {mi}')\n",
    "        break\n",
    "\n",
    "    pdf_on[mi, :] = pdf_on_sample\n",
    "    pdf_off[mi, :] = pdf_off_sample\n",
    "    pdf_on_pre_led[mi, :] = pdf_on_pre_led_sample\n"
   ]
  },
  {
   "cell_type": "code",
   "execution_count": 13,
   "metadata": {},
   "outputs": [
    {
     "data": {
      "text/plain": [
       "<matplotlib.legend.Legend at 0x73e06a9980b0>"
      ]
     },
     "execution_count": 13,
     "metadata": {},
     "output_type": "execute_result"
    },
    {
     "data": {
      "image/png": "[encoded data removed]",
      "text/plain": [
       "<Figure size 640x480 with 1 Axes>"
      ]
     },
     "metadata": {},
     "output_type": "display_data"
    }
   ],
   "source": [
    "plt.plot(t_pts, np.mean(pdf_on, axis=0), label='LED ON')\n",
    "plt.plot(t_pts, np.mean(pdf_off, axis=0), label='LED OFF', ls='--', lw=3)\n",
    "plt.plot(t_pts, np.mean(pdf_on_pre_led, axis=0), label='LED ON pre LED')\n",
    "plt.legend()"
   ]
  }
 ],
 "metadata": {
  "kernelspec": {
   "display_name": "venv",
   "language": "python",
   "name": "python3"
  },
  "language_info": {
   "codemirror_mode": {
    "name": "ipython",
    "version": 3
   },
   "file_extension": ".py",
   "mimetype": "text/x-python",
   "name": "python",
   "nbconvert_exporter": "python",
   "pygments_lexer": "ipython3",
   "version": "3.12.3"
  }
 },
 "nbformat": 4,
 "nbformat_minor": 2
}
