{
 "cells": [
  {
   "cell_type": "code",
   "execution_count": 1,
   "metadata": {},
   "outputs": [],
   "source": [
    "import numpy as np\n",
    "import matplotlib.pyplot as plt\n",
    "from joblib import Parallel, delayed\n",
    "from tqdm import tqdm\n",
    "from scipy.integrate import quad\n",
    "import pandas as pd\n",
    "import random\n",
    "from pyvbmc import VBMC\n",
    "\n",
    "from post_LED_censor_utils import rho_A_t_fn, cum_A_t_fn, CDF_rho_times_P_x_t_fn, CDF_v_change_till_stim_trunc_adj_fn, PDF_t_v_change\n",
    "from scipy.integrate import trapezoid as trapz"
   ]
  },
  {
   "cell_type": "code",
   "execution_count": 2,
   "metadata": {},
   "outputs": [],
   "source": [
    "import numpy as np\n",
    "\n",
    "def erf_(x):\n",
    "    \"\"\"\n",
    "    Approximate the error function using a numerical approximation (Abramowitz & Stegun formula).\n",
    "    \n",
    "    Parameters:\n",
    "        x (float or np.ndarray): The input value(s) for the error function.\n",
    "    \n",
    "    Returns:\n",
    "        float or np.ndarray: The approximated error function value(s).\n",
    "    \"\"\"\n",
    "    # Constants for the approximation\n",
    "    a1, a2, a3, a4, a5 = 0.254829592, -0.284496736, 1.421413741, -1.453152027, 1.061405429\n",
    "    p = 0.3275911\n",
    "\n",
    "    x = np.asarray(x)  # Convert input to NumPy array if it isn't already\n",
    "    sign = np.sign(x)  # Get sign for element-wise handling\n",
    "    x = np.abs(x)\n",
    "\n",
    "    # Approximation formula\n",
    "    t = 1.0 / (1.0 + p * x)\n",
    "    y = 1.0 - (((((a5 * t + a4) * t) + a3) * t + a2) * t + a1) * t * np.exp(-x * x)\n",
    "\n",
    "    return sign * y\n"
   ]
  },
  {
   "cell_type": "markdown",
   "metadata": {},
   "source": [
    "# data"
   ]
  },
  {
   "cell_type": "code",
   "execution_count": 3,
   "metadata": {},
   "outputs": [],
   "source": [
    "og_df = pd.read_csv('../out_LED.csv')\n",
    "df = og_df[ og_df['repeat_trial'].isin([0,2]) | og_df['repeat_trial'].isna() ]\n",
    "session_type = 7    \n",
    "df = df[ df['session_type'].isin([session_type]) ]\n",
    "training_level = 16\n",
    "df = df[ df['training_level'].isin([training_level]) ]\n",
    "\n",
    "# drop rows from df where intended_fix, LED_onset_time and timed_fix are nan\n",
    "df = df.dropna(subset=['intended_fix', 'LED_onset_time', 'timed_fix'])\n",
    "tuple_column = list(zip(df['intended_fix'], df['intended_fix'] - df['LED_onset_time']))"
   ]
  },
  {
   "cell_type": "code",
   "execution_count": 4,
   "metadata": {},
   "outputs": [],
   "source": [
    "df_led_on = df[df['LED_trial'] == 0]\n",
    "df_led_on_aborts = df_led_on[df_led_on['abort_event'] == 3]"
   ]
  },
  {
   "cell_type": "markdown",
   "metadata": {},
   "source": [
    "# likelihood helper funcs"
   ]
  },
  {
   "cell_type": "code",
   "execution_count": 5,
   "metadata": {},
   "outputs": [],
   "source": [
    "import numpy as np\n",
    "\n",
    "def d_A_RT_SCALAR(a, t):\n",
    "    \"\"\"\n",
    "    Calculate the standard PA probability density function for a scalar time value.\n",
    "\n",
    "    Parameters:\n",
    "        a (float): Scalar parameter.\n",
    "        t (float): Time value (must be > 0).\n",
    "\n",
    "    Returns:\n",
    "        float: The computed pdf value (0 if t <= 0).\n",
    "    \"\"\"\n",
    "    if t <= 0:\n",
    "        return 0.0\n",
    "    p = (1.0 / np.sqrt(2 * np.pi * (t**3))) * np.exp(-((1 - a * t)**2) / (2 * t))\n",
    "    return p\n",
    "\n",
    "\n",
    "import numpy as np\n",
    "\n",
    "def stupid_f_integral_SCALAR(v, vON, theta, t, tp):\n",
    "    \"\"\"\n",
    "    Calculate the PA pdf after the v_A change via an integral expression for scalar inputs.\n",
    "\n",
    "    Parameters:\n",
    "        v (float): Scalar parameter.\n",
    "        vON (float): Scalar parameter.\n",
    "        theta (float): Scalar parameter.\n",
    "        t (float): Time value.\n",
    "        tp (float): A shifted time value.\n",
    "\n",
    "    Returns:\n",
    "        float: The evaluated integral expression.\n",
    "    \"\"\"\n",
    "    a1 = 0.5 * (1 / t + 1 / tp)\n",
    "    b1 = theta / t + (v - vON)\n",
    "    c1 = -0.5 * (vON**2 * t - 2 * theta * vON + theta**2 / t + v**2 * tp)\n",
    "\n",
    "    a2 = a1\n",
    "    b2 = theta * (1 / t + 2 / tp) + (v - vON)\n",
    "    c2 = -0.5 * (vON**2 * t - 2 * theta * vON + theta**2 / t + v**2 * tp + 4 * theta * v + 4 * theta**2 / tp) + 2 * v * theta\n",
    "\n",
    "    F01 = 1.0 / (4 * np.pi * a1 * np.sqrt(tp * t**3))\n",
    "    F02 = 1.0 / (4 * np.pi * a2 * np.sqrt(tp * t**3))\n",
    "\n",
    "    if a1 < 0:\n",
    "        print(f'a1 = {a1}')\n",
    "        print(f't = {t}, tp = {tp}')\n",
    "        raise ValueError(\"a1 must be positive.\")\n",
    "    T11 = b1**2 / (4 * a1)\n",
    "    T12 = (2 * a1 * theta - b1) / (2 * np.sqrt(a1))\n",
    "    T13 = theta * (b1 - theta * a1)\n",
    "\n",
    "    T21 = b2**2 / (4 * a2)\n",
    "    T22 = (2 * a2 * theta - b2) / (2 * np.sqrt(a2))\n",
    "    T23 = theta * (b2 - theta * a2)\n",
    "\n",
    "    I1 = F01 * (T12 * np.sqrt(np.pi) * np.exp(T11 + c1) * (erf_(T12) + 1) + np.exp(T13 + c1))\n",
    "    I2 = F02 * (T22 * np.sqrt(np.pi) * np.exp(T21 + c2) * (erf_(T22) + 1) + np.exp(T23 + c2))\n",
    "\n",
    "    STF = I1 - I2\n",
    "    return STF\n",
    "\n",
    "\n",
    "def PA_with_LEDON_2_SCALAR(t, v, vON, a, tfix, tled, delta_i, delta_m):\n",
    "    \"\"\"\n",
    "    Compute the PA pdf by combining contributions before and after LED onset for scalar inputs.\n",
    "\n",
    "    Parameters:\n",
    "        t (float): Time value.\n",
    "        v (float): Drift parameter before LED.\n",
    "        vON (float): Drift parameter after LED onset.\n",
    "        a (float): Decision bound.\n",
    "        tfix (float): Fixation time.\n",
    "        tled (float): LED time.\n",
    "        delta_A (float): Delta parameter.\n",
    "\n",
    "    Returns:\n",
    "        float: The combined PA pdf value.\n",
    "    \"\"\"\n",
    "    # Check if the time (with fixation) is before the LED onset.\n",
    "    if (t + tfix) <= (tled + 1e-6):\n",
    "        # Use the scalar version of d_A_RT: note that d_A_RT_SCALAR must be defined.\n",
    "        result = d_A_RT_SCALAR(v * a, (t - (delta_i + delta_m) + tfix) / (a**2)) / (a**2)\n",
    "    else:\n",
    "        # Use the scalar version of stupid_f_integral: note that stupid_f_integral_SCALAR must be defined.\n",
    "        result = stupid_f_integral_SCALAR(v, vON, a, t + tfix - delta_m  - tled, tled + tfix - delta_i )\n",
    "    return result"
   ]
  },
  {
   "cell_type": "code",
   "execution_count": 6,
   "metadata": {},
   "outputs": [],
   "source": [
    "import numpy as np\n",
    "import math\n",
    "import numpy as np\n",
    "\n",
    "\n",
    "def d_A_RT_VEC(a, t):\n",
    "    \"\"\"\n",
    "    Calculate the standard PA probability density function (vectorized).\n",
    "\n",
    "    Parameters:\n",
    "        a (float): Scalar parameter.\n",
    "        t (numpy.ndarray): Time values (must be > 0).\n",
    "\n",
    "    Returns:\n",
    "        numpy.ndarray: The computed pdf values (0 where t <= 0).\n",
    "    \"\"\"\n",
    "    t = np.asarray(t)  # Ensure t is a NumPy array\n",
    "    p = np.zeros_like(t)\n",
    "    valid_indices = t > 0\n",
    "    p[valid_indices] = (1.0 / np.sqrt(2 * np.pi * (t[valid_indices]**3))) * np.exp(-((1 - a * t[valid_indices])**2) / (2 * t[valid_indices]))\n",
    "    return p\n",
    "\n",
    "def stupid_f_integral_VEC(v, vON, theta, t, tp):\n",
    "    \"\"\"\n",
    "    Calculate the PA pdf after the v_A change via an integral expression (vectorized).\n",
    "\n",
    "    Parameters:\n",
    "        v (float): Scalar parameter.\n",
    "        vON (float): Scalar parameter.\n",
    "        theta (float): Scalar parameter.\n",
    "        t (numpy.ndarray): Time values.\n",
    "        tp (numpy.ndarray): A shifted time values.\n",
    "\n",
    "    Returns:\n",
    "        numpy.ndarray: The evaluated integral expressions.\n",
    "    \"\"\"\n",
    "    t = np.asarray(t)\n",
    "    tp = np.asarray(tp)\n",
    "    a1 = 0.5 * (1 / t + 1 / tp)\n",
    "    b1 = theta / t + (v - vON)\n",
    "    c1 = -0.5 * (vON**2 * t - 2 * theta * vON + theta**2 / t + v**2 * tp)\n",
    "\n",
    "    a2 = a1\n",
    "    b2 = theta * (1 / t + 2 / tp) + (v - vON)\n",
    "    c2 = -0.5 * (vON**2 * t - 2 * theta * vON + theta**2 / t + v**2 * tp + 4 * theta * v + 4 * theta**2 / tp) + 2 * v * theta\n",
    "\n",
    "    F01 = 1.0 / (4 * np.pi * a1 * np.sqrt(tp * t**3))\n",
    "    F02 = 1.0 / (4 * np.pi * a2 * np.sqrt(tp * t**3))\n",
    "\n",
    "    T11 = b1**2 / (4 * a1)\n",
    "    T12 = (2 * a1 * theta - b1) / (2 * np.sqrt(a1))\n",
    "    T13 = theta * (b1 - theta * a1)\n",
    "\n",
    "    T21 = b2**2 / (4 * a2)\n",
    "    T22 = (2 * a2 * theta - b2) / (2 * np.sqrt(a2))\n",
    "    T23 = theta * (b2 - theta * a2)\n",
    "\n",
    "    I1 = F01 * (T12 * np.sqrt(np.pi) * np.exp(T11 + c1) * (erf_(T12) + 1) + np.exp(T13 + c1))\n",
    "    I2 = F02 * (T22 * np.sqrt(np.pi) * np.exp(T21 + c2) * (erf_(T22) + 1) + np.exp(T23 + c2))\n",
    "\n",
    "    STF = I1 - I2\n",
    "    return STF\n",
    "\n",
    "\n",
    "def PA_with_LEDON_2_VEC(t, v, vON, a, tfix, tled, delta_i, delta_m):\n",
    "    \"\"\"\n",
    "    Compute the PA pdf by combining contributions before and after LED onset (vectorized).\n",
    "\n",
    "    Parameters:\n",
    "        t (numpy.ndarray): Time values.\n",
    "        v (float): Drift parameter before LED.\n",
    "        vON (float): Drift parameter after LED onset.\n",
    "        a (float): Decision bound.\n",
    "        tfix (float): Fixation time.\n",
    "        tled (float): LED time.\n",
    "        delta_A (float): Delta parameter.\n",
    "\n",
    "    Returns:\n",
    "        numpy.ndarray: The combined PA pdf values.\n",
    "    \"\"\"\n",
    "    t = np.asarray(t)\n",
    "    result = np.zeros_like(t)\n",
    "    \n",
    "    before_led = (t + tfix) <= (tled + 1e-6)\n",
    "    result[before_led] = d_A_RT_VEC(v * a, (t[before_led] - (delta_i + delta_m) + tfix) / (a**2)) / (a**2)\n",
    "    \n",
    "    # Compute the time difference for the post-LED condition\n",
    "    t_post_led = t[~before_led] + tfix - delta_m - tled\n",
    "    tp_post_led = tled + tfix - delta_i\n",
    "\n",
    "    # Mask for valid time points (ensuring t_post_led is non-negative)\n",
    "    valid_indices = t_post_led >= 0\n",
    "    \n",
    "    # Compute only for valid indices\n",
    "    result[~before_led][valid_indices] = stupid_f_integral_VEC(v, vON, a, t_post_led[valid_indices], tp_post_led)\n",
    "\n",
    "    return result\n"
   ]
  },
  {
   "cell_type": "markdown",
   "metadata": {},
   "source": [
    "# likelihood"
   ]
  },
  {
   "cell_type": "code",
   "execution_count": 7,
   "metadata": {},
   "outputs": [],
   "source": [
    "T_trunc = 0.3"
   ]
  },
  {
   "cell_type": "code",
   "execution_count": 8,
   "metadata": {},
   "outputs": [],
   "source": [
    "V_A = 1.59\n",
    "theta_A = 2.53\n",
    "# total proactive delay\n",
    "total_proactive_delay = -0.187"
   ]
  },
  {
   "cell_type": "code",
   "execution_count": 9,
   "metadata": {},
   "outputs": [],
   "source": [
    "t_pts_for_trunc = np.arange(0, T_trunc, 0.001)\n",
    "def compute_loglike(row, post_LED_drift, motor_delay):\n",
    "    delta_i = total_proactive_delay - motor_delay\n",
    "    tfix = 0\n",
    "\n",
    "    rt = row['timed_fix']\n",
    "    t_LED = row['intended_fix'] - row['LED_onset_time']\n",
    "\n",
    "    if rt < T_trunc:\n",
    "        likelihood = 0\n",
    "    else:\n",
    "        if rt - motor_delay - t_LED < 0:\n",
    "            likelihood = 0\n",
    "        else:\n",
    "            likelihood = PA_with_LEDON_2_SCALAR(rt, V_A, post_LED_drift, theta_A, tfix, t_LED, delta_i, motor_delay)\n",
    "    \n",
    "        # truncation factor\n",
    "        PA_vec = PA_with_LEDON_2_VEC(t_pts_for_trunc, V_A, post_LED_drift, theta_A, tfix, t_LED, delta_i, motor_delay)\n",
    "        trunc_factor = 1 - trapz(PA_vec, t_pts_for_trunc)\n",
    "        likelihood /= trunc_factor\n",
    "\n",
    "    if likelihood <= 0:\n",
    "        likelihood = 1e-50\n",
    "    \n",
    "    return np.log(likelihood)\n",
    "    \n",
    "\n",
    "def vbmc_loglike_fn(params):\n",
    "    post_LED_drift, motor_delay = params\n",
    "\n",
    "    all_loglike = Parallel(n_jobs=30)(delayed(compute_loglike)(row, post_LED_drift, motor_delay)\\\n",
    "                                      for _, row in df_led_on_aborts.iterrows())\n",
    "    \n",
    "    return np.sum(all_loglike)\n",
    "    "
   ]
  },
  {
   "cell_type": "markdown",
   "metadata": {},
   "source": [
    "# bounds"
   ]
  },
  {
   "cell_type": "code",
   "execution_count": 10,
   "metadata": {},
   "outputs": [],
   "source": [
    "post_LED_drift_bounds = [1, 10]\n",
    "post_LED_drift_plausible_bounds = [1.5, 3.5]\n",
    "\n",
    "motor_delay_bounds = [0, 0.1]\n",
    "motor_delay_plausible_bounds = [0.01, 0.07]"
   ]
  },
  {
   "cell_type": "markdown",
   "metadata": {},
   "source": [
    "# prior"
   ]
  },
  {
   "cell_type": "code",
   "execution_count": 11,
   "metadata": {},
   "outputs": [],
   "source": [
    "def trapezoidal_logpdf(x, a, b, c, d):\n",
    "    if x < a or x > d:\n",
    "        return -np.inf  # Logarithm of zero\n",
    "    area = ((b - a) + (d - c)) / 2 + (c - b)\n",
    "    h_max = 1.0 / area  # Height of the trapezoid to normalize the area to 1\n",
    "    \n",
    "    if a <= x <= b:\n",
    "        pdf_value = ((x - a) / (b - a)) * h_max\n",
    "    elif b < x < c:\n",
    "        pdf_value = h_max\n",
    "    elif c <= x <= d:\n",
    "        pdf_value = ((d - x) / (d - c)) * h_max\n",
    "    else:\n",
    "        pdf_value = 0.0  # This case is redundant due to the initial check\n",
    "\n",
    "    if pdf_value <= 0.0:\n",
    "        return -np.inf\n",
    "    else:\n",
    "        return np.log(pdf_value)\n",
    "    \n",
    "\n",
    "def vbmc_prior_abort_fn(params):\n",
    "    post_LED_drift, motor_delay = params\n",
    "\n",
    "    post_LED_drift_logpdf = trapezoidal_logpdf(post_LED_drift, post_LED_drift_bounds[0], post_LED_drift_plausible_bounds[0], post_LED_drift_plausible_bounds[1], post_LED_drift_bounds[1])\n",
    "    motor_delay_logpdf = trapezoidal_logpdf(motor_delay, motor_delay_bounds[0], motor_delay_plausible_bounds[0], motor_delay_plausible_bounds[1], motor_delay_bounds[1])\n",
    "\n",
    "    return post_LED_drift_logpdf + motor_delay_logpdf"
   ]
  },
  {
   "cell_type": "markdown",
   "metadata": {},
   "source": [
    "# joint"
   ]
  },
  {
   "cell_type": "code",
   "execution_count": 12,
   "metadata": {},
   "outputs": [],
   "source": [
    "def vbmc_joint(params):\n",
    "    return vbmc_prior_abort_fn(params) + vbmc_loglike_fn(params)"
   ]
  },
  {
   "cell_type": "markdown",
   "metadata": {},
   "source": [
    "# run vbmc"
   ]
  },
  {
   "cell_type": "code",
   "execution_count": 13,
   "metadata": {},
   "outputs": [
    {
     "name": "stdout",
     "output_type": "stream",
     "text": [
      "Reshaping x0 to row vector.\n",
      "Reshaping lower bounds to (1, 2).\n",
      "Reshaping upper bounds to (1, 2).\n",
      "Reshaping plausible lower bounds to (1, 2).\n",
      "Reshaping plausible upper bounds to (1, 2).\n",
      "Casting lower bounds to floating point.\n",
      "Beginning variational optimization assuming EXACT observations of the log-joint.\n",
      " Iteration  f-count    Mean[ELBO]    Std[ELBO]    sKL-iter[q]   K[q]  Convergence  Action\n",
      "     0         10     -794203.86      9156.03   3077573.30        2        inf     start warm-up\n",
      "     1         15     -792740.93      1332.12     27551.80        2        inf     \n",
      "     2         20     -788473.60       138.81      6061.72        2   1.58e+05     \n",
      "     3         25     -787455.98      1082.98      1710.38        2   4.73e+04     \n",
      "     4         30     -787297.37       273.99      6106.28        2   1.45e+05     \n",
      "     5         35     -786760.85       348.29       423.33        2   1.29e+04     \n",
      "     6         40     -786030.95       138.46     24994.47        2   5.92e+05     \n",
      "     7         45     -785513.54       565.87      1241.24        2   3.29e+04     \n",
      "     8         50     -785993.72       414.18       384.77        2   1.21e+04     \n",
      "     9         55     -786008.17        16.25       923.83        2   2.19e+04     \n",
      "    10         60     -786009.50        46.69       113.90        2   2.84e+03     \n",
      "    11         65     -786416.78       153.33      1999.05        2    4.9e+04     \n",
      "    12         70     -786677.38       479.26      5210.09        2   1.25e+05     \n",
      "    13         75     -786128.80       580.44      3150.51        2    7.8e+04     \n",
      "    14         80     -785916.49       175.78     28065.43        2   6.63e+05     \n",
      "    15         85     -786097.08       450.84     13468.68        2    3.2e+05     \n",
      "    16         90     -785873.93       239.17        30.51        2   2.26e+03     \n",
      "    17         95     -785895.93       259.73      1433.08        2   3.47e+04     trim data\n",
      "    18        100     -785997.49        17.67       110.18        2   2.99e+03     \n",
      "    19        105     -786005.96        15.76         6.39        2        231     \n",
      "    20        110     -786008.37        11.71        15.59        2        415     \n",
      "    21        115     -786006.92         4.78       405.43        2   9.58e+03     \n",
      "    22        120     -786042.85        28.21       851.63        2   2.03e+04     \n",
      "    23        125     -785976.71        11.22       245.00        2   6.03e+03     \n",
      "    24        130     -786043.16        27.09       287.43        2   7.09e+03     \n",
      "    25        135     -786013.33         1.81       320.79        2   7.67e+03     \n",
      "    26        140     -786042.78        27.58        69.06        2   1.82e+03     end warm-up\n",
      "    27        145     -786003.36         0.00        24.48        2        708     \n",
      "    28        150     -777275.49      4291.71     10094.79        2   2.81e+05     \n",
      "    29        155     -784618.73      1003.03      1389.13        3   6.06e+04     \n",
      "    30        160     -784970.98       766.14       428.29        4   1.38e+04     \n",
      "    31        165     -785094.08         0.74        14.95        5        765     \n",
      "    32        170     -785089.97         3.98       116.06        6   2.76e+03     \n",
      "    33        175     -785087.61         1.74         2.14        6       64.1     \n",
      "    34        180     -785080.43         4.16         0.96        7       60.5     \n"
     ]
    },
    {
     "name": "stderr",
     "output_type": "stream",
     "text": [
      "/home/rlab/raghavendra/ddm_data/.venv/lib/python3.12/site-packages/cma/evolution_strategy.py:3379: RuntimeWarning: invalid value encountered in scalar subtract\n",
      "  current_fitness_range < opts['tolfunrel'] * (es.fit.median0 - es.fit.median_min),\n",
      "/home/rlab/raghavendra/ddm_data/.venv/lib/python3.12/site-packages/cma/evolution_strategy.py:3379: RuntimeWarning: invalid value encountered in scalar multiply\n",
      "  current_fitness_range < opts['tolfunrel'] * (es.fit.median0 - es.fit.median_min),\n"
     ]
    },
    {
     "name": "stdout",
     "output_type": "stream",
     "text": [
      "    35        185     -785086.26         1.33        14.78        7        372     \n",
      "    36        190     -785085.42         0.34         0.94        8         26     \n",
      "    37        195     -785029.03        50.53         6.86        8        518     \n",
      "    38        200     -784965.64       321.19      2868.70        8   6.89e+04     \n",
      "   inf        200     -784945.88       504.66      3044.91       50         26     finalize\n",
      "Inference terminated: reached maximum number of function evaluations options.max_fun_evals.\n",
      "Estimated ELBO: -784945.878 +/-504.665.\n",
      "Caution: Returned variational solution may have not converged.\n"
     ]
    }
   ],
   "source": [
    "lb = [post_LED_drift_bounds[0], motor_delay_bounds[0]]\n",
    "ub = [post_LED_drift_bounds[1], motor_delay_bounds[1]]\n",
    "\n",
    "plb = [post_LED_drift_plausible_bounds[0], motor_delay_plausible_bounds[0]]\n",
    "pub = [post_LED_drift_plausible_bounds[1], motor_delay_plausible_bounds[1]]\n",
    "\n",
    "np.random.seed(42)\n",
    "post_LED_drift_0 = np.random.uniform(post_LED_drift_plausible_bounds[0], post_LED_drift_plausible_bounds[1])\n",
    "motor_delay_0 = np.random.uniform(motor_delay_plausible_bounds[0], motor_delay_plausible_bounds[1])\n",
    "\n",
    "x_0 = np.array([post_LED_drift_0, motor_delay_0])\n",
    "\n",
    "vbmc = VBMC(vbmc_joint, x_0, lb, ub, plb, pub, options={'display': 'on'})\n",
    "vp, results = vbmc.optimize()"
   ]
  },
  {
   "cell_type": "markdown",
   "metadata": {},
   "source": [
    "# corner"
   ]
  },
  {
   "cell_type": "code",
   "execution_count": 14,
   "metadata": {},
   "outputs": [
    {
     "name": "stdout",
     "output_type": "stream",
     "text": [
      "Too few points to create valid contours\n"
     ]
    },
    {
     "data": {
      "image/png": "[encoded data removed]",
      "text/plain": [
       "<Figure size 550x550 with 4 Axes>"
      ]
     },
     "metadata": {},
     "output_type": "display_data"
    }
   ],
   "source": [
    "import corner\n",
    "vp_samples = vp.sample(int(1e6))[0]\n",
    "post_led_drift_samp = vp_samples[:, 0]\n",
    "motor_delay_samp = vp_samples[:, 1]\n",
    "\n",
    "# combined_samples = np.transpose(np.vstack((base_V_A_samp, theta_A_samp, t_A_aff_samp)))\n",
    "# param_labels = ['base_V_A', 'theta_A', 't_A_aff']\n",
    "\n",
    "combined_samples = np.transpose(np.vstack((post_led_drift_samp, motor_delay_samp)))\n",
    "param_labels = ['post_led_drift', 'motor_delay']\n",
    "\n",
    "corner.corner (combined_samples, labels=param_labels, show_titles=True, title_fmt=\".4f\");\n"
   ]
  }
 ],
 "metadata": {
  "kernelspec": {
   "display_name": ".venv",
   "language": "python",
   "name": "python3"
  },
  "language_info": {
   "codemirror_mode": {
    "name": "ipython",
    "version": 3
   },
   "file_extension": ".py",
   "mimetype": "text/x-python",
   "name": "python",
   "nbconvert_exporter": "python",
   "pygments_lexer": "ipython3",
   "version": "3.12.3"
  }
 },
 "nbformat": 4,
 "nbformat_minor": 2
}
