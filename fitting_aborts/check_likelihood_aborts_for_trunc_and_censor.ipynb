{
 "cells": [
  {
   "cell_type": "code",
   "execution_count": 2,
   "metadata": {},
   "outputs": [],
   "source": [
    "import numpy as np\n",
    "from scipy.integrate import quad"
   ]
  },
  {
   "cell_type": "markdown",
   "metadata": {},
   "source": [
    "# helper funcs for likeli"
   ]
  },
  {
   "cell_type": "code",
   "execution_count": 3,
   "metadata": {},
   "outputs": [],
   "source": [
    "from scipy.special import erf\n",
    "def Phi(x):\n",
    "    \"\"\"\n",
    "    Define the normal cumulative distribution function Φ(x) using erf\n",
    "    \"\"\"\n",
    "    return 0.5 * (1 + erf(x / np.sqrt(2)))\n",
    "\n",
    "def rho_A_t_fn(t, V_A, theta_A):\n",
    "    \"\"\"\n",
    "    For AI,prob density of t given V_A, theta_A\n",
    "    \"\"\"\n",
    "    if t <= 0:\n",
    "        return 0\n",
    "    return (theta_A*1/np.sqrt(2*np.pi*(t)**3))*np.exp(-0.5 * (V_A**2) * (((t) - (theta_A/V_A))**2)/(t))\n",
    "\n",
    "\n",
    "def cum_A_t_fn(t, V_A, theta_A):\n",
    "    \"\"\"\n",
    "    For AI, calculate cummulative distrn of a time t given V_A, theta_A\n",
    "    \"\"\"\n",
    "    if t <= 0:\n",
    "        return 0\n",
    "\n",
    "    term1 = Phi(V_A * ((t) - (theta_A/V_A)) / np.sqrt(t))\n",
    "    term2 = np.exp(2 * V_A * theta_A) * Phi(-V_A * ((t) + (theta_A / V_A)) / np.sqrt(t))\n",
    "    \n",
    "    return term1 + term2"
   ]
  },
  {
   "cell_type": "markdown",
   "metadata": {},
   "source": [
    "# params"
   ]
  },
  {
   "cell_type": "code",
   "execution_count": 5,
   "metadata": {},
   "outputs": [],
   "source": [
    "V_A = 1.1\n",
    "theta_A = 1.8\n",
    "t_stim_0 = 0.2\n",
    "t_stim_tau = 0.4"
   ]
  },
  {
   "cell_type": "markdown",
   "metadata": {},
   "source": [
    "# raga"
   ]
  },
  {
   "cell_type": "code",
   "execution_count": 22,
   "metadata": {},
   "outputs": [],
   "source": [
    "def non_aborts_pdf(t, t_stim_0, t_stim_tau, V_A, theta_A):\n",
    "    prob_that_stim_occurs_after_t = np.exp(- ( (t - t_stim_0) / t_stim_tau ))\n",
    "    censor_prob_after_t = (1 - cum_A_t_fn(t, V_A, theta_A))\n",
    "    return prob_that_stim_occurs_after_t * censor_prob_after_t\n",
    "\n",
    "def raga_likelihood(t, t_stim_0, t_stim_tau, V_A, theta_A):\n",
    "    # rt < t_stim\n",
    "    prob_of_hitting_bound = rho_A_t_fn(t, V_A, theta_A)\n",
    "    if t < t_stim_0:\n",
    "        return prob_of_hitting_bound\n",
    "    else:\n",
    "        # rt  < t_stim\n",
    "        prob_of_fix_survive = np.exp(- ( (t - t_stim_0) / t_stim_tau ))\n",
    "        prob_of_abort = prob_of_fix_survive * prob_of_hitting_bound\n",
    "\n",
    "        # # rt > t_stim\n",
    "        # censored_prob = quad(non_aborts_pdf, t_stim_0, 20, args=(t_stim_0, t_stim_tau, V_A, theta_A))[0]  \n",
    "        # print(f'censored_prob: {censored_prob}')    \n",
    "        # censored_prob = 1 - cum_A_t_fn(t, V_A, theta_A)      \n",
    "\n",
    "\n",
    "        return prob_of_abort\n",
    "\n",
    "\n",
    "\n"
   ]
  },
  {
   "cell_type": "code",
   "execution_count": 35,
   "metadata": {},
   "outputs": [
    {
     "name": "stdout",
     "output_type": "stream",
     "text": [
      "0.13456382632379474\n"
     ]
    }
   ],
   "source": [
    "area_raga = quad(raga_likelihood, 0, np.inf, args=(t_stim_0, t_stim_tau, V_A, theta_A))[0]\n",
    "print(area_raga)"
   ]
  },
  {
   "cell_type": "code",
   "execution_count": 47,
   "metadata": {},
   "outputs": [],
   "source": [
    "def after_abort_fn(t, t_stim_0, t_stim_tau, V_A, theta_A):\n",
    "    # prob_of_non_abort = 1 - cum_A_t_fn(t, V_A, theta_A)\n",
    "    # return prob_of_non_abort\n",
    "    fixation_didnt_survive = 1 - np.exp(- ( (t - t_stim_0) / t_stim_tau ))\n",
    "\n",
    "    return fixation_didnt_survive*rho_A_t_fn(t, V_A, theta_A)"
   ]
  },
  {
   "cell_type": "code",
   "execution_count": 48,
   "metadata": {},
   "outputs": [
    {
     "data": {
      "text/plain": [
       "0.8649626896534214"
      ]
     },
     "execution_count": 48,
     "metadata": {},
     "output_type": "execute_result"
    }
   ],
   "source": [
    "quad(after_abort_fn, 0, 10, args=(t_stim_0, t_stim_tau, V_A, theta_A))[0]"
   ]
  },
  {
   "cell_type": "code",
   "execution_count": null,
   "metadata": {},
   "outputs": [],
   "source": []
  }
 ],
 "metadata": {
  "kernelspec": {
   "display_name": ".venv",
   "language": "python",
   "name": "python3"
  },
  "language_info": {
   "codemirror_mode": {
    "name": "ipython",
    "version": 3
   },
   "file_extension": ".py",
   "mimetype": "text/x-python",
   "name": "python",
   "nbconvert_exporter": "python",
   "pygments_lexer": "ipython3",
   "version": "3.12.3"
  }
 },
 "nbformat": 4,
 "nbformat_minor": 2
}
