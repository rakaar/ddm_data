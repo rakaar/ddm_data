{
 "cells": [
  {
   "cell_type": "code",
   "execution_count": 1,
   "metadata": {},
   "outputs": [],
   "source": [
    "import numpy as np\n",
    "import matplotlib.pyplot as plt\n",
    "from joblib import Parallel, delayed\n",
    "from tqdm import tqdm\n",
    "from scipy.integrate import quad, trapezoid\n",
    "import pandas as pd"
   ]
  },
  {
   "cell_type": "markdown",
   "metadata": {},
   "source": [
    "# simulate"
   ]
  },
  {
   "cell_type": "code",
   "execution_count": 2,
   "metadata": {},
   "outputs": [],
   "source": [
    "N_sim = int(100e3)\n",
    "dt = 1e-4\n",
    "dB = np.sqrt(dt)\n",
    "\n",
    "V_A_old = 0.4\n",
    "V_A_new = 0.6\n",
    "a_old = 2\n",
    "a_new = 1.5\n",
    "\n",
    "t_LED = 1\n",
    "\n",
    "RT_all_sim = np.zeros((N_sim))\n"
   ]
  },
  {
   "cell_type": "code",
   "execution_count": 3,
   "metadata": {},
   "outputs": [
    {
     "name": "stderr",
     "output_type": "stream",
     "text": [
      "100%|██████████| 100000/100000 [01:32<00:00, 1079.18it/s]\n"
     ]
    },
    {
     "name": "stdout",
     "output_type": "stream",
     "text": [
      "Fraction of LED-induced events: 0.04995\n"
     ]
    }
   ],
   "source": [
    "def simulate_single_bound_V_A_change(V_A_old, V_A_new, a_old, a_new, t_LED, dt):\n",
    "    t = 0\n",
    "    DV = 0\n",
    "\n",
    "    is_due_to_LED = 0\n",
    "\n",
    "    while True:\n",
    "        if t >= t_LED:\n",
    "            v = V_A_new\n",
    "            a = a_new\n",
    "        else:\n",
    "            v = V_A_old\n",
    "            a = a_old\n",
    "        \n",
    "        t += dt\n",
    "        DV += v*dt + np.random.normal(0, dB)\n",
    "        \n",
    "        if DV >= a:\n",
    "            if t <= t_LED + 2*dt and t >= t_LED - 2*dt and DV >= a_new:\n",
    "                is_due_to_LED = 1\n",
    "\n",
    "            return t, is_due_to_LED\n",
    "        \n",
    "\n",
    "sim_results = Parallel(n_jobs=-1)(delayed(simulate_single_bound_V_A_change)\\\n",
    "                                  (V_A_old, V_A_new, a_old, a_new, t_LED, dt) for _ in tqdm(range(N_sim)))\n",
    "is_led_all_res = np.array([res[1] for res in sim_results])\n",
    "print(f\"Fraction of LED-induced events: {np.mean(is_led_all_res)}\")"
   ]
  },
  {
   "cell_type": "code",
   "execution_count": 10,
   "metadata": {},
   "outputs": [
    {
     "data": {
      "text/plain": [
       "(0.0, 15.0)"
      ]
     },
     "execution_count": 10,
     "metadata": {},
     "output_type": "execute_result"
    },
    {
     "data": {
      "image/png": "[encoded data removed]",
      "text/plain": [
       "<Figure size 640x480 with 1 Axes>"
      ]
     },
     "metadata": {},
     "output_type": "display_data"
    }
   ],
   "source": [
    "all_rt = [res[0] for res in sim_results]\n",
    "plt.hist(all_rt, bins=100, alpha=0.9, density=True)\n",
    "plt.axvline(x=t_LED, label='t LED', color='r')\n",
    "plt.legend()\n",
    "plt.xlabel('all rt')\n",
    "plt.ylabel('density')\n",
    "plt.xlim(0,15)"
   ]
  },
  {
   "cell_type": "markdown",
   "metadata": {},
   "source": [
    "# pdf"
   ]
  },
  {
   "cell_type": "code",
   "execution_count": 5,
   "metadata": {},
   "outputs": [],
   "source": [
    "def rho_A_t_fn(t, V_A, theta_A):\n",
    "    \"\"\"\n",
    "    For AI,prob density of t given V_A, theta_A\n",
    "    \"\"\"\n",
    "    if t <= 0:\n",
    "        return 0\n",
    "    return (theta_A*1/np.sqrt(2*np.pi*(t)**3))*np.exp(-0.5 * (V_A**2) * (((t) - (theta_A/V_A))**2)/(t))\n",
    "\n",
    "\n",
    "def P_t_x(x, t, v, a):\n",
    "    \"\"\"\n",
    "    Prob that DV = x at time t given v, a \n",
    "    \"\"\"\n",
    "    return (1/np.sqrt(2 * (np.pi) * t)) * \\\n",
    "        ( np.exp(-((x - v*t)**2)/(2*t)) - np.exp( 2*v*a - ((x - 2*a - v*t)**2)/(2*t) ) )\n",
    "\n",
    "\n",
    "def P_old_at_x_times_P_new_hit(x, t, V_A_old, V_A_new, a_old, a_new, t_LED):\n",
    "    \"\"\"\n",
    "    Prob that DV is at x at t_LED and new V_A hits \"a-x\" bound at t - t_LED\n",
    "    t is surely > t_LED\n",
    "    \"\"\"\n",
    "    if x <= a_new:\n",
    "        return P_t_x(x, t_LED, V_A_old, a_old) * rho_A_t_fn(t-t_LED, V_A_new, a_new - x)\n",
    "    else:\n",
    "        return 0  \n",
    "\n",
    "\n",
    "\n",
    "def PDF_hit_V_A_change(t, V_A_old, V_A_new, a_old, a_new, t_LED):\n",
    "    \"\"\"\n",
    "    PDF of RT of hitting single bound with V_A change at t_LED\n",
    "    \"\"\"\n",
    "    if t < t_LED:\n",
    "        p = rho_A_t_fn(t, V_A_old, a_old)\n",
    "    elif t == t_LED:\n",
    "        p = quad(P_t_x, a_new, a_old, args=(t_LED, V_A_old, a_old))[0] \n",
    "    else:\n",
    "        p = quad(P_old_at_x_times_P_new_hit, -np.inf, a_new, args=(t, V_A_old, V_A_new, a_old, a_new, t_LED))[0]    \n",
    "    \n",
    "    return p"
   ]
  },
  {
   "cell_type": "code",
   "execution_count": 6,
   "metadata": {},
   "outputs": [
    {
     "name": "stdout",
     "output_type": "stream",
     "text": [
      "Non-LED prob: 0.95, LED prob = 0.05, total = 1.00\n"
     ]
    }
   ],
   "source": [
    "non_led_prob = quad(PDF_hit_V_A_change, 0, np.inf, args=(V_A_old, V_A_new, a_old, a_new, t_LED))[0]\n",
    "led_prob = quad(P_t_x, a_new, a_old, args=(t_LED, V_A_old, a_old))[0]\n",
    "print(f'Non-LED prob: {non_led_prob:.2f}, LED prob = {led_prob:.2f}, total = {(non_led_prob + led_prob):.2f}')"
   ]
  },
  {
   "cell_type": "code",
   "execution_count": null,
   "metadata": {},
   "outputs": [],
   "source": [
    "# # data\n",
    "# # bins = np.linspace(0.001, 10, 100)\n",
    "# bin_width = 0.1\n",
    "# bins = np.arange(0, 10, bin_width)\n",
    "# sim_results_hist, _ = np.histogram(sim_results, bins=bins, density=True)\n",
    "# plt.bar(bins[:-1], sim_results_hist, width=bin_width, alpha=0.5, label='sim data va change');\n",
    "# # plt.hist(sim_results, bins=bins, density=True, alpha=0.5, label='sim data va change');\n",
    "\n",
    "# # theory\n",
    "# t_pts = bins[:-1] + bin_width/2\n",
    "# theory_pdf = np.array([PDF_hit_V_A_change(t, V_A_old, V_A_new, a_old, a_new, t_LED) for t in t_pts])\n",
    "# plt.plot(t_pts, theory_pdf, label='theory', lw=2)\n",
    "# # plt.axvline(x=t_LED, color='red', linestyle='--', label='t_LED', alpha=0.5)\n",
    "# plt.scatter(t_LED, PDF_hit_V_A_change(t_LED, V_A_old, V_A_new, a_old, a_new, t_LED)/bin_width, color='k', marker='x')\n",
    "# plt.xlabel('rt')\n",
    "# plt.ylabel('density')\n",
    "# plt.legend();\n"
   ]
  },
  {
   "cell_type": "markdown",
   "metadata": {},
   "source": [
    "## exclude the t_LED time pts"
   ]
  },
  {
   "cell_type": "code",
   "execution_count": null,
   "metadata": {},
   "outputs": [],
   "source": [
    "bin_width = 0.1; T_max = 50\n",
    "bins = np.arange(0, T_max, bin_width)\n",
    "t_pts = bins[:-1] + bin_width/2\n",
    "\n",
    "rt_non_led = [res[0] for res in sim_results if res[1] == 0]\n",
    "rt_led = [res[0] for res in sim_results if res[1] == 1]\n",
    "\n",
    "print(f'len of rt_non_led = {len(rt_non_led)}, len of rt_led = {len(rt_led)}')"
   ]
  },
  {
   "cell_type": "code",
   "execution_count": null,
   "metadata": {},
   "outputs": [],
   "source": [
    "# --- non LED --- \n",
    "# data\n",
    "# ONLY non-led\n",
    "rt_non_led_hist, _ = np.histogram(rt_non_led, bins=bins, density=True)\n",
    "rt_non_led_hist *= len(rt_non_led)/N_sim\n",
    "plt.figure(figsize=(10,5))\n",
    "plt.subplot(1,2,1)\n",
    "plt.plot(t_pts, rt_non_led_hist, label='sim data non-led', color='r', ls='--', lw=3)\n",
    "\n",
    "# ALL\n",
    "# all_rt = [res[0] for res in sim_results]\n",
    "# all_rt_hist, _ = np.histogram(all_rt, bins=bins, density=True)\n",
    "# plt.plot(t_pts, all_rt_hist, label='sim data all', color='b')\n",
    "\n",
    "# theory\n",
    "area_under_non_led = quad(PDF_hit_V_A_change, 0, T_max, args=(V_A_old, V_A_new, a_old, a_new, t_LED))[0]\n",
    "theory_pdf_non_led = np.array([PDF_hit_V_A_change(t, V_A_old, V_A_new, a_old, a_new, t_LED) for t in t_pts])\n",
    "plt.plot(t_pts, theory_pdf_non_led, label='theory non-led', color='k', lw=1.5)\n",
    "\n",
    "\n",
    "print(f'non - led area = {area_under_non_led:.4f}')\n",
    "print(f'area under non-led theory curve = {trapezoid(theory_pdf_non_led, t_pts):.4f}')\n",
    "print(f'area under histogram = {trapezoid(rt_non_led_hist, t_pts):.4f}')\n",
    "print(f'frac from data = {(len(rt_non_led)/N_sim):.4f}')\n",
    "\n",
    "plt.subplot(1,2,2)\n",
    "plt.plot(t_pts, rt_non_led_hist - theory_pdf_non_led, label='data - theory')\n",
    "plt.xlabel('t')\n",
    "plt.title(f'hist - theory. bin width={bin_width}')\n",
    "\n",
    "\n",
    "\n",
    "plt.xlabel('rt')\n",
    "plt.ylabel('density')\n",
    "plt.legend();\n",
    "plt.xlim(0, 15);"
   ]
  },
  {
   "cell_type": "code",
   "execution_count": null,
   "metadata": {},
   "outputs": [],
   "source": [
    "# --- LED ---\n",
    "# data\n",
    "bin_width = 0.001; T_max = 5\n",
    "bins = np.arange(0, T_max, bin_width)\n",
    "t_pts = bins[:-1] + bin_width/2\n",
    "\n",
    "rt_led_hist, _ = np.histogram(rt_led, bins=bins, density=True)\n",
    "rt_led_hist *= len(rt_led)/N_sim\n",
    "\n",
    "plt.plot(t_pts, rt_led_hist, label='led data')\n",
    "\n",
    "# theory\n",
    "prob_of_abort_at_t_led = PDF_hit_V_A_change(t_LED, V_A_old, V_A_new, a_old, a_new, t_LED)\n",
    "plt.scatter(t_LED, prob_of_abort_at_t_led /bin_width, color='r', marker='x', label='theory LED',s=200)\n",
    "\n",
    "plt.xlabel('t')\n",
    "plt.ylabel('density')\n",
    "plt.legend();\n",
    "\n",
    "print(f'Frac of aborts at t_LED: theory = {prob_of_abort_at_t_led}, data = {len(rt_led)/N_sim}')\n",
    "           "
   ]
  }
 ],
 "metadata": {
  "kernelspec": {
   "display_name": ".venv",
   "language": "python",
   "name": "python3"
  },
  "language_info": {
   "codemirror_mode": {
    "name": "ipython",
    "version": 3
   },
   "file_extension": ".py",
   "mimetype": "text/x-python",
   "name": "python",
   "nbconvert_exporter": "python",
   "pygments_lexer": "ipython3",
   "version": "3.12.3"
  }
 },
 "nbformat": 4,
 "nbformat_minor": 2
}
