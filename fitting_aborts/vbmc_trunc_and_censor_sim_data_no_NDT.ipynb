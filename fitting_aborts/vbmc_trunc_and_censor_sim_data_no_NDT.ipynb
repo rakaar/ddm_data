{
 "cells": [
  {
   "cell_type": "code",
   "execution_count": 1,
   "metadata": {},
   "outputs": [],
   "source": [
    "import numpy as np\n",
    "import matplotlib.pyplot as plt\n",
    "from joblib import Parallel, delayed\n",
    "from tqdm import tqdm\n",
    "from scipy.integrate import quad\n",
    "import pandas as pd\n",
    "\n",
    "from pyvbmc import VBMC\n",
    "import random\n",
    "import os\n",
    "from tqdm import tqdm"
   ]
  },
  {
   "cell_type": "markdown",
   "metadata": {},
   "source": [
    "# params"
   ]
  },
  {
   "cell_type": "code",
   "execution_count": 2,
   "metadata": {},
   "outputs": [],
   "source": [
    "V_A = 1.1\n",
    "# V_A = 9\n",
    "theta_A = 1.8\n",
    "\n",
    "rate_lambda = 0.14\n",
    "T_0 = 0.66 * (1e-3)\n",
    "theta_E = 40.5\n",
    "\n",
    "t_A_aff = 0\n",
    "t_E_aff = 0\n",
    "t_motor = 0\n",
    "\n",
    "Z_E = 0\n",
    "L = 0.5\n",
    "\n",
    "N_sim = int(500e3)\n",
    "dt = 1e-4\n",
    "\n",
    "N_print = int(100e5)\n",
    "\n",
    "t_stim_0 = 0.2\n",
    "t_stim_tau = 0.4\n",
    "\n",
    "T_trunc = 0.1"
   ]
  },
  {
   "cell_type": "markdown",
   "metadata": {},
   "source": [
    "# simualted data"
   ]
  },
  {
   "cell_type": "code",
   "execution_count": 3,
   "metadata": {},
   "outputs": [],
   "source": [
    "def psiam_tied_data_gen_wrapper(V_A, theta_A, ABL_arr, ILD_arr, rate_lambda, T_0, theta_E, Z_E, t_A_aff, t_E_aff, t_motor, L, \\\n",
    "                                t_stim_0, t_stim_tau, iter_num, N_print, dt):\n",
    "    ABL = random.choice(ABL_arr)\n",
    "    ILD = random.choice(ILD_arr)\n",
    "    \n",
    "    # t_stim is picked from a distribution\n",
    "    t_stim = np.random.exponential(t_stim_tau) + t_stim_0\n",
    "\n",
    "    # print after every N_print iterations\n",
    "    if iter_num % N_print == 0:\n",
    "        print(f'In iter_num: {iter_num}, ABL: {ABL}, ILD: {ILD}, t_stim: {t_stim}')\n",
    "\n",
    "\n",
    "    choice, rt, is_act = simulate_psiam_tied(V_A, theta_A, ABL, ILD, rate_lambda, T_0, theta_E, Z_E, t_stim, t_A_aff, t_E_aff, t_motor, L, dt)\n",
    "    return {'choice': choice, 'rt': rt, 'is_act': is_act ,'ABL': ABL, 'ILD': ILD, 't_stim': t_stim}\n",
    "\n",
    "def simulate_psiam_tied(V_A, theta_A, ABL, ILD, rate_lambda, T_0, theta_E, Z_E, t_stim, t_A_aff, t_E_aff, t_motor, L, dt):\n",
    "    AI = 0; DV = Z_E; t = 0; dB = dt**0.5\n",
    "    \n",
    "    chi = 17.37; q_e = 1\n",
    "    theta = theta_E * q_e\n",
    "    mu = (2*q_e/T_0) * (10**(rate_lambda * ABL/20)) * np.sinh(rate_lambda * ILD/chi)\n",
    "    sigma = np.sqrt( (2*(q_e**2)/T_0) * (10**(rate_lambda * ABL/20)) * np.cosh(rate_lambda * ILD/ chi) )\n",
    "    \n",
    "    is_act = 0\n",
    "    while True:\n",
    "        if t*dt > t_stim + t_E_aff:\n",
    "            DV += mu*dt + sigma*np.random.normal(0, dB)\n",
    "        \n",
    "        if t*dt > t_A_aff:\n",
    "            AI += V_A*dt + np.random.normal(0, dB)\n",
    "        \n",
    "        t += 1\n",
    "        \n",
    "        if DV >= theta:\n",
    "            choice = +1; RT = t*dt + t_motor\n",
    "            break\n",
    "        elif DV <= -theta:\n",
    "            choice = -1; RT = t*dt + t_motor\n",
    "            break\n",
    "        \n",
    "        if AI >= theta_A:\n",
    "            is_act = 1\n",
    "            AI_hit_time = t*dt\n",
    "            # if t*dt > t_stim - t_motor:\n",
    "            while t*dt <= (AI_hit_time + t_E_aff + t_motor):#  u can process evidence till stim plays\n",
    "                if t*dt > t_stim + t_E_aff: # Evid accum wil begin only after stim starts and afferent delay\n",
    "                    DV += mu*dt + sigma*np.random.normal(0, dB)\n",
    "                    if DV >= theta:\n",
    "                        DV = theta\n",
    "                        break\n",
    "                    elif DV <= -theta:\n",
    "                        DV = -theta\n",
    "                        break\n",
    "                t += 1\n",
    "            \n",
    "            break\n",
    "        \n",
    "        \n",
    "    if is_act == 1:\n",
    "        RT = AI_hit_time + t_motor\n",
    "        # if DV != 0:\n",
    "        if DV >= (1 + (L/2) - 1)*theta:\n",
    "            choice = 1\n",
    "        elif DV <= (1 - (L/2) - 1)*theta:\n",
    "            choice = -1\n",
    "        else:\n",
    "            prob_hit_up = (1/L)*((DV/theta) + 1) + (0.5 - (1/L))            \n",
    "            if np.random.rand() <= prob_hit_up:\n",
    "                choice = 1\n",
    "            else:\n",
    "                choice = -1\n",
    "        # if DV > 0:\n",
    "        #     choice = 1\n",
    "        # elif DV < 0:\n",
    "        #     choice = -1\n",
    "        # else: # if DV is 0 because stim has not yet been played, then choose right/left randomly\n",
    "        #     randomly_choose_up = np.random.rand() >= 0.5\n",
    "        #     if randomly_choose_up:\n",
    "        #         choice = 1\n",
    "        #     else:\n",
    "        #         choice = -1       \n",
    "    \n",
    "    return choice, RT, is_act"
   ]
  },
  {
   "cell_type": "markdown",
   "metadata": {},
   "source": [
    "# ABL ILD"
   ]
  },
  {
   "cell_type": "code",
   "execution_count": 4,
   "metadata": {},
   "outputs": [
    {
     "name": "stdout",
     "output_type": "stream",
     "text": [
      "ABL: [20 40 60]\n",
      "ILD: [-16.  -8.  -4.  -2.  -1.   1.   2.   4.   8.  16.]\n"
     ]
    }
   ],
   "source": [
    "# read out_LED.csv as dataframe\n",
    "og_df = pd.read_csv('../out_LED.csv')\n",
    "\n",
    "# chose non repeat trials - 0 or 2 or missing\n",
    "df = og_df[ og_df['repeat_trial'].isin([0,2]) | og_df['repeat_trial'].isna() ]\n",
    "\n",
    "# only session type 7\n",
    "session_type = 7    \n",
    "df = df[ df['session_type'].isin([session_type]) ]\n",
    "\n",
    "# training level 16\n",
    "training_level = 16\n",
    "df = df[ df['training_level'].isin([training_level]) ]\n",
    "\n",
    "# find ABL and ILD\n",
    "ABL_arr = df['ABL'].unique()\n",
    "ILD_arr = df['ILD'].unique()\n",
    "\n",
    "\n",
    "# sort ILD arr in ascending order\n",
    "ILD_arr = np.sort(ILD_arr)\n",
    "ABL_arr = np.sort(ABL_arr)\n",
    "\n",
    "print('ABL:', ABL_arr)\n",
    "print('ILD:', ILD_arr)"
   ]
  },
  {
   "cell_type": "markdown",
   "metadata": {},
   "source": [
    "# simulate"
   ]
  },
  {
   "cell_type": "code",
   "execution_count": 5,
   "metadata": {},
   "outputs": [
    {
     "name": "stderr",
     "output_type": "stream",
     "text": [
      "  0%|          | 32/500000 [00:00<39:55, 208.73it/s]"
     ]
    },
    {
     "name": "stdout",
     "output_type": "stream",
     "text": [
      "In iter_num: 0, ABL: 40, ILD: 8.0, t_stim: 0.5648468995358601\n"
     ]
    },
    {
     "name": "stderr",
     "output_type": "stream",
     "text": [
      "100%|██████████| 500000/500000 [02:44<00:00, 3044.79it/s]\n"
     ]
    },
    {
     "name": "stdout",
     "output_type": "stream",
     "text": [
      "% of aborts = 13.3034\n"
     ]
    }
   ],
   "source": [
    "\n",
    "sim_results = Parallel(n_jobs=-1)(\n",
    "            delayed(psiam_tied_data_gen_wrapper)(V_A, theta_A, ABL_arr, ILD_arr, rate_lambda, T_0, theta_E, Z_E, \\\n",
    "                                                  t_A_aff, t_E_aff, t_motor, L, t_stim_0, t_stim_tau, iter_num, N_print, dt)\n",
    "            for iter_num in tqdm(range(N_sim))\n",
    "        )\n",
    "num_aborts = len([ 1 for res in sim_results if res['rt'] < res['t_stim'] ]) \n",
    "print(f'% of aborts = {100*num_aborts/N_sim}')"
   ]
  },
  {
   "cell_type": "markdown",
   "metadata": {},
   "source": [
    "# helper func for likeli"
   ]
  },
  {
   "cell_type": "code",
   "execution_count": 6,
   "metadata": {},
   "outputs": [],
   "source": [
    "from scipy.special import erf\n",
    "def Phi(x):\n",
    "    \"\"\"\n",
    "    Define the normal cumulative distribution function Φ(x) using erf\n",
    "    \"\"\"\n",
    "    return 0.5 * (1 + erf(x / np.sqrt(2)))\n",
    "\n",
    "def rho_A_t_fn(t, V_A, theta_A):\n",
    "    \"\"\"\n",
    "    For AI,prob density of t given V_A, theta_A\n",
    "    \"\"\"\n",
    "    if t <= 0:\n",
    "        return 0\n",
    "    return (theta_A*1/np.sqrt(2*np.pi*(t)**3))*np.exp(-0.5 * (V_A**2) * (((t) - (theta_A/V_A))**2)/(t))\n",
    "\n",
    "\n",
    "def cum_A_t_fn(t, V_A, theta_A):\n",
    "    \"\"\"\n",
    "    For AI, calculate cummulative distrn of a time t given V_A, theta_A\n",
    "    \"\"\"\n",
    "    if t <= 0:\n",
    "        return 0\n",
    "\n",
    "    term1 = Phi(V_A * ((t) - (theta_A/V_A)) / np.sqrt(t))\n",
    "    term2 = np.exp(2 * V_A * theta_A) * Phi(-V_A * ((t) + (theta_A / V_A)) / np.sqrt(t))\n",
    "    \n",
    "    return term1 + term2\n"
   ]
  },
  {
   "cell_type": "markdown",
   "metadata": {},
   "source": [
    "# vbmc"
   ]
  },
  {
   "cell_type": "code",
   "execution_count": 7,
   "metadata": {},
   "outputs": [],
   "source": [
    "def compute_loglike(res, V_A, theta_A, pdf_trunc_factor):\n",
    "    t_stim = res['t_stim']\n",
    "    rt = res['rt']\n",
    "\n",
    "    if rt < T_trunc:\n",
    "        likelihood = 0\n",
    "    else:\n",
    "        prob_fix_survive = np.exp(- ( (t_stim - t_stim_0) / t_stim_tau ))\n",
    "        if rt < t_stim:\n",
    "            prob_of_hit = rho_A_t_fn(rt, V_A, theta_A)\n",
    "            likelihood =  (prob_fix_survive * prob_of_hit) / pdf_trunc_factor\n",
    "        elif rt > t_stim:\n",
    "            likelihood = (1 - prob_fix_survive) * (( 1 - cum_A_t_fn(t_stim, V_A, theta_A) ) / pdf_trunc_factor)\n",
    "\n",
    "\n",
    "    if likelihood <= 0:\n",
    "        likelihood = 1e-50\n",
    "\n",
    "    \n",
    "    return np.log(likelihood)    \n",
    "\n",
    "def prob_fix_survive_and_hit(t, t_stim_0, t_stim_tau, V_A, theta_A):\n",
    "    return np.exp(- ( (t - t_stim_0) / t_stim_tau )) * rho_A_t_fn(t, V_A, theta_A)\n",
    "\n",
    "def psiam_tied_loglike_fn(params):\n",
    "    V_A, theta_A = params\n",
    "\n",
    "    pdf_trunc_factor = quad(prob_fix_survive_and_hit, T_trunc, 10, args=(t_stim_0, t_stim_tau, V_A, theta_A))[0]\n",
    "    all_loglike = Parallel(n_jobs=1)(delayed(compute_loglike)(res, V_A, theta_A, pdf_trunc_factor) for res in sim_results)\n",
    "                                   \n",
    "\n",
    "\n",
    "    loglike = np.sum(all_loglike)\n",
    "    return loglike"
   ]
  },
  {
   "cell_type": "markdown",
   "metadata": {},
   "source": [
    "# bounds"
   ]
  },
  {
   "cell_type": "code",
   "execution_count": 8,
   "metadata": {},
   "outputs": [],
   "source": [
    "V_A_bounds = [0.1, 5]\n",
    "# V_A_bounds = [0.1, 11]\n",
    "theta_A_bounds = [0.5, 5]\n",
    "\n",
    "V_A_plausible_bounds = [0.5, 3]\n",
    "# V_A_plausible_bounds = [8, 10]\n",
    "theta_A_plausible_bounds = [1, 3]"
   ]
  },
  {
   "cell_type": "markdown",
   "metadata": {},
   "source": [
    "# prior"
   ]
  },
  {
   "cell_type": "code",
   "execution_count": 9,
   "metadata": {},
   "outputs": [],
   "source": [
    "def trapezoidal_logpdf(x, a, b, c, d):\n",
    "    if x < a or x > d:\n",
    "        return -np.inf  # Logarithm of zero\n",
    "    area = ((b - a) + (d - c)) / 2 + (c - b)\n",
    "    h_max = 1.0 / area  # Height of the trapezoid to normalize the area to 1\n",
    "    \n",
    "    if a <= x <= b:\n",
    "        pdf_value = ((x - a) / (b - a)) * h_max\n",
    "    elif b < x < c:\n",
    "        pdf_value = h_max\n",
    "    elif c <= x <= d:\n",
    "        pdf_value = ((d - x) / (d - c)) * h_max\n",
    "    else:\n",
    "        pdf_value = 0.0  # This case is redundant due to the initial check\n",
    "\n",
    "    if pdf_value <= 0.0:\n",
    "        return -np.inf\n",
    "    else:\n",
    "        return np.log(pdf_value)\n",
    "    \n",
    "\n",
    "def vbmc_prior_abort_fn(params):\n",
    "    V_A, theta_A = params\n",
    "\n",
    "    V_A_logpdf = trapezoidal_logpdf(V_A, V_A_bounds[0], V_A_plausible_bounds[0], V_A_plausible_bounds[1], V_A_bounds[1])\n",
    "    theta_A_logpdf = trapezoidal_logpdf(theta_A, theta_A_bounds[0], theta_A_plausible_bounds[0], theta_A_plausible_bounds[1], theta_A_bounds[1])\n",
    "\n",
    "    return V_A_logpdf + theta_A_logpdf"
   ]
  },
  {
   "cell_type": "markdown",
   "metadata": {},
   "source": [
    "# joint"
   ]
  },
  {
   "cell_type": "code",
   "execution_count": 10,
   "metadata": {},
   "outputs": [],
   "source": [
    "def vbmc_joint(params):\n",
    "    return vbmc_prior_abort_fn(params) + psiam_tied_loglike_fn(params)"
   ]
  },
  {
   "cell_type": "markdown",
   "metadata": {},
   "source": [
    "# run vbmc"
   ]
  },
  {
   "cell_type": "code",
   "execution_count": 11,
   "metadata": {},
   "outputs": [],
   "source": [
    "lb = [V_A_bounds[0], theta_A_bounds[0]]\n",
    "ub = [V_A_bounds[1], theta_A_bounds[1]]\n",
    "\n",
    "\n",
    "plb = [V_A_plausible_bounds[0], theta_A_plausible_bounds[0]]\n",
    "pub = [V_A_plausible_bounds[1], theta_A_plausible_bounds[1]]\n",
    "\n",
    "np.random.seed(42)\n",
    "V_A_0 = np.random.uniform(V_A_plausible_bounds[0], V_A_plausible_bounds[1])\n",
    "theta_A_0 = np.random.uniform(theta_A_plausible_bounds[0], theta_A_plausible_bounds[1])\n",
    "\n",
    "x_0 = np.array([V_A_0, theta_A_0])\n"
   ]
  },
  {
   "cell_type": "code",
   "execution_count": 12,
   "metadata": {},
   "outputs": [
    {
     "name": "stdout",
     "output_type": "stream",
     "text": [
      "Reshaping x0 to row vector.\n",
      "Reshaping lower bounds to (1, 2).\n",
      "Reshaping upper bounds to (1, 2).\n",
      "Reshaping plausible lower bounds to (1, 2).\n",
      "Reshaping plausible upper bounds to (1, 2).\n",
      "Casting upper bounds to floating point.\n",
      "Casting plausible upper bounds to floating point.\n"
     ]
    },
    {
     "name": "stderr",
     "output_type": "stream",
     "text": [
      "/home/rlab/raghavendra/ddm_data/.venv/lib/python3.12/site-packages/cma/evolution_strategy.py:3379: RuntimeWarning: invalid value encountered in scalar subtract\n",
      "  current_fitness_range < opts['tolfunrel'] * (es.fit.median0 - es.fit.median_min),\n",
      "/home/rlab/raghavendra/ddm_data/.venv/lib/python3.12/site-packages/cma/evolution_strategy.py:3379: RuntimeWarning: invalid value encountered in scalar multiply\n",
      "  current_fitness_range < opts['tolfunrel'] * (es.fit.median0 - es.fit.median_min),\n",
      "/home/rlab/raghavendra/ddm_data/.venv/lib/python3.12/site-packages/pyvbmc/vbmc/active_sample.py:584: UserWarning: Rank-one update of Cholesky factor unstable for posterior 3. Reverting to full update.\n",
      "  gp.update(xnew, ynew, compute_posterior=True)\n",
      "/home/rlab/raghavendra/ddm_data/.venv/lib/python3.12/site-packages/pyvbmc/vbmc/active_sample.py:584: UserWarning: Rank-one update of Cholesky factor unstable for posterior 5. Reverting to full update.\n",
      "  gp.update(xnew, ynew, compute_posterior=True)\n",
      "/home/rlab/raghavendra/ddm_data/.venv/lib/python3.12/site-packages/pyvbmc/vbmc/active_sample.py:584: UserWarning: Rank-one update of Cholesky factor unstable for posterior 0. Reverting to full update.\n",
      "  gp.update(xnew, ynew, compute_posterior=True)\n",
      "/home/rlab/raghavendra/ddm_data/.venv/lib/python3.12/site-packages/pyvbmc/vbmc/active_sample.py:584: UserWarning: Rank-one update of Cholesky factor unstable for posterior 1. Reverting to full update.\n",
      "  gp.update(xnew, ynew, compute_posterior=True)\n",
      "/home/rlab/raghavendra/ddm_data/.venv/lib/python3.12/site-packages/pyvbmc/vbmc/active_sample.py:584: UserWarning: Rank-one update of Cholesky factor unstable for posterior 4. Reverting to full update.\n",
      "  gp.update(xnew, ynew, compute_posterior=True)\n",
      "/home/rlab/raghavendra/ddm_data/.venv/lib/python3.12/site-packages/pyvbmc/vbmc/active_sample.py:584: UserWarning: Rank-one update of Cholesky factor unstable for posterior 7. Reverting to full update.\n",
      "  gp.update(xnew, ynew, compute_posterior=True)\n",
      "/home/rlab/raghavendra/ddm_data/.venv/lib/python3.12/site-packages/pyvbmc/vbmc/active_sample.py:584: UserWarning: Rank-one update of Cholesky factor unstable for posterior 2. Reverting to full update.\n",
      "  gp.update(xnew, ynew, compute_posterior=True)\n",
      "/home/rlab/raghavendra/ddm_data/.venv/lib/python3.12/site-packages/pyvbmc/vbmc/active_sample.py:584: UserWarning: Rank-one update of Cholesky factor unstable for posterior 6. Reverting to full update.\n",
      "  gp.update(xnew, ynew, compute_posterior=True)\n"
     ]
    },
    {
     "name": "stdout",
     "output_type": "stream",
     "text": [
      "Inference terminated: reached maximum number of function evaluations options.max_fun_evals.\n",
      "Estimated ELBO: 3176344.720 +/-0.017.\n",
      "Caution: Returned variational solution may have not converged.\n"
     ]
    }
   ],
   "source": [
    "vbmc = VBMC(vbmc_joint, x_0, lb, ub, plb, pub, options={'display': 'off'})\n",
    "vp, results = vbmc.optimize()"
   ]
  },
  {
   "cell_type": "markdown",
   "metadata": {},
   "source": [
    "# corner"
   ]
  },
  {
   "cell_type": "code",
   "execution_count": 13,
   "metadata": {},
   "outputs": [
    {
     "data": {
      "image/png": "[encoded data removed]",
      "text/plain": [
       "<Figure size 550x550 with 4 Axes>"
      ]
     },
     "metadata": {},
     "output_type": "display_data"
    }
   ],
   "source": [
    "import corner\n",
    "vp_samples = vp.sample(int(1e6))[0]\n",
    "V_A_samp = vp_samples[:,0]\n",
    "theta_A_samp = vp_samples[:,1]\n",
    "\n",
    "combined_samples = np.transpose(np.vstack((V_A_samp, theta_A_samp)))\n",
    "param_labels = ['V_A', 'theta_A']\n",
    "true_params = [V_A, theta_A]\n",
    "corner.corner (combined_samples, labels=param_labels, show_titles=True, title_fmt=\".4f\", truths=true_params  );\n"
   ]
  },
  {
   "cell_type": "markdown",
   "metadata": {},
   "source": [
    "# simulate with vp mean params"
   ]
  },
  {
   "cell_type": "code",
   "execution_count": 14,
   "metadata": {},
   "outputs": [
    {
     "name": "stderr",
     "output_type": "stream",
     "text": [
      "  0%|          | 0/500000 [00:00<?, ?it/s]"
     ]
    },
    {
     "name": "stdout",
     "output_type": "stream",
     "text": [
      "In iter_num: 0, ABL: 20, ILD: -2.0, t_stim: 0.27298459228643107\n"
     ]
    },
    {
     "name": "stderr",
     "output_type": "stream",
     "text": [
      "  8%|▊         | 41920/500000 [00:17<03:08, 2432.08it/s]"
     ]
    },
    {
     "ename": "KeyboardInterrupt",
     "evalue": "",
     "output_type": "error",
     "traceback": [
      "\u001b[0;31m---------------------------------------------------------------------------\u001b[0m",
      "\u001b[0;31mKeyboardInterrupt\u001b[0m                         Traceback (most recent call last)",
      "Cell \u001b[0;32mIn[14], line 4\u001b[0m\n\u001b[1;32m      1\u001b[0m V_A_samp_mean \u001b[38;5;241m=\u001b[39m np\u001b[38;5;241m.\u001b[39mmean(V_A_samp)\n\u001b[1;32m      2\u001b[0m theta_A_samp_mean \u001b[38;5;241m=\u001b[39m np\u001b[38;5;241m.\u001b[39mmean(theta_A_samp)\n\u001b[0;32m----> 4\u001b[0m sim_results_samp_mean \u001b[38;5;241m=\u001b[39m \u001b[43mParallel\u001b[49m\u001b[43m(\u001b[49m\u001b[43mn_jobs\u001b[49m\u001b[38;5;241;43m=\u001b[39;49m\u001b[38;5;241;43m-\u001b[39;49m\u001b[38;5;241;43m1\u001b[39;49m\u001b[43m)\u001b[49m\u001b[43m(\u001b[49m\n\u001b[1;32m      5\u001b[0m \u001b[43m            \u001b[49m\u001b[43mdelayed\u001b[49m\u001b[43m(\u001b[49m\u001b[43mpsiam_tied_data_gen_wrapper\u001b[49m\u001b[43m)\u001b[49m\u001b[43m(\u001b[49m\u001b[43mV_A_samp_mean\u001b[49m\u001b[43m,\u001b[49m\u001b[43m \u001b[49m\u001b[43mtheta_A_samp_mean\u001b[49m\u001b[43m,\u001b[49m\u001b[43m \u001b[49m\u001b[43mABL_arr\u001b[49m\u001b[43m,\u001b[49m\u001b[43m \u001b[49m\u001b[43mILD_arr\u001b[49m\u001b[43m,\u001b[49m\u001b[43m \u001b[49m\u001b[43mrate_lambda\u001b[49m\u001b[43m,\u001b[49m\u001b[43m \u001b[49m\u001b[43mT_0\u001b[49m\u001b[43m,\u001b[49m\u001b[43m \u001b[49m\u001b[43mtheta_E\u001b[49m\u001b[43m,\u001b[49m\u001b[43m \u001b[49m\u001b[43mZ_E\u001b[49m\u001b[43m,\u001b[49m\u001b[43m \u001b[49m\u001b[43m\\\u001b[49m\n\u001b[1;32m      6\u001b[0m \u001b[43m                                                  \u001b[49m\u001b[43mt_A_aff\u001b[49m\u001b[43m,\u001b[49m\u001b[43m \u001b[49m\u001b[43mt_E_aff\u001b[49m\u001b[43m,\u001b[49m\u001b[43m \u001b[49m\u001b[43mt_motor\u001b[49m\u001b[43m,\u001b[49m\u001b[43m \u001b[49m\u001b[43mL\u001b[49m\u001b[43m,\u001b[49m\u001b[43m \u001b[49m\u001b[43mt_stim_0\u001b[49m\u001b[43m,\u001b[49m\u001b[43m \u001b[49m\u001b[43mt_stim_tau\u001b[49m\u001b[43m,\u001b[49m\u001b[43m \u001b[49m\u001b[43miter_num\u001b[49m\u001b[43m,\u001b[49m\u001b[43m \u001b[49m\u001b[43mN_print\u001b[49m\u001b[43m,\u001b[49m\u001b[43m \u001b[49m\u001b[43mdt\u001b[49m\u001b[43m)\u001b[49m\n\u001b[1;32m      7\u001b[0m \u001b[43m            \u001b[49m\u001b[38;5;28;43;01mfor\u001b[39;49;00m\u001b[43m \u001b[49m\u001b[43miter_num\u001b[49m\u001b[43m \u001b[49m\u001b[38;5;129;43;01min\u001b[39;49;00m\u001b[43m \u001b[49m\u001b[43mtqdm\u001b[49m\u001b[43m(\u001b[49m\u001b[38;5;28;43mrange\u001b[39;49m\u001b[43m(\u001b[49m\u001b[43mN_sim\u001b[49m\u001b[43m)\u001b[49m\u001b[43m)\u001b[49m\n\u001b[1;32m      8\u001b[0m \u001b[43m        \u001b[49m\u001b[43m)\u001b[49m\n",
      "File \u001b[0;32m~/raghavendra/ddm_data/.venv/lib/python3.12/site-packages/joblib/parallel.py:2007\u001b[0m, in \u001b[0;36mParallel.__call__\u001b[0;34m(self, iterable)\u001b[0m\n\u001b[1;32m   2001\u001b[0m \u001b[38;5;66;03m# The first item from the output is blank, but it makes the interpreter\u001b[39;00m\n\u001b[1;32m   2002\u001b[0m \u001b[38;5;66;03m# progress until it enters the Try/Except block of the generator and\u001b[39;00m\n\u001b[1;32m   2003\u001b[0m \u001b[38;5;66;03m# reaches the first `yield` statement. This starts the asynchronous\u001b[39;00m\n\u001b[1;32m   2004\u001b[0m \u001b[38;5;66;03m# dispatch of the tasks to the workers.\u001b[39;00m\n\u001b[1;32m   2005\u001b[0m \u001b[38;5;28mnext\u001b[39m(output)\n\u001b[0;32m-> 2007\u001b[0m \u001b[38;5;28;01mreturn\u001b[39;00m output \u001b[38;5;28;01mif\u001b[39;00m \u001b[38;5;28mself\u001b[39m\u001b[38;5;241m.\u001b[39mreturn_generator \u001b[38;5;28;01melse\u001b[39;00m \u001b[38;5;28;43mlist\u001b[39;49m\u001b[43m(\u001b[49m\u001b[43moutput\u001b[49m\u001b[43m)\u001b[49m\n",
      "File \u001b[0;32m~/raghavendra/ddm_data/.venv/lib/python3.12/site-packages/joblib/parallel.py:1650\u001b[0m, in \u001b[0;36mParallel._get_outputs\u001b[0;34m(self, iterator, pre_dispatch)\u001b[0m\n\u001b[1;32m   1647\u001b[0m     \u001b[38;5;28;01myield\u001b[39;00m\n\u001b[1;32m   1649\u001b[0m     \u001b[38;5;28;01mwith\u001b[39;00m \u001b[38;5;28mself\u001b[39m\u001b[38;5;241m.\u001b[39m_backend\u001b[38;5;241m.\u001b[39mretrieval_context():\n\u001b[0;32m-> 1650\u001b[0m         \u001b[38;5;28;01myield from\u001b[39;00m \u001b[38;5;28mself\u001b[39m\u001b[38;5;241m.\u001b[39m_retrieve()\n\u001b[1;32m   1652\u001b[0m \u001b[38;5;28;01mexcept\u001b[39;00m \u001b[38;5;167;01mGeneratorExit\u001b[39;00m:\n\u001b[1;32m   1653\u001b[0m     \u001b[38;5;66;03m# The generator has been garbage collected before being fully\u001b[39;00m\n\u001b[1;32m   1654\u001b[0m     \u001b[38;5;66;03m# consumed. This aborts the remaining tasks if possible and warn\u001b[39;00m\n\u001b[1;32m   1655\u001b[0m     \u001b[38;5;66;03m# the user if necessary.\u001b[39;00m\n\u001b[1;32m   1656\u001b[0m     \u001b[38;5;28mself\u001b[39m\u001b[38;5;241m.\u001b[39m_exception \u001b[38;5;241m=\u001b[39m \u001b[38;5;28;01mTrue\u001b[39;00m\n",
      "File \u001b[0;32m~/raghavendra/ddm_data/.venv/lib/python3.12/site-packages/joblib/parallel.py:1762\u001b[0m, in \u001b[0;36mParallel._retrieve\u001b[0;34m(self)\u001b[0m\n\u001b[1;32m   1757\u001b[0m \u001b[38;5;66;03m# If the next job is not ready for retrieval yet, we just wait for\u001b[39;00m\n\u001b[1;32m   1758\u001b[0m \u001b[38;5;66;03m# async callbacks to progress.\u001b[39;00m\n\u001b[1;32m   1759\u001b[0m \u001b[38;5;28;01mif\u001b[39;00m ((\u001b[38;5;28mlen\u001b[39m(\u001b[38;5;28mself\u001b[39m\u001b[38;5;241m.\u001b[39m_jobs) \u001b[38;5;241m==\u001b[39m \u001b[38;5;241m0\u001b[39m) \u001b[38;5;129;01mor\u001b[39;00m\n\u001b[1;32m   1760\u001b[0m     (\u001b[38;5;28mself\u001b[39m\u001b[38;5;241m.\u001b[39m_jobs[\u001b[38;5;241m0\u001b[39m]\u001b[38;5;241m.\u001b[39mget_status(\n\u001b[1;32m   1761\u001b[0m         timeout\u001b[38;5;241m=\u001b[39m\u001b[38;5;28mself\u001b[39m\u001b[38;5;241m.\u001b[39mtimeout) \u001b[38;5;241m==\u001b[39m TASK_PENDING)):\n\u001b[0;32m-> 1762\u001b[0m     \u001b[43mtime\u001b[49m\u001b[38;5;241;43m.\u001b[39;49m\u001b[43msleep\u001b[49m\u001b[43m(\u001b[49m\u001b[38;5;241;43m0.01\u001b[39;49m\u001b[43m)\u001b[49m\n\u001b[1;32m   1763\u001b[0m     \u001b[38;5;28;01mcontinue\u001b[39;00m\n\u001b[1;32m   1765\u001b[0m \u001b[38;5;66;03m# We need to be careful: the job list can be filling up as\u001b[39;00m\n\u001b[1;32m   1766\u001b[0m \u001b[38;5;66;03m# we empty it and Python list are not thread-safe by\u001b[39;00m\n\u001b[1;32m   1767\u001b[0m \u001b[38;5;66;03m# default hence the use of the lock\u001b[39;00m\n",
      "\u001b[0;31mKeyboardInterrupt\u001b[0m: "
     ]
    }
   ],
   "source": [
    "V_A_samp_mean = np.mean(V_A_samp)\n",
    "theta_A_samp_mean = np.mean(theta_A_samp)\n",
    "\n",
    "sim_results_samp_mean = Parallel(n_jobs=-1)(\n",
    "            delayed(psiam_tied_data_gen_wrapper)(V_A_samp_mean, theta_A_samp_mean, ABL_arr, ILD_arr, rate_lambda, T_0, theta_E, Z_E, \\\n",
    "                                                  t_A_aff, t_E_aff, t_motor, L, t_stim_0, t_stim_tau, iter_num, N_print, dt)\n",
    "            for iter_num in tqdm(range(N_sim))\n",
    "        )\n"
   ]
  },
  {
   "cell_type": "markdown",
   "metadata": {},
   "source": [
    "# aborts distrn compare"
   ]
  },
  {
   "cell_type": "code",
   "execution_count": null,
   "metadata": {},
   "outputs": [],
   "source": [
    "bins = np.arange(0, 2, 0.01)\n",
    "# original sim data\n",
    "aborts_og = [res['rt'] for res in sim_results if res['rt'] < res['t_stim'] and res['rt'] > T_trunc]\n",
    "\n",
    "# vp mean sim data \n",
    "aborts_samp_mean = [res['rt'] for res in sim_results_samp_mean if res['rt'] < res['t_stim'] and res['rt'] > T_trunc]\n"
   ]
  },
  {
   "cell_type": "code",
   "execution_count": null,
   "metadata": {},
   "outputs": [],
   "source": [
    "plt.hist(aborts_og, bins, alpha=0.5, label='Original', density=True, color='b')\n",
    "plt.hist(aborts_samp_mean, bins, alpha=0.5, label='VP Mean', density=True, color='r')\n",
    "\n",
    "plt.xlabel('abort rt'); plt.ylabel('density'); plt.legend();"
   ]
  },
  {
   "cell_type": "markdown",
   "metadata": {},
   "source": [
    "# check PDF fit"
   ]
  },
  {
   "cell_type": "code",
   "execution_count": null,
   "metadata": {},
   "outputs": [],
   "source": [
    "\n",
    "def prob_hit_and_fix_survive(t, t_stim_0, t_stim_tau, V_A, theta_A):\n",
    "    if t < t_stim_0:\n",
    "        fix_survive = 1\n",
    "    else:\n",
    "        fix_survive = np.exp(-(t - t_stim_0)/t_stim_tau)\n",
    "    \n",
    "    return rho_A_t_fn(t, V_A, theta_A) * fix_survive\n",
    "    \n",
    "    \n",
    "\n",
    "\n",
    "def pdf_aborts(t, t_stim_0, t_stim_tau, V_A, theta_A, T_trunc, PDF_trunc_factor):\n",
    "    \"\"\"\n",
    "    pdf of aborts with stim time\n",
    "    \"\"\"\n",
    "    if t < T_trunc:\n",
    "        return 0\n",
    "    \n",
    "\n",
    "    pdf_hit_and_fix_survive_truncated = prob_hit_and_fix_survive(t, t_stim_0, t_stim_tau, V_A, theta_A) / PDF_trunc_factor\n",
    "    return pdf_hit_and_fix_survive_truncated\n",
    "    \n",
    "    # if t < t_stim_0:\n",
    "    #     fix_survive = 1\n",
    "    # else:\n",
    "    #     fix_survive = np.exp(-(t - t_stim_0)/t_stim_tau)\n",
    "\n",
    "    # return pdf_hit_and_fix_survive_truncated\n",
    "\n",
    "    # pdf_fix_ended_and_censored = (1 - fix_survive)*( 1 - (cum_A_t_fn(t, V_A, theta_A)/PDF_trunc_factor) )\n",
    "\n",
    "    # return pdf_hit_and_fix_survive_truncated + pdf_fix_ended_and_censored\n",
    "\n",
    "\n"
   ]
  },
  {
   "cell_type": "markdown",
   "metadata": {},
   "source": [
    "# pdf fit - vp params and vp data"
   ]
  },
  {
   "cell_type": "code",
   "execution_count": null,
   "metadata": {},
   "outputs": [],
   "source": [
    "pdf_trunc_factor = quad(prob_hit_and_fix_survive, T_trunc, 10, args=(t_stim_0, t_stim_tau, V_A_samp_mean, theta_A_samp_mean))[0]\n",
    "\n",
    "t_pts = bins[:-1] + np.diff(bins)/2\n",
    "theory_pdf_aborts = [pdf_aborts(t, t_stim_0, t_stim_tau, V_A_samp_mean, theta_A_samp_mean, T_trunc, pdf_trunc_factor) for t in t_pts]\n"
   ]
  },
  {
   "cell_type": "code",
   "execution_count": null,
   "metadata": {},
   "outputs": [],
   "source": [
    "plt.hist(aborts_samp_mean, bins, alpha=0.5, label='VP Mean', density=True, color='r')\n",
    "plt.plot(t_pts, theory_pdf_aborts, label='Theory', color='g')\n",
    "plt.xlabel('abort rt'); plt.ylabel('density'); plt.legend(); plt.title('VP Mean vs Theory');"
   ]
  },
  {
   "cell_type": "markdown",
   "metadata": {},
   "source": [
    "# pdf fit og params - og data"
   ]
  },
  {
   "cell_type": "code",
   "execution_count": null,
   "metadata": {},
   "outputs": [],
   "source": [
    "plt.hist(aborts_og, bins, alpha=0.5, label='Original', density=True, color='b')\n",
    "t_pts = bins[:-1] + np.diff(bins)/2\n",
    "pdf_trunc_factor = quad(prob_hit_and_fix_survive, T_trunc, 10, args=(t_stim_0, t_stim_tau, V_A, theta_A))[0]\n",
    "pdf_theory = [pdf_aborts(t, t_stim_0, t_stim_tau, V_A, theta_A, T_trunc, pdf_trunc_factor) for t in t_pts]\n",
    "\n",
    "plt.plot(t_pts, pdf_theory, label='Theory - og params', color='g')\n",
    "plt.xlabel('abort rt'); plt.ylabel('density'); plt.legend(); plt.title('Original vs Theory');\n",
    "\n"
   ]
  },
  {
   "cell_type": "markdown",
   "metadata": {},
   "source": [
    "# pdf fit - vp params on og data"
   ]
  },
  {
   "cell_type": "code",
   "execution_count": null,
   "metadata": {},
   "outputs": [],
   "source": [
    "plt.hist(aborts_og, bins, alpha=0.5, label='Original', density=True, color='b')\n",
    "\n",
    "theory_pdf_aborts = [pdf_aborts(t, t_stim_0, t_stim_tau, V_A_samp_mean, theta_A_samp_mean, T_trunc, pdf_trunc_factor) for t in t_pts]\n",
    "\n",
    "plt.plot(t_pts, theory_pdf_aborts, label='Theory vp params', color='g')\n",
    "plt.xlabel('abort rt'); plt.ylabel('density'); plt.legend(); plt.title('Original vs Theory');"
   ]
  },
  {
   "cell_type": "code",
   "execution_count": null,
   "metadata": {},
   "outputs": [],
   "source": []
  }
 ],
 "metadata": {
  "kernelspec": {
   "display_name": ".venv",
   "language": "python",
   "name": "python3"
  },
  "language_info": {
   "codemirror_mode": {
    "name": "ipython",
    "version": 3
   },
   "file_extension": ".py",
   "mimetype": "text/x-python",
   "name": "python",
   "nbconvert_exporter": "python",
   "pygments_lexer": "ipython3",
   "version": "3.12.3"
  }
 },
 "nbformat": 4,
 "nbformat_minor": 2
}
