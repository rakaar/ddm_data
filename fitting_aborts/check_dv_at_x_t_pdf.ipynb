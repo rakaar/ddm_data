{
 "cells": [
  {
   "cell_type": "code",
   "execution_count": 2,
   "metadata": {},
   "outputs": [],
   "source": [
    "import numpy as np\n",
    "import matplotlib.pyplot as plt\n",
    "from joblib import Parallel, delayed\n",
    "from tqdm import tqdm"
   ]
  },
  {
   "cell_type": "code",
   "execution_count": 3,
   "metadata": {},
   "outputs": [],
   "source": [
    "N_sim = int(1e5)\n",
    "dt = 1e-3\n",
    "T_max = 2\n",
    "dB = np.sqrt(dt)\n",
    "\n",
    "DV_vs_t = np.zeros((N_sim, int(T_max/dt)))\n",
    "\n",
    "\n",
    "v = 1; a = 2"
   ]
  },
  {
   "cell_type": "code",
   "execution_count": 4,
   "metadata": {},
   "outputs": [
    {
     "name": "stderr",
     "output_type": "stream",
     "text": [
      "100%|██████████| 100000/100000 [01:21<00:00, 1230.09it/s]\n"
     ]
    }
   ],
   "source": [
    "for n in tqdm(range(N_sim)):\n",
    "    t = 0\n",
    "    DV = 0\n",
    "    for i in range(1,int(T_max/dt)):\n",
    "        t += dt\n",
    "        DV += v*dt + np.random.normal(0, dB)\n",
    "        DV_vs_t[n, int(t/dt)] = DV\n",
    "        if DV >= a:\n",
    "            break\n",
    "        "
   ]
  },
  {
   "cell_type": "code",
   "execution_count": 5,
   "metadata": {},
   "outputs": [],
   "source": [
    "t = 0.05\n",
    "t_bin = int(t/dt)"
   ]
  },
  {
   "cell_type": "code",
   "execution_count": 6,
   "metadata": {},
   "outputs": [],
   "source": [
    "def theory_curve(x,t,v,a):\n",
    "    return (1/np.sqrt(2 * (np.pi**2) * t)) * \\\n",
    "        ( np.exp(-((x - v*t)**2)/2*t) - np.exp( 2*v*a - ((x - 2*a - v*t)**2)/(2*t) ) )"
   ]
  },
  {
   "cell_type": "code",
   "execution_count": 8,
   "metadata": {},
   "outputs": [],
   "source": [
    "import numpy as np\n",
    "\n",
    "def diffusion_pdf(x, t, v, D, a, num_terms=100):\n",
    "    \"\"\"\n",
    "    Calculate the PDF of a diffusion process with drift and absorbing boundaries.\n",
    "\n",
    "    Parameters:\n",
    "    x (float): Position at which to evaluate the PDF.\n",
    "    t (float): Time at which to evaluate the PDF.\n",
    "    v (float): Drift velocity.\n",
    "    D (float): Diffusion coefficient.\n",
    "    a (float): Length of the interval [0, a].\n",
    "    num_terms (int): Number of terms to include in the series approximation.\n",
    "\n",
    "    Returns:\n",
    "    float: The value of the PDF at position x and time t.\n",
    "    \"\"\"\n",
    "    if x < 0 or x > a or t <= 0:\n",
    "        return 0.0\n",
    "\n",
    "    pdf_value = 0.0\n",
    "    for n in range(1, num_terms + 1):\n",
    "        lambda_n = n * np.pi / a\n",
    "        k_n = (v / (2 * D))**2 + (lambda_n**2)\n",
    "        A_n = 2 / a * np.sin(lambda_n * x)\n",
    "        term = A_n * np.exp(-D * k_n * t + (v * x) / (2 * D))\n",
    "        pdf_value += term\n",
    "\n",
    "    return pdf_value\n"
   ]
  },
  {
   "cell_type": "code",
   "execution_count": 7,
   "metadata": {},
   "outputs": [
    {
     "data": {
      "text/plain": [
       "8.270363379154869"
      ]
     },
     "execution_count": 7,
     "metadata": {},
     "output_type": "execute_result"
    }
   ],
   "source": [
    "from scipy.integrate import quad\n",
    "quad(theory_curve, -10, 3, args=(t,v,a))[0]"
   ]
  },
  {
   "cell_type": "code",
   "execution_count": 12,
   "metadata": {},
   "outputs": [
    {
     "data": {
      "text/plain": [
       "[<matplotlib.lines.Line2D at 0x7b567f750a70>]"
      ]
     },
     "execution_count": 12,
     "metadata": {},
     "output_type": "execute_result"
    },
    {
     "data": {
      "image/png": "[encoded data removed]",
      "text/plain": [
       "<Figure size 640x480 with 1 Axes>"
      ]
     },
     "metadata": {},
     "output_type": "display_data"
    }
   ],
   "source": [
    "P_x_at_t = DV_vs_t[:,t_bin]\n",
    "# remove zeros from P_x_at_t \n",
    "# P_x_at_t = P_x_at_t[P_x_at_t != 0]\n",
    "plt.hist(P_x_at_t, bins=100, density=True);\n",
    "\n",
    "x_pts = np.linspace(-2, 2.1, 100)\n",
    "theory = [theory_curve(x, t, v, a) for x in x_pts]\n",
    "plt.plot(x_pts, theory)\n",
    "\n",
    "new_theory = [diffusion_pdf(x, t, v, 1, a) for x in x_pts]\n",
    "plt.plot(x_pts, new_theory)"
   ]
  },
  {
   "cell_type": "code",
   "execution_count": null,
   "metadata": {},
   "outputs": [],
   "source": []
  }
 ],
 "metadata": {
  "kernelspec": {
   "display_name": ".venv",
   "language": "python",
   "name": "python3"
  },
  "language_info": {
   "codemirror_mode": {
    "name": "ipython",
    "version": 3
   },
   "file_extension": ".py",
   "mimetype": "text/x-python",
   "name": "python",
   "nbconvert_exporter": "python",
   "pygments_lexer": "ipython3",
   "version": "3.12.3"
  }
 },
 "nbformat": 4,
 "nbformat_minor": 2
}
