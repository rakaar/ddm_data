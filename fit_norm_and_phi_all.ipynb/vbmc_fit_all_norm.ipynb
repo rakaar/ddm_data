{
 "cells": [
  {
   "cell_type": "code",
   "execution_count": null,
   "metadata": {},
   "outputs": [],
   "source": [
    "import numpy as np\n",
    "import matplotlib.pyplot as plt\n",
    "import pandas as pd\n",
    "from tqdm import tqdm\n",
    "from joblib import Parallel, delayed\n",
    "from pyvbmc import VBMC\n",
    "import corner\n",
    "from psiam_tied_dv_map_utils import rho_A_t_fn, up_RTs_fit_fn, down_RTs_fit_fn, up_RTs_fit_single_t_fn, psiam_tied_data_gen_wrapper, psiam_tied_data_gen_wrapper_V2\n",
    "import sys\n",
    "import multiprocessing\n",
    "from psiam_tied_no_dv_map_utils import cum_A_t_fn\n",
    "from psiam_tied_no_dv_map_utils import rho_A_t_fn, cum_A_t_fn, rho_E_minus_small_t_NORM_fn\n",
    "from psiam_tied_dv_map_utils import cum_E_t_fn\n",
    "from tqdm import tqdm\n",
    "from scipy.integrate import trapezoid\n",
    "import random\n"
   ]
  },
  {
   "cell_type": "code",
   "execution_count": 4,
   "metadata": {},
   "outputs": [
    {
     "name": "stdout",
     "output_type": "stream",
     "text": [
      "ABL: [20 40 60]\n",
      "ILD: [-16.  -8.  -4.  -2.  -1.   1.   2.   4.   8.  16.]\n"
     ]
    }
   ],
   "source": [
    "# read out_LED.csv as dataframe\n",
    "og_df = pd.read_csv('../out_LED.csv')\n",
    "\n",
    "# chose non repeat trials - 0 or 2 or missing\n",
    "df = og_df[ og_df['repeat_trial'].isin([0,2]) | og_df['repeat_trial'].isna() ]\n",
    "\n",
    "# only session type 7\n",
    "session_type = 7    \n",
    "df = df[ df['session_type'].isin([session_type]) ]\n",
    "\n",
    "# training level 16\n",
    "training_level = 16\n",
    "df = df[ df['training_level'].isin([training_level]) ]\n",
    "\n",
    "df = df[  df['LED_trial'] == 0 ]\n",
    "\n",
    "# 1 is right , -1 is left\n",
    "df['choice'] = df['response_poke'].apply(lambda x: 1 if x == 3 else (-1 if x == 2 else random.choice([1, -1])))\n",
    "\n",
    "# 1 or 0 if the choice was correct or not\n",
    "df['correct'] = (df['ILD'] * df['choice']).apply(lambda x: 1 if x > 0 else 0)\n",
    "\n",
    "# find ABL and ILD\n",
    "ABL_arr = df['ABL'].unique()\n",
    "ILD_arr = df['ILD'].unique()\n",
    "\n",
    "\n",
    "# sort ILD arr in ascending order\n",
    "ILD_arr = np.sort(ILD_arr)\n",
    "ABL_arr = np.sort(ABL_arr)\n",
    "\n",
    "print('ABL:', ABL_arr)\n",
    "print('ILD:', ILD_arr)"
   ]
  },
  {
   "cell_type": "code",
   "execution_count": 11,
   "metadata": {},
   "outputs": [
    {
     "name": "stdout",
     "output_type": "stream",
     "text": [
      "len df_led_off = 66226\n",
      "52799\n"
     ]
    }
   ],
   "source": [
    "# LED off rows\n",
    "df_led_off = df[ df['LED_trial'] == 0 ]\n",
    "print(f'len df_led_off = {len(df_led_off)}')\n",
    "\n",
    "# > 0 and < 1s valid rt \n",
    "df_led_off_valid = df_led_off[\n",
    "    (df_led_off['timed_fix'] - df_led_off['intended_fix'] > 0) &\n",
    "    (df_led_off['timed_fix'] - df_led_off['intended_fix'] < 1)\n",
    "]\n",
    "\n",
    "df_led_off_valid = df_led_off_valid[df_led_off_valid['response_poke'].isin([2,3])]\n",
    "\n",
    "print(len(df_led_off_valid))"
   ]
  },
  {
   "cell_type": "code",
   "execution_count": 12,
   "metadata": {},
   "outputs": [],
   "source": [
    "V_A = 1.596\n",
    "theta_A = 2.531\n",
    "t_A_aff = -0.226\n",
    "del_go = 0.13"
   ]
  },
  {
   "cell_type": "markdown",
   "metadata": {},
   "source": [
    "# vbmc"
   ]
  },
  {
   "cell_type": "code",
   "execution_count": null,
   "metadata": {},
   "outputs": [],
   "source": [
    "# up_or_down_RTs_fit_fn(t, V_A, theta_A, ABL, ILD, rate_lambda, T_0, theta_E, Z_E, t_stim, t_A_aff, t_E_aff, del_go, rate_norm_l, bound, K_max)\n",
    "# CDF_E_minus_small_t_NORM_rate_norm_fn(t, ABL, ILD, rate_lambda, T_0, theta_E, Z_E, bound, rate_norm_l, K_max) "
   ]
  },
  {
   "cell_type": "code",
   "execution_count": 10,
   "metadata": {},
   "outputs": [],
   "source": [
    "def cum_psiam_tied_fn(t, V_A, theta_A, t_A_aff, ABL, ILD, rate_lambda, T_0, theta_E, Z_E, t_stim, t_E_aff, rate_norm_l, K_max):\n",
    "    c_A  = cum_A_t_fn(t - t_A_aff, V_A, theta_A)\n",
    "    c_E = cum_E_t_fn(t - t_E_aff - t_stim, ABL, ILD, rate_lambda, T_0, theta_E, Z_E, rate_norm_l, K_max)\n",
    "    return c_A + c_E - (c_A * c_E)"
   ]
  },
  {
   "cell_type": "code",
   "execution_count": null,
   "metadata": {},
   "outputs": [],
   "source": [
    "def compute_loglike(row, rate_lambda, T_0, theta_E, Z_E, t_E_aff, rate_norm_l):\n",
    "    timed_fix = row['timed_fix']\n",
    "    intended_fix = row['intended_fix']\n",
    "    \n",
    "    ILD = row['ILD']\n",
    "    ABL = row['ABL']\n",
    "    choice = 2*row['response_poke'] - 5\n",
    "\n",
    "    rt = timed_fix\n",
    "    t_stim = intended_fix\n",
    "    \n",
    "    K_max = 10\n",
    "    cum_1 = cum_psiam_tied_fn(t_stim, V_A, theta_A, t_A_aff, ABL, ILD, rate_lambda, T_0, theta_E, Z_E, t_stim, t_E_aff, rate_norm_l, K_max) \n",
    "    cum_2 = cum_psiam_tied_fn(t_stim + 1, V_A, theta_A, t_A_aff, ABL, ILD, rate_lambda, T_0, theta_E, Z_E, t_stim, t_E_aff, rate_norm_l, K_max)\n",
    "    trunc_factor = cum_2 - cum_1 + 1e-30\n",
    "\n",
    "    likelihood = up_or_down_RTs_fit_fn(t, V_A, theta_A, ABL, ILD, rate_lambda, T_0, theta_E, Z_E, t_stim, t_A_aff, t_E_aff, del_go, rate_norm_l, bound, K_max)\n",
    "    \n",
    "    \n",
    "\n",
    "\n",
    "def loglike_fn(params):\n",
    "    rate_lambda, T_0, theta_E, Z_E, t_E_aff, rate_norm_l = params\n",
    "   all_loglike = Parallel(n_jobs=30)(delayed(compute_loglike)(row, rate_lambda, T_0, theta_E, Z_E, t_E_aff, rate_norm_l)\\\n",
    "                                       for _, row in df_led_off_valid.iterrows() )"
   ]
  }
 ],
 "metadata": {
  "kernelspec": {
   "display_name": ".venv",
   "language": "python",
   "name": "python3"
  },
  "language_info": {
   "codemirror_mode": {
    "name": "ipython",
    "version": 3
   },
   "file_extension": ".py",
   "mimetype": "text/x-python",
   "name": "python",
   "nbconvert_exporter": "python",
   "pygments_lexer": "ipython3",
   "version": "3.12.3"
  }
 },
 "nbformat": 4,
 "nbformat_minor": 2
}
