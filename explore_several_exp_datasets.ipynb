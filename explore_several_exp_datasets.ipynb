{
 "cells": [
  {
   "cell_type": "code",
   "execution_count": 1,
   "metadata": {},
   "outputs": [],
   "source": [
    "import numpy as np\n",
    "import pandas as pd\n",
    "from matplotlib.backends.backend_pdf import PdfPages\n",
    "\n",
    "import matplotlib.pyplot as plt"
   ]
  },
  {
   "cell_type": "code",
   "execution_count": 2,
   "metadata": {},
   "outputs": [],
   "source": [
    "exp_df = pd.read_csv('outExp.csv')\n"
   ]
  },
  {
   "cell_type": "code",
   "execution_count": 3,
   "metadata": {},
   "outputs": [
    {
     "name": "stdout",
     "output_type": "stream",
     "text": [
      "RTwrtStim\n",
      "NaN         23\n",
      "1.121829     1\n",
      "0.012729     1\n",
      "0.523252     1\n",
      "0.072325     1\n",
      "Name: count, dtype: int64\n",
      "RTwrtStim\n",
      "NaN         20\n",
      "0.178688     1\n",
      "Name: count, dtype: int64\n"
     ]
    }
   ],
   "source": [
    "# remove rows where success = 0 and abort_event = -1 or abort_Event = -2 \n",
    "print(exp_df[(exp_df['success'] == 0) & (exp_df['abort_event'] == -2)]['RTwrtStim'].value_counts(dropna=False))\n",
    "print(exp_df[(exp_df['success'] == 0) & (exp_df['abort_event'] == -1)]['RTwrtStim'].value_counts(dropna=False))\n",
    "exp_df = exp_df[~((exp_df['success'] == 0) & (exp_df['abort_event'].isin([-1, -2])))]"
   ]
  },
  {
   "cell_type": "code",
   "execution_count": 4,
   "metadata": {},
   "outputs": [],
   "source": [
    "#### Only update where response_poke is NaN and success is 1 or -1\n",
    "mask_nan = exp_df['response_poke'].isna()\n",
    "mask_success_1 = (exp_df['success'] == 1)\n",
    "mask_success_neg1 = (exp_df['success'] == -1)\n",
    "mask_ild_pos = (exp_df['ILD'] > 0)\n",
    "mask_ild_neg = (exp_df['ILD'] < 0)\n",
    "\n",
    "# For success == 1\n",
    "exp_df.loc[mask_nan & mask_success_1 & mask_ild_pos, 'response_poke'] = 3\n",
    "exp_df.loc[mask_nan & mask_success_1 & mask_ild_neg, 'response_poke'] = 2\n",
    "\n",
    "# For success == -1\n",
    "exp_df.loc[mask_nan & mask_success_neg1 & mask_ild_pos, 'response_poke'] = 2\n",
    "exp_df.loc[mask_nan & mask_success_neg1 & mask_ild_neg, 'response_poke'] = 3\n",
    "\n",
    "\n",
    "\n",
    "#### Comparable, SD, LED1, LED2, LED34_odd\n",
    "exp_df_selected_batches = exp_df[exp_df['batch_name'].isin(['Comparable', 'SD', 'LED1', 'LED2', 'LED34'])]\n",
    "\n",
    "#### LED34_odd \n",
    "exp_df_selected_batches_1 = exp_df_selected_batches[\n",
    "    ((exp_df_selected_batches[\"batch_name\"] == \"LED34\") &\n",
    "     (exp_df_selected_batches[\"animal\"] % 2 == 1) &\n",
    "     (exp_df_selected_batches[\"session_type\"].isin([1, 2])))\n",
    "    | (exp_df_selected_batches[\"batch_name\"] != \"LED34\")\n",
    "]\n",
    "\n",
    "### LED_trial = 0 or nan\n",
    "exp_df_led_off = exp_df_selected_batches_1[\\\n",
    "    exp_df_selected_batches_1['LED_trial'].isna() \\\n",
    "        | (exp_df_selected_batches_1['LED_trial'] == 0)].copy()\n",
    "\n",
    "\n",
    "\n",
    "### Add choice and accuracy columns\n",
    "exp_df_led_off.loc[:, 'choice'] =(2*(exp_df_led_off['response_poke']) - 5)\n",
    "exp_df_led_off.loc[:, 'accuracy'] = (exp_df_led_off['choice'] * exp_df_led_off['ILD'] > 0).astype(int)"
   ]
  },
  {
   "cell_type": "markdown",
   "metadata": {},
   "source": [
    "# Helper funcs"
   ]
  },
  {
   "cell_type": "code",
   "execution_count": 5,
   "metadata": {},
   "outputs": [],
   "source": [
    "def plot_psycho(df):\n",
    "    ILD_unique = np.sort(df['ILD'].unique())\n",
    "    prob_choice1 = np.zeros(len(ILD_unique))\n",
    "    for idx, ild in enumerate(ILD_unique):\n",
    "        subset = df[df['ILD'] == ild]\n",
    "        prob = np.mean(subset['choice'] == 1)\n",
    "        prob_choice1[idx] = prob\n",
    "\n",
    "    return ILD_unique, prob_choice1\n",
    "\n",
    "\n",
    "def plot_tacho(df, bins):\n",
    "    # prob of correct vs RT\n",
    "    df.loc[:,'RT_bin'] = pd.cut(df['RTwrtStim'], bins=bins, include_lowest=True)\n",
    "    grouped_by_rt_bin = df.groupby('RT_bin', observed=False)['accuracy'].agg(['mean', 'count'])\n",
    "    grouped_by_rt_bin['bin_mid'] = grouped_by_rt_bin.index.map(lambda x: x.mid)\n",
    "    return grouped_by_rt_bin['bin_mid'], grouped_by_rt_bin['mean']"
   ]
  },
  {
   "cell_type": "code",
   "execution_count": 6,
   "metadata": {},
   "outputs": [
    {
     "name": "stdout",
     "output_type": "stream",
     "text": [
      "PDF saved to pdfs/batch_tstim_rt_psy_tach.pdf\n"
     ]
    }
   ],
   "source": [
    "# Define a custom color palette (extend or modify as needed)\n",
    "custom_colors = [\n",
    "    \"#1f77b4\", \"#ff7f0e\", \"#2ca02c\", \"#d62728\", \"#9467bd\",\n",
    "    \"#8c564b\", \"#e377c2\", \"#7f7f7f\", \"#bcbd22\", \"#17becf\",\n",
    "    \"#e41a1c\", \"#377eb8\", \"#4daf4a\", \"#984ea3\", \"#ff7f00\",\n",
    "    \"#a65628\", \"#f781bf\", \"#999999\", \"#66c2a5\", \"#fc8d62\",\n",
    "    \"#8da0cb\", \"#e78ac3\", \"#a6d854\", \"#ffd92f\", \"#e5c494\"\n",
    "]\n",
    "\n",
    "all_animals = sorted(exp_df_led_off['animal'].unique())\n",
    "if len(all_animals) > len(custom_colors):\n",
    "    raise ValueError(\"Not enough custom colors for all animals. Please extend the color list.\")\n",
    "\n",
    "animal_to_color = {animal: custom_colors[i] for i, animal in enumerate(all_animals)}\n",
    "\n",
    "\n",
    "pdf_path = \"pdfs/batch_tstim_rt_psy_tach.pdf\"\n",
    "with PdfPages(pdf_path) as pdf:\n",
    "    for batch in exp_df_led_off['batch_name'].unique():\n",
    "        batch_df = exp_df_led_off[exp_df_led_off['batch_name'] == batch]\n",
    "        session_types = batch_df['session_type'].dropna().unique()\n",
    "        n_sessions = len(session_types)\n",
    "        \n",
    "        fig, axes = plt.subplots(n_sessions, 4, figsize=(20, 3*n_sessions), squeeze=False)\n",
    "        fig.suptitle(f'Batch: {batch}', fontsize=16)\n",
    "        \n",
    "        for i, session in enumerate(session_types):\n",
    "            session_df = batch_df[batch_df['session_type'] == session]\n",
    "            ax_fix = axes[i, 0]\n",
    "            ax_rt = axes[i, 1]\n",
    "            ax_psycho = axes[i, 2]\n",
    "            ax_tacho = axes[i, 3]\n",
    "            \n",
    "            for animal in session_df['animal'].unique():\n",
    "                animal_df = session_df[session_df['animal'] == animal].copy()\n",
    "                color = animal_to_color[animal]\n",
    "                # Intended Fix\n",
    "                ax_fix.hist(\n",
    "                    animal_df['intended_fix'].dropna(),\n",
    "                    bins=np.arange(0, 2, 0.02),\n",
    "                    histtype='step',\n",
    "                    color=color,\n",
    "                    label=f'Animal {animal}' if i == 0 else None,\n",
    "                    density=True\n",
    "                )\n",
    "                # RTwrtStim\n",
    "                if 'RTwrtStim' in animal_df.columns:\n",
    "                    ax_rt.hist(\n",
    "                        animal_df['RTwrtStim'].dropna(),\n",
    "                        bins=np.arange(-1, 2, 0.02),\n",
    "                        histtype='step',\n",
    "                        color=color,\n",
    "                        label=f'Animal {animal}' if i == 0 else None,\n",
    "                        density=True\n",
    "                    )\n",
    "                    ax_rt.set_xlim(-0.5, 1)\n",
    "                \n",
    "                animal_df_valid = animal_df[(animal_df['RTwrtStim'] > 0) & (animal_df['success'].isin([1,-1])) ].copy()\n",
    "                # Psychometric curve\n",
    "                if 'ILD' in animal_df.columns and 'choice' in animal_df.columns:\n",
    "                    x_psycho, y_psycho = plot_psycho(animal_df_valid)\n",
    "                    ax_psycho.scatter(x_psycho, y_psycho, color=color, label=f'Animal {animal}' if i == 0 else None)\n",
    "                    ax_psycho.set_ylim(0, 1)\n",
    "                \n",
    "                # Tachometric curve\n",
    "                if 'RTwrtStim' in animal_df.columns and 'accuracy' in animal_df.columns:\n",
    "                    try:\n",
    "                        x_tacho, y_tacho = plot_tacho(animal_df_valid, bins=np.arange(0, 2, 0.05))\n",
    "                        ax_tacho.plot(x_tacho, y_tacho, color=color, label=f'Animal {animal}' if i == 0 else None)\n",
    "                        ax_tacho.set_ylim(0.5, 1)\n",
    "                        ax_tacho.set_xlim(0, 1)\n",
    "                    except Exception as e:\n",
    "                        print(f\"plot_tacho failed for animal {animal} in session {session}: {e}\")\n",
    "            \n",
    "            ax_fix.set_title(f'Session {session}: Intended Fix')\n",
    "            ax_fix.set_xlabel('intended_fix')\n",
    "            ax_fix.set_ylabel('Density')\n",
    "            ax_rt.set_title(f'Session {session}: RTwrtStim')\n",
    "            ax_rt.set_xlabel('RTwrtStim')\n",
    "            ax_rt.set_ylabel('Density')\n",
    "            ax_psycho.set_title(f'Session {session}: Psychometric')\n",
    "            ax_psycho.set_xlabel('ILD')\n",
    "            ax_psycho.set_ylabel('P(choice==1)')\n",
    "            ax_psycho.set_ylim(0, 1)\n",
    "            ax_tacho.set_title(f'Session {session}: Tachometric')\n",
    "            ax_tacho.set_xlabel('RTwrtStim')\n",
    "            ax_tacho.set_ylabel('P(correct)')\n",
    "            ax_tacho.set_ylim(0.5, 1)\n",
    "            if i == 0:\n",
    "                ax_fix.legend()\n",
    "                ax_rt.legend()\n",
    "                ax_psycho.legend()\n",
    "                ax_tacho.legend()\n",
    "        plt.tight_layout(rect=[0, 0.03, 1, 0.95])\n",
    "        pdf.savefig(fig)\n",
    "        plt.close(fig)\n",
    "\n",
    "print(f\"PDF saved to {pdf_path}\")"
   ]
  },
  {
   "cell_type": "markdown",
   "metadata": {},
   "source": [
    "# QQ plots"
   ]
  },
  {
   "cell_type": "code",
   "execution_count": 7,
   "metadata": {},
   "outputs": [
    {
     "data": {
      "text/plain": [
       "array(['Comparable', 'SD', 'LED1', 'LED2', 'LED34'], dtype=object)"
      ]
     },
     "execution_count": 7,
     "metadata": {},
     "output_type": "execute_result"
    }
   ],
   "source": [
    "exp_df_led_off['batch_name'].unique()"
   ]
  },
  {
   "cell_type": "code",
   "execution_count": 8,
   "metadata": {},
   "outputs": [
    {
     "name": "stdout",
     "output_type": "stream",
     "text": [
      "PDF saved to pdfs/qq_percentile_per_batch_session_animal_absILD.pdf\n"
     ]
    }
   ],
   "source": [
    "# Add abs_ILD column\n",
    "exp_df_led_off['abs_ILD'] = np.abs(exp_df_led_off['ILD'])\n",
    "\n",
    "pdf_path = \"pdfs/qq_percentile_per_batch_session_animal_absILD.pdf\"\n",
    "percentiles = np.arange(5, 100, 10)\n",
    "\n",
    "with PdfPages(pdf_path) as pdf:\n",
    "    for batch in exp_df_led_off['batch_name'].unique():\n",
    "        batch_df = exp_df_led_off[exp_df_led_off['batch_name'] == batch]\n",
    "        for session in batch_df['session_type'].dropna().unique():\n",
    "            session_df = batch_df[batch_df['session_type'] == session]\n",
    "            animals = session_df['animal'].unique()\n",
    "            abs_ILDs = np.sort(session_df['abs_ILD'].unique())\n",
    "            n_animals = len(animals)\n",
    "            n_abs_ILDs = len(abs_ILDs)\n",
    "            fig, axes = plt.subplots(n_animals, n_abs_ILDs, figsize=(5*n_abs_ILDs, 3*n_animals), squeeze=False)\n",
    "            fig.suptitle(f'Batch: {batch}, Session: {session}', fontsize=16)\n",
    "            for i, animal in enumerate(animals):\n",
    "                animal_df = session_df[session_df['animal'] == animal]\n",
    "                for j, abs_ILD in enumerate(abs_ILDs):\n",
    "                    ax = axes[i, j]\n",
    "                    abs_ILD_df = animal_df[animal_df['abs_ILD'] == abs_ILD]\n",
    "                    if abs_ILD_df.empty:\n",
    "                        ax.set_visible(False)\n",
    "                        continue\n",
    "                    RTwrtStim_pos = abs_ILD_df[(abs_ILD_df['RTwrtStim'] > 0) & (abs_ILD_df['success'].isin([1,-1]))]\n",
    "                    if RTwrtStim_pos.empty:\n",
    "                        ax.set_visible(False)\n",
    "                        continue\n",
    "                    ABLs = np.sort(RTwrtStim_pos['ABL'].unique())\n",
    "                    if len(ABLs) == 0:\n",
    "                        ax.set_visible(False)\n",
    "                        continue\n",
    "                    # Compute percentiles for each ABL\n",
    "                    q_dict = {}\n",
    "                    for abl in ABLs:\n",
    "                        q_dict[abl] = np.percentile(RTwrtStim_pos[RTwrtStim_pos['ABL'] == abl]['RTwrtStim'], percentiles)\n",
    "                    abl_highest = ABLs.max()\n",
    "                    Q_highest = q_dict[abl_highest]\n",
    "                    # Plot for each ABL\n",
    "                    for abl in ABLs:\n",
    "                        if abl == abl_highest:\n",
    "                            continue  # skip plotting diff for highest, will plot as x-axis\n",
    "                        diff = q_dict[abl] - Q_highest\n",
    "                        ax.plot(Q_highest, diff, marker='o', label=f'ABL {abl}')\n",
    "                    # Plot x=y line for reference (optional)\n",
    "                    ax.axhline(0, color='k', linestyle='--', linewidth=1)\n",
    "                    ax.set_xlabel(f'Percentiles of RTwrtStim (ABL={abl_highest})')\n",
    "                    ax.set_ylabel('Q_ABL - Q_highest_ABL')\n",
    "                    ax.set_title(f'Animal: {animal}, abs(ILD): {abs_ILD}')\n",
    "                    ax.legend(title='ABL')\n",
    "            plt.tight_layout(rect=[0, 0.03, 1, 0.95])\n",
    "            pdf.savefig(fig)\n",
    "            plt.close(fig)\n",
    "\n",
    "print(f\"PDF saved to {pdf_path}\")"
   ]
  }
 ],
 "metadata": {
  "kernelspec": {
   "display_name": ".venv",
   "language": "python",
   "name": "python3"
  },
  "language_info": {
   "codemirror_mode": {
    "name": "ipython",
    "version": 3
   },
   "file_extension": ".py",
   "mimetype": "text/x-python",
   "name": "python",
   "nbconvert_exporter": "python",
   "pygments_lexer": "ipython3",
   "version": "3.12.3"
  }
 },
 "nbformat": 4,
 "nbformat_minor": 2
}
