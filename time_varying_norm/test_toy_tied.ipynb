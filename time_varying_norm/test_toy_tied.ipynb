{
 "cells": [
  {
   "cell_type": "markdown",
   "metadata": {},
   "source": [
    "# psychothreshold - Time varying"
   ]
  },
  {
   "cell_type": "code",
   "execution_count": 1,
   "metadata": {},
   "outputs": [],
   "source": [
    "import numpy as np\n",
    "import random\n",
    "\n",
    "# RTDs in real and scaled time units should match\n",
    "ILD_arr  = [0.5]\n",
    "ABL_arr = [40]\n",
    "\n",
    "t_non_decision = 0\n",
    "rate_lambda = 0.1\n",
    "T_0 = 0.9 * 1e-3\n",
    "theta_E = 100\n",
    "dt = 1e-4\n",
    "c = 0.1\n",
    "c1 = 0.01\n",
    "\n",
    "\n",
    "# def tied_abs_units(ILD, ABL, rate_lambda, theta_E, T_0, t_non_decision, dt):\n",
    "#     DV = 0; t = 0\n",
    "#     chi = 17.37\n",
    "#     dB = np.sqrt(dt)\n",
    "\n",
    "#     while True:\n",
    "#         mu = (2/T_0) * (10**(rate_lambda*ABL/20)) * (rate_lambda * ILD / chi) * (1/c)*np.exp(-t/c)\n",
    "#         sigma = np.sqrt((2/T_0)* (10**(rate_lambda*ABL/20)) * (1/c)*np.exp(-t/c))\n",
    "\n",
    "#         DV += mu*dt + sigma * np.random.normal(0, dB)\n",
    "#         t += dt\n",
    "\n",
    "#         # bounds are +1 and -1 as simulation is done in normalized units\n",
    "#         if DV >= theta_E or DV <= -theta_E:\n",
    "#             return t\n",
    "\n",
    "max_time = 10.0  # ms\n",
    "\n",
    "def tied_abs_units(ILD, ABL, rate_lambda, theta_E, T_0, t_non_decision, dt):\n",
    "    max_steps = int(np.ceil(max_time / dt))\n",
    "    t = np.arange(0, max_steps * dt, dt)\n",
    "    dB = np.sqrt(dt)\n",
    "    chi = 17.37\n",
    "\n",
    "    common = (2 / T_0) * (10 ** (rate_lambda * ABL / 20))\n",
    "    \n",
    "    decay = np.exp(-t / c)\n",
    "    mu = common * (rate_lambda * ILD / chi) * ((1 / c) * decay + c1)\n",
    "    sigma = np.sqrt(common * ((1 / c) * decay + c1))\n",
    "    \n",
    "    noise = np.random.normal(0, dB, size=max_steps)\n",
    "    \n",
    "    increments = mu * dt + sigma * noise\n",
    "    DV = np.cumsum(increments)\n",
    "    \n",
    "    crossing_indices = np.where((DV >= theta_E) | (DV <= -theta_E))[0]\n",
    "    if crossing_indices.size > 0:\n",
    "        t_cross = t[crossing_indices[0]]\n",
    "        return t_cross + t_non_decision  \n",
    "    else:\n",
    "        return np.nan\n",
    "\n",
    "\n",
    "\n",
    "\n",
    "# def tied_rescaled_units(ILD, ABL, rate_lambda, theta_E, T_0, t_non_decision, dt):\n",
    "#     DV = 0; t = 0\n",
    "#     chi = 17.37\n",
    "#     dB = np.sqrt(dt)\n",
    "\n",
    "#     while True:\n",
    "#         mu = (rate_lambda * theta_E * ILD / chi) \n",
    "#         sigma = 1\n",
    "\n",
    "#         DV += mu*dt + sigma * np.random.normal(0, dB)\n",
    "#         t += dt\n",
    "        \n",
    "#         if DV >= 1 or DV <= -1:\n",
    "#             return t\n",
    "\n",
    "def tied_rescaled_units(ILD, ABL, rate_lambda, theta_E, T_0, t_non_decision, dt):\n",
    "    chi = 17.37\n",
    "    dB = np.sqrt(dt)\n",
    "    \n",
    "    mu = (rate_lambda * theta_E * ILD / chi)\n",
    "    sigma = 1\n",
    "    \n",
    "    max_steps = int(np.ceil(max_time / dt))\n",
    "    t_arr = np.arange(0, max_steps * dt, dt)\n",
    "\n",
    "    \n",
    "    noise = np.random.normal(0, dB, max_steps)\n",
    "    \n",
    "    increments = mu * dt + sigma * noise\n",
    "    DV = np.cumsum(increments)\n",
    "    \n",
    "    crossing_indices = np.where((DV >= 1) | (DV <= -1))[0]\n",
    "    if crossing_indices.size > 0:\n",
    "        return t_arr[crossing_indices[0]]\n",
    "    else:\n",
    "        return np.nan\n",
    "    "
   ]
  },
  {
   "cell_type": "code",
   "execution_count": 2,
   "metadata": {},
   "outputs": [],
   "source": [
    "from joblib import Parallel, delayed\n",
    "import matplotlib.pyplot as plt"
   ]
  },
  {
   "cell_type": "code",
   "execution_count": 3,
   "metadata": {},
   "outputs": [
    {
     "name": "stdout",
     "output_type": "stream",
     "text": [
      "abs done\n"
     ]
    }
   ],
   "source": [
    "N_sim = int(10e3)\n",
    "rt_abs = Parallel(n_jobs=30)(delayed(tied_abs_units)(ILD_arr[0], ABL_arr[0], rate_lambda, theta_E, T_0, t_non_decision, dt) for _ in range(N_sim))\n",
    "print('abs done')\n",
    "rt_rescaled = Parallel(n_jobs=30)(delayed(tied_rescaled_units)(ILD_arr[0], ABL_arr[0], rate_lambda, theta_E, T_0, t_non_decision, dt) for _ in range(N_sim))"
   ]
  },
  {
   "cell_type": "code",
   "execution_count": 4,
   "metadata": {},
   "outputs": [
    {
     "name": "stdout",
     "output_type": "stream",
     "text": [
      "max of rt abs = 9.9818\n"
     ]
    }
   ],
   "source": [
    "print(f'max of rt abs = {np.nanmax(rt_abs)}')"
   ]
  },
  {
   "cell_type": "code",
   "execution_count": 5,
   "metadata": {},
   "outputs": [],
   "source": [
    "import numpy as np\n",
    "from scipy.optimize import brentq\n",
    "\n",
    "def compute_t_scalar(tau, omega, c, c1):\n",
    "    \"\"\"\n",
    "    Numerically solve for t in the equation:\n",
    "        tau = omega*(1 - exp(-t/c)) + c1*t\n",
    "    for a single scalar value of tau using a bracketing method (Brent's method).\n",
    "    \n",
    "    Parameters:\n",
    "        tau   : float\n",
    "            The value of tau.\n",
    "        omega : float\n",
    "            The parameter omega.\n",
    "        c     : float\n",
    "            The parameter c.\n",
    "        c1    : float\n",
    "            The parameter c1.\n",
    "    \n",
    "    Returns:\n",
    "        t_sol : float\n",
    "            The numerical solution for t.\n",
    "    \"\"\"\n",
    "    # Define the function f(t) = omega*(1 - exp(-t/c)) + c1*t - tau\n",
    "    def f(t):\n",
    "        return omega * (1 - np.exp(-t / c)) + c1 * t - tau\n",
    "\n",
    "    # We know that f(0) = -tau. If tau > 0, f(0) is negative.\n",
    "    # Since the derivative f'(t)= (omega/c)*exp(-t/c) + c1 is positive,\n",
    "    # f is monotonic increasing and f(t) will eventually become positive.\n",
    "    # We now find a bracket [t_low, t_high] such that f(t_low) < 0 and f(t_high) > 0.\n",
    "    \n",
    "    t_low = 0.0\n",
    "    # A first guess for t_high: if c1 is nonzero, start with tau/c1,\n",
    "    # otherwise use tau (or a small positive value) to ensure a positive guess.\n",
    "    t_high = tau / c1 if c1 != 0 else tau\n",
    "    if t_high <= t_low:\n",
    "        t_high = t_low + 1.0\n",
    "\n",
    "    # If f(t_high) is not positive, increase t_high until it is.\n",
    "    while f(t_high) <= 0:\n",
    "        t_high *= 2\n",
    "\n",
    "    # Now use Brent's method to find the root in [t_low, t_high].\n",
    "    t_sol = brentq(f, t_low, t_high)\n",
    "    return t_sol\n",
    "\n",
    "def compute_t_from_tau(tau, omega, c, c1):\n",
    "    \"\"\"\n",
    "    Numerically solve for t in the equation:\n",
    "        tau = omega*(1 - exp(-t/c)) + c1*t\n",
    "    for tau. The input tau can be a scalar or a NumPy array.\n",
    "    \n",
    "    Returns:\n",
    "        t_sol : scalar or NumPy array of solutions.\n",
    "    \"\"\"\n",
    "    # Ensure tau is treated as an array.\n",
    "    tau_array = np.atleast_1d(tau)\n",
    "    \n",
    "    # Compute solution for each element.\n",
    "    t_solutions = np.array([compute_t_scalar(t_i, omega, c, c1) for t_i in tau_array])\n",
    "    \n",
    "    # If the original tau was a scalar, return a scalar.\n",
    "    return t_solutions[0] if t_solutions.size == 1 else t_solutions\n",
    "\n"
   ]
  },
  {
   "cell_type": "code",
   "execution_count": 16,
   "metadata": {},
   "outputs": [
    {
     "data": {
      "image/png": "[encoded data removed]",
      "text/plain": [
       "<Figure size 1000x500 with 3 Axes>"
      ]
     },
     "metadata": {},
     "output_type": "display_data"
    }
   ],
   "source": [
    "bins = np.arange(0, 1 + 0.1, 5e-3)\n",
    "\n",
    "# abs\n",
    "abs_hist, _ = np.histogram(rt_abs, bins=bins, density=True)\n",
    "plt.figure(figsize=(10, 5))\n",
    "plt.subplot(1,3,1)\n",
    "plt.plot(bins[:-1], abs_hist)\n",
    "plt.title('abs')\n",
    "# rescaled\n",
    "bins_in_tau = np.arange(0, 6, 0.05)\n",
    "rescaled_hist, _ = np.histogram(rt_rescaled, bins=bins_in_tau, density=True)\n",
    "\n",
    "# A = (2 / (T_0 * (theta_E ** 2))) * (10 ** (rate_lambda * ABL_arr[0] / 20))\n",
    "# bins_in_t_from_tau = -c * np.log(1 - bins_in_tau / A)\n",
    "omega = (2 / (T_0 * (theta_E ** 2))) * (10 ** (rate_lambda * ABL_arr[0] / 20))\n",
    "bins_in_t_from_tau = compute_t(bins_in_tau, omega, c, c1)\n",
    "\n",
    "dtau_by_dt = (2 / (T_0 * (theta_E**2))) * (10**(rate_lambda*ABL_arr[0]/20)) * ((1/c)*(np.exp(-bins_in_t_from_tau[:-1]/c)) + c1)\n",
    "rescaled_hist_times_dtau_dt = rescaled_hist * dtau_by_dt\n",
    "\n",
    "plt.subplot(1,3,2)\n",
    "plt.plot(bins_in_t_from_tau[:-1], rescaled_hist_times_dtau_dt)\n",
    "plt.plot(bins_in_t_from_tau[:-1], rescaled_hist_times_dtau_dt, label='rescaled', lw=2, ls='--')\n",
    "\n",
    "plt.title('rescaled')\n",
    "plt.xlim(0, 6)\n",
    "\n",
    "plt.subplot(1,3,3)\n",
    "# plot both\n",
    "plt.plot(bins[:-1], abs_hist, label='abs', ls='--', lw=3)\n",
    "plt.plot(bins_in_t_from_tau[:-1], rescaled_hist_times_dtau_dt, label='rescaled', lw=2)\n",
    "plt.legend()\n",
    "plt.title('abs vs rescaled')\n",
    "plt.xlim(0, 1);"
   ]
  },
  {
   "cell_type": "code",
   "execution_count": null,
   "metadata": {},
   "outputs": [],
   "source": [
    "print(f'A is {A}')\n",
    "print(f'max of tau = {np.nanmax(bins_in_tau)} ')"
   ]
  },
  {
   "cell_type": "markdown",
   "metadata": {},
   "source": [
    "# for diff ABL ?"
   ]
  },
  {
   "cell_type": "code",
   "execution_count": null,
   "metadata": {},
   "outputs": [],
   "source": [
    "ABL_arr = [60]\n",
    "abl_60_rel_rt = Parallel(n_jobs=30)(delayed(tied_rescaled_units)(ILD_arr[0], ABL_arr[0], rate_lambda, theta_E, T_0, t_non_decision, dt) for _ in range(N_sim))\n",
    "\n",
    "print('60 done')\n",
    "ABL_arr = [20]\n",
    "abl_20_rel_rt = Parallel(n_jobs=30)(delayed(tied_rescaled_units)(ILD_arr[0], ABL_arr[0], rate_lambda, theta_E, T_0, t_non_decision, dt) for _ in range(N_sim))\n",
    "\n",
    "ABL_arr = [40]\n",
    "abl_40_rel_rt = Parallel(n_jobs=30)(delayed(tied_rescaled_units)(ILD_arr[0], ABL_arr[0], rate_lambda, theta_E, T_0, t_non_decision, dt) for _ in range(N_sim))\n"
   ]
  },
  {
   "cell_type": "code",
   "execution_count": null,
   "metadata": {},
   "outputs": [],
   "source": [
    "np.max(abl_60_rel_rt), np.max(abl_20_rel_rt)\n",
    "bins = np.arange(0, 10, 0.05)\n",
    "plt.hist(abl_60_rel_rt, bins=bins, density=True, alpha=0.5, label='ABL 60', histtype='step')\n",
    "plt.hist(abl_20_rel_rt, bins=bins, density=True, alpha=0.5, label='ABL 20', histtype='step')\n",
    "plt.hist(abl_40_rel_rt, bins=bins, density=True, alpha=0.5, label='ABL 40', histtype='step')\n",
    "plt.legend()\n",
    "plt.title('ABL 60 vs 20')"
   ]
  },
  {
   "cell_type": "code",
   "execution_count": 9,
   "metadata": {},
   "outputs": [],
   "source": [
    "def rho_tau_vs_t(rt_rescaled,ABL):\n",
    "    bins_in_tau = np.arange(0, max(rt_rescaled) + 0.1, 0.1)\n",
    "    rescaled_hist, _ = np.histogram(rt_rescaled, bins=bins_in_tau, density=True) # rho(tau)\n",
    "\n",
    "    A = (2 / (T_0 * (theta_E ** 2))) * (10 ** (rate_lambda * ABL / 20))\n",
    "    bins_in_t_from_tau = -c * np.log(1 - bins_in_tau / A) # t\n",
    "\n",
    "    dtau_by_dt = (2 / (T_0 * (theta_E**2))) * (10**(rate_lambda*ABL/20)) * (1/c)*(np.exp(-bins_in_t_from_tau[:-1]/c))\n",
    "    rescaled_hist_times_dtau_dt = rescaled_hist * dtau_by_dt\n",
    "    return bins_in_t_from_tau[:-1], rescaled_hist_times_dtau_dt"
   ]
  },
  {
   "cell_type": "code",
   "execution_count": null,
   "metadata": {},
   "outputs": [],
   "source": [
    "t_60, rt_60_t_units = rho_tau_vs_t(abl_60_rel_rt, 60)\n",
    "t_20, rt_20_t_units = rho_tau_vs_t(abl_20_rel_rt, 20)\n",
    "t_40, rt_40_t_units = rho_tau_vs_t(abl_40_rel_rt, 40)"
   ]
  },
  {
   "cell_type": "code",
   "execution_count": 11,
   "metadata": {},
   "outputs": [],
   "source": [
    "rt_abs_60 = Parallel(n_jobs=30)(delayed(tied_abs_units)(ILD_arr[0], 60, rate_lambda, theta_E, T_0, t_non_decision, dt) for _ in range(N_sim))\n",
    "rt_abs_40 = Parallel(n_jobs=30)(delayed(tied_abs_units)(ILD_arr[0], 40, rate_lambda, theta_E, T_0, t_non_decision, dt) for _ in range(N_sim))\n",
    "rt_abs_20 = Parallel(n_jobs=30)(delayed(tied_abs_units)(ILD_arr[0], 20, rate_lambda, theta_E, T_0, t_non_decision, dt) for _ in range(N_sim))"
   ]
  },
  {
   "cell_type": "code",
   "execution_count": null,
   "metadata": {},
   "outputs": [],
   "source": [
    "plt.figure(figsize=(10, 5))\n",
    "plt.subplot(1,2,1)\n",
    "plt.plot(t_60, rt_60_t_units, label='ABL 60')\n",
    "plt.plot(t_20, rt_20_t_units, label='ABL 20')\n",
    "plt.plot(t_40, rt_40_t_units, label='ABL 40')\n",
    "plt.legend()\n",
    "plt.title('RTDs for ABL tau -> t')\n",
    "\n",
    "plt.subplot(1,2,2)\n",
    "t_bins = np.arange(0, 2, 0.05)\n",
    "plt.hist(rt_abs_60, bins=t_bins, density=True,  label='ABL 60', histtype='step')\n",
    "plt.hist(rt_abs_20, bins=t_bins, density=True,  label='ABL 20', histtype='step')\n",
    "plt.hist(rt_abs_40, bins=t_bins, density=True,  label='ABL 40', histtype='step')\n",
    "plt.legend()\n",
    "plt.title('RTDs for ABL, abs t')"
   ]
  },
  {
   "cell_type": "markdown",
   "metadata": {},
   "source": [
    "# Q-Q plot"
   ]
  },
  {
   "cell_type": "code",
   "execution_count": 13,
   "metadata": {},
   "outputs": [],
   "source": [
    "quantiles = np.arange(0.05, 0.95, 0.05)\n",
    "# remove nans before taking quantiles\n",
    "rt_abs_60 = np.array([rt for rt in rt_abs_60 if not np.isnan(rt)])\n",
    "rt_abs_40 = np.array([rt for rt in rt_abs_40 if not np.isnan(rt)])\n",
    "rt_abs_20 = np.array([rt for rt in rt_abs_20 if not np.isnan(rt)])\n",
    "\n",
    "quantiles_abs_60 = np.quantile(rt_abs_60, quantiles)\n",
    "quantiles_abs_40 = np.quantile(rt_abs_40, quantiles)\n",
    "quantiles_abs_20 = np.quantile(rt_abs_20, quantiles)"
   ]
  },
  {
   "cell_type": "code",
   "execution_count": null,
   "metadata": {},
   "outputs": [],
   "source": [
    "plt.plot(quantiles_abs_60, quantiles_abs_40, label='60 vs 40')\n",
    "plt.plot(quantiles_abs_60, quantiles_abs_20, label='60 vs 20')\n",
    "plt.plot(quantiles_abs_60, quantiles_abs_60, label='60 vs 60', ls='--', alpha=0.4)\n",
    "\n",
    "plt.legend()\n",
    "plt.title('Q-Q abs units')"
   ]
  },
  {
   "cell_type": "code",
   "execution_count": 1,
   "metadata": {},
   "outputs": [],
   "source": [
    "V_A_bounds = [0.2, 1.2]\n",
    "theta_A_bounds = [0.5, 1.5]\n",
    "\n",
    "rate_lambda_bounds = [0.01, 0.15]\n",
    "T_0_bounds = [0.1*(1e-3), 0.8*(1e-3)]\n",
    "theta_E_bounds = [35, 65]\n",
    "\n",
    "t_A_aff_bounds = [0.009, 0.07]\n",
    "t_E_aff_bounds = [0.009, 0.07]\n",
    "t_motor_bounds = [0.009, 0.07]\n",
    "\n",
    "Z_E_bounds = [-10, 10]\n",
    "L_bounds = [0.01, 2]\n",
    "# ---\n",
    "V_A_plausible_bounds = [0.3, 1]\n",
    "theta_A_plausible_bounds = [0.7, 1.3]\n",
    "\n",
    "rate_lambda_plausible_bounds =  [0.05, 0.09]\n",
    "T_0_plausible_bounds = [0.15*(1e-3), 0.3*(1e-3)]\n",
    "theta_E_plausible_bounds = [40, 55]\n",
    "\n",
    "t_A_aff_plausible_bounds = [0.01, 0.05]\n",
    "t_E_aff_plausible_bounds = [0.01, 0.05]\n",
    "t_motor_plausible_bounds = [0.01, 0.05]\n",
    "\n",
    "Z_E_plausible_bounds = [-6, 6]\n",
    "L_plausible_bounds = [1.5, 1.999]"
   ]
  },
  {
   "cell_type": "code",
   "execution_count": 3,
   "metadata": {},
   "outputs": [],
   "source": [
    "import numpy as np\n",
    "np.random.seed(42)\n",
    "V_A_0 = np.random.uniform(V_A_plausible_bounds[0], V_A_plausible_bounds[1])\n",
    "theta_A_0 = np.random.uniform(theta_A_plausible_bounds[0], theta_A_plausible_bounds[1])\n",
    "rate_lambda_0 = np.random.uniform(rate_lambda_plausible_bounds[0], rate_lambda_plausible_bounds[1])\n",
    "T_0_0 = np.random.uniform(T_0_plausible_bounds[0], T_0_plausible_bounds[1])\n",
    "theta_E_0 = np.random.uniform(theta_E_plausible_bounds[0], theta_E_plausible_bounds[1])\n",
    "t_A_aff_0 = np.random.uniform(t_A_aff_plausible_bounds[0], t_A_aff_plausible_bounds[1])\n",
    "t_E_aff_0 = np.random.uniform(t_E_aff_plausible_bounds[0], t_E_aff_plausible_bounds[1])\n",
    "t_motor_0 = np.random.uniform(t_motor_plausible_bounds[0], t_motor_plausible_bounds[1])\n",
    "Z_E_0 = np.random.uniform(Z_E_plausible_bounds[0], Z_E_plausible_bounds[1])\n",
    "L_0 = np.random.uniform(L_plausible_bounds[0], L_plausible_bounds[1])\n"
   ]
  },
  {
   "cell_type": "code",
   "execution_count": 4,
   "metadata": {},
   "outputs": [
    {
     "data": {
      "text/plain": [
       "(0.016239780813448106, 0.012323344486727979, 0.04464704583099741)"
      ]
     },
     "execution_count": 4,
     "metadata": {},
     "output_type": "execute_result"
    }
   ],
   "source": [
    "t_A_aff_0, t_E_aff_0, t_motor_0"
   ]
  }
 ],
 "metadata": {
  "kernelspec": {
   "display_name": ".venv",
   "language": "python",
   "name": "python3"
  },
  "language_info": {
   "codemirror_mode": {
    "name": "ipython",
    "version": 3
   },
   "file_extension": ".py",
   "mimetype": "text/x-python",
   "name": "python",
   "nbconvert_exporter": "python",
   "pygments_lexer": "ipython3",
   "version": "3.12.3"
  }
 },
 "nbformat": 4,
 "nbformat_minor": 2
}
