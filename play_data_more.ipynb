{
 "cells": [
  {
   "cell_type": "code",
   "execution_count": null,
   "metadata": {},
   "outputs": [],
   "source": [
    "import numpy as np\n",
    "import pandas as pd\n",
    "import matplotlib.pyplot as plt\n"
   ]
  },
  {
   "cell_type": "code",
   "execution_count": 2,
   "metadata": {},
   "outputs": [],
   "source": [
    "# led_df = pd.read_csv('out_LED.csv')\n",
    "# led_df = led_df[ led_df['repeat_trial'].isin([0,2]) | led_df['repeat_trial'].isna() ].copy()\n",
    "# session_type = 7    \n",
    "# led_df = led_df[ led_df['session_type'].isin([session_type]) ]\n",
    "# training_level = 16\n",
    "# led_df = led_df[ led_df['training_level'].isin([training_level]) ]\n",
    "\n",
    "# led_df_on = led_df[led_df['LED_trial'] == 1.].copy()\n",
    "# led_df_off = led_df[led_df['LED_trial'] == 0.].copy()\n",
    "# led_df_off_and_nan = led_df[(led_df['LED_trial'] == 0. )| (led_df['LED_trial'].isna())].copy()\n",
    "\n",
    "# print(f'1 / 1 + 0: {len(led_df_on) / (len(led_df_on) + len(led_df_off)) :.2f}')\n",
    "# print(f'1 / 1 + 0,nan: {len(led_df_on) / (len(led_df_on) + len(led_df_off_and_nan)) :.2f}')"
   ]
  },
  {
   "cell_type": "code",
   "execution_count": 3,
   "metadata": {},
   "outputs": [],
   "source": [
    "# led_df = pd.read_csv('outExp.csv')\n",
    "\n",
    "# led_df_on = led_df[led_df['LED_trial'] == 1.]\n",
    "# led_df_off = led_df[led_df['LED_trial'] == 0.]\n",
    "# led_df_off_and_nan = led_df[(led_df['LED_trial'] == 0. )| (led_df['LED_trial'].isna())]\n",
    "\n",
    "# print(f'1 / 1 + 0: {len(led_df_on) / (len(led_df_on) + len(led_df_off)) :.2f}')\n",
    "# print(f'1 / 1 + 0,nan: {len(led_df_on) / (len(led_df_on) + len(led_df_off_and_nan)) :.2f}')"
   ]
  },
  {
   "cell_type": "code",
   "execution_count": 5,
   "metadata": {},
   "outputs": [
    {
     "data": {
      "text/plain": [
       "array([16])"
      ]
     },
     "execution_count": 5,
     "metadata": {},
     "output_type": "execute_result"
    }
   ],
   "source": [
    "exp_df['training_level'].unique()"
   ]
  },
  {
   "cell_type": "code",
   "execution_count": 4,
   "metadata": {},
   "outputs": [],
   "source": [
    "### NEW ####\n",
    "exp_df = pd.read_csv('outExp.csv')\n",
    "# repeat trial 0 or 2 or nan\n",
    "exp_df = exp_df[ exp_df['repeat_trial'].isin([0,2]) | exp_df['repeat_trial'].isna() ].copy()\n",
    "# batch_name is LED1 or LED2\n",
    "exp_df = exp_df[ exp_df['batch_name'].isin(['LED1', 'LED2']) ]\n",
    "# session_type 1 or 2\n",
    "exp_df = exp_df[ exp_df['session_type'].isin([1,2]) ]\n",
    "# LED_trial 0 or nan\n",
    "exp_df = exp_df[ exp_df['LED_trial'].isin([0, np.nan]) ]\n",
    "# exp_df = exp_df[ exp_df['LED_trial'].isin([0]) ]\n",
    "\n",
    "\n",
    "### OLD #####\n",
    "led_df = pd.read_csv('out_LED.csv')\n",
    "led_df = led_df[ led_df['repeat_trial'].isin([0,2]) | led_df['repeat_trial'].isna() ].copy()\n",
    "session_type = 7    \n",
    "led_df = led_df[ led_df['session_type'].isin([session_type]) ]\n",
    "training_level = 16\n",
    "led_df = led_df[ led_df['training_level'].isin([training_level]) ]\n",
    "led_df = led_df[led_df['LED_trial'].isin([0, np.nan])]"
   ]
  },
  {
   "cell_type": "code",
   "execution_count": 6,
   "metadata": {},
   "outputs": [
    {
     "data": {
      "text/plain": [
       "<matplotlib.legend.Legend at 0x7fe96d39e750>"
      ]
     },
     "execution_count": 6,
     "metadata": {},
     "output_type": "execute_result"
    },
    {
     "data": {
      "image/png": "[encoded data removed]",
      "text/plain": [
       "<Figure size 640x480 with 1 Axes>"
      ]
     },
     "metadata": {},
     "output_type": "display_data"
    }
   ],
   "source": [
    "bins = np.arange(0, 2, 0.02)\n",
    "plt.hist(exp_df['intended_fix'], bins=bins, density=True, histtype='step',label='new');\n",
    "plt.hist(led_df['intended_fix'], bins=bins, density=True, histtype='step', label='old');\n",
    "plt.legend()"
   ]
  }
 ],
 "metadata": {
  "kernelspec": {
   "display_name": ".venv",
   "language": "python",
   "name": "python3"
  },
  "language_info": {
   "codemirror_mode": {
    "name": "ipython",
    "version": 3
   },
   "file_extension": ".py",
   "mimetype": "text/x-python",
   "name": "python",
   "nbconvert_exporter": "python",
   "pygments_lexer": "ipython3",
   "version": "3.12.3"
  }
 },
 "nbformat": 4,
 "nbformat_minor": 2
}
