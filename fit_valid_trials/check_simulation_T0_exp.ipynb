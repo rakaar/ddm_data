{
 "cells": [
  {
   "cell_type": "code",
   "execution_count": 1,
   "metadata": {},
   "outputs": [],
   "source": [
    "import numpy as np\n",
    "import matplotlib.pyplot as plt\n",
    "import pandas as pd\n",
    "from tqdm import tqdm\n",
    "from joblib import Parallel, delayed\n",
    "from pyvbmc import VBMC\n",
    "import corner\n",
    "from psiam_tied_dv_map_utils import rho_A_t_fn, up_RTs_fit_fn, down_RTs_fit_fn, up_RTs_fit_single_t_fn, psiam_tied_data_gen_wrapper\n",
    "from psiam_tied_dv_map_utils import cum_A_t_fn, cum_E_t_fn, down_RTs_fit_TRUNC_fn, up_RTs_fit_TRUNC_fn\n",
    "from psiam_tied_dv_map_utils import psiam_tied_data_gen_wrapper_V4\n",
    "from psiam_tied_no_dv_map_utils import rho_E_minus_small_t_NORM_fn"
   ]
  },
  {
   "cell_type": "code",
   "execution_count": 2,
   "metadata": {},
   "outputs": [],
   "source": [
    "import pickle\n",
    "with open('../fitting_aborts/post_led_censor_test_vbmc.pkl', 'rb') as f:\n",
    "    vp = pickle.load(f)\n",
    "\n",
    "vp_sample = vp.sample(int(1e6))[0]\n",
    "\n",
    "V_A = np.mean(vp_sample[:,0])\n",
    "theta_A = np.mean(vp_sample[:,1])\n",
    "t_motor = 0.04\n",
    "\n",
    "t_A_aff = np.mean(vp_sample[:,2]) - t_motor\n",
    "\n",
    "\n",
    "with open('right_trunc_with_aborts.pkl', 'rb') as f:\n",
    "    vp_trunc = pickle.load(f).vp\n",
    "\n",
    "vp_samples_trunc = vp_trunc.sample(int(1e6))[0]\n",
    "\n",
    "\n",
    "rate_lambda = np.mean(vp_samples_trunc[:,0])\n",
    "\n",
    "T0 = np.mean(vp_samples_trunc[:,1]) \n",
    "\n",
    "theta_E = np.mean(vp_samples_trunc[:,2])\n",
    "t_E_aff = np.mean(vp_samples_trunc[:,3])\n",
    "Z_E = np.mean(vp_samples_trunc[:,4])"
   ]
  },
  {
   "cell_type": "code",
   "execution_count": 4,
   "metadata": {},
   "outputs": [
    {
     "name": "stdout",
     "output_type": "stream",
     "text": [
      "ABL: [20 40 60]\n",
      "ILD: [-16.  -8.  -4.  -2.  -1.   1.   2.   4.   8.  16.]\n"
     ]
    }
   ],
   "source": [
    "og_df = pd.read_csv('../out_LED.csv')\n",
    "\n",
    "# chose non repeat trials - 0 or 2 or missing\n",
    "df = og_df[ og_df['repeat_trial'].isin([0,2]) | og_df['repeat_trial'].isna() ]\n",
    "\n",
    "# only session type 7\n",
    "session_type = 7    \n",
    "df = df[ df['session_type'].isin([session_type]) ]\n",
    "\n",
    "# training level 16\n",
    "training_level = 16\n",
    "df = df[ df['training_level'].isin([training_level]) ]\n",
    "\n",
    "# find ABL and ILD\n",
    "ABL_arr = df['ABL'].unique()\n",
    "ILD_arr = df['ILD'].unique()\n",
    "\n",
    "\n",
    "# sort ILD arr in ascending order\n",
    "ILD_arr = np.sort(ILD_arr)\n",
    "ABL_arr = np.sort(ABL_arr)\n",
    "\n",
    "print('ABL:', ABL_arr)\n",
    "print('ILD:', ILD_arr)"
   ]
  },
  {
   "cell_type": "code",
   "execution_count": 37,
   "metadata": {},
   "outputs": [
    {
     "name": "stdout",
     "output_type": "stream",
     "text": [
      "In iter_num: 0, ABL: 20, ILD: -2.0, t_stim: 0.224082334115398\n"
     ]
    }
   ],
   "source": [
    "N_sim = int(50e3)\n",
    "N_print = int(1e6 + 1)\n",
    "dt = 1e-3; dB = np.sqrt(dt);\n",
    "T_0_tau = 1\n",
    "\n",
    "\n",
    "t_stim_sampled = np.random.choice(df['intended_fix'], N_sim)\n",
    "L = 1\n",
    "sim_results = Parallel(n_jobs=30)(delayed(psiam_tied_data_gen_wrapper_V4)(V_A, theta_A, ABL_arr, ILD_arr, rate_lambda, T0, T_0_tau, theta_E, Z_E, t_A_aff, t_E_aff, t_motor, L, \\\n",
    "                                                                         t_stim_sampled[iter_num], iter_num, N_print, dt) for iter_num in range(N_sim)) "
   ]
  },
  {
   "cell_type": "code",
   "execution_count": 38,
   "metadata": {},
   "outputs": [
    {
     "data": {
      "image/png": "[encoded data removed]",
      "text/plain": [
       "<Figure size 640x480 with 1 Axes>"
      ]
     },
     "metadata": {},
     "output_type": "display_data"
    }
   ],
   "source": [
    "bins = np.arange(-2,4, 0.01)\n",
    "rt = [res['rt'] - res['t_stim'] for res in sim_results]\n",
    "plt.hist(rt, bins=bins, density=True, histtype='step');"
   ]
  },
  {
   "cell_type": "markdown",
   "metadata": {},
   "source": [
    "# rough "
   ]
  },
  {
   "cell_type": "code",
   "execution_count": 3,
   "metadata": {},
   "outputs": [],
   "source": [
    "T0 = 0.5 * (1e-3)"
   ]
  },
  {
   "cell_type": "code",
   "execution_count": null,
   "metadata": {},
   "outputs": [],
   "source": [
    "Nr0 = 1/T0\n",
    "\n",
    "t_pts = np.arange(0, 1, 0.01)\n",
    "\n",
    "\n",
    "tau = 0.2\n",
    "Nrt = Nr0 * np.exp(-t_pts/tau)\n",
    "Tt = 1/Nrt\n",
    "plt.plot(t_pts, Tt)\n",
    "plt.show()\n",
    "plt.plot(t_pts, Nrt)"
   ]
  },
  {
   "cell_type": "code",
   "execution_count": null,
   "metadata": {},
   "outputs": [],
   "source": []
  }
 ],
 "metadata": {
  "kernelspec": {
   "display_name": ".venv",
   "language": "python",
   "name": "python3"
  },
  "language_info": {
   "codemirror_mode": {
    "name": "ipython",
    "version": 3
   },
   "file_extension": ".py",
   "mimetype": "text/x-python",
   "name": "python",
   "nbconvert_exporter": "python",
   "pygments_lexer": "ipython3",
   "version": "3.12.3"
  }
 },
 "nbformat": 4,
 "nbformat_minor": 2
}
