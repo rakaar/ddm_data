{
 "cells": [
  {
   "cell_type": "code",
   "execution_count": 1,
   "metadata": {},
   "outputs": [],
   "source": [
    "import numpy as np\n",
    "import matplotlib.pyplot as plt\n",
    "import pandas as pd\n",
    "from tqdm import tqdm\n",
    "from joblib import Parallel, delayed\n",
    "from pyvbmc import VBMC\n",
    "import corner\n",
    "from psiam_tied_dv_map_utils import rho_A_t_fn, up_RTs_fit_fn, down_RTs_fit_fn, up_RTs_fit_single_t_fn, psiam_tied_data_gen_wrapper, psiam_tied_data_gen_wrapper_V2\n",
    "import sys\n",
    "import multiprocessing\n",
    "from psiam_tied_no_dv_map_utils import cum_A_t_fn, all_RTs_fit_OPTIM_fn\n",
    "from psiam_tied_no_dv_map_utils import rho_A_t_fn, cum_A_t_fn, rho_E_minus_small_t_NORM_fn\n",
    "from psiam_tied_dv_map_utils import cum_E_t_fn\n",
    "from tqdm import tqdm\n",
    "from scipy.integrate import trapezoid\n",
    "import random\n",
    "from psiam_tied_no_dv_map_utils import up_RTs_fit_VEC_fn"
   ]
  },
  {
   "cell_type": "code",
   "execution_count": 2,
   "metadata": {},
   "outputs": [],
   "source": [
    "# read out_LED.csv as dataframe\n",
    "og_df = pd.read_csv('../out_LED.csv')"
   ]
  },
  {
   "cell_type": "code",
   "execution_count": 3,
   "metadata": {},
   "outputs": [],
   "source": [
    "# chose non repeat trials - 0 or 2 or missing\n",
    "df = og_df[ og_df['repeat_trial'].isin([0,2]) | og_df['repeat_trial'].isna() ]\n",
    "\n",
    "# only session type 7\n",
    "session_type = 7    \n",
    "df = df[ df['session_type'].isin([session_type]) ]\n",
    "\n",
    "# training level 16\n",
    "training_level = 16\n",
    "df = df[ df['training_level'].isin([training_level]) ]\n",
    "\n",
    "df = df[  df['LED_trial'] == 0 ]\n",
    "\n",
    "# 1 is right , -1 is left\n",
    "df['choice'] = df['response_poke'].apply(lambda x: 1 if x == 3 else (-1 if x == 2 else random.choice([1, -1])))\n",
    "\n",
    "# 1 or 0 if the choice was correct or not\n",
    "df['correct'] = (df['ILD'] * df['choice']).apply(lambda x: 1 if x > 0 else 0)"
   ]
  },
  {
   "cell_type": "code",
   "execution_count": 4,
   "metadata": {},
   "outputs": [
    {
     "name": "stdout",
     "output_type": "stream",
     "text": [
      "ABL: [20 40 60]\n",
      "ILD: [-16.  -8.  -4.  -2.  -1.   1.   2.   4.   8.  16.]\n"
     ]
    }
   ],
   "source": [
    "# find ABL and ILD\n",
    "ABL_arr = df['ABL'].unique()\n",
    "ILD_arr = df['ILD'].unique()\n",
    "\n",
    "\n",
    "# sort ILD arr in ascending order\n",
    "ILD_arr = np.sort(ILD_arr)\n",
    "ABL_arr = np.sort(ABL_arr)\n",
    "\n",
    "print('ABL:', ABL_arr)\n",
    "print('ILD:', ILD_arr)"
   ]
  },
  {
   "cell_type": "code",
   "execution_count": 5,
   "metadata": {},
   "outputs": [
    {
     "name": "stdout",
     "output_type": "stream",
     "text": [
      "len of LED off rows: 66226\n",
      "len of LED off rows after removing trunc aborts: 64326\n",
      "len of rows after reoving all aborts = 54326\n"
     ]
    }
   ],
   "source": [
    "# LED off rows\n",
    "df_1 = df[ df['LED_trial'] == 0 ]\n",
    "print(f'len of LED off rows: {len(df_1)}')\n",
    "# remove trunc aborts\n",
    "df_1 = df_1 [ ~( (df_1['abort_event']==3) & (df_1['timed_fix'] < 0.3) ) ]\n",
    "print(f'len of LED off rows after removing trunc aborts: {len(df_1)}')\n",
    "\n",
    "df_1 = df_1[df_1['timed_fix'] > df_1['intended_fix']]\n",
    "print(f'len of rows after reoving all aborts = {len(df_1)}')"
   ]
  },
  {
   "cell_type": "code",
   "execution_count": 6,
   "metadata": {},
   "outputs": [],
   "source": [
    "import pickle\n",
    "with open('../fitting_aborts/post_led_censor_test_vbmc.pkl', 'rb') as f:\n",
    "    vp = pickle.load(f)"
   ]
  },
  {
   "cell_type": "code",
   "execution_count": 7,
   "metadata": {},
   "outputs": [],
   "source": [
    "vp_sample = vp.sample(int(1e6))[0]"
   ]
  },
  {
   "cell_type": "code",
   "execution_count": 8,
   "metadata": {},
   "outputs": [],
   "source": [
    "V_A = np.mean(vp_sample[:,0])\n",
    "theta_A = np.mean(vp_sample[:,1])\n",
    "t_motor = 0.04\n",
    "t_A_aff = np.mean(vp_sample[:,2]) - t_motor"
   ]
  },
  {
   "cell_type": "code",
   "execution_count": 9,
   "metadata": {},
   "outputs": [
    {
     "data": {
      "text/plain": [
       "-0.22648696501835436"
      ]
     },
     "execution_count": 9,
     "metadata": {},
     "output_type": "execute_result"
    }
   ],
   "source": [
    "t_A_aff"
   ]
  },
  {
   "cell_type": "markdown",
   "metadata": {},
   "source": [
    "# VBMC"
   ]
  },
  {
   "cell_type": "markdown",
   "metadata": {},
   "source": [
    "## loglike fn"
   ]
  },
  {
   "cell_type": "code",
   "execution_count": 10,
   "metadata": {},
   "outputs": [],
   "source": [
    "\n",
    "def compute_loglike(row, rate_lambda, T_0, theta_E, t_E_aff, Z_E):\n",
    "    intended_fix = row['intended_fix']\n",
    "    ILD = row['ILD']\n",
    "    ABL = row['ABL']\n",
    "    choice = row['response_poke']\n",
    "    rt = row['timed_fix']\n",
    "\n",
    "    t_stim = intended_fix\n",
    "    K_max = 10\n",
    "    \n",
    "    t_pts = np.arange(0, 10, 0.005)\n",
    "    p_up_arr = up_RTs_fit_VEC_fn(t_pts, V_A, theta_A, ABL, ILD, rate_lambda, T_0, theta_E, Z_E, t_stim, t_A_aff, t_E_aff, t_motor, K_max)\n",
    "    p_up = trapezoid(p_up_arr, t_pts)\n",
    "\n",
    "\n",
    "    if choice == 3:\n",
    "        likelihood = p_up\n",
    "    elif choice == 2:\n",
    "        likelihood = 1 - p_up\n",
    "    \n",
    "    if likelihood <= 0:\n",
    "        likelihood = 1e-50\n",
    "\n",
    "    return np.log(likelihood)    \n",
    "\n",
    "\n",
    "def psiam_tied_loglike_fn(params):\n",
    "    rate_lambda, T_0, theta_E, t_E_aff, Z_E = params\n",
    "\n",
    "\n",
    "    all_loglike = Parallel(n_jobs=30)(delayed(compute_loglike)(row, rate_lambda, T_0, theta_E, t_E_aff, Z_E)\\\n",
    "                                       for _, row in df_1.iterrows() if (row['timed_fix'] > row['intended_fix']) \\\n",
    "                                        and (row['response_poke'] in [2,3]))\n",
    "\n",
    "    loglike = np.sum(all_loglike)\n",
    "    return loglike"
   ]
  },
  {
   "cell_type": "markdown",
   "metadata": {},
   "source": [
    "## Bounds"
   ]
  },
  {
   "cell_type": "code",
   "execution_count": 11,
   "metadata": {},
   "outputs": [],
   "source": [
    "rate_lambda_bounds = [0.01, 0.2]\n",
    "theta_E_bounds = [30, 60]\n",
    "T_0_bounds = [0.1*(1e-3), 1*(1e-3)]\n",
    "\n",
    "\n",
    "t_E_aff_bounds = [0.001, 0.1]\n",
    "Z_E_bounds = [-10, 10]\n",
    "# L_bounds = [0.1, 1.99]\n",
    "\n",
    "# ---\n",
    "rate_lambda_plausible_bounds =  [0.05, 0.09]\n",
    "T_0_plausible_bounds = [0.15*(1e-3), 0.5*(1e-3)]\n",
    "theta_E_plausible_bounds = [40, 55]\n",
    "\n",
    "t_E_aff_plausible_bounds = [0.01, 0.05]\n",
    "Z_E_plausible_bounds = [-5, 5]\n",
    "# L_plausible_bounds = [0.5, 1.5]"
   ]
  },
  {
   "cell_type": "markdown",
   "metadata": {},
   "source": [
    "## prior"
   ]
  },
  {
   "cell_type": "code",
   "execution_count": 12,
   "metadata": {},
   "outputs": [],
   "source": [
    "def trapezoidal_logpdf(x, a, b, c, d):\n",
    "    if x < a or x > d:\n",
    "        return -np.inf  # Logarithm of zero\n",
    "    area = ((b - a) + (d - c)) / 2 + (c - b)\n",
    "    h_max = 1.0 / area  # Height of the trapezoid to normalize the area to 1\n",
    "    \n",
    "    if a <= x <= b:\n",
    "        pdf_value = ((x - a) / (b - a)) * h_max\n",
    "    elif b < x < c:\n",
    "        pdf_value = h_max\n",
    "    elif c <= x <= d:\n",
    "        pdf_value = ((d - x) / (d - c)) * h_max\n",
    "    else:\n",
    "        pdf_value = 0.0  # This case is redundant due to the initial check\n",
    "\n",
    "    if pdf_value <= 0.0:\n",
    "        return -np.inf\n",
    "    else:\n",
    "        return np.log(pdf_value)\n",
    "    \n",
    "\n",
    "def psiam_tied_prior_fn(params):\n",
    "    rate_lambda, T_0, theta_E, t_E_aff, Z_E = params\n",
    "\n",
    "    rate_lambda_logpdf = trapezoidal_logpdf(rate_lambda, rate_lambda_bounds[0], rate_lambda_plausible_bounds[0], rate_lambda_plausible_bounds[1], rate_lambda_bounds[1])\n",
    "    theta_E_logpdf = trapezoidal_logpdf(theta_E, theta_E_bounds[0], theta_E_plausible_bounds[0], theta_E_plausible_bounds[1], theta_E_bounds[1])\n",
    "    T_0_logpdf = trapezoidal_logpdf(T_0, T_0_bounds[0], T_0_plausible_bounds[0], T_0_plausible_bounds[1], T_0_bounds[1])\n",
    "    \n",
    "    t_E_aff_logpdf = trapezoidal_logpdf(t_E_aff, t_E_aff_bounds[0], t_E_aff_plausible_bounds[0], t_E_aff_plausible_bounds[1], t_E_aff_bounds[1])\n",
    "    Z_E_logpdf = trapezoidal_logpdf(Z_E, Z_E_bounds[0], Z_E_plausible_bounds[0], Z_E_plausible_bounds[1], Z_E_bounds[1])\n",
    "    # L_logpdf = trapezoidal_logpdf(L, L_bounds[0], L_plausible_bounds[0], L_plausible_bounds[1], L_bounds[1])\n",
    "\n",
    "    return rate_lambda_logpdf + T_0_logpdf + theta_E_logpdf + t_E_aff_logpdf + Z_E_logpdf\n"
   ]
  },
  {
   "cell_type": "markdown",
   "metadata": {},
   "source": [
    "## prior + loglike"
   ]
  },
  {
   "cell_type": "code",
   "execution_count": 13,
   "metadata": {},
   "outputs": [],
   "source": [
    "def psiam_tied_joint_fn(params):\n",
    "    priors = psiam_tied_prior_fn(params) \n",
    "    loglike = psiam_tied_loglike_fn(params)\n",
    "\n",
    "    joint = priors + loglike\n",
    "    return joint"
   ]
  },
  {
   "cell_type": "markdown",
   "metadata": {},
   "source": [
    "## run vbmc"
   ]
  },
  {
   "cell_type": "code",
   "execution_count": 14,
   "metadata": {},
   "outputs": [
    {
     "name": "stdout",
     "output_type": "stream",
     "text": [
      "Reshaping x0 to row vector.\n",
      "Reshaping lower bounds to (1, 5).\n",
      "Reshaping upper bounds to (1, 5).\n",
      "Reshaping plausible lower bounds to (1, 5).\n",
      "Reshaping plausible upper bounds to (1, 5).\n",
      "Beginning variational optimization assuming EXACT observations of the log-joint.\n",
      " Iteration  f-count    Mean[ELBO]    Std[ELBO]    sKL-iter[q]   K[q]  Convergence  Action\n"
     ]
    },
    {
     "ename": "KeyboardInterrupt",
     "evalue": "",
     "output_type": "error",
     "traceback": [
      "\u001b[0;31m---------------------------------------------------------------------------\u001b[0m",
      "\u001b[0;31mKeyboardInterrupt\u001b[0m                         Traceback (most recent call last)",
      "Cell \u001b[0;32mIn[14], line 25\u001b[0m\n\u001b[1;32m     22\u001b[0m x_0 \u001b[38;5;241m=\u001b[39m np\u001b[38;5;241m.\u001b[39marray([rate_lambda_0, T_0_0, theta_E_0, t_E_aff_0, Z_E_0])\n\u001b[1;32m     24\u001b[0m vbmc \u001b[38;5;241m=\u001b[39m VBMC(psiam_tied_joint_fn, x_0, lb, ub, plb, pub, options\u001b[38;5;241m=\u001b[39m{\u001b[38;5;124m'\u001b[39m\u001b[38;5;124mdisplay\u001b[39m\u001b[38;5;124m'\u001b[39m: \u001b[38;5;124m'\u001b[39m\u001b[38;5;124mon\u001b[39m\u001b[38;5;124m'\u001b[39m})\n\u001b[0;32m---> 25\u001b[0m vp, results \u001b[38;5;241m=\u001b[39m \u001b[43mvbmc\u001b[49m\u001b[38;5;241;43m.\u001b[39;49m\u001b[43moptimize\u001b[49m\u001b[43m(\u001b[49m\u001b[43m)\u001b[49m\n",
      "File \u001b[0;32m~/raghavendra/ddm_data/.venv/lib/python3.12/site-packages/pyvbmc/vbmc/vbmc.py:1098\u001b[0m, in \u001b[0;36mVBMC.optimize\u001b[0;34m(self)\u001b[0m\n\u001b[1;32m   1091\u001b[0m     \u001b[38;5;28;01melse\u001b[39;00m:\n\u001b[1;32m   1092\u001b[0m         \u001b[38;5;28mself\u001b[39m\u001b[38;5;241m.\u001b[39moptim_state[\u001b[38;5;124m\"\u001b[39m\u001b[38;5;124mhyp_dict\u001b[39m\u001b[38;5;124m\"\u001b[39m] \u001b[38;5;241m=\u001b[39m \u001b[38;5;28mself\u001b[39m\u001b[38;5;241m.\u001b[39mhyp_dict\n\u001b[1;32m   1093\u001b[0m         (\n\u001b[1;32m   1094\u001b[0m             \u001b[38;5;28mself\u001b[39m\u001b[38;5;241m.\u001b[39mfunction_logger,\n\u001b[1;32m   1095\u001b[0m             \u001b[38;5;28mself\u001b[39m\u001b[38;5;241m.\u001b[39moptim_state,\n\u001b[1;32m   1096\u001b[0m             \u001b[38;5;28mself\u001b[39m\u001b[38;5;241m.\u001b[39mvp,\n\u001b[1;32m   1097\u001b[0m             \u001b[38;5;28mself\u001b[39m\u001b[38;5;241m.\u001b[39mgp,\n\u001b[0;32m-> 1098\u001b[0m         ) \u001b[38;5;241m=\u001b[39m \u001b[43mactive_sample\u001b[49m\u001b[43m(\u001b[49m\n\u001b[1;32m   1099\u001b[0m \u001b[43m            \u001b[49m\u001b[43mgp_search\u001b[49m\u001b[43m,\u001b[49m\n\u001b[1;32m   1100\u001b[0m \u001b[43m            \u001b[49m\u001b[43mnew_funevals\u001b[49m\u001b[43m,\u001b[49m\n\u001b[1;32m   1101\u001b[0m \u001b[43m            \u001b[49m\u001b[38;5;28;43mself\u001b[39;49m\u001b[38;5;241;43m.\u001b[39;49m\u001b[43moptim_state\u001b[49m\u001b[43m,\u001b[49m\n\u001b[1;32m   1102\u001b[0m \u001b[43m            \u001b[49m\u001b[38;5;28;43mself\u001b[39;49m\u001b[38;5;241;43m.\u001b[39;49m\u001b[43mfunction_logger\u001b[49m\u001b[43m,\u001b[49m\n\u001b[1;32m   1103\u001b[0m \u001b[43m            \u001b[49m\u001b[38;5;28;43mself\u001b[39;49m\u001b[38;5;241;43m.\u001b[39;49m\u001b[43miteration_history\u001b[49m\u001b[43m,\u001b[49m\n\u001b[1;32m   1104\u001b[0m \u001b[43m            \u001b[49m\u001b[38;5;28;43mself\u001b[39;49m\u001b[38;5;241;43m.\u001b[39;49m\u001b[43mvp\u001b[49m\u001b[43m,\u001b[49m\n\u001b[1;32m   1105\u001b[0m \u001b[43m            \u001b[49m\u001b[38;5;28;43mself\u001b[39;49m\u001b[38;5;241;43m.\u001b[39;49m\u001b[43moptions\u001b[49m\u001b[43m,\u001b[49m\n\u001b[1;32m   1106\u001b[0m \u001b[43m        \u001b[49m\u001b[43m)\u001b[49m\n\u001b[1;32m   1107\u001b[0m         \u001b[38;5;28mself\u001b[39m\u001b[38;5;241m.\u001b[39mhyp_dict \u001b[38;5;241m=\u001b[39m \u001b[38;5;28mself\u001b[39m\u001b[38;5;241m.\u001b[39moptim_state[\u001b[38;5;124m\"\u001b[39m\u001b[38;5;124mhyp_dict\u001b[39m\u001b[38;5;124m\"\u001b[39m]\n\u001b[1;32m   1109\u001b[0m \u001b[38;5;66;03m# Number of training inputs\u001b[39;00m\n",
      "File \u001b[0;32m~/raghavendra/ddm_data/.venv/lib/python3.12/site-packages/pyvbmc/vbmc/active_sample.py:166\u001b[0m, in \u001b[0;36mactive_sample\u001b[0;34m(gp, sample_count, optim_state, function_logger, iteration_history, vp, options)\u001b[0m\n\u001b[1;32m    164\u001b[0m \u001b[38;5;28;01mfor\u001b[39;00m idx \u001b[38;5;129;01min\u001b[39;00m \u001b[38;5;28mrange\u001b[39m(sample_count):\n\u001b[1;32m    165\u001b[0m     \u001b[38;5;28;01mif\u001b[39;00m np\u001b[38;5;241m.\u001b[39misnan(ys[idx]):  \u001b[38;5;66;03m# Function value is not available\u001b[39;00m\n\u001b[0;32m--> 166\u001b[0m         \u001b[43mfunction_logger\u001b[49m\u001b[43m(\u001b[49m\u001b[43mXs\u001b[49m\u001b[43m[\u001b[49m\u001b[43midx\u001b[49m\u001b[43m]\u001b[49m\u001b[43m)\u001b[49m\n\u001b[1;32m    167\u001b[0m     \u001b[38;5;28;01melse\u001b[39;00m:\n\u001b[1;32m    168\u001b[0m         function_logger\u001b[38;5;241m.\u001b[39madd(Xs[idx], ys[idx])\n",
      "File \u001b[0;32m~/raghavendra/ddm_data/.venv/lib/python3.12/site-packages/pyvbmc/function_logger/function_logger.py:124\u001b[0m, in \u001b[0;36mFunctionLogger.__call__\u001b[0;34m(self, x)\u001b[0m\n\u001b[1;32m    122\u001b[0m     f_val_orig, f_sd \u001b[38;5;241m=\u001b[39m \u001b[38;5;28mself\u001b[39m\u001b[38;5;241m.\u001b[39mfun(x_orig)\n\u001b[1;32m    123\u001b[0m \u001b[38;5;28;01melse\u001b[39;00m:\n\u001b[0;32m--> 124\u001b[0m     f_val_orig \u001b[38;5;241m=\u001b[39m \u001b[38;5;28;43mself\u001b[39;49m\u001b[38;5;241;43m.\u001b[39;49m\u001b[43mfun\u001b[49m\u001b[43m(\u001b[49m\u001b[43mx_orig\u001b[49m\u001b[43m)\u001b[49m\n\u001b[1;32m    125\u001b[0m     \u001b[38;5;28;01mif\u001b[39;00m \u001b[38;5;28mself\u001b[39m\u001b[38;5;241m.\u001b[39mnoise_flag:\n\u001b[1;32m    126\u001b[0m         f_sd \u001b[38;5;241m=\u001b[39m \u001b[38;5;241m1\u001b[39m\n",
      "Cell \u001b[0;32mIn[13], line 3\u001b[0m, in \u001b[0;36mpsiam_tied_joint_fn\u001b[0;34m(params)\u001b[0m\n\u001b[1;32m      1\u001b[0m \u001b[38;5;28;01mdef\u001b[39;00m \u001b[38;5;21mpsiam_tied_joint_fn\u001b[39m(params):\n\u001b[1;32m      2\u001b[0m     priors \u001b[38;5;241m=\u001b[39m psiam_tied_prior_fn(params) \n\u001b[0;32m----> 3\u001b[0m     loglike \u001b[38;5;241m=\u001b[39m \u001b[43mpsiam_tied_loglike_fn\u001b[49m\u001b[43m(\u001b[49m\u001b[43mparams\u001b[49m\u001b[43m)\u001b[49m\n\u001b[1;32m      5\u001b[0m     joint \u001b[38;5;241m=\u001b[39m priors \u001b[38;5;241m+\u001b[39m loglike\n\u001b[1;32m      6\u001b[0m     \u001b[38;5;28;01mreturn\u001b[39;00m joint\n",
      "Cell \u001b[0;32mIn[10], line 31\u001b[0m, in \u001b[0;36mpsiam_tied_loglike_fn\u001b[0;34m(params)\u001b[0m\n\u001b[1;32m     27\u001b[0m \u001b[38;5;28;01mdef\u001b[39;00m \u001b[38;5;21mpsiam_tied_loglike_fn\u001b[39m(params):\n\u001b[1;32m     28\u001b[0m     rate_lambda, T_0, theta_E, t_E_aff, Z_E \u001b[38;5;241m=\u001b[39m params\n\u001b[0;32m---> 31\u001b[0m     all_loglike \u001b[38;5;241m=\u001b[39m \u001b[43mParallel\u001b[49m\u001b[43m(\u001b[49m\u001b[43mn_jobs\u001b[49m\u001b[38;5;241;43m=\u001b[39;49m\u001b[38;5;241;43m30\u001b[39;49m\u001b[43m)\u001b[49m\u001b[43m(\u001b[49m\u001b[43mdelayed\u001b[49m\u001b[43m(\u001b[49m\u001b[43mcompute_loglike\u001b[49m\u001b[43m)\u001b[49m\u001b[43m(\u001b[49m\u001b[43mrow\u001b[49m\u001b[43m,\u001b[49m\u001b[43m \u001b[49m\u001b[43mrate_lambda\u001b[49m\u001b[43m,\u001b[49m\u001b[43m \u001b[49m\u001b[43mT_0\u001b[49m\u001b[43m,\u001b[49m\u001b[43m \u001b[49m\u001b[43mtheta_E\u001b[49m\u001b[43m,\u001b[49m\u001b[43m \u001b[49m\u001b[43mt_E_aff\u001b[49m\u001b[43m,\u001b[49m\u001b[43m \u001b[49m\u001b[43mZ_E\u001b[49m\u001b[43m)\u001b[49m\u001b[43m\\\u001b[49m\n\u001b[1;32m     32\u001b[0m \u001b[43m                                       \u001b[49m\u001b[38;5;28;43;01mfor\u001b[39;49;00m\u001b[43m \u001b[49m\u001b[43m_\u001b[49m\u001b[43m,\u001b[49m\u001b[43m \u001b[49m\u001b[43mrow\u001b[49m\u001b[43m \u001b[49m\u001b[38;5;129;43;01min\u001b[39;49;00m\u001b[43m \u001b[49m\u001b[43mdf_1\u001b[49m\u001b[38;5;241;43m.\u001b[39;49m\u001b[43miterrows\u001b[49m\u001b[43m(\u001b[49m\u001b[43m)\u001b[49m\u001b[43m \u001b[49m\u001b[38;5;28;43;01mif\u001b[39;49;00m\u001b[43m \u001b[49m\u001b[43m(\u001b[49m\u001b[43mrow\u001b[49m\u001b[43m[\u001b[49m\u001b[38;5;124;43m'\u001b[39;49m\u001b[38;5;124;43mtimed_fix\u001b[39;49m\u001b[38;5;124;43m'\u001b[39;49m\u001b[43m]\u001b[49m\u001b[43m \u001b[49m\u001b[38;5;241;43m>\u001b[39;49m\u001b[43m \u001b[49m\u001b[43mrow\u001b[49m\u001b[43m[\u001b[49m\u001b[38;5;124;43m'\u001b[39;49m\u001b[38;5;124;43mintended_fix\u001b[39;49m\u001b[38;5;124;43m'\u001b[39;49m\u001b[43m]\u001b[49m\u001b[43m)\u001b[49m\u001b[43m \u001b[49m\u001b[43m\\\u001b[49m\n\u001b[1;32m     33\u001b[0m \u001b[43m                                        \u001b[49m\u001b[38;5;129;43;01mand\u001b[39;49;00m\u001b[43m \u001b[49m\u001b[43m(\u001b[49m\u001b[43mrow\u001b[49m\u001b[43m[\u001b[49m\u001b[38;5;124;43m'\u001b[39;49m\u001b[38;5;124;43mresponse_poke\u001b[39;49m\u001b[38;5;124;43m'\u001b[39;49m\u001b[43m]\u001b[49m\u001b[43m \u001b[49m\u001b[38;5;129;43;01min\u001b[39;49;00m\u001b[43m \u001b[49m\u001b[43m[\u001b[49m\u001b[38;5;241;43m2\u001b[39;49m\u001b[43m,\u001b[49m\u001b[38;5;241;43m3\u001b[39;49m\u001b[43m]\u001b[49m\u001b[43m)\u001b[49m\u001b[43m)\u001b[49m\n\u001b[1;32m     35\u001b[0m     loglike \u001b[38;5;241m=\u001b[39m np\u001b[38;5;241m.\u001b[39msum(all_loglike)\n\u001b[1;32m     36\u001b[0m     \u001b[38;5;28;01mreturn\u001b[39;00m loglike\n",
      "File \u001b[0;32m~/raghavendra/ddm_data/.venv/lib/python3.12/site-packages/joblib/parallel.py:2007\u001b[0m, in \u001b[0;36mParallel.__call__\u001b[0;34m(self, iterable)\u001b[0m\n\u001b[1;32m   2001\u001b[0m \u001b[38;5;66;03m# The first item from the output is blank, but it makes the interpreter\u001b[39;00m\n\u001b[1;32m   2002\u001b[0m \u001b[38;5;66;03m# progress until it enters the Try/Except block of the generator and\u001b[39;00m\n\u001b[1;32m   2003\u001b[0m \u001b[38;5;66;03m# reaches the first `yield` statement. This starts the asynchronous\u001b[39;00m\n\u001b[1;32m   2004\u001b[0m \u001b[38;5;66;03m# dispatch of the tasks to the workers.\u001b[39;00m\n\u001b[1;32m   2005\u001b[0m \u001b[38;5;28mnext\u001b[39m(output)\n\u001b[0;32m-> 2007\u001b[0m \u001b[38;5;28;01mreturn\u001b[39;00m output \u001b[38;5;28;01mif\u001b[39;00m \u001b[38;5;28mself\u001b[39m\u001b[38;5;241m.\u001b[39mreturn_generator \u001b[38;5;28;01melse\u001b[39;00m \u001b[38;5;28;43mlist\u001b[39;49m\u001b[43m(\u001b[49m\u001b[43moutput\u001b[49m\u001b[43m)\u001b[49m\n",
      "File \u001b[0;32m~/raghavendra/ddm_data/.venv/lib/python3.12/site-packages/joblib/parallel.py:1650\u001b[0m, in \u001b[0;36mParallel._get_outputs\u001b[0;34m(self, iterator, pre_dispatch)\u001b[0m\n\u001b[1;32m   1647\u001b[0m     \u001b[38;5;28;01myield\u001b[39;00m\n\u001b[1;32m   1649\u001b[0m     \u001b[38;5;28;01mwith\u001b[39;00m \u001b[38;5;28mself\u001b[39m\u001b[38;5;241m.\u001b[39m_backend\u001b[38;5;241m.\u001b[39mretrieval_context():\n\u001b[0;32m-> 1650\u001b[0m         \u001b[38;5;28;01myield from\u001b[39;00m \u001b[38;5;28mself\u001b[39m\u001b[38;5;241m.\u001b[39m_retrieve()\n\u001b[1;32m   1652\u001b[0m \u001b[38;5;28;01mexcept\u001b[39;00m \u001b[38;5;167;01mGeneratorExit\u001b[39;00m:\n\u001b[1;32m   1653\u001b[0m     \u001b[38;5;66;03m# The generator has been garbage collected before being fully\u001b[39;00m\n\u001b[1;32m   1654\u001b[0m     \u001b[38;5;66;03m# consumed. This aborts the remaining tasks if possible and warn\u001b[39;00m\n\u001b[1;32m   1655\u001b[0m     \u001b[38;5;66;03m# the user if necessary.\u001b[39;00m\n\u001b[1;32m   1656\u001b[0m     \u001b[38;5;28mself\u001b[39m\u001b[38;5;241m.\u001b[39m_exception \u001b[38;5;241m=\u001b[39m \u001b[38;5;28;01mTrue\u001b[39;00m\n",
      "File \u001b[0;32m~/raghavendra/ddm_data/.venv/lib/python3.12/site-packages/joblib/parallel.py:1762\u001b[0m, in \u001b[0;36mParallel._retrieve\u001b[0;34m(self)\u001b[0m\n\u001b[1;32m   1757\u001b[0m \u001b[38;5;66;03m# If the next job is not ready for retrieval yet, we just wait for\u001b[39;00m\n\u001b[1;32m   1758\u001b[0m \u001b[38;5;66;03m# async callbacks to progress.\u001b[39;00m\n\u001b[1;32m   1759\u001b[0m \u001b[38;5;28;01mif\u001b[39;00m ((\u001b[38;5;28mlen\u001b[39m(\u001b[38;5;28mself\u001b[39m\u001b[38;5;241m.\u001b[39m_jobs) \u001b[38;5;241m==\u001b[39m \u001b[38;5;241m0\u001b[39m) \u001b[38;5;129;01mor\u001b[39;00m\n\u001b[1;32m   1760\u001b[0m     (\u001b[38;5;28mself\u001b[39m\u001b[38;5;241m.\u001b[39m_jobs[\u001b[38;5;241m0\u001b[39m]\u001b[38;5;241m.\u001b[39mget_status(\n\u001b[1;32m   1761\u001b[0m         timeout\u001b[38;5;241m=\u001b[39m\u001b[38;5;28mself\u001b[39m\u001b[38;5;241m.\u001b[39mtimeout) \u001b[38;5;241m==\u001b[39m TASK_PENDING)):\n\u001b[0;32m-> 1762\u001b[0m     \u001b[43mtime\u001b[49m\u001b[38;5;241;43m.\u001b[39;49m\u001b[43msleep\u001b[49m\u001b[43m(\u001b[49m\u001b[38;5;241;43m0.01\u001b[39;49m\u001b[43m)\u001b[49m\n\u001b[1;32m   1763\u001b[0m     \u001b[38;5;28;01mcontinue\u001b[39;00m\n\u001b[1;32m   1765\u001b[0m \u001b[38;5;66;03m# We need to be careful: the job list can be filling up as\u001b[39;00m\n\u001b[1;32m   1766\u001b[0m \u001b[38;5;66;03m# we empty it and Python list are not thread-safe by\u001b[39;00m\n\u001b[1;32m   1767\u001b[0m \u001b[38;5;66;03m# default hence the use of the lock\u001b[39;00m\n",
      "\u001b[0;31mKeyboardInterrupt\u001b[0m: "
     ]
    }
   ],
   "source": [
    "lb = np.array([ rate_lambda_bounds[0], T_0_bounds[0], theta_E_bounds[0], \\\n",
    "               t_E_aff_bounds[0], Z_E_bounds[0]])\n",
    "ub = np.array([ rate_lambda_bounds[1], T_0_bounds[1], theta_E_bounds[1], \\\n",
    "                t_E_aff_bounds[1], Z_E_bounds[1]])\n",
    "\n",
    "plb = np.array([ rate_lambda_plausible_bounds[0], T_0_plausible_bounds[0], theta_E_plausible_bounds[0], \\\n",
    "                t_E_aff_plausible_bounds[0], Z_E_plausible_bounds[0]])\n",
    "\n",
    "pub = np.array([rate_lambda_plausible_bounds[1], T_0_plausible_bounds[1], theta_E_plausible_bounds[1], \\\n",
    "                t_E_aff_plausible_bounds[1], Z_E_plausible_bounds[1]])\n",
    "\n",
    "\n",
    "np.random.seed(42)\n",
    "rate_lambda_0 = np.random.uniform(rate_lambda_plausible_bounds[0], rate_lambda_plausible_bounds[1])\n",
    "T_0_0 = np.random.uniform(T_0_plausible_bounds[0], T_0_plausible_bounds[1])\n",
    "theta_E_0 = np.random.uniform(theta_E_plausible_bounds[0], theta_E_plausible_bounds[1])\n",
    "\n",
    "t_E_aff_0 = np.random.uniform(t_E_aff_plausible_bounds[0], t_E_aff_plausible_bounds[1])\n",
    "Z_E_0 = np.random.uniform(Z_E_plausible_bounds[0], Z_E_plausible_bounds[1])\n",
    "# L_0 = np.random.uniform(L_plausible_bounds[0], L_plausible_bounds[1])\n",
    "\n",
    "x_0 = np.array([rate_lambda_0, T_0_0, theta_E_0, t_E_aff_0, Z_E_0])\n",
    "\n",
    "vbmc = VBMC(psiam_tied_joint_fn, x_0, lb, ub, plb, pub, options={'display': 'on'})\n",
    "vp, results = vbmc.optimize()"
   ]
  },
  {
   "cell_type": "code",
   "execution_count": 15,
   "metadata": {},
   "outputs": [],
   "source": [
    "vbmc.save('Only_choice_all_trials.pkl')"
   ]
  },
  {
   "cell_type": "markdown",
   "metadata": {},
   "source": [
    "# Till HERE PYTHON FILE"
   ]
  },
  {
   "cell_type": "code",
   "execution_count": 80,
   "metadata": {},
   "outputs": [],
   "source": [
    "with open('COND_choice_all_trials.pkl', 'rb') as f:\n",
    "    vp = pickle.load(f)"
   ]
  },
  {
   "cell_type": "code",
   "execution_count": 81,
   "metadata": {},
   "outputs": [],
   "source": [
    "vp = vp.vp"
   ]
  },
  {
   "cell_type": "markdown",
   "metadata": {},
   "source": [
    "## corner plots"
   ]
  },
  {
   "cell_type": "code",
   "execution_count": null,
   "metadata": {},
   "outputs": [],
   "source": [
    "vp_samples = vp.sample(int(1e5))[0]\n",
    "vp_samples[:,1] = vp_samples[:,1] * 1e3\n",
    "\n",
    "param_labels = ['lambda', 'T0', 'theta_E', 't_E', 'Z_E', 'L']\n",
    "\n",
    "percentiles = np.percentile(vp_samples, [1, 99], axis=0)\n",
    "\n",
    "_ranges = [(percentiles[0, i], percentiles[1, i]) for i in np.arange(vp_samples.shape[1])]\n",
    "\n",
    "\n",
    "# Now create the corner plot using these ranges\n",
    "corner.corner(\n",
    "    vp_samples,\n",
    "    labels=param_labels,\n",
    "    show_titles=True,\n",
    "    quantiles=[0.025, 0.5, 0.975],\n",
    "    range=_ranges,\n",
    ");"
   ]
  },
  {
   "cell_type": "markdown",
   "metadata": {},
   "source": [
    "# diagnose"
   ]
  },
  {
   "cell_type": "markdown",
   "metadata": {},
   "source": [
    "## simulate data"
   ]
  },
  {
   "cell_type": "code",
   "execution_count": 21,
   "metadata": {},
   "outputs": [],
   "source": [
    "# lambda_mean = vp_samples[max_idx, 0]\n",
    "# T0_mean = vp_samples[max_idx, 1] / 1e3\n",
    "# theta_E_mean = vp_samples[max_idx, 2]"
   ]
  },
  {
   "cell_type": "code",
   "execution_count": null,
   "metadata": {},
   "outputs": [],
   "source": [
    "# print(f'lambda = {lambda_mean}')\n",
    "# print(f't0 = {T0_mean * 1000} ms')\n",
    "# print(f'theta E = {theta_E_mean}')"
   ]
  },
  {
   "cell_type": "code",
   "execution_count": 83,
   "metadata": {},
   "outputs": [],
   "source": [
    "lambda_mean = np.mean(vp_samples[:,0])\n",
    "T0_mean = np.mean(vp_samples[:,1]) / 1e3\n",
    "theta_E_mean = np.mean(vp_samples[:,2])\n",
    "\n",
    "t_E_aff_mean = np.mean(vp_samples[:,3])\n",
    "Z_E_mean = np.mean(vp_samples[:,4])\n",
    "L_mean = np.mean(vp_samples[:,5])\n",
    "\n",
    "# t_E_aff_mean = vp_samples[max_idx, 3]\n",
    "# Z_E_mean = vp_samples[max_idx, 4]\n",
    "# L_mean = vp_samples[max_idx, 5]\n"
   ]
  },
  {
   "cell_type": "code",
   "execution_count": null,
   "metadata": {},
   "outputs": [],
   "source": [
    "print(f'likelihood = {psiam_tied_loglike_fn([lambda_mean, T0_mean, theta_E_mean, t_E_aff_mean, Z_E_mean, L_mean]):.3f} ')"
   ]
  },
  {
   "cell_type": "code",
   "execution_count": 85,
   "metadata": {},
   "outputs": [],
   "source": [
    "N_print = 50_000 + 1\n",
    "dt = 1e-3\n",
    "N_sim = int(1e6)\n",
    "\n",
    "t_stim_sampled = np.random.choice(df_1['intended_fix'], N_sim)\n",
    "\n",
    "sim_results = Parallel(n_jobs=30)(delayed(psiam_tied_data_gen_wrapper_V2)(V_A, theta_A, ABL_arr, ILD_arr, lambda_mean, T0_mean, theta_E_mean, Z_E_mean, t_A_aff, t_E_aff_mean, t_motor, L_mean, \\\n",
    "                                                                         t_stim_sampled[iter_num], iter_num, N_print, dt) for iter_num in range(N_sim)) \n",
    "\n"
   ]
  },
  {
   "cell_type": "markdown",
   "metadata": {},
   "source": [
    "# Generic class for diagnostics"
   ]
  },
  {
   "cell_type": "code",
   "execution_count": 86,
   "metadata": {},
   "outputs": [],
   "source": [
    "class Diagnostics:\n",
    "    \"\"\"\n",
    "    Remove truncated aborts by urself\n",
    "\n",
    "    data frame with column names\n",
    "    rt: RT wrt fixation\n",
    "    t_stim: stimulus onset\n",
    "    choice: 1 or -1\n",
    "    ABL, ILD\n",
    "    correct: 1 or 0\n",
    "    \"\"\"\n",
    "    def __init__(self, data):\n",
    "        self.data = data\n",
    "\n",
    "    def plot_rtd_wrt_fix(self,bins):\n",
    "        \"\"\"\n",
    "        return x and y for plotting\n",
    "        \"\"\"\n",
    "        df = self.data.copy()\n",
    "        rt_wrt_fix = df['rt']\n",
    "        rt_wrt_fix_hist, _ = np.histogram(rt_wrt_fix, bins=bins, density=True)\n",
    "        \n",
    "        bin_centers = bins[:-1] + 0.5*(bins[1] - bins[0])\n",
    "\n",
    "        return bin_centers, rt_wrt_fix_hist\n",
    "    \n",
    "\n",
    "    def plot_rtd_wrt_stim(self,bins):\n",
    "        df = self.data.copy()\n",
    "        rt_wrt_stim = df['rt'] - df['t_stim']\n",
    "        rt_wrt_stim_hist, _ = np.histogram(rt_wrt_stim, bins=bins, density=True)\n",
    "        \n",
    "        bin_centers = bins[:-1] + 0.5*(bins[1] - bins[0])\n",
    "\n",
    "        return bin_centers, rt_wrt_stim_hist\n",
    "\n",
    "    def plot_tacho(self, bins):\n",
    "        # prob of correct vs RT\n",
    "        df = self.data.copy()\n",
    "        df['RT_bin'] = pd.cut(df['rt'] - df['t_stim'], bins=bins, include_lowest=True)\n",
    "        grouped_by_rt_bin = df.groupby('RT_bin', observed=False)['correct'].agg(['mean', 'count'])\n",
    "        grouped_by_rt_bin['bin_mid'] = grouped_by_rt_bin.index.map(lambda x: x.mid)\n",
    "        return grouped_by_rt_bin['bin_mid'], grouped_by_rt_bin['mean']\n",
    "    \n",
    "    def plot_chrono(self):\n",
    "        # mean rt vs abs ILD for each ABL\n",
    "        df = self.data.copy()\n",
    "        all_ABL = np.sort(df['ABL'].unique())\n",
    "        all_ILD = np.sort(df['ILD'].unique())\n",
    "        all_ILD = all_ILD[all_ILD > 0] \n",
    "\n",
    "        abl_rt_dict = {}\n",
    "\n",
    "        for ABL in all_ABL:\n",
    "            per_ILD_rt = np.zeros_like(all_ILD)\n",
    "            for idx, ILD in enumerate(all_ILD):\n",
    "                filtered_df = df[ (df['ABL'] == ABL) \\\n",
    "                                            & (df['ILD'].isin([ILD, -ILD])) ]\n",
    "                mean_rt = (filtered_df['rt'] - filtered_df['t_stim']).replace([np.nan, np.inf, -np.inf], np.nan).dropna().mean()\n",
    "                per_ILD_rt[idx] = mean_rt\n",
    "            abl_rt_dict[ABL] = per_ILD_rt\n",
    "        \n",
    "        return all_ILD, abl_rt_dict\n",
    "\n",
    "    def plot_quantile(self):\n",
    "        # 10 - 90 percentiles in steps of 20\n",
    "        df = self.data.copy()\n",
    "        df['rt_wrt_stim'] = df['rt'] - df['t_stim']\n",
    "\n",
    "        abl_ild_quantiles = {}\n",
    "        quantile_levels = [0.1, 0.3, 0.5, 0.7, 0.9]\n",
    "\n",
    "        all_ABL = np.sort(df['ABL'].unique())\n",
    "        all_ILD = np.sort(df['ILD'].unique())\n",
    "        all_ILD = all_ILD[all_ILD > 0] \n",
    "\n",
    "        for abl in all_ABL:\n",
    "            abl_ild_quantiles[abl] = {}\n",
    "            for ild in all_ILD:\n",
    "                filtered_df = df[(df['ABL'] == abl) & (df['ILD'].isin([ild, -ild]))]\n",
    "                quantiles = filtered_df['rt_wrt_stim'].replace([np.nan, np.inf, -np.inf], np.nan).dropna().quantile(quantile_levels).tolist()\n",
    "                abl_ild_quantiles[abl][ild] = quantiles\n",
    "\n",
    "        return abl_ild_quantiles\n",
    "    \n",
    "    def plot_psycho(self):\n",
    "        df = self.data.copy()\n",
    "        prob_choice_dict = {}\n",
    "\n",
    "        all_ABL = np.sort(df['ABL'].unique())\n",
    "        all_ILD = np.sort(df['ILD'].unique())\n",
    "\n",
    "        for abl in all_ABL:\n",
    "            filtered_df = df[df['ABL'] == abl]\n",
    "            prob_choice_dict[abl] = [sum(filtered_df[filtered_df['ILD'] == ild]['choice'] == 1) / len(filtered_df[filtered_df['ILD'] == ild]) for ild in all_ILD]\n",
    "\n",
    "        return prob_choice_dict\n",
    "\n"
   ]
  },
  {
   "cell_type": "code",
   "execution_count": 88,
   "metadata": {},
   "outputs": [],
   "source": [
    "T_trunc_left_aborts = 0.3"
   ]
  },
  {
   "cell_type": "code",
   "execution_count": null,
   "metadata": {},
   "outputs": [],
   "source": [
    "sim_results_1 = [res for res in sim_results if not (res['rt'] < res['t_stim'] and res['rt'] < T_trunc_left_aborts)]\n",
    "# sim_results_2 = [res for res in sim_results_1 if res['rt'] - res['t_stim'] < T_trunc_right_wrt_stim] \n",
    "sim_results_2 = sim_results_1\n",
    "\n",
    "df_led_off = df[ df['LED_trial'] == 0].copy()\n",
    "df_led_off.loc[:,'rt'] = df_led_off['timed_fix']\n",
    "df_led_off.loc[:,'t_stim'] = df_led_off['intended_fix']\n",
    "\n",
    "df_led_off_trunc = df_led_off[ ~( (df_led_off['rt'] < df_led_off['t_stim']) & (df_led_off['rt'] < T_trunc_left_aborts)  ) ]\n",
    "# df_led_off_trunc_1 =  df_led_off_trunc[df_led_off_trunc['rt'] - df_led_off_trunc['t_stim'] < T_trunc_right_wrt_stim]\n",
    "df_led_off_trunc_1 = df_led_off_trunc\n",
    "\n",
    "sim_diagnose_obj = Diagnostics(pd.DataFrame(sim_results_2))\n",
    "data_diagnose_obj = Diagnostics(df_led_off_trunc_1)\n",
    "\n",
    "fig = plt.figure(figsize=(30, 25))\n",
    "gs = fig.add_gridspec(3, 2)\n",
    "\n",
    "### PLOT 1\n",
    "ax1 = fig.add_subplot(gs[0, 0])\n",
    "bins = np.arange(-1, 1, 0.01)\n",
    "x, y = sim_diagnose_obj.plot_rtd_wrt_stim(bins)\n",
    "ax1.plot(x, y, label='sim', ls='--', color='r')\n",
    "x, y = data_diagnose_obj.plot_rtd_wrt_stim(bins)\n",
    "ax1.plot(x, y, label='data', color='b')\n",
    "ax1.set_title('right trunc, trunc aborts removed RTD')\n",
    "ax1.set_xlabel('rt - t_stim')\n",
    "ax1.set_ylabel('density')\n",
    "ax1.legend()\n",
    "\n",
    "data_diagnose_obj_valid = Diagnostics(df_led_off_trunc_1[df_led_off_trunc_1['rt'] > df_led_off_trunc_1['t_stim']])\n",
    "for d in sim_results_2:\n",
    "    d['correct'] = 1 if d['ILD'] * d['choice'] > 0 else 0\n",
    "\n",
    "sim_results_pd_valid = pd.DataFrame(sim_results_2)\n",
    "sim_results_pd_valid_1 = sim_results_pd_valid[sim_results_pd_valid['rt'] > sim_results_pd_valid['t_stim']]\n",
    "\n",
    "sim_diagnose_obj_valid = Diagnostics(sim_results_pd_valid_1)\n",
    "\n",
    "### PLOT 2\n",
    "ax2 = fig.add_subplot(gs[0, 1])\n",
    "ABL_colors = {20: 'b', 40: 'r', 60: 'k'}\n",
    "x, sim_chrono = sim_diagnose_obj_valid.plot_chrono()\n",
    "for ABL in sim_chrono.keys():\n",
    "    ax2.plot(x, sim_chrono[ABL], color=ABL_colors[ABL], alpha=0.5, ls='--')\n",
    "\n",
    "x, data_chrono = data_diagnose_obj_valid.plot_chrono()\n",
    "for ABL in data_chrono.keys():\n",
    "    ax2.scatter(x, data_chrono[ABL], label=f'data ABL={ABL}', color=ABL_colors[ABL], marker='.', s=500)\n",
    "ax2.legend()\n",
    "ax2.set_xlabel('abs ILD')\n",
    "ax2.set_ylabel('mean RT')\n",
    "ax2.set_title('chrono')\n",
    "\n",
    "### PLOT 3\n",
    "gs_row1 = gs[1, :].subgridspec(1, 3)\n",
    "for idx, ABL in enumerate(data_diagnose_obj_valid.plot_quantile().keys()):\n",
    "    ax = fig.add_subplot(gs_row1[0, idx])\n",
    "\n",
    "    data_q = data_diagnose_obj_valid.plot_quantile()\n",
    "    sim_q = sim_diagnose_obj_valid.plot_quantile()\n",
    "    all_ild = data_q[ABL].keys()\n",
    "    for ild in all_ild:\n",
    "        ax.scatter(np.log(ild*np.ones_like(data_q[ABL][ild])), data_q[ABL][ild], color='b', s=250)\n",
    "        ax.scatter(np.log(ild*np.ones_like(sim_q[ABL][ild])), sim_q[ABL][ild], marker='x', color='r', s=250)\n",
    "    ax.set_title(f'Quantile Plot ABL={ABL}')\n",
    "    ax.set_xlabel('log_2 abs ILD')\n",
    "    ax.set_ylim(0, 0.21)\n",
    "\n",
    "\n",
    "\n",
    "\n",
    "### PLOT 4\n",
    "ax4 = fig.add_subplot(gs[2, 0])\n",
    "bins = np.arange(0, 0.3, 0.005)\n",
    "x, data_tacho = data_diagnose_obj_valid.plot_tacho(bins)\n",
    "ax4.plot(x, data_tacho, label='data', color='b')\n",
    "x, sim_tacho = sim_diagnose_obj_valid.plot_tacho(bins)\n",
    "ax4.plot(x, sim_tacho, label='sim', color='r', ls='--')\n",
    "ax4.legend()\n",
    "ax4.set_xlabel('rt - t_stim')\n",
    "ax4.set_ylabel('prob of correct')\n",
    "ax4.set_title('tacho for trials btn t_stim and t_stim + 0.21s')\n",
    "\n",
    "### PLOT 5\n",
    "ax5 = fig.add_subplot(gs[2, 1])\n",
    "data_psycho = data_diagnose_obj_valid.plot_psycho()\n",
    "all_ABL = data_psycho.keys()\n",
    "all_ILD = np.sort(df['ILD'].unique())\n",
    "sim_psycho = sim_diagnose_obj_valid.plot_psycho()\n",
    "for ABL in all_ABL:\n",
    "    ax5.scatter(all_ILD, data_psycho[ABL], label=f'ABL={ABL}', color=ABL_colors[ABL], s=150)\n",
    "    ax5.plot(all_ILD, sim_psycho[ABL], alpha=0.9, color=ABL_colors[ABL])\n",
    "ax5.set_xlabel('ILD')\n",
    "ax5.set_ylabel('Prob of RHS')\n",
    "ax5.set_title('rt btn t_stim and t_stim + 0.21')\n",
    "ax5.legend()\n",
    "\n",
    "plt.tight_layout()\n",
    "plt.show()\n"
   ]
  },
  {
   "cell_type": "code",
   "execution_count": 94,
   "metadata": {},
   "outputs": [],
   "source": [
    "# sim\n",
    "# remove trunc aborts\n",
    "sim_results_1 = [res for res in sim_results if not (res['rt'] < res['t_stim'] and res['rt'] < T_trunc_left_aborts)]\n",
    "# remove right trunc valid trials\n",
    "sim_results_2 = sim_results_1\n",
    "for d in sim_results_2:\n",
    "    d['correct'] = 1 if d['ILD'] * d['choice'] > 0 else 0\n",
    "\n",
    "# all trials df\n",
    "sim_results_pd_valid = pd.DataFrame(sim_results_2)\n",
    "# only valid trials df\n",
    "sim_results_pd_valid_1 = sim_results_pd_valid[sim_results_pd_valid['rt'] > sim_results_pd_valid['t_stim']]\n",
    "\n",
    "sim_diagnose_obj = Diagnostics(sim_results_pd_valid)\n",
    "sim_diagnose_obj_valid = Diagnostics(sim_results_pd_valid_1)\n",
    "\n",
    "# data\n",
    "df_led_off = df[ df['LED_trial'] == 0].copy()\n",
    "df_led_off.loc[:,'rt'] = df_led_off['timed_fix']\n",
    "df_led_off.loc[:,'t_stim'] = df_led_off['intended_fix']\n",
    "\n",
    "# remove trunc aborts\n",
    "df_led_off_trunc = df_led_off[ ~( (df_led_off['rt'] < df_led_off['t_stim']) & (df_led_off['rt'] < T_trunc_left_aborts)  ) ]\n",
    "# right trunc\n",
    "df_led_off_trunc_1 =  df_led_off_trunc\n",
    "# only valid\n",
    "df_led_off_trunc_1_valid = df_led_off_trunc_1[df_led_off_trunc_1['rt'] > df_led_off_trunc_1['t_stim']]\n",
    "\n",
    "data_diagnose_obj = Diagnostics(df_led_off_trunc_1)\n",
    "data_diagnose_obj_valid = Diagnostics(df_led_off_trunc_1_valid)"
   ]
  },
  {
   "cell_type": "code",
   "execution_count": null,
   "metadata": {},
   "outputs": [],
   "source": [
    "from matplotlib.gridspec import GridSpec, GridSpecFromSubplotSpec\n",
    "\n",
    "fig = plt.figure(figsize=(12*3, 18*3))\n",
    "gs = GridSpec(nrows=5, ncols=5, figure=fig, hspace=0.1)\n",
    "\n",
    "# --- 1) Create a sub‐GridSpec for row=0, spanning all columns\n",
    "top_gs = gs[0, :]  # entire top row\n",
    "top_subgs = GridSpecFromSubplotSpec(\n",
    "    1, 3,                      # 1 row × 3 columns\n",
    "    subplot_spec=top_gs,       # link to the main row=0\n",
    "    width_ratios=[1.2, 1, 1.6],\n",
    "    wspace=0.3              # horizontal spacing\n",
    "    # subplot_spec=gs[4, 0:5],  # entire last row, columns 0..4\n",
    "    # wspace=0.09\n",
    ")\n",
    "\n",
    "# --- 2) Make three subplots from top_subgs\n",
    "ax_rtd     = fig.add_subplot(top_subgs[0, 0])\n",
    "ax_psy     = fig.add_subplot(top_subgs[0, 1])\n",
    "ax_chrono  = fig.add_subplot(top_subgs[0, 2])\n",
    "\n",
    "\n",
    "\n",
    "ABL_colors = {20: 'r', 40: 'b', 60: 'g'}\n",
    "ILD_colors = {1: 'r', 2: 'b', 4: 'g', 8: 'm', 16: 'k'}\n",
    "\n",
    "# 0 -grand RTD\n",
    "bins = np.arange(-1, 1, 0.01)\n",
    "x, y = sim_diagnose_obj.plot_rtd_wrt_stim(bins)\n",
    "ax_rtd.plot(x, y, label='sim', ls='--', color='r')\n",
    "\n",
    "x, y = data_diagnose_obj.plot_rtd_wrt_stim(bins)\n",
    "ax_rtd.plot(x, y, label='data', color='b')\n",
    "\n",
    "ax_rtd.set_title('right trunc, trunc aborts removed RTD', fontsize=18)\n",
    "ax_rtd.set_xlabel('RT(s)', fontsize=25)\n",
    "ax_rtd.tick_params(axis='both', which='major', labelsize=20)\n",
    "ax_rtd.legend(fontsize=12)\n",
    "ax_rtd.spines['top'].set_visible(False)\n",
    "ax_rtd.spines['right'].set_visible(False)\n",
    "ax_rtd.spines['left'].set_visible(False)\n",
    "ax_rtd.set_yticks([])\n",
    "ax_rtd.spines['bottom'].set_visible(True)\n",
    "ax_rtd.set_xlim(-0.7, 0.7)\n",
    "\n",
    "# 1 - psycho \n",
    "data_psycho = data_diagnose_obj_valid.plot_psycho()\n",
    "all_ABL = data_psycho.keys()\n",
    "all_ILD = np.sort(df['ILD'].unique())\n",
    "sim_psycho = sim_diagnose_obj_valid.plot_psycho()\n",
    "for ABL in all_ABL:\n",
    "    ax_psy.scatter(all_ILD, data_psycho[ABL], label=f'ABL={ABL}', color=ABL_colors[ABL], s=150)\n",
    "    ax_psy.plot(all_ILD, sim_psycho[ABL], alpha=0.9, color=ABL_colors[ABL])\n",
    "ax_psy.set_xlabel('ILD', fontsize=25)\n",
    "ax_psy.set_ylabel('Prob of RHS', fontsize=25)\n",
    "ax_psy.set_title('rt btn t_stim and t_stim + 1s', fontsize=18)\n",
    "ax_psy.legend(fontsize=18)\n",
    "ax_psy.spines['top'].set_visible(False)\n",
    "ax_psy.spines['right'].set_visible(False)\n",
    "ax_psy.spines['left'].set_visible(True)\n",
    "ax_psy.spines['bottom'].set_visible(True)\n",
    "ax_psy.tick_params(axis='x', which='major', labelsize=25)\n",
    "ax_psy.set_xticks([-15, -5, 0, 5, 15])\n",
    "ax_psy.tick_params(axis='y', which='major', labelsize=25)\n",
    "ax_psy.set_yticks([0, 0.5, 1.0])\n",
    "ax_psy.axvline(0, linestyle='--', alpha=0.6)\n",
    "ax_psy.axhline(0.5, linestyle='--', alpha=0.6)\n",
    "\n",
    "\n",
    "\n",
    "\n",
    "# 2  - chrono\n",
    "x, sim_chrono = sim_diagnose_obj_valid.plot_chrono()\n",
    "for ABL in sim_chrono.keys():\n",
    "    ax_chrono.plot(np.log(x), sim_chrono[ABL], color=ABL_colors[ABL], alpha=0.5, ls='--')\n",
    "\n",
    "x, data_chrono = data_diagnose_obj_valid.plot_chrono()\n",
    "for ABL in data_chrono.keys():\n",
    "    ax_chrono.scatter(np.log(x), data_chrono[ABL], label=f'data ABL={ABL}', color=ABL_colors[ABL], marker='.', s=500)\n",
    "# ax_chrono.legend(fontsize=18) # psycho covers it\n",
    "ax_chrono.set_xlabel('log abs ILD', fontsize=25)\n",
    "ax_chrono.set_ylabel('mean RT(s)', fontsize=25)\n",
    "ax_chrono.set_title('chrono', fontsize=25)\n",
    "ax_chrono.set_ylim(0, 0.4)\n",
    "ax_chrono.spines['top'].set_visible(False)\n",
    "ax_chrono.spines['right'].set_visible(False)\n",
    "ax_chrono.spines['left'].set_visible(True)\n",
    "ax_chrono.spines['bottom'].set_visible(True)\n",
    "ax_chrono.tick_params(axis='both', which='both', labelsize=25)\n",
    "ax_chrono.set_yticks(np.arange(0, 0.5, 0.1))\n",
    "\n",
    "# RTDs per ABL\n",
    "pos_ILD = all_ILD[all_ILD > 0]\n",
    "bins = np.arange(0, 1, 0.01)\n",
    "row = 0\n",
    "\n",
    "for a, ABL in enumerate(ABL_arr):\n",
    "    row = a + 1\n",
    "    ABL = ABL_arr[a]\n",
    "    for j, ILD in enumerate(pos_ILD):\n",
    "        ax = fig.add_subplot(gs[row, j])  \n",
    "\n",
    "        sim_pd = sim_results_pd_valid_1[(sim_results_pd_valid_1['ABL'] == ABL) & (sim_results_pd_valid_1['ILD'].isin([ILD, -ILD]))]\n",
    "        sim_rt = sim_pd['rt'] - sim_pd['t_stim']\n",
    "\n",
    "        data_pd = df_led_off_trunc_1_valid[ (df_led_off_trunc_1_valid['ABL'] == ABL) & (df_led_off_trunc_1_valid['ILD'].isin([ILD, -ILD]))]\n",
    "        data_rt = data_pd['rt'] - data_pd['t_stim']\n",
    "\n",
    "        sim_rt_hist, _ = np.histogram(sim_rt, density=True, bins=bins)\n",
    "        t_pts = bins[:-1] + 0.5*(bins[1] - bins[0])\n",
    "        ax.step(t_pts,sim_rt_hist, linestyle='dashed', color=ILD_colors[ILD], label='sim', linewidth=2)\n",
    "\n",
    "        data_rt_hist, _ = np.histogram(data_rt, density=True, bins=bins)\n",
    "        ax.step(t_pts, data_rt_hist, label=f'data ILD={ILD}', color=ILD_colors[ILD])\n",
    "\n",
    "        if a == len(ABL_arr) - 1:\n",
    "            ax.set_xlabel('RT(s)', fontsize=25)\n",
    "        if j == 0:\n",
    "            ax.set_ylabel(f'ABL={ABL}', fontsize=25)\n",
    "            ax.tick_params(axis='y', which='major', labelsize=20)\n",
    "        \n",
    "        if a == 0:\n",
    "            ax.legend([f'ILD={ILD}'], fontsize=25)\n",
    "\n",
    "        # ax.legend(fontsize=18) # title covers it\n",
    "        ax.set_xlim(0, 0.6)\n",
    "        ax.set_ylim(0, 11)\n",
    "        \n",
    "        ax.spines['top'].set_visible(False)\n",
    "        ax.spines['right'].set_visible(False)\n",
    "        ax.spines['left'].set_visible(False)\n",
    "        ax.spines['bottom'].set_visible(True)\n",
    "\n",
    "        if j != 0:\n",
    "            ax.spines['left'].set_visible(False)\n",
    "        ax.set_yticks([])\n",
    "\n",
    "        if a == len(ABL_arr) - 1:\n",
    "            ax.tick_params(axis='both', which='major', labelsize=20)\n",
    "        else:\n",
    "            ax.set_xticks([])\n",
    "    \n",
    "# --- Bottom row (row=4) => sub‐GridSpec 1×3 ---\n",
    "bottom_gs = GridSpecFromSubplotSpec(\n",
    "    1, 3, \n",
    "    subplot_spec=gs[4, 0:5],  # entire last row, columns 0..4\n",
    "    wspace=0.2,\n",
    ")\n",
    "\n",
    "# “Blank” top sub‐row\n",
    "ax_spacer = fig.add_subplot(bottom_gs[0, :])\n",
    "ax_spacer.axis(\"off\") \n",
    "\n",
    "ax_tacho_20 = fig.add_subplot(bottom_gs[0, 0])\n",
    "ax_tacho_40 = fig.add_subplot(bottom_gs[0, 1])\n",
    "ax_tacho_60 = fig.add_subplot(bottom_gs[0, 2])\n",
    "\n",
    "ax_list  = [ax_tacho_20, ax_tacho_40, ax_tacho_60]\n",
    "\n",
    "hard_ILD = np.array([1, 2, 4, -1, -2, -4]); easy_ILD = np.array([8, 16, -8, -16])\n",
    "bins = np.arange(0, 1, 0.02)\n",
    "for a, ABL in enumerate(ABL_arr):\n",
    "    ax_r = ax_list[a]\n",
    "\n",
    "    # sim - easy\n",
    "    sim_pd_easy = sim_results_pd_valid_1[(sim_results_pd_valid_1['ABL'] == ABL) & (sim_results_pd_valid_1['ILD'].isin(easy_ILD))]\n",
    "    sim_pd_easy_diag = Diagnostics(sim_pd_easy)\n",
    "    x, sim_easy_tacho = sim_pd_easy_diag.plot_tacho(bins)\n",
    "    ax_r.plot(x, sim_easy_tacho, linestyle='dashed', label='sim easy', color='g')\n",
    "    \n",
    "    # sim - hard\n",
    "    sim_pd_hard = sim_results_pd_valid_1[(sim_results_pd_valid_1['ABL'] == ABL) & (sim_results_pd_valid_1['ILD'].isin(hard_ILD))]\n",
    "    sim_pd_hard_diag = Diagnostics(sim_pd_hard)\n",
    "    x, sim_hard_tacho = sim_pd_hard_diag.plot_tacho(bins)\n",
    "    ax_r.plot(x, sim_hard_tacho, label='sim hard', color='r', linestyle='dashed')\n",
    "\n",
    "    # data - easy\n",
    "    data_pd_easy = df_led_off_trunc_1_valid[ (df_led_off_trunc_1_valid['ABL'] == ABL) & (df_led_off_trunc_1_valid['ILD'].isin(easy_ILD))]\n",
    "    data_pd_easy_diag = Diagnostics(data_pd_easy)\n",
    "    x, data_easy_tacho = data_pd_easy_diag.plot_tacho(bins)\n",
    "    ax_r.plot(x, data_easy_tacho, label='data easy', color='g')\n",
    "\n",
    "    # data - hard\n",
    "    data_pd_hard = df_led_off_trunc_1_valid[ (df_led_off_trunc_1_valid['ABL'] == ABL) & (df_led_off_trunc_1_valid['ILD'].isin(hard_ILD))]\n",
    "    data_pd_hard_diag = Diagnostics(data_pd_hard)\n",
    "    x, data_hard_tacho = data_pd_hard_diag.plot_tacho(bins)\n",
    "    ax_r.plot(x, data_hard_tacho, label='data hard', color='r')\n",
    "\n",
    "    ax_r.set_title(f'ABL = {ABL}', fontsize=25)\n",
    "    ax_r.set_xlabel('RT(s)', fontsize=25)\n",
    "    if a == 0:\n",
    "        ax_r.legend(fontsize=18)\n",
    "        ax_r.set_ylabel('accuracy', fontsize=25)\n",
    "\n",
    "    ax_r.set_xlim(0, 0.6)\n",
    "    ax_r.set_ylim(0.3, 1.1)\n",
    "    ax_r.spines['top'].set_visible(False)\n",
    "    ax_r.spines['right'].set_visible(False)\n",
    "    ax_r.spines['left'].set_visible(True)\n",
    "    ax_r.spines['bottom'].set_visible(True)\n",
    "    if a == 0:\n",
    "        ax_r.set_yticks(np.arange(0.2, 1.2, 0.2))\n",
    "\n",
    "    if a != 0:\n",
    "        ax_r.spines['left'].set_visible(False)\n",
    "        ax_r.set_yticks([])\n",
    "    \n",
    "    ax_r.tick_params(axis='both', which='major', labelsize=20)\n",
    "    ax_r.tick_params(axis='x', which='major', labelsize=25)\n",
    "\n"
   ]
  },
  {
   "cell_type": "markdown",
   "metadata": {},
   "source": [
    "# tacho stim wise"
   ]
  },
  {
   "cell_type": "code",
   "execution_count": null,
   "metadata": {},
   "outputs": [],
   "source": [
    "data_only_valid_1 = df_led_off_trunc_1[df_led_off_trunc_1['rt'] > df_led_off_trunc_1['t_stim']]\n",
    "\n",
    "pos_ILD = all_ILD[ all_ILD > 0]\n",
    "f = 1\n",
    "bins = np.arange(0, 1, 0.02)\n",
    "plt.figure(figsize=(20, 40))\n",
    "for ILD in pos_ILD:\n",
    "    for ABL in ABL_arr:\n",
    "        sim_pd = sim_results_pd_valid_1[(sim_results_pd_valid_1['ABL'] == ABL) & (sim_results_pd_valid_1['ILD'].isin([ILD, -ILD]))]\n",
    "        sim_pd_obj = Diagnostics(sim_pd)\n",
    "        x, sim_tacho = sim_pd_obj.plot_tacho(bins)\n",
    "\n",
    "        data_pd = data_only_valid_1[ (data_only_valid_1['ABL'] == ABL) & (data_only_valid_1['ILD'].isin([ILD, -ILD]))]\n",
    "        data_pd_obj = Diagnostics(data_pd)\n",
    "        x, data_tacho = data_pd_obj.plot_tacho(bins)\n",
    "\n",
    "        plt.subplot(len(pos_ILD), len(ABL_arr), f)\n",
    "\n",
    "        plt.plot(x, sim_tacho, color='r', ls='--', label='sim')\n",
    "        plt.plot(x, data_tacho, color='b', label='sim', alpha=0.5)\n",
    "        plt.legend()\n",
    "        plt.xlabel('rt wrt stim')\n",
    "        plt.ylabel('accuracy')\n",
    "        plt.title(f'tacho abl={ABL},abs ILD={ILD}');\n",
    "        plt.ylim(0, 1);\n",
    "        f += 1\n",
    "        \n",
    "\n"
   ]
  },
  {
   "cell_type": "markdown",
   "metadata": {},
   "source": [
    "# stim wise distr"
   ]
  },
  {
   "cell_type": "code",
   "execution_count": null,
   "metadata": {},
   "outputs": [],
   "source": [
    "data_only_valid_1 = df_led_off_trunc_1[df_led_off_trunc_1['rt'] > df_led_off_trunc_1['t_stim']]\n",
    "pos_ILD = all_ILD[ all_ILD > 0]\n",
    "f = 1\n",
    "bins = np.arange(0, 1, 0.01)\n",
    "plt.figure(figsize=(20, 40))\n",
    "for ILD in pos_ILD:\n",
    "    for ABL in ABL_arr:\n",
    "        plt.subplot(len(pos_ILD), len(ABL_arr), f)\n",
    "\n",
    "        sim_pd = sim_results_pd_valid_1[(sim_results_pd_valid_1['ABL'] == ABL) & (sim_results_pd_valid_1['ILD'].isin([ILD, -ILD]))]\n",
    "        sim_rt = sim_pd['rt'] - sim_pd['t_stim']\n",
    "\n",
    "        data_pd = data_only_valid_1[ (data_only_valid_1['ABL'] == ABL) & (data_only_valid_1['ILD'].isin([ILD, -ILD]))]\n",
    "        data_rt = data_pd['rt'] - data_pd['t_stim']\n",
    "\n",
    "        # plt.hist(sim_rt, bins=bins, density=True, histtype='step', linestyle='--', color=ABL_colors[ABL])\n",
    "        sim_rt_hist, _ = np.histogram(sim_rt, density=True, bins=bins)\n",
    "        t_pts = bins[:-1] + 0.5*(bins[1] - bins[0])\n",
    "        plt.step(t_pts,sim_rt_hist, linestyle='--', label='sim', color='r')\n",
    "\n",
    "        plt.hist(data_rt, bins=bins, density=True, histtype='step', label='data', color='b')\n",
    "\n",
    "        plt.xlabel('rt wrt stim')\n",
    "        plt.ylabel('density')\n",
    "        plt.legend()\n",
    "        plt.title(f'ABL = {ABL}, abs ILD={ILD}')\n",
    "        f += 1"
   ]
  },
  {
   "cell_type": "markdown",
   "metadata": {},
   "source": [
    "# tacho to find sesnory delay"
   ]
  },
  {
   "cell_type": "code",
   "execution_count": null,
   "metadata": {},
   "outputs": [],
   "source": [
    "df_led_off = df[ df['LED_trial'] == 0].copy()\n",
    "df_led_off.loc[:,'rt'] = df_led_off['timed_fix']\n",
    "df_led_off.loc[:,'t_stim'] = df_led_off['intended_fix']\n",
    "df_led_off_valid = df_led_off[ df_led_off['rt'] > df_led_off['t_stim'] ]\n",
    "\n",
    "ABL = 60; ILD = 16\n",
    "df_led_off_valid_ABL_ILD = df_led_off_valid[ (df_led_off_valid['ABL'] == ABL) & (df_led_off_valid['ILD'].isin([ILD, -ILD])) ]\n",
    "\n",
    "bins=np.arange(0, 1, 0.001)\n",
    "plt.hist(df_led_off_valid_ABL_ILD['rt']-df_led_off_valid_ABL_ILD['t_stim'], bins=bins, density=True);\n",
    "plt.xlim(0, 0.1)\n",
    "xticks = np.arange(0, 0.1, 0.01)\n",
    "plt.xticks(xticks);"
   ]
  },
  {
   "cell_type": "markdown",
   "metadata": {},
   "source": [
    "# param play"
   ]
  },
  {
   "cell_type": "code",
   "execution_count": null,
   "metadata": {},
   "outputs": [],
   "source": [
    "lam_times_theta = vp_samples[:,0] * vp_samples[:,2]\n",
    "plt.hist(lam_times_theta, density=True, bins=100, histtype='step');\n",
    "plt.xlabel('lambda x theta_E')\n",
    "plt.ylabel('density');"
   ]
  },
  {
   "cell_type": "code",
   "execution_count": null,
   "metadata": {},
   "outputs": [],
   "source": [
    "max(vp_samples[:,0]) * max(vp_samples[:,2])\n",
    "lambda_mean * theta_E_mean"
   ]
  },
  {
   "cell_type": "markdown",
   "metadata": {},
   "source": [
    "# see fraction of different sets of trials"
   ]
  },
  {
   "cell_type": "code",
   "execution_count": null,
   "metadata": {},
   "outputs": [],
   "source": [
    "############ trunc ABORTS  ##########\n",
    "\n",
    "# --- sim---\n",
    "# num_aborts = np.sum([1 for res in sim_results if res['rt'] < res['t_stim'] and res['rt'] > 0.3])\n",
    "num_aborts = np.sum([1 for res in sim_results if res['rt'] < res['t_stim']])\n",
    "\n",
    "frac_aborts = num_aborts / len(sim_results)\n",
    "print(f'sim frac aborts: {frac_aborts}')\n",
    "\n",
    "# --- data ---\n",
    "data_df = df.copy();\n",
    "data_df_led_off = data_df[ data_df['LED_trial'] == 0 ]\n",
    "data_df_trunc_aborts = data_df_led_off[ (data_df_led_off['timed_fix'] < data_df_led_off['intended_fix']) & (data_df_led_off['timed_fix'] > 0.3) ]\n",
    "frac_aborts_data = len(data_df_trunc_aborts) / len(data_df_led_off)\n",
    "print(f'data frac aborts: {frac_aborts_data}')\n",
    "\n",
    "# -- theory ---\n",
    "N_sim = 100_000\n",
    "t_stim_sampled = np.random.choice(df['intended_fix'], N_sim)\n",
    "def compute_trunc_frac_aborts_fn(t_stim):\n",
    "    trunc_factor = 1 - cum_A_t_fn(0.3 - t_A_aff - t_motor, V_A, theta_A)\n",
    "    frac_aborts = cum_A_t_fn(t_stim - t_A_aff - t_motor, V_A, theta_A) / (trunc_factor + 1e-10)\n",
    "    return frac_aborts\n",
    "\n",
    "\n",
    "results = Parallel(n_jobs=30)(delayed(compute_trunc_frac_aborts_fn)(t_stim) for t_stim in t_stim_sampled)\n",
    "frac_aborts_theory = np.mean(results)\n",
    "print(f'theory frac aborts: {frac_aborts_theory}')"
   ]
  },
  {
   "cell_type": "markdown",
   "metadata": {},
   "source": [
    "# truncated RT wrt stim"
   ]
  },
  {
   "cell_type": "code",
   "execution_count": null,
   "metadata": {},
   "outputs": [],
   "source": [
    "data_df = df.copy()\n",
    "data_df = data_df[ data_df['LED_trial'] == 0]\n",
    "\n",
    "\n",
    "data_df.loc[:, 'rt_wrt_stim'] = df['timed_fix'] - df['intended_fix']\n",
    "print(f'len of data_df: {len(data_df)}')\n",
    "data_df = data_df[ ~((data_df['abort_event'] == 3) & (data_df['timed_fix'] < 0.3)) ]\n",
    "print(f'len of data_df: {len(data_df)}')\n",
    "\n",
    "right_trunc_rt_wrt_stim = data_df[ (data_df['rt_wrt_stim'] < T_trunc_right_wrt_stim) ]['rt_wrt_stim']\n",
    "bins = np.arange(-2, 0.3, 0.01)\n",
    "plt.hist(right_trunc_rt_wrt_stim, bins=bins, density=True, label='data', histtype='step');\n",
    "\n",
    "# sim\n",
    "right_truncated_rt_wrt_stim_SIM = [res['rt'] - res['t_stim'] for res in sim_results if  \\\n",
    "                                    res['rt'] - res['t_stim'] < T_trunc_right_wrt_stim and \\\n",
    "                                        not (res['rt'] < res['t_stim'] and res['rt'] < 0.3)]\n",
    "plt.hist(right_truncated_rt_wrt_stim_SIM, bins=bins, density=True, label='sim', histtype='step');\n",
    "plt.legend();\n",
    "plt.xlabel('RT wrt stim');\n",
    "plt.ylabel('Density');\n",
    "plt.title('all trials < 0.21s, with aborts < 0.3 removed')\n",
    "plt.xlim(-1,0.3)"
   ]
  },
  {
   "cell_type": "markdown",
   "metadata": {},
   "source": [
    "# is there a issue due to aligning to t_stim, see wrt fix"
   ]
  },
  {
   "cell_type": "code",
   "execution_count": null,
   "metadata": {},
   "outputs": [],
   "source": [
    "V_A, theta_A, t_A_aff, t_motor"
   ]
  },
  {
   "cell_type": "code",
   "execution_count": 26,
   "metadata": {},
   "outputs": [],
   "source": [
    "N_sim = 100_000\n",
    "t_stim_sampled = np.random.choice(df_1['intended_fix'], N_sim)\n",
    "t_pts = np.arange(0, 2, 0.05)\n",
    "pro_pdf_vs_t_stim = np.zeros((N_sim, len(t_pts)))\n",
    "def compute_pdf(t_stim):\n",
    "    pro_pdf = np.zeros_like(t_pts)\n",
    "    if t_stim < 0.3:\n",
    "        return np.nan * np.zeros_like(t_pts)\n",
    "    for t_id, t in enumerate(t_pts):\n",
    "        if t < 0.3 or t > t_stim:\n",
    "            pro_pdf[t_id] = 0\n",
    "        else:\n",
    "            pro_pdf[t_id] = rho_A_t_fn(t - t_A_aff, V_A, theta_A)\n",
    "\n",
    "    return pro_pdf \n",
    "\n",
    "def compute_cdf(t_stim):\n",
    "    area =  cum_A_t_fn(t_stim - t_A_aff, V_A, theta_A) - cum_A_t_fn(0.3 - t_A_aff, V_A, theta_A)\n",
    "    if area < 0:\n",
    "        area = np.nan\n",
    "    return area"
   ]
  },
  {
   "cell_type": "code",
   "execution_count": null,
   "metadata": {},
   "outputs": [],
   "source": [
    "results = Parallel(n_jobs=30)(delayed(compute_pdf)(t_stim) for t_stim in tqdm(t_stim_sampled))"
   ]
  },
  {
   "cell_type": "code",
   "execution_count": null,
   "metadata": {},
   "outputs": [],
   "source": [
    "results_cdf = Parallel(n_jobs=30)(delayed(compute_cdf)(t_stim) for t_stim in tqdm(t_stim_sampled))"
   ]
  },
  {
   "cell_type": "code",
   "execution_count": null,
   "metadata": {},
   "outputs": [],
   "source": [
    "results_cdf_np = np.array(results_cdf)\n",
    "# remove nan\n",
    "results_cdf_no_nan = results_cdf_np[~np.isnan(results_cdf_np)]\n",
    "np.mean(results_cdf_no_nan)"
   ]
  },
  {
   "cell_type": "code",
   "execution_count": null,
   "metadata": {},
   "outputs": [],
   "source": [
    "pro_pdf_np = np.array(results)\n",
    "pro_pdf_np_mean = np.nanmean(pro_pdf_np, axis=0)\n",
    "print(f'area under the curve: {np.trapz(pro_pdf_np_mean, t_pts)}')  "
   ]
  },
  {
   "cell_type": "code",
   "execution_count": null,
   "metadata": {},
   "outputs": [],
   "source": [
    "data_df = df.copy()\n",
    "data_df = data_df[ data_df['LED_trial'] == 0]\n",
    "data_df_aborts = data_df[data_df['abort_event'] == 3]\n",
    "data_df_trunc_aborts_rt_wrt_fix = data_df_aborts[ data_df_aborts['timed_fix'] > 0.3 ]['timed_fix']\n",
    "frac_of_aborts = len(data_df_trunc_aborts_rt_wrt_fix) / len(data_df) \n",
    "print(f'frac of aborts: {frac_of_aborts}')"
   ]
  },
  {
   "cell_type": "code",
   "execution_count": null,
   "metadata": {},
   "outputs": [],
   "source": [
    "bins = np.arange(0, 2, 0.01)\n",
    "data_aborts_hist, _ = np.histogram(data_df_trunc_aborts_rt_wrt_fix, bins=bins, density=True)\n",
    "data_aborts_hist *= frac_of_aborts\n",
    "\n",
    "plt.plot(bins[:-1], data_aborts_hist, label='data')\n",
    "plt.plot(t_pts, pro_pdf_np_mean, label='theory');\n",
    "\n",
    "print(f'area under pro_pdf_np_mean: {np.trapz(pro_pdf_np_mean, t_pts)}')    \n",
    "print(f'area under data_aborts_hist: {np.trapz(data_aborts_hist, bins[:-1])}')\n",
    "\n",
    "trunc_aborts_wrt_fix = [res['rt'] for res in sim_results if res['rt'] < res['t_stim'] and res['rt'] > 0.3]\n",
    "sim_hist, _ = np.histogram(trunc_aborts_wrt_fix, bins=bins, density=True)\n",
    "sim_hist *= len(trunc_aborts_wrt_fix) / len(sim_results)\n",
    "print(f'area under sim_hist: {np.trapz(sim_hist, bins[:-1])}')\n",
    "plt.plot(bins[:-1], sim_hist, label='sim');\n",
    "plt.legend();\n",
    "plt.title('truncated aborts wrt fix');\n"
   ]
  },
  {
   "cell_type": "code",
   "execution_count": null,
   "metadata": {},
   "outputs": [],
   "source": [
    "# aborts > 0.3\n",
    "data_df = df.copy()\n",
    "data_df = data_df[ data_df['LED_trial'] == 0]\n",
    "data_df_aborts = data_df[data_df['abort_event'] == 3]\n",
    "data_df_trunc_aborts_rt_wrt_fix = data_df_aborts[ data_df_aborts['timed_fix'] > 0.3 ]['timed_fix']\n",
    "\n",
    "\n",
    "bins = np.arange(0, 2, 0.01);\n",
    "plt.hist(data_df_trunc_aborts_rt_wrt_fix, bins=bins, density=True, label='data', histtype='step');\n",
    "\n",
    "# sim\n",
    "trunc_aborts_wrt_fix = [res['rt'] for res in sim_results if res['rt'] < res['t_stim'] and res['rt'] > 0.3]\n",
    "plt.hist(trunc_aborts_wrt_fix, bins=bins, density=True, label='sim', histtype='step');\n",
    "plt.legend();"
   ]
  },
  {
   "cell_type": "markdown",
   "metadata": {},
   "source": [
    "## valid rt wrt stim"
   ]
  },
  {
   "cell_type": "code",
   "execution_count": null,
   "metadata": {},
   "outputs": [],
   "source": [
    "plt.figure(figsize=(15,10))\n",
    "rt_wrt_stim = [res['rt'] - res['t_stim'] for res in sim_results if res['rt'] > res['t_stim']]\n",
    "bins = np.arange(0, 2, 0.01)\n",
    "plt.hist(rt_wrt_stim, bins=bins, density=True, histtype='step', label='vp params');\n",
    "\n",
    "data_rt_wrt_stim = df_1['timed_fix'] - df_1['intended_fix']\n",
    "plt.hist(data_rt_wrt_stim, bins=bins, density=True, histtype='step', color='red', label='data');\n",
    "plt.xlabel('RT - Stimulus (s)');    \n",
    "plt.ylabel('Density');\n",
    "plt.legend();\n",
    "plt.title('valid rt wrt stim')\n",
    "# plt.xlim(-1,1)\n",
    "plt.grid(True)\n",
    "plt.xlim(0,0.4)\n",
    "xticks = np.arange(0, 0.4, 0.01)\n",
    "plt.xticks(xticks, [f'{x:.2f}' for x in xticks]);"
   ]
  },
  {
   "cell_type": "markdown",
   "metadata": {},
   "source": [
    "## valid rt wrt fix"
   ]
  },
  {
   "cell_type": "code",
   "execution_count": null,
   "metadata": {},
   "outputs": [],
   "source": [
    "rt = [res['rt'] for res in sim_results if res['rt'] > res['t_stim']]\n",
    "data_rt = df_1['timed_fix']\n",
    "\n",
    "bins = np.arange(0, 2, 0.01)\n",
    "plt.hist(rt, bins=bins, density=True, histtype='step', label='vp params');\n",
    "plt.hist(data_rt, bins=bins, density=True, histtype='step', color='red', label='data');\n",
    "\n",
    "plt.xlabel('RT (s) wrt fix');\n",
    "plt.ylabel('Density');\n",
    "plt.legend();\n",
    "plt.title('valid rt wrt fix')\n"
   ]
  },
  {
   "cell_type": "markdown",
   "metadata": {},
   "source": [
    "## all rt wrt fix"
   ]
  },
  {
   "cell_type": "code",
   "execution_count": null,
   "metadata": {},
   "outputs": [],
   "source": [
    "all_rt = [res['rt'] for res in sim_results]\n",
    "df_led_off = df [ df['LED_trial'] == 0]\n",
    "df_led_off_all_rt = df_led_off['timed_fix']\n",
    "\n",
    "bins = np.arange(0, 2, 0.01)\n",
    "plt.hist(all_rt, bins=bins, density=True, histtype='step', label='vp params');\n",
    "plt.hist(df_led_off_all_rt, bins=bins, density=True, histtype='step', color='red', label='data');\n",
    "plt.legend();\n",
    "plt.xlabel('all rt wrt fix')\n",
    "plt.ylabel('Density');\n",
    "plt.title('all rt inclding aborts wrt fix')"
   ]
  },
  {
   "cell_type": "markdown",
   "metadata": {},
   "source": [
    "# all rt wrt fix, trunc aborts removed"
   ]
  },
  {
   "cell_type": "code",
   "execution_count": null,
   "metadata": {},
   "outputs": [],
   "source": [
    "all_rt = [res['rt'] for res in sim_results if not(res['rt'] < res['t_stim'] and res['rt'] > 0.3)]\n",
    "\n",
    "df_led_off = df [ df['LED_trial'] == 0]\n",
    "df_led_off = df_led_off[~((df_led_off['timed_fix'] > 0.3) & (df_led_off['timed_fix'] < df_led_off['intended_fix']))]\n",
    "df_led_off_all_rt = df_led_off['timed_fix']\n",
    "\n",
    "bins = np.arange(0, 2, 0.01)\n",
    "plt.hist(all_rt, bins=bins, density=True, histtype='step', label='vp params');\n",
    "plt.hist(df_led_off_all_rt, bins=bins, density=True, histtype='step', color='red', label='data');\n",
    "plt.legend();\n",
    "plt.xlabel('all rt wrt fix')\n",
    "plt.ylabel('Density');\n",
    "plt.title('all rt with truncated aborts removed, wrt fix');"
   ]
  },
  {
   "cell_type": "markdown",
   "metadata": {},
   "source": [
    "## all rt wrt stim"
   ]
  },
  {
   "cell_type": "code",
   "execution_count": null,
   "metadata": {},
   "outputs": [],
   "source": [
    "all_rt = [res['rt'] - res['t_stim'] for res in sim_results]\n",
    "df_led_off = df [ df['LED_trial'] == 0]\n",
    "df_led_off_all_rt = df_led_off['timed_fix'] - df_led_off['intended_fix']\n",
    "\n",
    "bins = np.arange(-1, 1, 0.01)\n",
    "plt.hist(all_rt, bins=bins, density=True, histtype='step', label='vp params');\n",
    "plt.hist(df_led_off_all_rt, bins=bins, density=True, histtype='step', color='red', label='data', ls='--');\n",
    "plt.legend();\n",
    "plt.xlabel('all rt wrt stim')\n",
    "plt.ylabel('Density');\n",
    "plt.title('all rt wrt stim');"
   ]
  },
  {
   "cell_type": "markdown",
   "metadata": {},
   "source": [
    "# all rt wrt stim trunc aborts removed"
   ]
  },
  {
   "cell_type": "code",
   "execution_count": null,
   "metadata": {},
   "outputs": [],
   "source": [
    "all_rt = [res['rt'] - res['t_stim'] for res in sim_results if not(res['rt'] < res['t_stim'] and res['rt'] > 0.3)]\n",
    "\n",
    "df_led_off = df [ df['LED_trial'] == 0]\n",
    "df_led_off = df_led_off[~((df_led_off['timed_fix'] > 0.3) & (df_led_off['timed_fix'] < df_led_off['intended_fix']))]\n",
    "df_led_off_all_rt = df_led_off['timed_fix'] - df_led_off['intended_fix']\n",
    "\n",
    "bins = np.arange(-1, 1, 0.01)\n",
    "plt.hist(all_rt, bins=bins, density=True, histtype='step', label='vp params');\n",
    "plt.hist(df_led_off_all_rt, bins=bins, density=True, histtype='step', color='red', label='data');\n",
    "plt.legend();\n",
    "plt.xlabel('all rt wrt stim')\n",
    "plt.ylabel('Density');\n",
    "plt.title('all rt with truncated aborts removed, wrt stim');"
   ]
  },
  {
   "cell_type": "markdown",
   "metadata": {},
   "source": [
    "## psychometric"
   ]
  },
  {
   "cell_type": "code",
   "execution_count": null,
   "metadata": {},
   "outputs": [],
   "source": [
    "sim_results_df = pd.DataFrame(sim_results)\n",
    "sim_results_valid_df = sim_results_df[ sim_results_df['rt'] > sim_results_df['t_stim'] ]\n",
    "sim_results_valid_df = sim_results_valid_df.copy()\n",
    "\n",
    "sim_results_valid_df.loc[:, 'RHS'] = (sim_results_valid_df['choice'] > 0).astype(int)\n",
    "sim_grouped = sim_results_valid_df.groupby('ILD')['RHS'].mean().reset_index()\n",
    "\n",
    "# data\n",
    "data_df = df_1.copy()\n",
    "data_df.loc[:, 'RHS'] = (data_df['response_poke'] == 3).astype(int)\n",
    "data_grouped = data_df.groupby('ILD')['RHS'].mean().reset_index()\n",
    "\n",
    "plt.plot(data_grouped['ILD'], data_grouped['RHS'], label='data', marker='o', color='red');\n",
    "plt.plot(sim_grouped['ILD'], sim_grouped['RHS'], label='vp params', marker='o');\n",
    "plt.xlabel('ILD (dB)');\n",
    "plt.ylabel('P(RHS)');\n",
    "plt.legend();"
   ]
  },
  {
   "cell_type": "markdown",
   "metadata": {},
   "source": [
    "## tachometric"
   ]
  },
  {
   "cell_type": "code",
   "execution_count": null,
   "metadata": {},
   "outputs": [],
   "source": [
    "bins = np.arange(0, 1, 0.01)\n",
    "bin_centers = bins[:-1] + (bins[1] - bins[0]) / 2\n",
    "\n",
    "# sim results\n",
    "sim_results_df = pd.DataFrame(sim_results)\n",
    "sim_results_valid_df = sim_results_df[ sim_results_df['rt'] > sim_results_df['t_stim'] ].copy()\n",
    "sim_results_valid_df.loc[:, 'correct'] = (sim_results_valid_df['choice'] * sim_results_valid_df['ILD'] > 0)\n",
    "sim_results_valid_df.loc[:, 'rt_wrt_stim'] = sim_results_valid_df['rt'] - sim_results_valid_df['t_stim']\n",
    "\n",
    "sim_results_valid_df['rt_bin'] = pd.cut(sim_results_valid_df['rt_wrt_stim'], bins=bins, right=False)\n",
    "sim_grouped = sim_results_valid_df.groupby('rt_bin')['correct'].mean().reset_index()\n",
    "\n",
    "plt.plot(bin_centers, sim_grouped['correct'], linestyle='-', label='sim', color='b')\n",
    "\n",
    "# data\n",
    "data_df = df_1.copy()\n",
    "data_df.loc[:, 'correct'] = ((2*data_df['response_poke'] - 5) * data_df['ILD'] > 0).astype(int)\n",
    "data_df.loc[:, 'rt_wrt_stim'] = data_df['timed_fix'] - data_df['intended_fix']\n",
    "\n",
    "data_df['rt_bin'] = pd.cut(data_df['rt_wrt_stim'], bins=bins, right=False)\n",
    "data_grouped = data_df.groupby('rt_bin')['correct'].mean().reset_index()\n",
    "\n",
    "plt.plot(bin_centers, data_grouped['correct'], linestyle='-', label=' data', color='r')\n",
    "plt.xlabel('RT - Stimulus (s)');\n",
    "plt.ylabel('P(Correct)');\n",
    "plt.legend();\n"
   ]
  },
  {
   "cell_type": "markdown",
   "metadata": {},
   "source": [
    "# tachometric ABL wise"
   ]
  },
  {
   "cell_type": "code",
   "execution_count": null,
   "metadata": {},
   "outputs": [],
   "source": [
    "bins = np.arange(0, 1, 0.01)\n",
    "bin_centers = bins[:-1] + (bins[1] - bins[0]) / 2\n",
    "\n",
    "plt.figure(figsize=(20, 5))\n",
    "\n",
    "ABL_values = np.sort(df_1['ABL'].unique())\n",
    "colors = ['b', 'g', 'r']  # You can pick your own color scheme\n",
    "a = 1\n",
    "for abl_val, c in zip(ABL_values, colors):\n",
    "    plt.subplot(1, len(ABL_values), a)\n",
    "    # --- 1) Filter SIM dataframe for the given ABL value ---\n",
    "    sim_sub = sim_results_valid_df[sim_results_valid_df['ABL'] == abl_val].copy()\n",
    "    # Bin the RT values\n",
    "    sim_sub['rt_bin'] = pd.cut(sim_sub['rt_wrt_stim'], bins=bins, right=False)\n",
    "    # Group by bins, compute mean correctness\n",
    "    sim_grouped = sim_sub.groupby('rt_bin', observed=False)['correct'].mean().reset_index()\n",
    "    \n",
    "    # Plot SIM result (solid line)\n",
    "    plt.plot(bin_centers, sim_grouped['correct'], \n",
    "            linestyle='-', \n",
    "            color=c, \n",
    "            label=f'Sim ABL={abl_val}')\n",
    "    \n",
    "    # --- 2) Filter DATA dataframe for the given ABL value ---\n",
    "    data_sub = data_df[data_df['ABL'] == abl_val].copy()\n",
    "    # Bin the RT values\n",
    "    data_sub['rt_bin'] = pd.cut(data_sub['rt_wrt_stim'], bins=bins, right=False)\n",
    "    # Group by bins, compute mean correctness\n",
    "    data_grouped = data_sub.groupby('rt_bin', observed=False)['correct'].mean().reset_index()\n",
    "    \n",
    "    # Plot DATA result (dashed line)\n",
    "    plt.plot(bin_centers, data_grouped['correct'], \n",
    "            linestyle='--', \n",
    "            color=c, \n",
    "            label=f'Data ABL={abl_val}')\n",
    "\n",
    "        # Cosmetics\n",
    "    plt.xlabel('RT - Stimulus (s)')\n",
    "    plt.ylabel('P(Correct)')\n",
    "    plt.ylim([0.3, 1])  # If you want to fix y-limits\n",
    "    plt.xlim(0, 0.5)\n",
    "    plt.legend()\n",
    "    a += 1\n",
    "\n"
   ]
  },
  {
   "cell_type": "markdown",
   "metadata": {},
   "source": [
    "# investigate second bump"
   ]
  },
  {
   "cell_type": "code",
   "execution_count": null,
   "metadata": {},
   "outputs": [],
   "source": [
    "low_rt = 0.2\n",
    "high_rt = 0.3\n",
    "\n",
    "# Filter the dataframe based on that range:\n",
    "df_second_bump = data_df[\n",
    "    (data_df[\"rt_wrt_stim\"] >= low_rt) & \n",
    "    (data_df[\"rt_wrt_stim\"] <= high_rt)\n",
    "]\n",
    "\n",
    "\n",
    "plt.figure(figsize=(20, 5))\n",
    "plt.subplot(1,3,1)\n",
    "# plt.hist(df_second_bump[\"ABL\"], bins=[20, 40, 60], label='Data')\n",
    "counts = df_second_bump[\"ABL\"].value_counts()\n",
    "counts.plot(kind=\"bar\", edgecolor=\"black\")\n",
    "\n",
    "plt.xlabel('ABL')\n",
    "\n",
    "plt.subplot(1,3,2)\n",
    "counts = np.abs(df_second_bump[\"ILD\"]).value_counts()\n",
    "counts.plot(kind=\"bar\", edgecolor=\"black\")\n",
    "plt.xlabel('ILD')\n",
    "\n",
    "plt.subplot(1,3,3)\n",
    "plt.hist(df_second_bump[\"intended_fix\"], bins=50, label='Data', histtype='step', density=True)\n",
    "plt.hist(data_df[\"intended_fix\"], bins=50, label='All Data', histtype='step', density=True)\n",
    "plt.legend();\n",
    "plt.xlabel('Intended Fixation Time')\n",
    "\n",
    "plt.suptitle('Second Bump Data Distribution')"
   ]
  },
  {
   "cell_type": "code",
   "execution_count": null,
   "metadata": {},
   "outputs": [],
   "source": [
    "# Assuming `trial` column in df_second_bump contains integer values\n",
    "# Create a list of trials minus 1\n",
    "trial_minus_1 = df_second_bump['trial'] - 1\n",
    "\n",
    "# Filter rows from df_1 where the trial column matches the values in trial_minus_1\n",
    "filtered_df = og_df[og_df['trial'].isin(trial_minus_1)]\n",
    "\n",
    "# Display the filtered dataframe\n",
    "abort_event = filtered_df['abort_event']\n",
    "\n",
    "abort_event_counts = abort_event.value_counts()\n",
    "abort_event_counts.plot(kind=\"bar\", edgecolor=\"black\")\n",
    "plt.title(f'Abort event count of trial - 1 for second bump data btn {low_rt} and {high_rt} s')"
   ]
  },
  {
   "cell_type": "code",
   "execution_count": 26,
   "metadata": {},
   "outputs": [],
   "source": [
    "# Ensure the DataFrame index is reset to align with row positions\n",
    "df = df.reset_index(drop=True)\n",
    "\n",
    "# Create a mask to identify rows where the conditions are met\n",
    "mask = df.apply(\n",
    "    lambda row: (\n",
    "        row['trial'] > 1  # Ensure trial-1 is a valid index\n",
    "        and (row['trial'] - 1) in df.index  # Check trial-1 exists in the DataFrame index\n",
    "        and df.iloc[int(row['trial']) - 1]['abort_event'] == 3  # Check abort_event in trial-1\n",
    "        and row['ABL'] == df.iloc[int(row['trial']) - 1]['ABL']  # Match ABL with trial-1\n",
    "        and row['ILD'] == df.iloc[int(row['trial']) - 1]['ILD']  # Match ILD with trial-1\n",
    "        and row['success'] == 1\n",
    "    ),\n",
    "    axis=1\n",
    ")\n",
    "\n",
    "# Remove the rows that meet the condition\n",
    "df_removed_repeats = df[~mask]\n"
   ]
  },
  {
   "cell_type": "code",
   "execution_count": 27,
   "metadata": {},
   "outputs": [],
   "source": [
    "df_removed_repeats_led_off_valid_trials = df_removed_repeats[ (df_removed_repeats['LED_trial'] == 0) & \\\n",
    "                                                             (df_removed_repeats['success'] == 1) ]"
   ]
  },
  {
   "cell_type": "code",
   "execution_count": null,
   "metadata": {},
   "outputs": [],
   "source": [
    "rt_wrt_stim_df_non_repeat = df_removed_repeats_led_off_valid_trials['timed_fix'] \\\n",
    "    - df_removed_repeats_led_off_valid_trials['intended_fix']\n",
    "\n",
    "bins = np.arange(0, 1, 0.01)\n",
    "plt.hist(rt_wrt_stim_df_non_repeat, bins=bins, density=True, histtype='step', label='data');\n",
    "plt.title('valid rt wrt stim, no repeat trials')\n",
    "plt.xlabel('RT - Stimulus (s)');\n",
    "plt.ylabel('Density');\n",
    "\n"
   ]
  },
  {
   "cell_type": "markdown",
   "metadata": {},
   "source": [
    "# see animal wise"
   ]
  },
  {
   "cell_type": "code",
   "execution_count": null,
   "metadata": {},
   "outputs": [],
   "source": [
    "bins = np.arange(0, 1, 0.01)\n",
    "bin_centers = bins[:-1] + (bins[1] - bins[0]) / 2\n",
    "\n",
    "animals = df_1['animal'].unique()\n",
    "plt.figure(figsize=(20, 5))\n",
    "a = 1\n",
    "\n",
    "for animal in animals:\n",
    "    animal_data = df_1[ df_1['animal'] == animal ]\n",
    "    animal_rt_wrt_stim = animal_data['timed_fix'] - animal_data['intended_fix']\n",
    "    plt.subplot(1, len(animals), a)\n",
    "    plt.hist(animal_rt_wrt_stim, bins=bins, density=True, histtype='step', label='data');\n",
    "    plt.xlabel('RT - Stimulus (s)');\n",
    "    plt.ylabel('Density');\n",
    "    plt.title(f'valid rt wrt stim, Animal={animal}')\n",
    "    a += 1\n",
    "\n",
    "\n",
    "    "
   ]
  },
  {
   "cell_type": "code",
   "execution_count": null,
   "metadata": {},
   "outputs": [],
   "source": [
    "except_animals = [92, 93, 98]\n",
    "df_1_except = df_1[ ~df_1['animal'].isin(except_animals) ]\n",
    "\n",
    "df_1_except_animals_rt_wrt_stim = df_1_except['timed_fix'] - df_1_except['intended_fix']\n",
    "df_1_rt_wrt_stim = df_1['timed_fix'] - df_1['intended_fix']\n",
    "\n",
    "bins = np.arange(0, 1, 0.01)\n",
    "plt.hist(df_1_rt_wrt_stim, bins=bins, density=True, histtype='step', label='all', ls='--');\n",
    "plt.hist(df_1_except_animals_rt_wrt_stim, bins=bins, density=True, histtype='step', label=f'removed except {except_animals}');\n",
    "plt.xlabel('RT - Stimulus (s)');\n",
    "plt.ylabel('Density');\n",
    "plt.title(f'valid rt wrt stim, except {except_animals}');\n",
    "plt.legend();"
   ]
  },
  {
   "cell_type": "markdown",
   "metadata": {},
   "source": [
    "# df led on also?"
   ]
  },
  {
   "cell_type": "code",
   "execution_count": null,
   "metadata": {},
   "outputs": [],
   "source": [
    "df_led_on = df [ df['LED_trial'] == 1 ]\n",
    "df_led_on_valid_trials = df_led_on[ df_led_on['success'] == 1 ]\n",
    "led_on_rt_wrt_stim = df_led_on_valid_trials['timed_fix'] - df_led_on_valid_trials['intended_fix']\n",
    "\n",
    "led_off_rt_wrt_stim = df_1['timed_fix'] - df_1['intended_fix']\n",
    "\n",
    "bins = np.arange(0, 1, 0.01)\n",
    "plt.hist(led_on_rt_wrt_stim, bins=bins, density=True, histtype='step', label='LED ON', color='r');\n",
    "plt.hist(led_off_rt_wrt_stim, bins=bins, density=True, histtype='step', label='LED OFF', color='b', alpha=0.6);\n",
    "plt.xlabel('RT - Stimulus (s)');\n",
    "plt.ylabel('Density');\n",
    "plt.legend();\n",
    "plt.title('all animals valid rt wrt stim');"
   ]
  },
  {
   "cell_type": "code",
   "execution_count": null,
   "metadata": {},
   "outputs": [],
   "source": [
    "# animal wise LED on\n",
    "\n",
    "animals = df_led_on['animal'].unique()\n",
    "plt.figure(figsize=(20, 5))\n",
    "a = 1\n",
    "for animal in animals:\n",
    "    animal_data = df_led_on_valid_trials[ df_led_on_valid_trials['animal'] == animal ]\n",
    "    animal_rt_wrt_stim = animal_data['timed_fix'] - animal_data['intended_fix']\n",
    "    plt.subplot(1, len(animals), a)\n",
    "    plt.hist(animal_rt_wrt_stim, bins=bins, density=True, histtype='step', label='data');\n",
    "    plt.xlabel('RT - Stimulus (s)');\n",
    "    plt.ylabel('density')\n",
    "    plt.title(f'ON,  Animal={animal}')\n",
    "    a += 1\n",
    "    "
   ]
  },
  {
   "cell_type": "markdown",
   "metadata": {},
   "source": [
    "# plot RTs as func of ABL"
   ]
  },
  {
   "cell_type": "code",
   "execution_count": null,
   "metadata": {},
   "outputs": [],
   "source": [
    "plt.figure(figsize=(20, 5))\n",
    "a = 1\n",
    "for ABL in ABL_arr:\n",
    "    ABL_data = df_1[ df_1['ABL'] == ABL ]\n",
    "    ABL_rt_wrt_stim = ABL_data['timed_fix'] - ABL_data['intended_fix']\n",
    "    plt.subplot(1, len(ABL_arr), a)\n",
    "    plt.hist(ABL_rt_wrt_stim, bins=bins, density=True, histtype='step', label='data');\n",
    "    plt.xlabel('RT - Stimulus (s)');\n",
    "    plt.ylabel('density')\n",
    "    plt.title(f'ABL={ABL}')\n",
    "    a += 1\n",
    "    \n"
   ]
  },
  {
   "cell_type": "code",
   "execution_count": null,
   "metadata": {},
   "outputs": [],
   "source": [
    "bins = np.arange(0, 1, 0.01)\n",
    "plt.figure(figsize=(10,30))\n",
    "a = 1\n",
    "pos_ILD = np.sort(np.unique(np.abs(ILD_arr)))\n",
    "for ILD in pos_ILD:\n",
    "    ILD_data = df_1[ (df_1['ILD'] == ILD) | (df_1['ILD'] == -ILD) ]\n",
    "    for ABL in ABL_arr:\n",
    "        plt.subplot(5, 3, a)\n",
    "\n",
    "        ABL_data = ILD_data[ ILD_data['ABL'] == ABL ]\n",
    "        ABL_rt_wrt_stim = ABL_data['timed_fix'] - ABL_data['intended_fix']\n",
    "        plt.hist(ABL_rt_wrt_stim, bins=bins, density=True, histtype='step', label=f'ABL={ABL}');\n",
    "        plt.xlabel('RT - Stimulus (s)');\n",
    "        plt.ylabel('density')\n",
    "        plt.title(f'abs ILD={ILD}')\n",
    "        plt.legend();\n",
    "        a += 1"
   ]
  },
  {
   "cell_type": "code",
   "execution_count": null,
   "metadata": {},
   "outputs": [],
   "source": [
    "bins = np.arange(0, 1, 0.01)\n",
    "plt.figure(figsize=(20,5))\n",
    "a = 1\n",
    "pos_ILD = np.sort(np.unique(np.abs(ILD_arr)))\n",
    "for ILD in pos_ILD:\n",
    "    ILD_data = df_1[ (df_1['ILD'] == ILD) | (df_1['ILD'] == -ILD) ]\n",
    "    plt.subplot(1,6, a)\n",
    "    for ABL in ABL_arr:\n",
    "        ABL_data = ILD_data[ ILD_data['ABL'] == ABL ]\n",
    "        ABL_rt_wrt_stim = ABL_data['timed_fix'] - ABL_data['intended_fix']\n",
    "        plt.hist(ABL_rt_wrt_stim, bins=bins, density=True, histtype='step', label=f'ABL={ABL}');\n",
    "    plt.xlabel('RT - Stimulus (s)');\n",
    "    plt.ylabel('density')\n",
    "    plt.title(f'abs ILD={ILD}')\n",
    "    plt.legend();\n",
    "    a += 1"
   ]
  },
  {
   "cell_type": "code",
   "execution_count": null,
   "metadata": {},
   "outputs": [],
   "source": [
    "bins = np.arange(0, 1, 0.01)\n",
    "plt.figure(figsize=(10,15))\n",
    "a = 1\n",
    "pos_ILD = np.sort(np.unique(np.abs(ILD_arr)))\n",
    "for ABL in ABL_arr:\n",
    "    ABL_data = df_1[ df_1['ABL'] == ABL ]\n",
    "    plt.subplot(3,1, a)\n",
    "    for ILD in pos_ILD:\n",
    "        ILD_data = ABL_data[ (ABL_data['ILD'] == ILD) | (ABL_data['ILD'] == -ILD) ]\n",
    "        ILD_rt_wrt_stim = ILD_data['timed_fix'] - ILD_data['intended_fix']\n",
    "        plt.hist(ILD_rt_wrt_stim, bins=bins, density=True, histtype='step', label=f'ILD={ILD}');\n",
    "    plt.xlabel('RT - Stimulus (s)');\n",
    "    plt.ylabel('density')\n",
    "    plt.title(f'abs ABL={ABL}')\n",
    "    a += 1"
   ]
  },
  {
   "cell_type": "markdown",
   "metadata": {},
   "source": [
    "# all animals on and off"
   ]
  },
  {
   "cell_type": "code",
   "execution_count": null,
   "metadata": {},
   "outputs": [],
   "source": [
    "animals = df_1['animal'].unique()\n",
    "a = 1\n",
    "plt.figure(figsize=(20, 5))\n",
    "for animal in animals:\n",
    "    animal_data = df[ df['animal'] == animal ]\n",
    "    animal_on = animal_data[ animal_data['LED_trial'] == 1 ]\n",
    "    animal_off = animal_data[ animal_data['LED_trial'] == 0 ]\n",
    "\n",
    "    animal_on_valid = animal_on[ animal_on['success'] == 1 ]\n",
    "    animal_off_valid = animal_off[ animal_off['success'] == 1 ]\n",
    "\n",
    "    animal_on_valid_rt_wrt_stim = animal_on_valid['timed_fix'] - animal_on_valid['intended_fix']\n",
    "    animal_off_valid_rt_wrt_stim = animal_off_valid['timed_fix'] - animal_off_valid['intended_fix']\n",
    "\n",
    "    plt.subplot(1, len(animals), a)\n",
    "    plt.hist(animal_on_valid_rt_wrt_stim, bins=bins, density=True, histtype='step', label='LED ON', color='r');\n",
    "    plt.hist(animal_off_valid_rt_wrt_stim, bins=bins, density=True, histtype='step', label='LED OFF', color='b');\n",
    "    plt.xlabel('RT - Stimulus (s)');\n",
    "    plt.ylabel('Density');\n",
    "    plt.legend();\n",
    "    plt.title(f'Animal={animal}')\n",
    "\n",
    "    a += 1\n",
    "\n"
   ]
  },
  {
   "cell_type": "code",
   "execution_count": null,
   "metadata": {},
   "outputs": [],
   "source": [
    "animals = df_1['animal'].unique()\n",
    "a = 1\n",
    "plt.figure(figsize=(20, 5))\n",
    "for animal in animals:\n",
    "    animal_data = df[ df['animal'] == animal ]\n",
    "    animal_on = animal_data[ animal_data['LED_trial'] == 1 ]\n",
    "    animal_off = animal_data[ animal_data['LED_trial'] == 0 ]\n",
    "\n",
    "    animal_on_valid = animal_on[ animal_on['success'] == 1 ]\n",
    "    animal_off_valid = animal_off[ animal_off['success'] == 1 ]\n",
    "\n",
    "    animal_on_valid_rt_wrt_stim = animal_on_valid['timed_fix'] - animal_on_valid['intended_fix']\n",
    "    animal_off_valid_rt_wrt_stim = animal_off_valid['timed_fix'] - animal_off_valid['intended_fix']\n",
    "    plt.subplot(1, len(animals), a)\n",
    "    # hist on - hist off\n",
    "    hist_on, _ = np.histogram(animal_on_valid_rt_wrt_stim, bins=bins, density=True)\n",
    "    hist_off, _ = np.histogram(animal_off_valid_rt_wrt_stim, bins=bins, density=True)\n",
    "\n",
    "    plt.plot(bins[:-1], hist_on - hist_off, label='LED ON - LED OFF');\n",
    "    plt.xlabel('RT - Stimulus (s)');\n",
    "    plt.ylabel('Density');\n",
    "    plt.legend();\n",
    "    plt.title(f'Animal={animal}')\n",
    "\n",
    "    a += 1\n",
    "\n"
   ]
  }
 ],
 "metadata": {
  "kernelspec": {
   "display_name": ".venv",
   "language": "python",
   "name": "python3"
  },
  "language_info": {
   "codemirror_mode": {
    "name": "ipython",
    "version": 3
   },
   "file_extension": ".py",
   "mimetype": "text/x-python",
   "name": "python",
   "nbconvert_exporter": "python",
   "pygments_lexer": "ipython3",
   "version": "3.12.3"
  }
 },
 "nbformat": 4,
 "nbformat_minor": 2
}
