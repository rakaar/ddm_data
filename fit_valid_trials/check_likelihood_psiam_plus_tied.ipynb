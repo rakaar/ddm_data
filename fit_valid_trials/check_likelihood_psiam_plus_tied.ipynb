{
 "cells": [
  {
   "cell_type": "code",
   "execution_count": 1,
   "metadata": {},
   "outputs": [],
   "source": [
    "import numpy as np\n",
    "import matplotlib.pyplot as plt\n",
    "import pandas as pd\n",
    "from tqdm import tqdm\n",
    "from joblib import Parallel, delayed\n",
    "from pyvbmc import VBMC\n",
    "import corner\n",
    "from psiam_tied_dv_map_utils import rho_A_t_fn, up_RTs_fit_fn, down_RTs_fit_fn, up_RTs_fit_single_t_fn, psiam_tied_data_gen_wrapper\n",
    "from psiam_tied_dv_map_utils import cum_A_t_fn, cum_E_t_fn, down_RTs_fit_TRUNC_fn, up_RTs_fit_TRUNC_fn\n"
   ]
  },
  {
   "cell_type": "code",
   "execution_count": 2,
   "metadata": {},
   "outputs": [],
   "source": [
    "import pickle\n",
    "with open('../fitting_aborts/post_led_censor_test_vbmc.pkl', 'rb') as f:\n",
    "    vp = pickle.load(f)"
   ]
  },
  {
   "cell_type": "code",
   "execution_count": 3,
   "metadata": {},
   "outputs": [],
   "source": [
    "vp_sample = vp.sample(int(1e6))[0]\n",
    "\n",
    "V_A = np.mean(vp_sample[:,0])\n",
    "theta_A = np.mean(vp_sample[:,1])\n",
    "t_motor = 0.04\n",
    "\n",
    "# t_A_aff = np.mean(vp_sample[:,2]) - t_motor\n",
    "t_A_aff = 0.05"
   ]
  },
  {
   "cell_type": "code",
   "execution_count": 4,
   "metadata": {},
   "outputs": [
    {
     "name": "stdout",
     "output_type": "stream",
     "text": [
      "ABL: [20 40 60]\n",
      "ILD: [-16.  -8.  -4.  -2.  -1.   1.   2.   4.   8.  16.]\n"
     ]
    }
   ],
   "source": [
    "og_df = pd.read_csv('../out_LED.csv')\n",
    "\n",
    "# chose non repeat trials - 0 or 2 or missing\n",
    "df = og_df[ og_df['repeat_trial'].isin([0,2]) | og_df['repeat_trial'].isna() ]\n",
    "\n",
    "# only session type 7\n",
    "session_type = 7    \n",
    "df = df[ df['session_type'].isin([session_type]) ]\n",
    "\n",
    "# training level 16\n",
    "training_level = 16\n",
    "df = df[ df['training_level'].isin([training_level]) ]\n",
    "\n",
    "# find ABL and ILD\n",
    "ABL_arr = df['ABL'].unique()\n",
    "ILD_arr = df['ILD'].unique()\n",
    "\n",
    "\n",
    "# sort ILD arr in ascending order\n",
    "ILD_arr = np.sort(ILD_arr)\n",
    "ABL_arr = np.sort(ABL_arr)\n",
    "\n",
    "print('ABL:', ABL_arr)\n",
    "print('ILD:', ILD_arr)"
   ]
  },
  {
   "cell_type": "code",
   "execution_count": 5,
   "metadata": {},
   "outputs": [
    {
     "data": {
      "text/plain": [
       "Text(0.5, 1.0, 'data')"
      ]
     },
     "execution_count": 5,
     "metadata": {},
     "output_type": "execute_result"
    },
    {
     "data": {
      "image/png": "[encoded data removed]",
      "text/plain": [
       "<Figure size 640x480 with 1 Axes>"
      ]
     },
     "metadata": {},
     "output_type": "display_data"
    }
   ],
   "source": [
    "df_led_off = df[df['LED_trial'] == 0]\n",
    "df_led_off_valid_trials = df_led_off[ df_led_off['timed_fix'] > df_led_off['intended_fix']]\n",
    "df_led_off_truncated_trials = df_led_off_valid_trials[ df_led_off_valid_trials['timed_fix']- df_led_off_valid_trials['intended_fix'] < 0.21]\n",
    "\n",
    "rt_wrt_stim = df_led_off_truncated_trials['timed_fix'] - df_led_off_truncated_trials['intended_fix']\n",
    "\n",
    "bins = np.arange(0, 0.3, 0.01)\n",
    "plt.hist(rt_wrt_stim, bins=bins, density=True);\n",
    "plt.title('data')"
   ]
  },
  {
   "cell_type": "code",
   "execution_count": 6,
   "metadata": {},
   "outputs": [
    {
     "name": "stdout",
     "output_type": "stream",
     "text": [
      "In iter_num: 0, ABL: 60, ILD: 0, t_stim: 0.24127579546956487\n"
     ]
    }
   ],
   "source": [
    "N_sim = int(100e3)\n",
    "N_print = int(1e6 + 1)\n",
    "dt = 1e-4; dB = np.sqrt(dt);\n",
    "\n",
    "rate_lambda = 0.076\n",
    "theta_E = 50\n",
    "T_0 = 0.19 * (1e-3)\n",
    "\n",
    "t_E_aff = 0.03\n",
    "Z_E = 0\n",
    "L = 1\n",
    "\n",
    "t_stim_0 = 0.2; t_stim_tau = 0.4\n",
    "\n",
    "sim_results = Parallel(n_jobs=30)(delayed(psiam_tied_data_gen_wrapper)(V_A, theta_A, [ABL_arr[-1]], [0], rate_lambda, T_0, theta_E, Z_E, t_A_aff, t_E_aff, t_motor, L, \\\n",
    "                                t_stim_0, t_stim_tau, iter_num, N_print, dt) for iter_num in range(N_sim))"
   ]
  },
  {
   "cell_type": "code",
   "execution_count": 7,
   "metadata": {},
   "outputs": [],
   "source": [
    "T_trunc_right = 0.21\n",
    "T_trunc_abort = 0.3"
   ]
  },
  {
   "cell_type": "markdown",
   "metadata": {},
   "source": [
    "# include choice"
   ]
  },
  {
   "cell_type": "code",
   "execution_count": 91,
   "metadata": {},
   "outputs": [
    {
     "name": "stderr",
     "output_type": "stream",
     "text": [
      "100%|██████████| 100000/100000 [03:40<00:00, 453.14it/s]\n"
     ]
    }
   ],
   "source": [
    "K_max = 10\n",
    "t_pts = np.arange(0, 2, 0.01)\n",
    "all_t_stim = [res['t_stim'] for res in sim_results]\n",
    "N_samp = 100_000\n",
    "sampled_t_stim = np.random.choice(all_t_stim, N_samp)\n",
    "\n",
    "def compute_pdf_for_stim(t_stim):\n",
    "    pdf_for_each_stim_up = np.zeros_like(t_pts)\n",
    "    pdf_for_each_stim_down = np.zeros_like(t_pts)\n",
    "\n",
    "    for t_id, t in enumerate(t_pts):\n",
    "        if t - t_stim > T_trunc_right:\n",
    "            pdf_for_each_stim_up[t_id] = 0\n",
    "            pdf_for_each_stim_down[t_id] = 0\n",
    "        else:\n",
    "            up_like = up_RTs_fit_TRUNC_fn([t], V_A, theta_A, ABL_arr[-1], 0, rate_lambda, T_0, \\\n",
    "                                        theta_E, Z_E, t_stim, t_A_aff, t_E_aff, t_motor, L, K_max, T_trunc_abort)[0]\n",
    "                              \n",
    "            down_like = down_RTs_fit_TRUNC_fn([t], V_A, theta_A, ABL_arr[-1], 0, rate_lambda, T_0,\\\n",
    "                                            theta_E, Z_E, t_stim, t_A_aff, t_E_aff, t_motor, L, K_max, T_trunc_abort)[0]\n",
    "            pdf_for_each_stim_up[t_id] = up_like\n",
    "            pdf_for_each_stim_down[t_id] = down_like\n",
    "    return pdf_for_each_stim_up, pdf_for_each_stim_down\n",
    "\n",
    "results = Parallel(n_jobs=30)(delayed(compute_pdf_for_stim)(t_stim) for t_stim in tqdm(sampled_t_stim))"
   ]
  },
  {
   "cell_type": "code",
   "execution_count": 92,
   "metadata": {},
   "outputs": [],
   "source": [
    "pdf_vs_t_stim_up = np.array([res[0] for res in results])\n",
    "pdf_vs_t_stim_down = np.array([res[1] for res in results])\n",
    "pdf_vs_t_stim_up_mean = np.mean(pdf_vs_t_stim_up, axis=0)\n",
    "pdf_vs_t_stim_down_mean = np.mean(pdf_vs_t_stim_down, axis=0)"
   ]
  },
  {
   "cell_type": "code",
   "execution_count": 96,
   "metadata": {},
   "outputs": [
    {
     "name": "stdout",
     "output_type": "stream",
     "text": [
      "area = 0.29957675263368433, 0.29957675263368433\n",
      "frac(rt_up_valid) = 0.29326, len(rt_down_valid) = 0.29638\n"
     ]
    },
    {
     "data": {
      "text/plain": [
       "<matplotlib.legend.Legend at 0x7a18e57e1550>"
      ]
     },
     "execution_count": 96,
     "metadata": {},
     "output_type": "execute_result"
    },
    {
     "data": {
      "image/png": "[encoded data removed]",
      "text/plain": [
       "<Figure size 640x480 with 1 Axes>"
      ]
     },
     "metadata": {},
     "output_type": "display_data"
    }
   ],
   "source": [
    "plt.plot(t_pts, pdf_vs_t_stim_up_mean, label='up')\n",
    "plt.plot(t_pts, -pdf_vs_t_stim_down_mean, label='down', lw=3, ls='--')\n",
    "\n",
    "print(f'area = {np.trapz(pdf_vs_t_stim_up_mean, t_pts)}, {np.trapz(pdf_vs_t_stim_down_mean, t_pts)}')\n",
    "bins = np.arange(0, 2, 0.01)\n",
    "rt_up_valid = [res['rt'] for res in sim_results if res['rt'] > res['t_stim'] and \\\n",
    "                res['rt'] - res['t_stim'] < T_trunc_right and res['choice'] == 1]\n",
    "\n",
    "\n",
    "rt_down_valid = [res['rt'] for res in sim_results if res['rt'] > res['t_stim'] and \\\n",
    "                res['rt'] - res['t_stim'] < T_trunc_right and res['choice'] == -1]\n",
    "\n",
    "\n",
    "rt_up_hist, _ = np.histogram(rt_up_valid, bins=bins, density=True)\n",
    "rt_up_hist *= len(rt_up_valid)/len(sim_results)\n",
    "\n",
    "rt_down_hist, _ = np.histogram(rt_down_valid, bins=bins, density=True)\n",
    "rt_down_hist *= len(rt_down_valid)/len(sim_results)\n",
    "\n",
    "print(f'frac(rt_up_valid) = {len(rt_up_valid)/len(sim_results)}, len(rt_down_valid) = {len(rt_down_valid)/len(sim_results)}')\n",
    "plt.plot(bins[:-1], rt_up_hist, label='SIM up data', ls='--')\n",
    "plt.plot(bins[:-1], -rt_down_hist, label='SIM down data', ls='--')\n",
    "plt.legend()"
   ]
  },
  {
   "cell_type": "code",
   "execution_count": null,
   "metadata": {},
   "outputs": [],
   "source": [
    "# check with integration\n",
    "# with np.trapz?\n",
    "all_t_stim = [res['t_stim'] for res in sim_results]\n",
    "N_samp = 10_000\n",
    "sampled_t_stim = np.random.choice(all_t_stim, N_samp)\n",
    "\n",
    "def compute_area(t_stim):\n",
    "    t_pts = np.arange(t_stim, T_trunc_right + t_stim, 0.005)\n",
    "    likelihood_till_inf = up_RTs_fit_fn(t_pts, V_A, theta_A, ABL_arr[-1], 0, rate_lambda, T_0, \\\n",
    "                                theta_E, Z_E, t_stim, t_A_aff, t_E_aff, t_motor, L, K_max)\n",
    "    norm_factor = np.trapz(likelihood_till_inf, t_pts)\n",
    "    if norm_factor < 0:\n",
    "        print(f'NEG = {norm_factor}')\n",
    "    return norm_factor\n",
    "\n",
    "results = Parallel(n_jobs=30)(delayed(compute_area)(t_stim) for t_stim in tqdm(sampled_t_stim))\n",
    "print(f'area = {np.mean(results)}')\n"
   ]
  },
  {
   "cell_type": "code",
   "execution_count": 107,
   "metadata": {},
   "outputs": [
    {
     "name": "stderr",
     "output_type": "stream",
     "text": [
      "\n",
      "\n",
      "\u001b[A\u001b[A\n",
      "\n",
      "\u001b[A\u001b[A\n",
      "\n",
      "\u001b[A\u001b[A\n",
      "\n",
      "\u001b[A\u001b[A\n",
      "\n",
      "\u001b[A\u001b[A\n",
      "\n",
      "\u001b[A\u001b[A\n",
      "\n",
      "\u001b[A\u001b[A\n",
      "\n",
      "\u001b[A\u001b[A\n",
      "\n",
      "\u001b[A\u001b[A\n",
      "\n",
      "\u001b[A\u001b[A\n",
      "\n",
      "\u001b[A\u001b[A\n",
      "\n",
      "\u001b[A\u001b[A\n",
      "\n",
      "\u001b[A\u001b[A\n",
      "\n",
      "\u001b[A\u001b[A\n",
      "\n",
      "\u001b[A\u001b[A\n",
      "\n",
      "\u001b[A\u001b[A\n",
      "\n",
      "\u001b[A\u001b[A\n",
      "\n",
      "\u001b[A\u001b[A\n",
      "\n",
      "\u001b[A\u001b[A\n",
      "\n",
      "\u001b[A\u001b[A\n",
      "\n",
      "\u001b[A\u001b[A\n",
      "\n",
      "\u001b[A\u001b[A\n",
      "\n",
      "\u001b[A\u001b[A\n",
      "\n",
      "\u001b[A\u001b[A\n",
      "\n",
      "\u001b[A\u001b[A\n",
      "\n",
      "\u001b[A\u001b[A\n",
      "\n",
      "\u001b[A\u001b[A\n",
      "\n",
      "\u001b[A\u001b[A\n",
      "\n",
      "\u001b[A\u001b[A\n",
      "\n",
      "\u001b[A\u001b[A\n",
      "\n",
      "\u001b[A\u001b[A\n",
      "\n",
      "\u001b[A\u001b[A\n",
      "\n",
      "\u001b[A\u001b[A\n",
      "\n",
      "\u001b[A\u001b[A\n",
      "\n",
      "\u001b[A\u001b[A\n",
      "\n",
      "\u001b[A\u001b[A\n",
      "\n",
      "\u001b[A\u001b[A\n",
      "\n",
      "\u001b[A\u001b[A\n",
      "\n",
      "\u001b[A\u001b[A\n",
      "\n",
      "\u001b[A\u001b[A\n",
      "\n",
      "\u001b[A\u001b[A\n",
      "\n",
      "\u001b[A\u001b[A\n",
      "\n",
      "\u001b[A\u001b[A\n",
      "\n",
      "\u001b[A\u001b[A\n",
      "\n",
      "\u001b[A\u001b[A\n",
      "\n",
      "\u001b[A\u001b[A\n",
      "\n",
      "\u001b[A\u001b[A\n",
      "\n",
      "\u001b[A\u001b[A\n",
      "\n",
      "\u001b[A\u001b[A\n",
      "\n",
      "\u001b[A\u001b[A\n",
      "\n",
      "\u001b[A\u001b[A\n",
      "\n",
      "\u001b[A\u001b[A\n",
      "\n",
      "\u001b[A\u001b[A\n",
      "\n",
      "\u001b[A\u001b[A\n",
      "\n",
      "\u001b[A\u001b[A\n",
      "\n",
      "\u001b[A\u001b[A\n",
      "\n",
      "\u001b[A\u001b[A\n",
      "\n",
      "\u001b[A\u001b[A\n",
      "\n",
      "\u001b[A\u001b[A\n",
      "\n",
      "\u001b[A\u001b[A\n",
      "\n",
      "\u001b[A\u001b[A\n",
      "\n",
      "\u001b[A\u001b[A\n",
      "\n",
      "\u001b[A\u001b[A\n",
      "\n",
      "\u001b[A\u001b[A\n",
      "\n",
      "\u001b[A\u001b[A\n",
      "\n",
      "\u001b[A\u001b[A\n",
      "\n",
      "\u001b[A\u001b[A\n",
      "\n",
      "\u001b[A\u001b[A\n",
      "\n",
      "\u001b[A\u001b[A\n",
      "\n",
      "\u001b[A\u001b[A\n",
      "\n",
      "\u001b[A\u001b[A\n",
      "\n",
      "\u001b[A\u001b[A\n",
      "\n",
      "\u001b[A\u001b[A\n",
      "\n",
      "\u001b[A\u001b[A\n",
      "\n",
      "\u001b[A\u001b[A\n",
      "\n",
      "\u001b[A\u001b[A\n",
      "\n",
      "\u001b[A\u001b[A\n",
      "\n",
      "\u001b[A\u001b[A\n",
      "\n",
      "\u001b[A\u001b[A\n",
      "\n",
      "\u001b[A\u001b[A\n",
      "\n",
      "\u001b[A\u001b[A\n",
      "\n",
      "\u001b[A\u001b[A\n",
      "\n",
      "\u001b[A\u001b[A\n",
      "\n",
      "\u001b[A\u001b[A\n",
      "\n",
      "\u001b[A\u001b[A\n",
      "\n",
      "\u001b[A\u001b[A\n",
      "\n",
      "\u001b[A\u001b[A\n",
      "\n",
      "\u001b[A\u001b[A\n",
      "\n",
      "\u001b[A\u001b[A\n",
      "\n",
      "\u001b[A\u001b[A\n",
      "\n",
      "\u001b[A\u001b[A\n",
      "\n",
      "\u001b[A\u001b[A\n",
      "\n",
      "\u001b[A\u001b[A\n",
      "\n",
      "\u001b[A\u001b[A\n",
      "\n",
      "\u001b[A\u001b[A\n",
      "\n",
      "\u001b[A\u001b[A\n",
      "\n",
      "\u001b[A\u001b[A\n",
      "\n",
      "\u001b[A\u001b[A\n",
      "\n",
      "\u001b[A\u001b[A\n",
      "\n",
      "\u001b[A\u001b[A\n",
      "\n",
      "\u001b[A\u001b[A\n",
      "\n",
      "\u001b[A\u001b[A\n",
      "\n",
      "\u001b[A\u001b[A\n",
      "\n",
      "\u001b[A\u001b[A\n",
      "\n",
      "\u001b[A\u001b[A\n",
      "\n",
      "\u001b[A\u001b[A\n",
      "\n",
      "\u001b[A\u001b[A\n",
      "\n",
      "\u001b[A\u001b[A\n",
      "\n",
      "\u001b[A\u001b[A\n",
      "\n",
      "\u001b[A\u001b[A\n",
      "\n",
      "\u001b[A\u001b[A\n",
      "\n",
      "\u001b[A\u001b[A\n",
      "\n",
      "\u001b[A\u001b[A\n",
      "\n",
      "\u001b[A\u001b[A\n",
      "\n",
      "\u001b[A\u001b[A\n",
      "\n",
      "\u001b[A\u001b[A\n",
      "\n",
      "\u001b[A\u001b[A\n",
      "\n",
      "\u001b[A\u001b[A\n",
      "\n",
      "\u001b[A\u001b[A\n",
      "\n",
      "\u001b[A\u001b[A\n",
      "\n",
      "\u001b[A\u001b[A\n",
      "\n",
      "\u001b[A\u001b[A\n",
      "\n",
      "\u001b[A\u001b[A\n",
      "\n",
      "\u001b[A\u001b[A\n",
      "\n",
      "\u001b[A\u001b[A\n",
      "\n",
      "\u001b[A\u001b[A\n",
      "\n",
      "\u001b[A\u001b[A\n",
      "\n",
      "\u001b[A\u001b[A\n",
      "\n",
      "\u001b[A\u001b[A\n",
      "\n",
      "\u001b[A\u001b[A\n",
      "\n",
      "\u001b[A\u001b[A\n",
      "\n",
      "\u001b[A\u001b[A\n",
      "\n",
      "\u001b[A\u001b[A\n",
      "\n",
      "\u001b[A\u001b[A\n",
      "\n",
      "\u001b[A\u001b[A\n",
      "\n",
      "\u001b[A\u001b[A\n",
      "\n",
      "\u001b[A\u001b[A\n",
      "\n",
      "\u001b[A\u001b[A\n",
      "\n",
      "\u001b[A\u001b[A\n",
      "\n",
      "\u001b[A\u001b[A\n",
      "\n",
      "\u001b[A\u001b[A\n",
      "\n",
      "\u001b[A\u001b[A\n",
      "\n",
      "\u001b[A\u001b[A\n",
      "\n",
      "\u001b[A\u001b[A\n",
      "\n",
      "\u001b[A\u001b[A\n",
      "\n",
      "\u001b[A\u001b[A\n",
      "\n",
      "\u001b[A\u001b[A\n",
      "\n",
      "\u001b[A\u001b[A\n",
      "\n",
      "\u001b[A\u001b[A\n",
      "\n",
      "\u001b[A\u001b[A\n",
      "\n",
      "\u001b[A\u001b[A\n",
      "\n",
      "\u001b[A\u001b[A\n",
      "\n",
      "\u001b[A\u001b[A\n",
      "\n",
      "\u001b[A\u001b[A\n",
      "\n",
      "\u001b[A\u001b[A\n",
      "\n",
      "\u001b[A\u001b[A\n",
      "\n",
      "\u001b[A\u001b[A\n",
      "\n",
      "\u001b[A\u001b[A\n",
      "\n",
      "\u001b[A\u001b[A\n",
      "\n",
      "\u001b[A\u001b[A\n",
      "\n",
      "\u001b[A\u001b[A\n",
      "\n",
      "\u001b[A\u001b[A\n",
      "\n",
      "\u001b[A\u001b[A\n",
      "\n",
      "\u001b[A\u001b[A\n",
      "\n",
      "\u001b[A\u001b[A\n",
      "\n",
      "\u001b[A\u001b[A\n",
      "\n",
      "100%|██████████| 10000/10000 [01:40<00:00, 99.15it/s]\n"
     ]
    },
    {
     "name": "stdout",
     "output_type": "stream",
     "text": [
      "area = 0.29879822061252126\n"
     ]
    }
   ],
   "source": [
    "# is there a speed gain with scipy.trapezoid\n",
    "from scipy import integrate\n",
    "all_t_stim = [res['t_stim'] for res in sim_results]\n",
    "N_samp = 10_000\n",
    "sampled_t_stim = np.random.choice(all_t_stim, N_samp)\n",
    "\n",
    "def compute_area(t_stim):\n",
    "    t_pts = np.arange(t_stim, T_trunc_right + t_stim, 0.001)\n",
    "    likelihood_till_inf = up_RTs_fit_fn(t_pts, V_A, theta_A, ABL_arr[-1], 0, rate_lambda, T_0, \\\n",
    "                                theta_E, Z_E, t_stim, t_A_aff, t_E_aff, t_motor, L, K_max)\n",
    "    norm_factor = integrate.trapezoid(likelihood_till_inf, t_pts)\n",
    "    return norm_factor\n",
    "\n",
    "results = Parallel(n_jobs=30)(delayed(compute_area)(t_stim) for t_stim in tqdm(sampled_t_stim))\n",
    "print(f'area = {np.mean(results)}')\n"
   ]
  },
  {
   "cell_type": "code",
   "execution_count": null,
   "metadata": {},
   "outputs": [],
   "source": [
    "# simpson?\n",
    "# is there a speed gain with scipy.trapezoid\n",
    "from scipy.integrate import simpson\n",
    "\n",
    "all_t_stim = [res['t_stim'] for res in sim_results]\n",
    "N_samp = 10_000\n",
    "sampled_t_stim = np.random.choice(all_t_stim, N_samp)\n",
    "\n",
    "def compute_area(t_stim):\n",
    "    t_pts = np.arange(t_stim, T_trunc_right + t_stim, 0.005)\n",
    "    likelihood_till_inf = up_RTs_fit_fn(t_pts, V_A, theta_A, ABL_arr[-1], 0, rate_lambda, T_0, \\\n",
    "                                theta_E, Z_E, t_stim, t_A_aff, t_E_aff, t_motor, L, K_max)\n",
    "    norm_factor = simpson(likelihood_till_inf, x=t_pts)\n",
    "    return norm_factor\n",
    "\n",
    "results = Parallel(n_jobs=30)(delayed(compute_area)(t_stim) for t_stim in tqdm(sampled_t_stim))\n",
    "print(f'area = {np.mean(results)}')\n"
   ]
  },
  {
   "cell_type": "code",
   "execution_count": 105,
   "metadata": {},
   "outputs": [
    {
     "name": "stdout",
     "output_type": "stream",
     "text": [
      "t_stim = 0.2597052587673786\n",
      "Time taken: 0.09848833084106445 seconds\n"
     ]
    }
   ],
   "source": [
    "from scipy.integrate import trapezoid as trapz\n",
    "import time\n",
    "\n",
    "start_time = time.time()\n",
    "\n",
    "t_stim = sampled_t_stim[-1]\n",
    "print(f't_stim = {t_stim}')\n",
    "t_pts = np.arange(t_stim, T_trunc_right + t_stim, 0.001)\n",
    "likelihood_till_inf = up_RTs_fit_fn(t_pts, V_A, theta_A, ABL_arr[-1], 0, rate_lambda, T_0, \\\n",
    "                                theta_E, Z_E, t_stim, t_A_aff, t_E_aff, t_motor, L, K_max)\n",
    "norm_factor = trapz(likelihood_till_inf, t_pts)\n",
    "end_time = time.time()\n",
    "print(f\"Time taken: {end_time - start_time} seconds\")"
   ]
  },
  {
   "cell_type": "markdown",
   "metadata": {},
   "source": [
    "# like vbmc"
   ]
  },
  {
   "cell_type": "code",
   "execution_count": 21,
   "metadata": {},
   "outputs": [
    {
     "name": "stderr",
     "output_type": "stream",
     "text": [
      "100%|██████████| 100000/100000 [04:59<00:00, 334.01it/s]\n"
     ]
    }
   ],
   "source": [
    "from joblib import Parallel, delayed\n",
    "\n",
    "# parallel\n",
    "K_max = 10\n",
    "t_pts = np.arange(0, 2, 0.01)\n",
    "all_t_stim = [res['t_stim'] for res in sim_results]\n",
    "N_samp = 100_000\n",
    "sampled_t_stim = np.random.choice(all_t_stim, N_samp)\n",
    "pdf_vs_t_stim = np.zeros((N_samp, len(t_pts)))\n",
    "\n",
    "trunc_left_cum_A = 1 - cum_A_t_fn(T_trunc_abort-t_A_aff, V_A, theta_A)\n",
    "\n",
    "def compute_pdf_for_stim(t_stim):\n",
    "    pdf_for_each_stim = np.zeros_like(t_pts)\n",
    "    for t_id, t in enumerate(t_pts):\n",
    "        if t - t_stim > T_trunc_right:\n",
    "            pdf_for_each_stim[t_id] = 0\n",
    "        else:\n",
    "            cum_proactive = cum_A_t_fn(T_trunc_right - t_A_aff, V_A, theta_A) / trunc_left_cum_A\n",
    "            cum_reactive = cum_E_t_fn(T_trunc_right - t_E_aff, ABL_arr[-1], ILD_arr[0], rate_lambda, T_0, theta_E, Z_E, K_max)\n",
    "            cum_trunc = cum_proactive + cum_reactive - cum_proactive * cum_reactive\n",
    "\n",
    "            up_like = up_RTs_fit_TRUNC_fn([t], V_A, theta_A, ABL_arr[-1], ILD_arr[0], rate_lambda, T_0, \\\n",
    "                                        theta_E, Z_E, t_stim, t_A_aff, t_E_aff, t_motor, L, K_max, T_trunc_abort)[0]\n",
    "                              \n",
    "            down_like = down_RTs_fit_TRUNC_fn([t], V_A, theta_A, ABL_arr[-1], ILD_arr[0], rate_lambda, T_0,\\\n",
    "                                            theta_E, Z_E, t_stim, t_A_aff, t_E_aff, t_motor, L, K_max, T_trunc_abort)[0]\n",
    "            likelihood = up_like + down_like\n",
    "            pdf_for_each_stim[t_id] = likelihood / cum_trunc\n",
    "    return pdf_for_each_stim\n",
    "\n",
    "results = Parallel(n_jobs=30)(delayed(compute_pdf_for_stim)(t_stim) for t_stim in tqdm(sampled_t_stim))\n",
    "pdf_vs_t_stim = np.array(results)"
   ]
  },
  {
   "cell_type": "markdown",
   "metadata": {},
   "source": [
    "# no choice"
   ]
  },
  {
   "cell_type": "code",
   "execution_count": 19,
   "metadata": {},
   "outputs": [
    {
     "name": "stderr",
     "output_type": "stream",
     "text": [
      "100%|██████████| 100000/100000 [01:46<00:00, 938.88it/s]\n"
     ]
    }
   ],
   "source": [
    "from joblib import Parallel, delayed\n",
    "from psiam_tied_no_dv_map_utils import rho_A_t_fn, cum_A_t_fn, rho_E_minus_small_t_NORM_fn\n",
    "from psiam_tied_dv_map_utils import cum_E_t_fn\n",
    "# parallel \n",
    "############## A diff PDF #############\n",
    "K_max = 10\n",
    "t_pts = np.arange(0, 2, 0.01)\n",
    "all_t_stim = [res['t_stim'] for res in sim_results]\n",
    "N_samp = 100_000\n",
    "sampled_t_stim = np.random.choice(all_t_stim, N_samp)\n",
    "pdf_vs_t_stim = np.zeros((N_samp, len(t_pts)))\n",
    "\n",
    "trunc_left_cum_A = 1 - cum_A_t_fn(T_trunc_abort-t_A_aff, V_A, theta_A)\n",
    "def compute_pdf_for_stim(t_stim):\n",
    "    pdf_for_each_stim = np.zeros_like(t_pts)\n",
    "    for t_id, t in enumerate(t_pts):\n",
    "        if t - t_stim > T_trunc_right:\n",
    "            pdf_for_each_stim[t_id] = 0\n",
    "        else:\n",
    "            if T_trunc_right + t_stim  < T_trunc_abort:\n",
    "                cum_proactive = 0\n",
    "            else:\n",
    "                cum_proactive = cum_A_t_fn(T_trunc_right + t_stim - t_A_aff - t_motor, V_A, theta_A) / trunc_left_cum_A\n",
    "            cum_reactive = cum_E_t_fn(T_trunc_right + t_stim - t_E_aff - t_motor - t_stim, ABL_arr[-1], ILD_arr[0], rate_lambda, T_0, theta_E, Z_E, K_max)\n",
    "            cum_trunc = cum_proactive + cum_reactive - cum_proactive * cum_reactive\n",
    "\n",
    "            # up_like = up_RTs_fit_TRUNC_fn([t], V_A, theta_A, ABL_arr[-1], ILD_arr[0], rate_lambda, T_0, \\\n",
    "            #                             theta_E, Z_E, t_stim, t_A_aff, t_E_aff, t_motor, L, K_max, T_trunc_abort)[0]\n",
    "                              \n",
    "            # down_like = down_RTs_fit_TRUNC_fn([t], V_A, theta_A, ABL_arr[-1], ILD_arr[0], rate_lambda, T_0,\\\n",
    "                                            # theta_E, Z_E, t_stim, t_A_aff, t_E_aff, t_motor, L, K_max, T_trunc_abort)[0]\n",
    "\n",
    "            p_a = 0 if t < T_trunc_abort else rho_A_t_fn(t - t_A_aff - t_motor, V_A, theta_A) / trunc_left_cum_A\n",
    "            c_e = cum_E_t_fn(t - t_stim, ABL_arr[-1], ILD_arr[0], rate_lambda, T_0, theta_E, Z_E, K_max) \n",
    "\n",
    "            p_e = rho_E_minus_small_t_NORM_fn(t - t_E_aff - t_motor - t_stim, ABL_arr[-1], ILD_arr[0], rate_lambda, T_0, theta_E, Z_E, 1, K_max) \\\n",
    "                + rho_E_minus_small_t_NORM_fn(t - t_E_aff - t_motor - t_stim, ABL_arr[-1], ILD_arr[0], rate_lambda, T_0, theta_E, Z_E, -1, K_max)\n",
    "            c_a = 0 if t < T_trunc_abort else cum_A_t_fn(t - t_A_aff - t_motor, V_A, theta_A) / trunc_left_cum_A\n",
    "            likelihood = p_a * (1 - c_e) + p_e * (1 - c_a)\n",
    "            \n",
    "            pdf_for_each_stim[t_id] = likelihood / cum_trunc\n",
    "    return pdf_for_each_stim\n",
    "\n",
    "\n",
    "results = Parallel(n_jobs=30)(delayed(compute_pdf_for_stim)(t_stim) for t_stim in tqdm(sampled_t_stim))\n",
    "pdf_vs_t_stim = np.array(results)"
   ]
  },
  {
   "cell_type": "markdown",
   "metadata": {},
   "source": [
    "# no proactive truncation"
   ]
  },
  {
   "cell_type": "code",
   "execution_count": 39,
   "metadata": {},
   "outputs": [
    {
     "name": "stderr",
     "output_type": "stream",
     "text": [
      "100%|██████████| 100000/100000 [00:31<00:00, 3178.23it/s]\n"
     ]
    }
   ],
   "source": [
    "from joblib import Parallel, delayed\n",
    "from psiam_tied_no_dv_map_utils import rho_A_t_fn, cum_A_t_fn, rho_E_minus_small_t_NORM_fn\n",
    "from psiam_tied_dv_map_utils import cum_E_t_fn\n",
    "# parallel \n",
    "############## A diff PDF #############\n",
    "########### No proactive truncation \n",
    "K_max = 10\n",
    "t_pts = np.arange(0, 2, 0.01)\n",
    "all_t_stim = [res['t_stim'] for res in sim_results]\n",
    "N_samp = 100_000\n",
    "sampled_t_stim = np.random.choice(all_t_stim, N_samp)\n",
    "pdf_vs_t_stim = np.zeros((N_samp, len(t_pts)))\n",
    "\n",
    "def compute_pdf_for_stim(t_stim):\n",
    "    pdf_for_each_stim = np.zeros_like(t_pts)\n",
    "    for t_id, t in enumerate(t_pts):\n",
    "        if t - t_stim > T_trunc_right:\n",
    "            pdf_for_each_stim[t_id] = 0\n",
    "        elif t < t_stim:\n",
    "            pdf_for_each_stim[t_id] = 0\n",
    "        else:\n",
    "            p_a = rho_A_t_fn(t - t_A_aff - t_motor, V_A, theta_A)\n",
    "            c_e = cum_E_t_fn(t - t_stim, ABL_arr[-1], ILD_arr[0], rate_lambda, T_0, theta_E, Z_E, K_max) \n",
    "\n",
    "            p_e = rho_E_minus_small_t_NORM_fn(t - t_E_aff - t_motor - t_stim, ABL_arr[-1], ILD_arr[0], rate_lambda, T_0, theta_E, Z_E, 1, K_max) \\\n",
    "                + rho_E_minus_small_t_NORM_fn(t - t_E_aff - t_motor - t_stim, ABL_arr[-1], ILD_arr[0], rate_lambda, T_0, theta_E, Z_E, -1, K_max)\n",
    "            c_a = cum_A_t_fn(t - t_A_aff - t_motor, V_A, theta_A)\n",
    "            likelihood = p_a * (1 - c_e) + p_e * (1 - c_a)\n",
    "            \n",
    "            pdf_for_each_stim[t_id] = likelihood\n",
    "    return pdf_for_each_stim\n",
    "\n",
    "\n",
    "results = Parallel(n_jobs=30)(delayed(compute_pdf_for_stim)(t_stim) for t_stim in tqdm(sampled_t_stim))\n",
    "pdf_vs_t_stim = np.array(results)"
   ]
  },
  {
   "cell_type": "code",
   "execution_count": 43,
   "metadata": {},
   "outputs": [
    {
     "data": {
      "text/plain": [
       "Text(0.5, 1.0, 'valid trials btn 0 and 0.21')"
      ]
     },
     "execution_count": 43,
     "metadata": {},
     "output_type": "execute_result"
    },
    {
     "data": {
      "image/png": "[encoded data removed]",
      "text/plain": [
       "<Figure size 640x480 with 1 Axes>"
      ]
     },
     "metadata": {},
     "output_type": "display_data"
    }
   ],
   "source": [
    "pdf_vs_t_stim_mean = np.mean(pdf_vs_t_stim, axis=0)\n",
    "plt.plot(t_pts, pdf_vs_t_stim_mean);\n",
    "\n",
    "bins = np.arange(0, 2, 0.005)\n",
    "valid_rt_less_than_trunc = [res['rt'] for res in sim_results if res['rt'] > res['t_stim'] and res['rt'] - res['t_stim'] < T_trunc_right]\n",
    "valid_rt_less_than_trunc_hist, _ = np.histogram(valid_rt_less_than_trunc, bins=bins, density=True)\n",
    "valid_rt_less_than_trunc_hist *= len(valid_rt_less_than_trunc) / len(sim_results)\n",
    "\n",
    "plt.plot(bins[:-1], valid_rt_less_than_trunc_hist)\n",
    "\n",
    "plt.legend(['theory', 'sim'])\n",
    "plt.xlabel('rt wrt fix');\n",
    "plt.title('valid trials btn 0 and 0.21')                 "
   ]
  },
  {
   "cell_type": "code",
   "execution_count": null,
   "metadata": {},
   "outputs": [],
   "source": []
  },
  {
   "cell_type": "markdown",
   "metadata": {},
   "source": [
    "# all valid rt"
   ]
  },
  {
   "cell_type": "code",
   "execution_count": 33,
   "metadata": {},
   "outputs": [],
   "source": [
    "from joblib import Parallel, delayed\n",
    "from psiam_tied_no_dv_map_utils import rho_A_t_fn, cum_A_t_fn, rho_E_minus_small_t_NORM_fn\n",
    "from psiam_tied_dv_map_utils import cum_E_t_fn\n",
    "\n",
    "# parallel \n",
    "# ALL valid rt # \n",
    "\n",
    "K_max = 10\n",
    "t_pts = np.arange(0, 2, 0.01)\n",
    "all_t_stim = [res['t_stim'] for res in sim_results]\n",
    "N_samp = 100_000\n",
    "sampled_t_stim = np.random.choice(all_t_stim, N_samp)\n",
    "pdf_vs_t_stim = np.zeros((N_samp, len(t_pts)))\n",
    "\n",
    "def compute_pdf_for_stim(t_stim):\n",
    "    pdf_for_each_stim = np.zeros_like(t_pts)\n",
    "    \n",
    "    cum_proactive = cum_A_t_fn(t_stim - t_A_aff - t_motor, V_A, theta_A)\n",
    "    cum_trunc = 1 - cum_proactive\n",
    "    for t_id, t in enumerate(t_pts):\n",
    "        if t < t_stim - t_A_aff - t_motor:\n",
    "            pdf_for_each_stim[t_id] = 0\n",
    "        else:\n",
    "            p_a = rho_A_t_fn(t - t_A_aff - t_motor, V_A, theta_A)\n",
    "            c_e = cum_E_t_fn(t - t_stim, ABL_arr[-1], ILD_arr[0], rate_lambda, T_0, theta_E, Z_E, K_max) \n",
    "            p_e = rho_E_minus_small_t_NORM_fn(t - t_E_aff - t_motor - t_stim, ABL_arr[-1], ILD_arr[0], rate_lambda, T_0, theta_E, Z_E, 1, K_max) \\\n",
    "                + rho_E_minus_small_t_NORM_fn(t - t_E_aff - t_motor - t_stim, ABL_arr[-1], ILD_arr[0], rate_lambda, T_0, theta_E, Z_E, -1, K_max)\n",
    "            c_a = cum_A_t_fn(t - t_A_aff - t_motor, V_A, theta_A)\n",
    "            likelihood = p_a * (1 - c_e) + p_e * (1 - c_a)\n",
    "        \n",
    "            pdf_for_each_stim[t_id] = likelihood\n",
    "    return pdf_for_each_stim\n",
    "\n",
    "\n",
    "results = Parallel(n_jobs=30)(delayed(compute_pdf_for_stim)(t_stim) for t_stim in sampled_t_stim)\n",
    "pdf_vs_t_stim = np.array(results)"
   ]
  },
  {
   "cell_type": "code",
   "execution_count": 34,
   "metadata": {},
   "outputs": [
    {
     "name": "stdout",
     "output_type": "stream",
     "text": [
      "n aborts = 69361 / 1000000\n"
     ]
    },
    {
     "data": {
      "image/png": "[encoded data removed]",
      "text/plain": [
       "<Figure size 640x480 with 1 Axes>"
      ]
     },
     "metadata": {},
     "output_type": "display_data"
    }
   ],
   "source": [
    "plt.plot(t_pts, np.mean(pdf_vs_t_stim, axis=0));\n",
    "\n",
    "bins = np.arange(0, 2, 0.01)\n",
    "# plt.hist([res['rt'] for res in sim_results if res['rt'] > res['t_stim'] ], bins=bins, density=True, alpha=0.5);\n",
    "valid_rt = [res['rt'] for res in sim_results if res['rt'] > res['t_stim']]\n",
    "n_aborts = len(sim_results) - len(valid_rt)\n",
    "print(f'n aborts = {n_aborts} / {len(sim_results)}')\n",
    "valid_rt_hist, _ = np.histogram(valid_rt, bins=bins, density=True)\n",
    "valid_rt_hist *= ( 1 - (n_aborts / len(sim_results)) )\n",
    "plt.plot(bins[:-1], valid_rt_hist)\n",
    "\n",
    "plt.legend(['theory', 'sim'])\n",
    "plt.xlabel('rt wrt fix');                 "
   ]
  },
  {
   "cell_type": "code",
   "execution_count": 35,
   "metadata": {},
   "outputs": [
    {
     "data": {
      "text/plain": [
       "(0.07519417462906697, 0.0694146817002681)"
      ]
     },
     "execution_count": 35,
     "metadata": {},
     "output_type": "execute_result"
    }
   ],
   "source": [
    "1 - np.trapz(np.mean(pdf_vs_t_stim, axis=0), t_pts), 1 - np.trapz(valid_rt_hist, bins[:-1])"
   ]
  },
  {
   "cell_type": "markdown",
   "metadata": {},
   "source": [
    "# all valid rt wrt stim?"
   ]
  },
  {
   "cell_type": "code",
   "execution_count": 31,
   "metadata": {},
   "outputs": [],
   "source": [
    "from joblib import Parallel, delayed\n",
    "from psiam_tied_no_dv_map_utils import rho_A_t_fn, cum_A_t_fn, rho_E_minus_small_t_NORM_fn\n",
    "from psiam_tied_dv_map_utils import cum_E_t_fn\n",
    "\n",
    "# parallel \n",
    "# ALL valid rt wrt stim # \n",
    "\n",
    "K_max = 10\n",
    "t_pts = np.arange(-1, 1, 0.01)\n",
    "all_t_stim = [res['t_stim'] for res in sim_results]\n",
    "N_samp = 100_000\n",
    "sampled_t_stim = np.random.choice(all_t_stim, N_samp)\n",
    "pdf_vs_t_stim = np.zeros((N_samp, len(t_pts)))\n",
    "\n",
    "def compute_pdf_for_stim(t_stim):\n",
    "    pdf_for_each_stim = np.zeros_like(t_pts)\n",
    "    \n",
    "    cum_proactive = cum_A_t_fn(t_stim, V_A, theta_A)\n",
    "    cum_trunc = 1 - cum_proactive\n",
    "    for t_id, t in enumerate(t_pts):\n",
    "        t += t_stim\n",
    "        if t <= 0:\n",
    "            pdf_for_each_stim[t_id] = 0\n",
    "        else:\n",
    "            p_a = rho_A_t_fn(t - t_A_aff - t_motor, V_A, theta_A)\n",
    "            c_e = cum_E_t_fn(t - t_stim, ABL_arr[-1], ILD_arr[0], rate_lambda, T_0, theta_E, Z_E, K_max) \n",
    "            p_e = rho_E_minus_small_t_NORM_fn(t - t_E_aff - t_motor - t_stim, ABL_arr[-1], ILD_arr[0], rate_lambda, T_0, theta_E, Z_E, 1, K_max) \\\n",
    "                + rho_E_minus_small_t_NORM_fn(t - t_E_aff - t_motor - t_stim, ABL_arr[-1], ILD_arr[0], rate_lambda, T_0, theta_E, Z_E, -1, K_max)\n",
    "            c_a = cum_A_t_fn(t - t_A_aff - t_motor, V_A, theta_A)\n",
    "            likelihood = p_a * (1 - c_e) + p_e * (1 - c_a)\n",
    "        \n",
    "            pdf_for_each_stim[t_id] = likelihood / cum_trunc\n",
    "    return pdf_for_each_stim\n",
    "\n",
    "\n",
    "results = Parallel(n_jobs=30)(delayed(compute_pdf_for_stim)(t_stim) for t_stim in sampled_t_stim)\n",
    "pdf_vs_t_stim = np.array(results)"
   ]
  },
  {
   "cell_type": "code",
   "execution_count": 32,
   "metadata": {},
   "outputs": [
    {
     "name": "stdout",
     "output_type": "stream",
     "text": [
      "n aborts = 69361 / 1000000\n"
     ]
    },
    {
     "data": {
      "image/png": "[encoded data removed]",
      "text/plain": [
       "<Figure size 640x480 with 1 Axes>"
      ]
     },
     "metadata": {},
     "output_type": "display_data"
    }
   ],
   "source": [
    "plt.plot(t_pts, np.mean(pdf_vs_t_stim, axis=0));\n",
    "\n",
    "bins = np.arange(0, 1, 0.001)\n",
    "# plt.hist([res['rt'] for res in sim_results if res['rt'] > res['t_stim'] ], bins=bins, density=True, alpha=0.5);\n",
    "valid_rt = [res['rt'] - res['t_stim'] for res in sim_results if res['rt'] > res['t_stim']]\n",
    "n_aborts = len(sim_results) - len(valid_rt)\n",
    "print(f'n aborts = {n_aborts} / {len(sim_results)}')\n",
    "valid_rt_hist, _ = np.histogram(valid_rt, bins=bins, density=True)\n",
    "valid_rt_hist *= ( 1 - (n_aborts / len(sim_results)) )\n",
    "plt.plot(bins[:-1], valid_rt_hist)\n",
    "\n",
    "plt.legend(['theory', 'sim'])\n",
    "plt.xlabel('rt wrt fix');       \n",
    "plt.xlim(0,0.3);          "
   ]
  },
  {
   "cell_type": "markdown",
   "metadata": {},
   "source": [
    "# fit everything"
   ]
  },
  {
   "cell_type": "code",
   "execution_count": 86,
   "metadata": {},
   "outputs": [
    {
     "name": "stderr",
     "output_type": "stream",
     "text": [
      "100%|██████████| 100000/100000 [03:12<00:00, 519.73it/s]\n"
     ]
    }
   ],
   "source": [
    "from joblib import Parallel, delayed\n",
    "from psiam_tied_no_dv_map_utils import rho_A_t_fn, cum_A_t_fn, rho_E_minus_small_t_NORM_fn\n",
    "from psiam_tied_dv_map_utils import cum_E_t_fn\n",
    "\n",
    "# parallel \n",
    "# ALL valid rt # \n",
    "\n",
    "K_max = 10\n",
    "t_pts = np.arange(0, 2, 0.01)\n",
    "all_t_stim = [res['t_stim'] for res in sim_results]\n",
    "N_samp = 100_000\n",
    "sampled_t_stim = np.random.choice(all_t_stim, N_samp)\n",
    "pdf_vs_t_stim = np.zeros((N_samp, len(t_pts)))\n",
    "def compute_pdf_for_stim(t_stim):\n",
    "    pdf_for_each_stim = np.zeros_like(t_pts)\n",
    "    \n",
    "    for t_id, t in enumerate(t_pts):\n",
    "        p_a = rho_A_t_fn(t - t_A_aff - t_motor, V_A, theta_A)\n",
    "        # c_e = cum_E_t_fn(t - t_stim, ABL_arr[-1], 0, rate_lambda, T_0, theta_E, Z_E, K_max) \n",
    "        c_e = cum_E_t_fn(t - t_E_aff - t_motor - t_stim, ABL_arr[-1], 0, rate_lambda, T_0, theta_E, Z_E, K_max) \n",
    "\n",
    "        p_e = rho_E_minus_small_t_NORM_fn(t - t_E_aff - t_motor - t_stim, ABL_arr[-1], 0, rate_lambda, T_0, theta_E, Z_E, 1, K_max) \\\n",
    "            + rho_E_minus_small_t_NORM_fn(t - t_E_aff - t_motor - t_stim, ABL_arr[-1], 0, rate_lambda, T_0, theta_E, Z_E, -1, K_max)\n",
    "        c_a = cum_A_t_fn(t - t_A_aff - t_motor, V_A, theta_A)\n",
    "        # c_a = cum_A_t_fn(t - t_E_aff - t_motor - t_stim, V_A, theta_A)\n",
    "\n",
    "        likelihood = p_a * (1 - c_e) + p_e * (1 - c_a)\n",
    "        \n",
    "        pdf_for_each_stim[t_id] = likelihood\n",
    "    return pdf_for_each_stim\n",
    "\n",
    "\n",
    "results = Parallel(n_jobs=30)(delayed(compute_pdf_for_stim)(t_stim) for t_stim in tqdm(sampled_t_stim))\n",
    "pdf_vs_t_stim = np.array(results)"
   ]
  },
  {
   "cell_type": "code",
   "execution_count": 161,
   "metadata": {},
   "outputs": [
    {
     "name": "stdout",
     "output_type": "stream",
     "text": [
      "theory =  0.07130464580657782\n",
      "data =  0.069867\n",
      "diff = 0.0014376458065778197\n"
     ]
    }
   ],
   "source": [
    "# N_samp = 1_000_000\n",
    "# # sampled_t_stim = np.random.choice(all_t_stim, N_samp)\n",
    "# sampled_t_stim = np.random.exponential(0.4, N_samp) + 0.2\n",
    "\n",
    "# def compute_frac_of_aborts(t_stim):\n",
    "#     return cum_A_t_fn(t_stim - t_A_aff - t_motor, V_A, theta_A)\n",
    "\n",
    "# frac_of_aborts = np.array(Parallel(n_jobs=30)(delayed(compute_frac_of_aborts)(t_stim) for t_stim in sampled_t_stim))\n",
    "# print('theory = ',frac_of_aborts.mean())\n",
    "# data_frac = len([res['rt'] for res in sim_results if res['rt'] < res['t_stim']]) / len(sim_results)\n",
    "# print('data = ', data_frac)\n",
    "\n",
    "# print(f'diff = {frac_of_aborts.mean() - data_frac}')"
   ]
  },
  {
   "cell_type": "code",
   "execution_count": 87,
   "metadata": {},
   "outputs": [
    {
     "data": {
      "image/png": "[encoded data removed]",
      "text/plain": [
       "<Figure size 640x480 with 1 Axes>"
      ]
     },
     "metadata": {},
     "output_type": "display_data"
    }
   ],
   "source": [
    "plt.plot(t_pts, np.mean(pdf_vs_t_stim, axis=0));\n",
    "\n",
    "bins = np.arange(0, 2, 0.01)\n",
    "plt.hist([res['rt'] for res in sim_results ], bins=bins, density=True, alpha=0.5);\n",
    "\n",
    "plt.legend(['theory', 'sim'])\n",
    "plt.xlabel('rt wrt fix');                 "
   ]
  },
  {
   "cell_type": "code",
   "execution_count": 88,
   "metadata": {},
   "outputs": [
    {
     "data": {
      "text/plain": [
       "0.9751212167753214"
      ]
     },
     "execution_count": 88,
     "metadata": {},
     "output_type": "execute_result"
    }
   ],
   "source": [
    "np.trapz(np.mean(pdf_vs_t_stim, axis=0), t_pts)"
   ]
  },
  {
   "cell_type": "code",
   "execution_count": null,
   "metadata": {},
   "outputs": [],
   "source": []
  }
 ],
 "metadata": {
  "kernelspec": {
   "display_name": ".venv",
   "language": "python",
   "name": "python3"
  },
  "language_info": {
   "codemirror_mode": {
    "name": "ipython",
    "version": 3
   },
   "file_extension": ".py",
   "mimetype": "text/x-python",
   "name": "python",
   "nbconvert_exporter": "python",
   "pygments_lexer": "ipython3",
   "version": "3.12.3"
  }
 },
 "nbformat": 4,
 "nbformat_minor": 2
}
