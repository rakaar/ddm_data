{
 "cells": [
  {
   "cell_type": "code",
   "execution_count": 1,
   "id": "ca24f627",
   "metadata": {},
   "outputs": [],
   "source": [
    "import pandas as pd"
   ]
  },
  {
   "cell_type": "code",
   "execution_count": 2,
   "id": "d58026ca",
   "metadata": {},
   "outputs": [],
   "source": [
    "q = pd.read_csv('outExp.csv')"
   ]
  },
  {
   "cell_type": "code",
   "execution_count": 3,
   "id": "f086fac3",
   "metadata": {},
   "outputs": [
    {
     "data": {
      "text/plain": [
       "Index(['box', 'animal', 'session', 'session_type', 'training_level', 'block',\n",
       "       'trial', 'trials_per_block', 'ABL', 'min_ITI', 'max_wait', 'max_RT',\n",
       "       'max_MT', 'reward_open_L', 'reward_open_R', 'penalty_duration_1',\n",
       "       'penalty_duration_2', 'penalty_duration_3', 'trial_start', 'trial_end',\n",
       "       'trial_duration', 'bias', 'ILD', 'ILD_index', 'success', 'abort_event',\n",
       "       'block_perf', 'block_ar', 'repeat_trial', 'timed_ITI', 'CNPTime',\n",
       "       'base_fix', 'base_RT', 'intended_fix', 'TotalFixTime', 'RT', 'MT',\n",
       "       'base_LNP', 'LNPTime', 'LED_trial', 'timed_LED', 'LED_powerR',\n",
       "       'LED_powerL', 'left_amp', 'right_amp', 'waveformR', 'waveformL',\n",
       "       'response_poke', 'Sign', 'Rsp', 'Rsp_R', 'correct', 'absILD', 'FixTime',\n",
       "       'FixAbort', 'outcome', 'Out', 'R', 'RTwrtStim', 'LED_onset_time',\n",
       "       'batch', 'batch_name'],\n",
       "      dtype='object')"
      ]
     },
     "execution_count": 3,
     "metadata": {},
     "output_type": "execute_result"
    }
   ],
   "source": [
    "q.columns"
   ]
  },
  {
   "cell_type": "code",
   "execution_count": 17,
   "id": "9e1e5e43",
   "metadata": {},
   "outputs": [
    {
     "data": {
      "image/png": "[encoded data removed]",
      "text/plain": [
       "<Figure size 640x480 with 1 Axes>"
      ]
     },
     "metadata": {},
     "output_type": "display_data"
    }
   ],
   "source": [
    "import matplotlib.pyplot as plt\n",
    "plt.hist(q['RT'] - q['RTwrtStim'], bins=100);"
   ]
  },
  {
   "cell_type": "code",
   "execution_count": 20,
   "id": "5d06f8e5",
   "metadata": {},
   "outputs": [
    {
     "data": {
      "image/png": "[encoded data removed]",
      "text/plain": [
       "<Figure size 640x480 with 1 Axes>"
      ]
     },
     "metadata": {},
     "output_type": "display_data"
    }
   ],
   "source": [
    "plt.hist(q['left_amp'].unique(), bins=50);"
   ]
  },
  {
   "cell_type": "code",
   "execution_count": null,
   "id": "10eb79c2",
   "metadata": {},
   "outputs": [
    {
     "data": {
      "text/plain": [
       "array([37, 38, 39, 40, 41, 48, 49, 50, 52, 53, 55, 33, 36, 43, 45, 57, 59,\n",
       "       61, 63, 81, 82, 84, 86])"
      ]
     },
     "execution_count": 11,
     "metadata": {},
     "output_type": "execute_result"
    }
   ],
   "source": [
    "# ILD_index - no need\n",
    "# experimenter\n",
    "# animal ID - should be what as in animal house,\n",
    "# session.setup_id -> box\n",
    "# session.type -> notes\n",
    "# 1,2,3 penalty column names instead of numbers\n",
    "# float type all\n",
    "# abort type strings instead of numbers\n",
    "# LED power and voltage both\n",
    "\n",
    "\n",
    "\n",
    "# \n",
    "q['animal'].unique()"
   ]
  },
  {
   "cell_type": "code",
   "execution_count": 9,
   "id": "4ffdd51a",
   "metadata": {},
   "outputs": [
    {
     "name": "stdout",
     "output_type": "stream",
     "text": [
      "animal_id\n",
      "block.number\n",
      "block.training_level\n",
      "block.trials_per_block\n",
      "fixation_time.opto_onset_time.base_time\n",
      "fixation_time.opto_onset_time.exp_mean\n",
      "fixation_time.opto_onset_time.intended_duration\n",
      "fixation_time.opto_onset_time.timed_duration\n",
      "fixation_time.sound_onset_time.base_time\n",
      "fixation_time.sound_onset_time.exp_mean\n",
      "fixation_time.sound_onset_time.intended_duration\n",
      "fixation_time.sound_onset_time.timed_duration\n",
      "iti.end_time\n",
      "iti.intended_duration\n",
      "iti.start_time\n",
      "iti.timed_duration\n",
      "lnp_time.intended_duration\n",
      "lnp_time.timed_duration\n",
      "movement_time.max_duration\n",
      "movement_time.timed_duration\n",
      "optogenetics.duration\n",
      "optogenetics.left_power\n",
      "optogenetics.opto_trial\n",
      "optogenetics.right_power\n",
      "outcome.block_abort_ratio\n",
      "outcome.block_performance\n",
      "outcome.response_poke\n",
      "outcome.value\n",
      "reaction_time.base_time\n",
      "reaction_time.max_duration\n",
      "reaction_time.timed_duration\n",
      "repeated_trial\n",
      "session.number\n",
      "session.setup_id\n",
      "session.type\n",
      "sound.abl\n",
      "sound.ild\n",
      "sound.left_amplification\n",
      "sound.right_amplification\n",
      "sound.sound_index\n",
      "time_to_cnp.max_duration\n",
      "time_to_cnp.timed_value\n",
      "trial.duration\n",
      "trial.end_time\n",
      "trial.number\n",
      "trial.start_time\n"
     ]
    }
   ],
   "source": [
    "print(*sorted(jose.columns), sep='\\n')"
   ]
  },
  {
   "cell_type": "code",
   "execution_count": 12,
   "id": "35e316e9",
   "metadata": {},
   "outputs": [
    {
     "data": {
      "text/plain": [
       "array([1])"
      ]
     },
     "execution_count": 12,
     "metadata": {},
     "output_type": "execute_result"
    }
   ],
   "source": [
    "jose['session.setup_id'].unique()"
   ]
  },
  {
   "cell_type": "code",
   "execution_count": 4,
   "id": "8e5854df",
   "metadata": {},
   "outputs": [
    {
     "data": {
      "text/html": [
       "<div>\n",
       "<style scoped>\n",
       "    .dataframe tbody tr th:only-of-type {\n",
       "        vertical-align: middle;\n",
       "    }\n",
       "\n",
       "    .dataframe tbody tr th {\n",
       "        vertical-align: top;\n",
       "    }\n",
       "\n",
       "    .dataframe thead th {\n",
       "        text-align: right;\n",
       "    }\n",
       "</style>\n",
       "<table border=\"1\" class=\"dataframe\">\n",
       "  <thead>\n",
       "    <tr style=\"text-align: right;\">\n",
       "      <th></th>\n",
       "      <th>box</th>\n",
       "      <th>animal</th>\n",
       "      <th>session</th>\n",
       "      <th>session_type</th>\n",
       "      <th>training_level</th>\n",
       "      <th>block</th>\n",
       "      <th>trial</th>\n",
       "      <th>trials_per_block</th>\n",
       "      <th>ABL</th>\n",
       "      <th>min_ITI</th>\n",
       "      <th>...</th>\n",
       "      <th>absILD</th>\n",
       "      <th>FixTime</th>\n",
       "      <th>FixAbort</th>\n",
       "      <th>outcome</th>\n",
       "      <th>Out</th>\n",
       "      <th>R</th>\n",
       "      <th>RTwrtStim</th>\n",
       "      <th>LED_onset_time</th>\n",
       "      <th>batch</th>\n",
       "      <th>batch_name</th>\n",
       "    </tr>\n",
       "  </thead>\n",
       "  <tbody>\n",
       "    <tr>\n",
       "      <th>0</th>\n",
       "      <td>1</td>\n",
       "      <td>37</td>\n",
       "      <td>72</td>\n",
       "      <td>6.0</td>\n",
       "      <td>16</td>\n",
       "      <td>1</td>\n",
       "      <td>56673</td>\n",
       "      <td>133</td>\n",
       "      <td>10</td>\n",
       "      <td>3</td>\n",
       "      <td>...</td>\n",
       "      <td>2.25</td>\n",
       "      <td>NaN</td>\n",
       "      <td>0</td>\n",
       "      <td>2.0</td>\n",
       "      <td>0</td>\n",
       "      <td>NaN</td>\n",
       "      <td>NaN</td>\n",
       "      <td>NaN</td>\n",
       "      <td>2</td>\n",
       "      <td>Comparable</td>\n",
       "    </tr>\n",
       "    <tr>\n",
       "      <th>1</th>\n",
       "      <td>1</td>\n",
       "      <td>37</td>\n",
       "      <td>72</td>\n",
       "      <td>6.0</td>\n",
       "      <td>16</td>\n",
       "      <td>1</td>\n",
       "      <td>56674</td>\n",
       "      <td>134</td>\n",
       "      <td>10</td>\n",
       "      <td>3</td>\n",
       "      <td>...</td>\n",
       "      <td>2.25</td>\n",
       "      <td>NaN</td>\n",
       "      <td>0</td>\n",
       "      <td>2.0</td>\n",
       "      <td>0</td>\n",
       "      <td>NaN</td>\n",
       "      <td>NaN</td>\n",
       "      <td>NaN</td>\n",
       "      <td>2</td>\n",
       "      <td>Comparable</td>\n",
       "    </tr>\n",
       "    <tr>\n",
       "      <th>2</th>\n",
       "      <td>1</td>\n",
       "      <td>37</td>\n",
       "      <td>72</td>\n",
       "      <td>6.0</td>\n",
       "      <td>16</td>\n",
       "      <td>1</td>\n",
       "      <td>56675</td>\n",
       "      <td>135</td>\n",
       "      <td>10</td>\n",
       "      <td>3</td>\n",
       "      <td>...</td>\n",
       "      <td>2.25</td>\n",
       "      <td>NaN</td>\n",
       "      <td>0</td>\n",
       "      <td>2.0</td>\n",
       "      <td>0</td>\n",
       "      <td>NaN</td>\n",
       "      <td>NaN</td>\n",
       "      <td>NaN</td>\n",
       "      <td>2</td>\n",
       "      <td>Comparable</td>\n",
       "    </tr>\n",
       "    <tr>\n",
       "      <th>3</th>\n",
       "      <td>1</td>\n",
       "      <td>37</td>\n",
       "      <td>72</td>\n",
       "      <td>6.0</td>\n",
       "      <td>16</td>\n",
       "      <td>1</td>\n",
       "      <td>56676</td>\n",
       "      <td>136</td>\n",
       "      <td>10</td>\n",
       "      <td>3</td>\n",
       "      <td>...</td>\n",
       "      <td>2.25</td>\n",
       "      <td>NaN</td>\n",
       "      <td>0</td>\n",
       "      <td>2.0</td>\n",
       "      <td>0</td>\n",
       "      <td>NaN</td>\n",
       "      <td>NaN</td>\n",
       "      <td>NaN</td>\n",
       "      <td>2</td>\n",
       "      <td>Comparable</td>\n",
       "    </tr>\n",
       "    <tr>\n",
       "      <th>4</th>\n",
       "      <td>1</td>\n",
       "      <td>37</td>\n",
       "      <td>72</td>\n",
       "      <td>6.0</td>\n",
       "      <td>16</td>\n",
       "      <td>1</td>\n",
       "      <td>56677</td>\n",
       "      <td>137</td>\n",
       "      <td>10</td>\n",
       "      <td>3</td>\n",
       "      <td>...</td>\n",
       "      <td>2.25</td>\n",
       "      <td>NaN</td>\n",
       "      <td>0</td>\n",
       "      <td>2.0</td>\n",
       "      <td>0</td>\n",
       "      <td>NaN</td>\n",
       "      <td>NaN</td>\n",
       "      <td>NaN</td>\n",
       "      <td>2</td>\n",
       "      <td>Comparable</td>\n",
       "    </tr>\n",
       "  </tbody>\n",
       "</table>\n",
       "<p>5 rows × 62 columns</p>\n",
       "</div>"
      ],
      "text/plain": [
       "   box  animal  session  session_type  training_level  block  trial  \\\n",
       "0    1      37       72           6.0              16      1  56673   \n",
       "1    1      37       72           6.0              16      1  56674   \n",
       "2    1      37       72           6.0              16      1  56675   \n",
       "3    1      37       72           6.0              16      1  56676   \n",
       "4    1      37       72           6.0              16      1  56677   \n",
       "\n",
       "   trials_per_block  ABL  min_ITI  ...  absILD  FixTime  FixAbort  outcome  \\\n",
       "0               133   10        3  ...    2.25      NaN         0      2.0   \n",
       "1               134   10        3  ...    2.25      NaN         0      2.0   \n",
       "2               135   10        3  ...    2.25      NaN         0      2.0   \n",
       "3               136   10        3  ...    2.25      NaN         0      2.0   \n",
       "4               137   10        3  ...    2.25      NaN         0      2.0   \n",
       "\n",
       "   Out   R  RTwrtStim  LED_onset_time  batch  batch_name  \n",
       "0    0 NaN        NaN             NaN      2  Comparable  \n",
       "1    0 NaN        NaN             NaN      2  Comparable  \n",
       "2    0 NaN        NaN             NaN      2  Comparable  \n",
       "3    0 NaN        NaN             NaN      2  Comparable  \n",
       "4    0 NaN        NaN             NaN      2  Comparable  \n",
       "\n",
       "[5 rows x 62 columns]"
      ]
     },
     "execution_count": 4,
     "metadata": {},
     "output_type": "execute_result"
    }
   ],
   "source": [
    "q.head()"
   ]
  },
  {
   "cell_type": "code",
   "execution_count": 14,
   "id": "210a3e45",
   "metadata": {},
   "outputs": [
    {
     "data": {
      "text/plain": [
       "array([-1,  2,  1])"
      ]
     },
     "execution_count": 14,
     "metadata": {},
     "output_type": "execute_result"
    }
   ],
   "source": [
    "jose['outcome.value'].unique()"
   ]
  },
  {
   "cell_type": "code",
   "execution_count": 5,
   "id": "37b01ff7",
   "metadata": {},
   "outputs": [
    {
     "data": {
      "text/plain": [
       "62"
      ]
     },
     "execution_count": 5,
     "metadata": {},
     "output_type": "execute_result"
    }
   ],
   "source": [
    "len(q.columns)"
   ]
  },
  {
   "cell_type": "code",
   "execution_count": 6,
   "id": "6804ad20",
   "metadata": {},
   "outputs": [],
   "source": [
    "jose = pd.read_csv('/home/rlab/raghavendra/ddm_data/out_250226.csv')"
   ]
  },
  {
   "cell_type": "code",
   "execution_count": 7,
   "id": "676314a5",
   "metadata": {},
   "outputs": [
    {
     "data": {
      "text/html": [
       "<div>\n",
       "<style scoped>\n",
       "    .dataframe tbody tr th:only-of-type {\n",
       "        vertical-align: middle;\n",
       "    }\n",
       "\n",
       "    .dataframe tbody tr th {\n",
       "        vertical-align: top;\n",
       "    }\n",
       "\n",
       "    .dataframe thead th {\n",
       "        text-align: right;\n",
       "    }\n",
       "</style>\n",
       "<table border=\"1\" class=\"dataframe\">\n",
       "  <thead>\n",
       "    <tr style=\"text-align: right;\">\n",
       "      <th></th>\n",
       "      <th>animal_id</th>\n",
       "      <th>repeated_trial</th>\n",
       "      <th>trial.number</th>\n",
       "      <th>trial.start_time</th>\n",
       "      <th>trial.end_time</th>\n",
       "      <th>trial.duration</th>\n",
       "      <th>block.number</th>\n",
       "      <th>block.training_level</th>\n",
       "      <th>block.trials_per_block</th>\n",
       "      <th>session.number</th>\n",
       "      <th>...</th>\n",
       "      <th>lnp_time.intended_duration</th>\n",
       "      <th>lnp_time.timed_duration</th>\n",
       "      <th>outcome.response_poke</th>\n",
       "      <th>outcome.value</th>\n",
       "      <th>outcome.block_performance</th>\n",
       "      <th>outcome.block_abort_ratio</th>\n",
       "      <th>optogenetics.opto_trial</th>\n",
       "      <th>optogenetics.duration</th>\n",
       "      <th>optogenetics.left_power</th>\n",
       "      <th>optogenetics.right_power</th>\n",
       "    </tr>\n",
       "  </thead>\n",
       "  <tbody>\n",
       "    <tr>\n",
       "      <th>0</th>\n",
       "      <td>1</td>\n",
       "      <td>True</td>\n",
       "      <td>3</td>\n",
       "      <td>165728.194976</td>\n",
       "      <td>165909.250976</td>\n",
       "      <td>181.056000</td>\n",
       "      <td>1</td>\n",
       "      <td>1</td>\n",
       "      <td>200</td>\n",
       "      <td>1</td>\n",
       "      <td>...</td>\n",
       "      <td>0.01</td>\n",
       "      <td>0.000000</td>\n",
       "      <td>0</td>\n",
       "      <td>-1</td>\n",
       "      <td>NaN</td>\n",
       "      <td>1.000000</td>\n",
       "      <td>False</td>\n",
       "      <td>0.0</td>\n",
       "      <td>0.0</td>\n",
       "      <td>0.0</td>\n",
       "    </tr>\n",
       "    <tr>\n",
       "      <th>1</th>\n",
       "      <td>1</td>\n",
       "      <td>False</td>\n",
       "      <td>4</td>\n",
       "      <td>165910.280000</td>\n",
       "      <td>166159.192992</td>\n",
       "      <td>248.912992</td>\n",
       "      <td>1</td>\n",
       "      <td>1</td>\n",
       "      <td>200</td>\n",
       "      <td>1</td>\n",
       "      <td>...</td>\n",
       "      <td>0.01</td>\n",
       "      <td>0.049056</td>\n",
       "      <td>1</td>\n",
       "      <td>2</td>\n",
       "      <td>1.0</td>\n",
       "      <td>0.500000</td>\n",
       "      <td>False</td>\n",
       "      <td>0.0</td>\n",
       "      <td>0.0</td>\n",
       "      <td>0.0</td>\n",
       "    </tr>\n",
       "    <tr>\n",
       "      <th>2</th>\n",
       "      <td>1</td>\n",
       "      <td>True</td>\n",
       "      <td>5</td>\n",
       "      <td>166160.222976</td>\n",
       "      <td>166341.221984</td>\n",
       "      <td>180.999008</td>\n",
       "      <td>1</td>\n",
       "      <td>1</td>\n",
       "      <td>200</td>\n",
       "      <td>1</td>\n",
       "      <td>...</td>\n",
       "      <td>0.01</td>\n",
       "      <td>0.000000</td>\n",
       "      <td>0</td>\n",
       "      <td>-1</td>\n",
       "      <td>1.0</td>\n",
       "      <td>0.666667</td>\n",
       "      <td>False</td>\n",
       "      <td>0.0</td>\n",
       "      <td>0.0</td>\n",
       "      <td>0.0</td>\n",
       "    </tr>\n",
       "    <tr>\n",
       "      <th>3</th>\n",
       "      <td>1</td>\n",
       "      <td>True</td>\n",
       "      <td>6</td>\n",
       "      <td>166342.240000</td>\n",
       "      <td>166503.852992</td>\n",
       "      <td>161.612992</td>\n",
       "      <td>1</td>\n",
       "      <td>1</td>\n",
       "      <td>200</td>\n",
       "      <td>1</td>\n",
       "      <td>...</td>\n",
       "      <td>0.01</td>\n",
       "      <td>0.019456</td>\n",
       "      <td>-1</td>\n",
       "      <td>1</td>\n",
       "      <td>0.5</td>\n",
       "      <td>0.500000</td>\n",
       "      <td>False</td>\n",
       "      <td>0.0</td>\n",
       "      <td>0.0</td>\n",
       "      <td>0.0</td>\n",
       "    </tr>\n",
       "    <tr>\n",
       "      <th>4</th>\n",
       "      <td>1</td>\n",
       "      <td>True</td>\n",
       "      <td>7</td>\n",
       "      <td>166504.869984</td>\n",
       "      <td>166685.884992</td>\n",
       "      <td>181.015008</td>\n",
       "      <td>1</td>\n",
       "      <td>1</td>\n",
       "      <td>200</td>\n",
       "      <td>1</td>\n",
       "      <td>...</td>\n",
       "      <td>0.01</td>\n",
       "      <td>0.000000</td>\n",
       "      <td>0</td>\n",
       "      <td>-1</td>\n",
       "      <td>0.5</td>\n",
       "      <td>0.600000</td>\n",
       "      <td>False</td>\n",
       "      <td>0.0</td>\n",
       "      <td>0.0</td>\n",
       "      <td>0.0</td>\n",
       "    </tr>\n",
       "  </tbody>\n",
       "</table>\n",
       "<p>5 rows × 46 columns</p>\n",
       "</div>"
      ],
      "text/plain": [
       "   animal_id  repeated_trial  trial.number  trial.start_time  trial.end_time  \\\n",
       "0          1            True             3     165728.194976   165909.250976   \n",
       "1          1           False             4     165910.280000   166159.192992   \n",
       "2          1            True             5     166160.222976   166341.221984   \n",
       "3          1            True             6     166342.240000   166503.852992   \n",
       "4          1            True             7     166504.869984   166685.884992   \n",
       "\n",
       "   trial.duration  block.number  block.training_level  block.trials_per_block  \\\n",
       "0      181.056000             1                     1                     200   \n",
       "1      248.912992             1                     1                     200   \n",
       "2      180.999008             1                     1                     200   \n",
       "3      161.612992             1                     1                     200   \n",
       "4      181.015008             1                     1                     200   \n",
       "\n",
       "   session.number  ...  lnp_time.intended_duration  lnp_time.timed_duration  \\\n",
       "0               1  ...                        0.01                 0.000000   \n",
       "1               1  ...                        0.01                 0.049056   \n",
       "2               1  ...                        0.01                 0.000000   \n",
       "3               1  ...                        0.01                 0.019456   \n",
       "4               1  ...                        0.01                 0.000000   \n",
       "\n",
       "   outcome.response_poke  outcome.value  outcome.block_performance  \\\n",
       "0                      0             -1                        NaN   \n",
       "1                      1              2                        1.0   \n",
       "2                      0             -1                        1.0   \n",
       "3                     -1              1                        0.5   \n",
       "4                      0             -1                        0.5   \n",
       "\n",
       "   outcome.block_abort_ratio  optogenetics.opto_trial  optogenetics.duration  \\\n",
       "0                   1.000000                    False                    0.0   \n",
       "1                   0.500000                    False                    0.0   \n",
       "2                   0.666667                    False                    0.0   \n",
       "3                   0.500000                    False                    0.0   \n",
       "4                   0.600000                    False                    0.0   \n",
       "\n",
       "   optogenetics.left_power  optogenetics.right_power  \n",
       "0                      0.0                       0.0  \n",
       "1                      0.0                       0.0  \n",
       "2                      0.0                       0.0  \n",
       "3                      0.0                       0.0  \n",
       "4                      0.0                       0.0  \n",
       "\n",
       "[5 rows x 46 columns]"
      ]
     },
     "execution_count": 7,
     "metadata": {},
     "output_type": "execute_result"
    }
   ],
   "source": [
    "jose.head()"
   ]
  },
  {
   "cell_type": "code",
   "execution_count": 13,
   "id": "4c3d60d2",
   "metadata": {},
   "outputs": [
    {
     "data": {
      "text/plain": [
       "0         737083.602684\n",
       "1         737083.602847\n",
       "2         737083.603009\n",
       "3         737083.603171\n",
       "4         737083.603333\n",
       "              ...      \n",
       "792599    739240.486766\n",
       "792600    739240.487151\n",
       "792601    739240.487536\n",
       "792602    739240.487923\n",
       "792603    739240.488308\n",
       "Name: trial_start, Length: 792604, dtype: float64"
      ]
     },
     "execution_count": 13,
     "metadata": {},
     "output_type": "execute_result"
    }
   ],
   "source": [
    "q['trial_start']"
   ]
  }
 ],
 "metadata": {
  "kernelspec": {
   "display_name": ".venv",
   "language": "python",
   "name": "python3"
  },
  "language_info": {
   "codemirror_mode": {
    "name": "ipython",
    "version": 3
   },
   "file_extension": ".py",
   "mimetype": "text/x-python",
   "name": "python",
   "nbconvert_exporter": "python",
   "pygments_lexer": "ipython3",
   "version": "3.12.3"
  }
 },
 "nbformat": 4,
 "nbformat_minor": 5
}
