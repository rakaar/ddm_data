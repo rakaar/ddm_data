{
 "cells": [
  {
   "cell_type": "code",
   "execution_count": 1,
   "metadata": {},
   "outputs": [],
   "source": [
    "import numpy as np\n",
    "import pandas as pd\n",
    "from matplotlib.backends.backend_pdf import PdfPages\n",
    "\n",
    "import matplotlib.pyplot as plt"
   ]
  },
  {
   "cell_type": "code",
   "execution_count": 2,
   "metadata": {},
   "outputs": [],
   "source": [
    "exp_df = pd.read_csv('../outExp.csv')"
   ]
  },
  {
   "cell_type": "code",
   "execution_count": 3,
   "metadata": {},
   "outputs": [
    {
     "name": "stdout",
     "output_type": "stream",
     "text": [
      "118869\n"
     ]
    }
   ],
   "source": [
    "exp_df_batch = exp_df[\n",
    "    (exp_df['batch_name'] == 'Comparable') &\n",
    "    (exp_df['LED_trial'].isin([np.nan, 0]))\n",
    "]\n",
    "print(len(exp_df_batch))"
   ]
  },
  {
   "cell_type": "code",
   "execution_count": 4,
   "metadata": {},
   "outputs": [
    {
     "name": "stdout",
     "output_type": "stream",
     "text": [
      "90298 valid and abort events\n"
     ]
    }
   ],
   "source": [
    "df_valid_and_aborts = exp_df_batch[\n",
    "    (exp_df_batch['success'].isin([1,-1])) |\n",
    "    (exp_df_batch['abort_event'] == 3)\n",
    "]\n",
    "print(f'{len(df_valid_and_aborts)} valid and abort events')"
   ]
  },
  {
   "cell_type": "code",
   "execution_count": 5,
   "metadata": {},
   "outputs": [],
   "source": [
    "import matplotlib.pyplot as plt\n",
    "import numpy as np\n",
    "from matplotlib.backends.backend_pdf import PdfPages\n",
    "\n",
    "# Filter to aborts only\n",
    "aborts = df_valid_and_aborts[df_valid_and_aborts['abort_event'] == 3]\n",
    "\n",
    "animals = aborts['animal'].unique()\n",
    "sessions = aborts['session'].unique()\n",
    "\n",
    "with PdfPages('aborts_trial_distributions.pdf') as pdf:\n",
    "    for animal in animals:\n",
    "        animal_aborts = aborts[aborts['animal'] == animal]\n",
    "        for session in animal_aborts['session'].unique():\n",
    "            session_aborts = animal_aborts[animal_aborts['session'] == session]\n",
    "            trials_lt = session_aborts[session_aborts['TotalFixTime'] < 0.3]['trial']\n",
    "            trials_gt = session_aborts[session_aborts['TotalFixTime'] > 0.3]['trial']\n",
    "\n",
    "            # Determine bin range for this plot\n",
    "            all_trials = pd.concat([trials_lt, trials_gt])\n",
    "            if all_trials.empty:\n",
    "                continue\n",
    "            min_trial = all_trials.min()\n",
    "            max_trial = all_trials.max()\n",
    "            bins = np.arange(min_trial, max_trial + 2)  # +2 so last trial is included\n",
    "\n",
    "            plt.figure(figsize=(8, 5))\n",
    "            plt.hist(trials_lt, bins=bins, alpha=0.7, label='TotalFixTime < 0.3')\n",
    "            plt.hist(trials_gt, bins=bins, alpha=0.7, label='TotalFixTime > 0.3')\n",
    "            plt.title(f'Animal {animal}, Session {session}: Trial Number Distribution (Aborts)')\n",
    "            plt.xlabel('Trial Number')\n",
    "            plt.ylabel('Count')\n",
    "            plt.legend()\n",
    "            plt.tight_layout()\n",
    "            pdf.savefig()  # saves the current figure into the pdf\n",
    "            plt.close()"
   ]
  },
  {
   "cell_type": "code",
   "execution_count": 8,
   "metadata": {},
   "outputs": [
    {
     "data": {
      "text/plain": [
       "Text(0.5, 1.0, 'aborts')"
      ]
     },
     "execution_count": 8,
     "metadata": {},
     "output_type": "execute_result"
    },
    {
     "data": {
      "image/png": "[encoded data removed]",
      "text/plain": [
       "<Figure size 1000x500 with 2 Axes>"
      ]
     },
     "metadata": {},
     "output_type": "display_data"
    }
   ],
   "source": [
    "# plot RTD\n",
    "plt.figure(figsize=(10,5))\n",
    "\n",
    "plt.subplot(1,2,1)\n",
    "bins = np.arange(-1,2,0.02)\n",
    "plt.hist(df_valid_and_aborts['RTwrtStim'], density=True, bins=bins, histtype='step');\n",
    "plt.title('all RT')\n",
    "\n",
    "plt.subplot(1,2,2)\n",
    "df_aborts = df_valid_and_aborts[df_valid_and_aborts['abort_event'] == 3]\n",
    "bins = np.arange(0,2,0.02)\n",
    "# plt.hist(df_aborts['RTwrtStim'] + df_aborts['intended_fix'], density=True, bins=bins, histtype='step');\n",
    "plt.hist(df_aborts['TotalFixTime'], density=True, bins=bins, histtype='step');\n",
    "\n",
    "plt.axvline(0.3)\n",
    "plt.title('aborts')\n",
    "\n"
   ]
  },
  {
   "cell_type": "code",
   "execution_count": 13,
   "metadata": {},
   "outputs": [
    {
     "name": "stdout",
     "output_type": "stream",
     "text": [
      "Saved all raster plots to /home/rlab/raghavendra/ddm_data/pdfs/animal_abort_rasters.pdf\n"
     ]
    }
   ],
   "source": [
    "import matplotlib.pyplot as plt\n",
    "import os\n",
    "from matplotlib.backends.backend_pdf import PdfPages\n",
    "\n",
    "# Ensure the pdfs directory exists (one level up from current directory)\n",
    "pdf_dir = os.path.abspath(os.path.join(os.getcwd(), '..', 'pdfs'))\n",
    "os.makedirs(pdf_dir, exist_ok=True)\n",
    "pdf_path = os.path.join(pdf_dir, 'animal_abort_rasters.pdf')\n",
    "\n",
    "# Filter to aborts only\n",
    "aborts = df_valid_and_aborts[df_valid_and_aborts['abort_event'] == 3]\n",
    "\n",
    "with PdfPages(pdf_path) as pdf:\n",
    "    for animal in aborts['animal'].unique():\n",
    "        animal_aborts = aborts[aborts['animal'] == animal]\n",
    "        # Sort sessions in ascending order\n",
    "        sessions = sorted(animal_aborts['session'].unique())\n",
    "        n_sessions = len(sessions)\n",
    "        plt.figure(figsize=(5, max(1.5, n_sessions*0.25)))  # further reduced size\n",
    "        for i, session in enumerate(sessions):\n",
    "            session_aborts = animal_aborts[animal_aborts['session'] == session]\n",
    "            trials = session_aborts['trial'].values\n",
    "            total_fix = session_aborts['TotalFixTime'].values\n",
    "            # Normalize trial numbers within this session\n",
    "            if len(trials) == 0:\n",
    "                continue\n",
    "            min_trial = trials.min()\n",
    "            max_trial = trials.max()\n",
    "            if max_trial == min_trial:\n",
    "                norm_trials = [0.5]*len(trials)\n",
    "            else:\n",
    "                norm_trials = (trials - min_trial) / (max_trial - min_trial)\n",
    "            for x, tf in zip(norm_trials, total_fix):\n",
    "                color = 'red' if tf < 0.3 else 'green'\n",
    "                plt.scatter(x, i, color=color, s=10)  # smaller marker and less vertical space\n",
    "        plt.yticks(range(n_sessions), [f\"Session {s}\" for s in sessions])\n",
    "        plt.gca().invert_yaxis()  # so session 0 is at the top\n",
    "        plt.xlabel('Normalized Trial Number')\n",
    "        plt.ylabel('Session')\n",
    "        plt.title(f'Aborts RT: {animal},R:<0.3')\n",
    "        plt.tight_layout()\n",
    "        pdf.savefig()\n",
    "        plt.close()\n",
    "\n",
    "print(f\"Saved all raster plots to {pdf_path}\")"
   ]
  },
  {
   "cell_type": "code",
   "execution_count": 18,
   "metadata": {},
   "outputs": [
    {
     "name": "stdout",
     "output_type": "stream",
     "text": [
      "Saved raster plots for all animals to /home/rlab/raghavendra/ddm_data/pdfs/all_trials_raster_all_animals.pdf\n"
     ]
    }
   ],
   "source": [
    "import matplotlib.pyplot as plt\n",
    "import os\n",
    "from matplotlib.backends.backend_pdf import PdfPages\n",
    "\n",
    "# Ensure the pdfs directory exists (one level up from current directory)\n",
    "pdf_dir = os.path.abspath(os.path.join(os.getcwd(), '..', 'pdfs'))\n",
    "os.makedirs(pdf_dir, exist_ok=True)\n",
    "pdf_path = os.path.join(pdf_dir, 'all_trials_raster_all_animals.pdf')\n",
    "\n",
    "with PdfPages(pdf_path) as pdf:\n",
    "    for animal in df_valid_and_aborts['animal'].unique():\n",
    "        animal_df = df_valid_and_aborts[df_valid_and_aborts['animal'] == animal]\n",
    "        sessions = sorted(animal_df['session'].unique())\n",
    "        n_sessions = len(sessions)\n",
    "        plt.figure(figsize=(12, max(2, n_sessions*0.18)))  # even closer rows\n",
    "        for i, session in enumerate(sessions):\n",
    "            session_df = animal_df[animal_df['session'] == session]\n",
    "            trials = session_df['trial'].values\n",
    "            total_fix = session_df['TotalFixTime'].values\n",
    "            abort_event = session_df['abort_event'].values\n",
    "            rtwrtstim = session_df['RTwrtStim'].values\n",
    "            # Normalize trial numbers within this session\n",
    "            if len(trials) == 0:\n",
    "                continue\n",
    "            min_trial = trials.min()\n",
    "            max_trial = trials.max()\n",
    "            if max_trial == min_trial:\n",
    "                norm_trials = [0.5]*len(trials)\n",
    "            else:\n",
    "                norm_trials = (trials - min_trial) / (max_trial - min_trial)\n",
    "            for x, tf, ab, rt in zip(norm_trials, total_fix, abort_event, rtwrtstim):\n",
    "                if ab == 3 and tf < 0.3:\n",
    "                    color = 'red'\n",
    "                    size = 8  # 2x bigger than green\n",
    "                elif rt > 1:\n",
    "                    color = 'blue'\n",
    "                    size = 8  # 2x bigger than green\n",
    "                else:\n",
    "                    color = 'green'\n",
    "                    size = 4\n",
    "                plt.scatter(x, i, color=color, s=size)\n",
    "        plt.yticks(range(n_sessions), [f\"Session {s}\" for s in sessions])\n",
    "        plt.gca().invert_yaxis()\n",
    "        plt.xlabel('Normalized Trial Number')\n",
    "        plt.ylabel('Session')\n",
    "        plt.title(f'All Trials Raster: {animal}\\nRed: abort_event==3 & Fix<0.3, Blue: RTwrtStim>1, Green: other')\n",
    "        plt.tight_layout()\n",
    "        pdf.savefig()\n",
    "        plt.close()\n",
    "\n",
    "print(f\"Saved raster plots for all animals to {pdf_path}\")\n"
   ]
  },
  {
   "cell_type": "code",
   "execution_count": null,
   "metadata": {},
   "outputs": [],
   "source": []
  },
  {
   "cell_type": "code",
   "execution_count": null,
   "metadata": {},
   "outputs": [],
   "source": [
    "num_nan = df_valid_and_aborts[df_valid_and_aborts['abort_event'] == 3]['RTwrtStim'].isna().sum()\n",
    "print(\"Number of NaN in RTwrtStim where abort_event == 3:\", num_nan)"
   ]
  },
  {
   "cell_type": "code",
   "execution_count": null,
   "metadata": {},
   "outputs": [],
   "source": [
    "len(df_valid_and_aborts), len(df_valid_and_aborts[df_valid_and_aborts['success'].isin([1,-1])])"
   ]
  },
  {
   "cell_type": "code",
   "execution_count": null,
   "metadata": {},
   "outputs": [],
   "source": [
    "num_nan = exp_df[exp_df['abort_event'] == 3]['RTwrtStim'].isna().sum()\n",
    "print(\"Number of NaN in RTwrtStim where abort_event == 3:\", num_nan)"
   ]
  },
  {
   "cell_type": "code",
   "execution_count": null,
   "metadata": {},
   "outputs": [],
   "source": [
    "exp_df.columns"
   ]
  },
  {
   "cell_type": "code",
   "execution_count": null,
   "metadata": {},
   "outputs": [],
   "source": [
    "aborts_df = df_valid_and_aborts[df_valid_and_aborts['abort_event'] == 3]"
   ]
  },
  {
   "cell_type": "code",
   "execution_count": null,
   "metadata": {},
   "outputs": [],
   "source": [
    "aborts_df_valid_rt = aborts_df[aborts_df['RTwrtStim'].notna()]"
   ]
  },
  {
   "cell_type": "code",
   "execution_count": null,
   "metadata": {},
   "outputs": [],
   "source": [
    "aborts_df_nan_rt = aborts_df[aborts_df['RTwrtStim'].isna()]"
   ]
  },
  {
   "cell_type": "code",
   "execution_count": null,
   "metadata": {},
   "outputs": [],
   "source": [
    "key_cols = ['box', 'animal', 'session', 'session_type', 'training_level']\n",
    "\n",
    "for idx, row in aborts_df_nan_rt.iterrows():\n",
    "    # Find matching rows in aborts_df_valid_rt\n",
    "    mask = (aborts_df_valid_rt[key_cols] == row[key_cols]).all(axis=1)\n",
    "    matching = aborts_df_valid_rt[mask]\n",
    "    if not matching.empty:\n",
    "        for match_idx, match_row in matching.iterrows():\n",
    "            diffs = []\n",
    "            for col in aborts_df_nan_rt.columns:\n",
    "                val1 = row[col]\n",
    "                val2 = match_row[col]\n",
    "                if not (pd.isna(val1) and pd.isna(val2)) and val1 != val2:\n",
    "                    diffs.append((col, val1, val2))\n",
    "            print(f\"\\nRow in aborts_df_nan_rt (index {idx}) matches row in aborts_df_valid_rt (index {match_idx}) on {key_cols}\")\n",
    "            if diffs:\n",
    "                print(\"  Columns with different values:\")\n",
    "                for col, v1, v2 in diffs:\n",
    "                    print(f\"    {col}: nan_rt={v1}, valid_rt={v2}\")\n",
    "            else:\n",
    "                print(\"  All other columns are identical.\")\n",
    "    else:\n",
    "        print(f\"\\nNo match found in aborts_df_valid_rt for row in aborts_df_nan_rt (index {idx}) with {key_cols} values: {row[key_cols].to_dict()}\")"
   ]
  },
  {
   "cell_type": "code",
   "execution_count": null,
   "metadata": {},
   "outputs": [],
   "source": []
  },
  {
   "cell_type": "code",
   "execution_count": null,
   "metadata": {},
   "outputs": [],
   "source": [
    "aborts_df_nan_rt['trial']"
   ]
  },
  {
   "cell_type": "code",
   "execution_count": null,
   "metadata": {},
   "outputs": [],
   "source": [
    " "
   ]
  },
  {
   "cell_type": "code",
   "execution_count": null,
   "metadata": {},
   "outputs": [],
   "source": [
    "for batch in exp_df['batch_name'].unique():\n",
    "    batch_df = exp_df[exp_df['batch_name'] == batch]\n",
    "    for session_type in batch_df['session_type'].dropna().unique():\n",
    "        session_type_df = batch_df[batch_df['session_type'] == session_type]\n",
    "        for session in session_type_df['session'].unique():\n",
    "            session_df = session_type_df[session_type_df['session'] == session]\n",
    "            # abort = 3 and RT nan\n",
    "            mask = (session_df['abort_event'] == 3) & (session_df['RTwrtStim'].isna())\n",
    "            if mask.any():\n",
    "                trial_nums = session_df[mask]['trial'].values\n",
    "                trial_range = (session_df['trial'].min(), session_df['trial'].max())\n",
    "                print(f\"batch_name: {batch}, session_type: {session_type}, session: {session}\")\n",
    "                print(f\"  Trials with abort_event==3 and RTwrtStim NaN: {trial_nums}\")\n",
    "                print(f\"  Trial number range for session: {trial_range}\")\n",
    "                print('-----')\n"
   ]
  },
  {
   "cell_type": "code",
   "execution_count": 6,
   "metadata": {},
   "outputs": [
    {
     "name": "stdout",
     "output_type": "stream",
     "text": [
      "batch_name: Comparable, session_type: 6.0, session: 73\n",
      "  Trials with abort_event==3 and RTwrtStim NaN: [58188]\n",
      "    trial: 58188, block: 1\n",
      "    trial+1: 58189, block: 1\n",
      "batch_name: Comparable, session_type: 6.0, session: 86\n",
      "  Trials with abort_event==3 and RTwrtStim NaN: [68453]\n",
      "    trial: 68453, block: 4\n",
      "    trial+1: 68454, block: 3\n",
      "batch_name: SD, session_type: 1.0, session: 12\n",
      "  Trials with abort_event==3 and RTwrtStim NaN: [8654 8618]\n",
      "    trial: 8654, block: 7\n",
      "    trial+1: 8655, block: 1\n",
      "    trial: 8618, block: 7\n",
      "    trial+1: 8619, block: 1\n",
      "batch_name: LED1, session_type: 1.0, session: 45\n",
      "  Trials with abort_event==3 and RTwrtStim NaN: [21869]\n",
      "    trial: 21869, block: 2\n",
      "    trial+1: 21870, block: 3\n",
      "batch_name: LED1, session_type: 1.0, session: 64\n",
      "  Trials with abort_event==3 and RTwrtStim NaN: [26660]\n",
      "    trial: 26660, block: 1\n",
      "    trial+1: 26661, block: 2\n",
      "batch_name: LED1, session_type: 1.0, session: 73\n",
      "  Trials with abort_event==3 and RTwrtStim NaN: [34492]\n",
      "    trial: 34492, block: 4\n",
      "    trial+1: 34493, block: 4\n",
      "batch_name: LED2, session_type: 1.0, session: 36\n",
      "  Trials with abort_event==3 and RTwrtStim NaN: [21055]\n",
      "    trial: 21055, block: 3\n",
      "    trial+1: 21056, block: 4\n",
      "batch_name: LED2, session_type: 1.0, session: 40\n",
      "  Trials with abort_event==3 and RTwrtStim NaN: [19406]\n",
      "    trial: 19406, block: 1\n",
      "    trial+1: 19407, block: 3\n",
      "batch_name: LED2, session_type: 2.0, session: 49\n",
      "  Trials with abort_event==3 and RTwrtStim NaN: [23784]\n",
      "    trial: 23784, block: 6\n",
      "    trial+1: 23785, block: 1\n",
      "batch_name: LED2, session_type: 2.0, session: 62\n",
      "  Trials with abort_event==3 and RTwrtStim NaN: [26474]\n",
      "    trial: 26474, block: 7\n",
      "    trial+1: 26475, block: 1\n",
      "batch_name: LED34, session_type: 1.0, session: 29\n",
      "  Trials with abort_event==3 and RTwrtStim NaN: [26678]\n",
      "    trial: 26678, block: 9\n",
      "    trial+1: 26679, block: 1\n",
      "batch_name: LED34, session_type: 2.0, session: 40\n",
      "  Trials with abort_event==3 and RTwrtStim NaN: [32044]\n",
      "    trial: 32044, block: 1\n",
      "    trial+1: 32045, block: 2\n",
      "batch_name: LED34, session_type: 5.0, session: 72\n",
      "  Trials with abort_event==3 and RTwrtStim NaN: [35464]\n",
      "    trial: 35464, block: 4\n",
      "    trial+1: 35465, block: 5\n",
      "batch_name: LED6, session_type: 1.0, session: 30\n",
      "  Trials with abort_event==3 and RTwrtStim NaN: [15820]\n",
      "    trial: 15820, block: 2\n",
      "    trial+1: 15821, block: 4\n",
      "batch_name: LED6, session_type: 2.0, session: 69\n",
      "  Trials with abort_event==3 and RTwrtStim NaN: [34120]\n",
      "    trial: 34120, block: 2\n",
      "    trial+1: 34121, block: 1\n"
     ]
    }
   ],
   "source": [
    "for batch in exp_df['batch_name'].unique():\n",
    "    batch_df = exp_df[exp_df['batch_name'] == batch]\n",
    "    for session_type in batch_df['session_type'].dropna().unique():\n",
    "        session_type_df = batch_df[batch_df['session_type'] == session_type]\n",
    "        for session in session_type_df['session'].unique():\n",
    "            session_df = session_type_df[session_type_df['session'] == session]\n",
    "            # abort = 3 and RT nan\n",
    "            mask = (session_df['abort_event'] == 3) & (session_df['RTwrtStim'].isna())\n",
    "            if mask.any():\n",
    "                trial_nums = session_df[mask]['trial'].values\n",
    "                print(f\"batch_name: {batch}, session_type: {session_type}, session: {session}\")\n",
    "                print(f\"  Trials with abort_event==3 and RTwrtStim NaN: {trial_nums}\")\n",
    "                # For each trial, print its block and the block of trial+1\n",
    "                for trial in trial_nums:\n",
    "                    block = session_df[session_df['trial'] == trial]['block'].iloc[0]\n",
    "                    print(f\"    trial: {trial}, block: {block}\")\n",
    "                    # Find the block of trial+1 (if it exists)\n",
    "                    next_trial_row = exp_df[(exp_df['trial'] == trial + 1) & \n",
    "                                            (exp_df['batch_name'] == batch) & \n",
    "                                            (exp_df['session_type'] == session_type)]\n",
    "                    if not next_trial_row.empty:\n",
    "                        next_block = next_trial_row.iloc[0]['block']\n",
    "                        print(f\"    trial+1: {trial+1}, block: {next_block}\")\n",
    "                    else:\n",
    "                        print(f\"    trial+1: {trial+1} not found in this batch/session_type\")"
   ]
  },
  {
   "cell_type": "code",
   "execution_count": 7,
   "metadata": {},
   "outputs": [
    {
     "name": "stdout",
     "output_type": "stream",
     "text": [
      "batch_name: Comparable, session_type: 6.0, session: 73\n",
      "  Trials with abort_event==3 and RTwrtStim NaN: [58188]\n",
      "    trial: 58188, block: 1\n",
      "    trial+1: 58189, block: 1\n",
      "    Columns that differ between trial 58188 and trial 58189: ['session', 'trial', 'trials_per_block', 'ABL', 'reward_open_L', 'reward_open_R', 'trial_start', 'trial_end', 'trial_duration', 'ILD', 'ILD_index', 'abort_event', 'block_perf', 'block_ar', 'repeat_trial', 'timed_ITI', 'intended_fix', 'left_amp', 'right_amp', 'waveformR', 'waveformL', 'absILD', 'FixAbort', 'outcome']\n",
      "batch_name: Comparable, session_type: 6.0, session: 86\n",
      "  Trials with abort_event==3 and RTwrtStim NaN: [68453]\n",
      "    trial: 68453, block: 4\n",
      "    trial+1: 68454, block: 3\n",
      "    Columns that differ between trial 68453 and trial 68454: ['box', 'animal', 'session', 'block', 'trial', 'trials_per_block', 'reward_open_L', 'reward_open_R', 'trial_start', 'trial_end', 'trial_duration', 'ILD', 'ILD_index', 'success', 'abort_event', 'block_perf', 'block_ar', 'repeat_trial', 'timed_ITI', 'CNPTime', 'intended_fix', 'TotalFixTime', 'RT', 'MT', 'left_amp', 'right_amp', 'response_poke', 'Sign', 'Rsp', 'Rsp_R', 'correct', 'absILD', 'FixTime', 'FixAbort', 'outcome', 'Out', 'R', 'RTwrtStim']\n",
      "batch_name: SD, session_type: 1.0, session: 12\n",
      "  Trials with abort_event==3 and RTwrtStim NaN: [8654 8618]\n",
      "    trial: 8654, block: 7\n",
      "    trial+1: 8655, block: 1\n",
      "    Columns that differ between trial 8654 and trial 8655: ['box', 'animal', 'session', 'block', 'trial', 'trials_per_block', 'reward_open_L', 'reward_open_R', 'trial_start', 'trial_end', 'trial_duration', 'ILD', 'ILD_index', 'success', 'abort_event', 'block_perf', 'block_ar', 'repeat_trial', 'timed_ITI', 'CNPTime', 'intended_fix', 'TotalFixTime', 'RT', 'MT', 'LNPTime', 'left_amp', 'right_amp', 'Sign', 'absILD', 'FixTime', 'FixAbort', 'outcome', 'Out', 'RTwrtStim']\n",
      "    trial: 8618, block: 7\n",
      "    trial+1: 8619, block: 1\n",
      "    Columns that differ between trial 8618 and trial 8619: ['box', 'animal', 'session', 'block', 'trial', 'trials_per_block', 'reward_open_L', 'reward_open_R', 'trial_start', 'trial_end', 'trial_duration', 'ILD', 'ILD_index', 'block_perf', 'block_ar', 'CNPTime', 'intended_fix', 'TotalFixTime', 'RT', 'MT', 'LNPTime', 'left_amp', 'right_amp', 'Sign', 'FixTime', 'RTwrtStim']\n",
      "batch_name: LED1, session_type: 1.0, session: 45\n",
      "  Trials with abort_event==3 and RTwrtStim NaN: [21869]\n",
      "    trial: 21869, block: 2\n",
      "    trial+1: 21870, block: 3\n",
      "    Columns that differ between trial 21869 and trial 21870: ['box', 'animal', 'session', 'block', 'trial', 'trials_per_block', 'reward_open_L', 'reward_open_R', 'trial_start', 'trial_end', 'trial_duration', 'ILD', 'ILD_index', 'block_perf', 'block_ar', 'repeat_trial', 'timed_ITI', 'CNPTime', 'intended_fix', 'TotalFixTime', 'left_amp', 'right_amp', 'absILD', 'FixTime', 'RTwrtStim']\n",
      "batch_name: LED1, session_type: 1.0, session: 64\n",
      "  Trials with abort_event==3 and RTwrtStim NaN: [26660]\n",
      "    trial: 26660, block: 1\n",
      "    trial+1: 26661, block: 2\n",
      "    Columns that differ between trial 26660 and trial 26661: ['block', 'trial', 'trials_per_block', 'ABL', 'trial_start', 'trial_end', 'trial_duration', 'ILD', 'ILD_index', 'abort_event', 'block_ar', 'repeat_trial', 'timed_ITI', 'intended_fix', 'left_amp', 'right_amp', 'waveformR', 'waveformL', 'absILD', 'FixAbort', 'outcome']\n",
      "batch_name: LED1, session_type: 1.0, session: 73\n",
      "  Trials with abort_event==3 and RTwrtStim NaN: [34492]\n",
      "    trial: 34492, block: 4\n",
      "    trial+1: 34493, block: 4\n",
      "    Columns that differ between trial 34492 and trial 34493: ['box', 'animal', 'session', 'trial', 'trials_per_block', 'reward_open_L', 'reward_open_R', 'trial_start', 'trial_end', 'trial_duration', 'ILD', 'ILD_index', 'success', 'abort_event', 'block_perf', 'block_ar', 'repeat_trial', 'CNPTime', 'intended_fix', 'TotalFixTime', 'RT', 'MT', 'LNPTime', 'left_amp', 'right_amp', 'response_poke', 'Sign', 'Rsp', 'Rsp_R', 'correct', 'absILD', 'FixTime', 'FixAbort', 'outcome', 'Out', 'R', 'RTwrtStim']\n",
      "batch_name: LED2, session_type: 1.0, session: 36\n",
      "  Trials with abort_event==3 and RTwrtStim NaN: [21055]\n",
      "    trial: 21055, block: 3\n",
      "    trial+1: 21056, block: 4\n",
      "    Columns that differ between trial 21055 and trial 21056: ['block', 'trial', 'trials_per_block', 'reward_open_L', 'trial_start', 'trial_end', 'trial_duration', 'success', 'abort_event', 'block_perf', 'block_ar', 'repeat_trial', 'timed_ITI', 'CNPTime', 'intended_fix', 'TotalFixTime', 'RT', 'MT', 'LNPTime', 'waveformR', 'waveformL', 'response_poke', 'Rsp', 'Rsp_R', 'correct', 'FixTime', 'FixAbort', 'outcome', 'Out', 'R', 'RTwrtStim']\n",
      "batch_name: LED2, session_type: 1.0, session: 40\n",
      "  Trials with abort_event==3 and RTwrtStim NaN: [19406]\n",
      "    trial: 19406, block: 1\n",
      "    trial+1: 19407, block: 3\n",
      "    Columns that differ between trial 19406 and trial 19407: ['animal', 'session', 'block', 'trial', 'trials_per_block', 'reward_open_L', 'trial_start', 'trial_end', 'trial_duration', 'ILD', 'ILD_index', 'block_perf', 'block_ar', 'repeat_trial', 'timed_ITI', 'CNPTime', 'intended_fix', 'TotalFixTime', 'left_amp', 'right_amp', 'waveformR', 'waveformL', 'Sign', 'absILD', 'FixTime', 'RTwrtStim']\n",
      "batch_name: LED2, session_type: 2.0, session: 49\n",
      "  Trials with abort_event==3 and RTwrtStim NaN: [23784]\n",
      "    trial: 23784, block: 6\n",
      "    trial+1: 23785, block: 1\n",
      "    Columns that differ between trial 23784 and trial 23785: ['animal', 'session', 'block', 'trial', 'trials_per_block', 'reward_open_L', 'reward_open_R', 'trial_start', 'trial_end', 'trial_duration', 'success', 'abort_event', 'block_perf', 'block_ar', 'repeat_trial', 'timed_ITI', 'CNPTime', 'intended_fix', 'TotalFixTime', 'RT', 'MT', 'LNPTime', 'left_amp', 'right_amp', 'waveformR', 'waveformL', 'response_poke', 'Rsp', 'Rsp_R', 'correct', 'FixTime', 'FixAbort', 'outcome', 'Out', 'R', 'RTwrtStim']\n",
      "batch_name: LED2, session_type: 2.0, session: 62\n",
      "  Trials with abort_event==3 and RTwrtStim NaN: [26474]\n",
      "    trial: 26474, block: 7\n",
      "    trial+1: 26475, block: 1\n",
      "    Columns that differ between trial 26474 and trial 26475: ['session', 'block', 'trial', 'trials_per_block', 'ABL', 'trial_start', 'trial_end', 'trial_duration', 'ILD', 'ILD_index', 'abort_event', 'block_perf', 'block_ar', 'repeat_trial', 'timed_ITI', 'intended_fix', 'LED_trial', 'LED_powerR', 'LED_powerL', 'left_amp', 'right_amp', 'waveformR', 'waveformL', 'Sign', 'absILD', 'FixAbort', 'outcome']\n",
      "batch_name: LED34, session_type: 1.0, session: 29\n",
      "  Trials with abort_event==3 and RTwrtStim NaN: [26678]\n",
      "    trial: 26678, block: 9\n",
      "    trial+1: 26679, block: 1\n",
      "    Columns that differ between trial 26678 and trial 26679: ['session', 'block', 'trial', 'trials_per_block', 'ABL', 'trial_start', 'trial_end', 'trial_duration', 'ILD', 'ILD_index', 'abort_event', 'block_perf', 'block_ar', 'repeat_trial', 'timed_ITI', 'intended_fix', 'left_amp', 'right_amp', 'waveformR', 'waveformL', 'absILD', 'FixAbort', 'outcome']\n",
      "batch_name: LED34, session_type: 2.0, session: 40\n",
      "  Trials with abort_event==3 and RTwrtStim NaN: [32044]\n",
      "    trial: 32044, block: 1\n",
      "    trial+1: 32045, block: 2\n",
      "    Columns that differ between trial 32044 and trial 32045: ['block', 'trial', 'trials_per_block', 'ABL', 'trial_start', 'trial_end', 'trial_duration', 'ILD', 'ILD_index', 'block_perf', 'block_ar', 'repeat_trial', 'timed_ITI', 'CNPTime', 'intended_fix', 'TotalFixTime', 'LED_trial', 'LED_powerR', 'left_amp', 'right_amp', 'waveformR', 'waveformL', 'Sign', 'absILD', 'FixTime', 'RTwrtStim']\n",
      "batch_name: LED34, session_type: 5.0, session: 72\n",
      "  Trials with abort_event==3 and RTwrtStim NaN: [35464]\n",
      "    trial: 35464, block: 4\n",
      "    trial+1: 35465, block: 5\n",
      "    Columns that differ between trial 35464 and trial 35465: ['block', 'trial', 'trial_start', 'trial_end', 'trial_duration', 'ILD', 'ILD_index', 'abort_event', 'block_perf', 'block_ar', 'repeat_trial', 'timed_ITI', 'intended_fix', 'LED_trial', 'LED_powerL', 'left_amp', 'right_amp', 'waveformR', 'waveformL', 'Sign', 'absILD', 'FixAbort', 'outcome']\n",
      "batch_name: LED6, session_type: 1.0, session: 30\n",
      "  Trials with abort_event==3 and RTwrtStim NaN: [15820]\n",
      "    trial: 15820, block: 2\n",
      "    trial+1: 15821, block: 4\n",
      "    Columns that differ between trial 15820 and trial 15821: ['box', 'animal', 'session', 'block', 'trial', 'trials_per_block', 'ABL', 'reward_open_L', 'reward_open_R', 'trial_start', 'trial_end', 'trial_duration', 'ILD', 'ILD_index', 'block_perf', 'block_ar', 'repeat_trial', 'timed_ITI', 'CNPTime', 'intended_fix', 'TotalFixTime', 'left_amp', 'right_amp', 'waveformR', 'waveformL', 'Sign', 'absILD', 'FixTime', 'RTwrtStim']\n",
      "batch_name: LED6, session_type: 2.0, session: 69\n",
      "  Trials with abort_event==3 and RTwrtStim NaN: [34120]\n",
      "    trial: 34120, block: 2\n",
      "    trial+1: 34121, block: 1\n",
      "    Columns that differ between trial 34120 and trial 34121: ['box', 'animal', 'session', 'block', 'trial', 'trials_per_block', 'reward_open_L', 'reward_open_R', 'trial_start', 'trial_end', 'trial_duration', 'ILD', 'ILD_index', 'success', 'abort_event', 'block_perf', 'block_ar', 'repeat_trial', 'timed_ITI', 'CNPTime', 'intended_fix', 'TotalFixTime', 'RT', 'MT', 'LNPTime', 'left_amp', 'right_amp', 'waveformR', 'waveformL', 'response_poke', 'Rsp', 'Rsp_R', 'correct', 'absILD', 'FixTime', 'FixAbort', 'outcome', 'Out', 'R', 'RTwrtStim']\n"
     ]
    }
   ],
   "source": [
    "for batch in exp_df['batch_name'].unique():\n",
    "    batch_df = exp_df[exp_df['batch_name'] == batch]\n",
    "    for session_type in batch_df['session_type'].dropna().unique():\n",
    "        session_type_df = batch_df[batch_df['session_type'] == session_type]\n",
    "        for session in session_type_df['session'].unique():\n",
    "            session_df = session_type_df[session_type_df['session'] == session]\n",
    "            # abort = 3 and RT nan\n",
    "            mask = (session_df['abort_event'] == 3) & (session_df['RTwrtStim'].isna())\n",
    "            if mask.any():\n",
    "                trial_nums = session_df[mask]['trial'].values\n",
    "                print(f\"batch_name: {batch}, session_type: {session_type}, session: {session}\")\n",
    "                print(f\"  Trials with abort_event==3 and RTwrtStim NaN: {trial_nums}\")\n",
    "                # For each trial, print its block and the block of trial+1\n",
    "                for trial in trial_nums:\n",
    "                    trial_row = session_df[session_df['trial'] == trial]\n",
    "                    block = trial_row['block'].iloc[0]\n",
    "                    print(f\"    trial: {trial}, block: {block}\")\n",
    "                    # Find the block and other columns of trial+1 (if it exists)\n",
    "                    next_trial_row = exp_df[(exp_df['trial'] == trial + 1) & \n",
    "                                            (exp_df['batch_name'] == batch) & \n",
    "                                            (exp_df['session_type'] == session_type)]\n",
    "                    if not next_trial_row.empty:\n",
    "                        next_block = next_trial_row.iloc[0]['block']\n",
    "                        print(f\"    trial+1: {trial+1}, block: {next_block}\")\n",
    "\n",
    "                        # Compare all columns\n",
    "                        diffs = []\n",
    "                        for col in exp_df.columns:\n",
    "                            val1 = trial_row.iloc[0][col]\n",
    "                            val2 = next_trial_row.iloc[0][col]\n",
    "                            # Handle nan comparison\n",
    "                            if pd.isna(val1) and pd.isna(val2):\n",
    "                                continue\n",
    "                            if val1 != val2:\n",
    "                                diffs.append(col)\n",
    "                        if diffs:\n",
    "                            print(f\"    Columns that differ between trial {trial} and trial {trial+1}: {diffs}\")\n",
    "                        else:\n",
    "                            print(f\"    No other columns differ between trial {trial} and trial {trial+1}.\")\n",
    "                    else:\n",
    "                        print(f\"    trial+1: {trial+1} not found in this batch/session_type\")"
   ]
  },
  {
   "cell_type": "code",
   "execution_count": null,
   "metadata": {},
   "outputs": [],
   "source": []
  }
 ],
 "metadata": {
  "kernelspec": {
   "display_name": ".venv",
   "language": "python",
   "name": "python3"
  },
  "language_info": {
   "codemirror_mode": {
    "name": "ipython",
    "version": 3
   },
   "file_extension": ".py",
   "mimetype": "text/x-python",
   "name": "python",
   "nbconvert_exporter": "python",
   "pygments_lexer": "ipython3",
   "version": "3.12.3"
  }
 },
 "nbformat": 4,
 "nbformat_minor": 2
}
