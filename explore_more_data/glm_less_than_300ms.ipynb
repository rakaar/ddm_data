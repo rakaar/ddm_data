{
 "cells": [
  {
   "cell_type": "code",
   "execution_count": 4,
   "metadata": {},
   "outputs": [],
   "source": [
    "import numpy as np\n",
    "import matplotlib.pyplot as plt\n",
    "import pandas as pd\n",
    "from tqdm import tqdm\n",
    "from joblib import Parallel, delayed\n",
    "from pyvbmc import VBMC\n",
    "import corner\n",
    "from tqdm.notebook import tqdm\n",
    "import pickle\n",
    "import random\n",
    "from scipy.integrate import cumulative_trapezoid as cumtrapz\n",
    "\n",
    "from time_vary_norm_utils import (\n",
    "    up_or_down_RTs_fit_fn, cum_pro_and_reactive_time_vary_fn,\n",
    "    rho_A_t_VEC_fn, up_or_down_RTs_fit_wrt_stim_fn, rho_A_t_fn, cum_A_t_fn,\n",
    "    CDF_E_minus_small_t_NORM_rate_norm_l_time_varying_fn, rho_E_minus_small_t_NORM_rate_norm_time_varying_fn)\n",
    "from types import SimpleNamespace\n",
    "from time_vary_and_norm_simulators import psiam_tied_data_gen_wrapper_rate_norm_fn\n",
    "\n",
    "import pandas as pd\n",
    "import numpy as np\n",
    "import statsmodels.formula.api as smf\n",
    "from sklearn.model_selection import GroupKFold\n"
   ]
  },
  {
   "cell_type": "code",
   "execution_count": 3,
   "metadata": {},
   "outputs": [
    {
     "name": "stdout",
     "output_type": "stream",
     "text": [
      "Number of rows where RTwrtStim is NaN and abort_event == 3: 16\n",
      "ABL: [10 25 40 50 55 70]\n",
      "ILD: [-8.   -4.   -2.25 -1.25 -0.5   0.    0.5   1.25  2.25  4.    8.  ]\n"
     ]
    }
   ],
   "source": [
    "exp_df = pd.read_csv('../outExp.csv')\n",
    "\n",
    "# remove wrong rows \n",
    "count = ((exp_df['RTwrtStim'].isna()) & (exp_df['abort_event'] == 3)).sum()\n",
    "print(\"Number of rows where RTwrtStim is NaN and abort_event == 3:\", count)\n",
    "exp_df = exp_df[~((exp_df['RTwrtStim'].isna()) & (exp_df['abort_event'] == 3))].copy()\n",
    "\n",
    "# comparable batch\n",
    "all_df = exp_df[\n",
    "    (exp_df['batch_name'] == 'Comparable') &\n",
    "    (exp_df['LED_trial'].isin([np.nan, 0]))\n",
    "]\n",
    "\n",
    "# aborts and valid\n",
    "# df_valid_and_aborts = exp_df_batch[\n",
    "#     (exp_df_batch['success'].isin([1,-1])) |\n",
    "#     (exp_df_batch['abort_event'] == 3)\n",
    "# ].copy()\n",
    "\n",
    "# ## choice and acc columns\n",
    "# # 1 is right , -1 is left\n",
    "# df_valid_and_aborts['choice'] = df_valid_and_aborts['response_poke'].apply(lambda x: 1 if x == 3 else (-1 if x == 2 else random.choice([1, -1])))\n",
    "# # 1 or 0 if the choice was correct or not\n",
    "# df_valid_and_aborts['accuracy'] = (df_valid_and_aborts['ILD'] * df_valid_and_aborts['choice']).apply(lambda x: 1 if x > 0 else 0)\n",
    "\n",
    "# ## df used for fitting - valid trials < 1s + stim\n",
    "# df_valid_less_than_1 = df_valid_and_aborts[\n",
    "#     (df_valid_and_aborts['success'].isin([1,-1])) & \n",
    "#     (df_valid_and_aborts['RTwrtStim'] < 1) &\n",
    "#     (df_valid_and_aborts['RTwrtStim'] > 0)\n",
    "# ]\n",
    "\n",
    "# find ABL and ILD\n",
    "ABL_arr = all_df['ABL'].unique()\n",
    "ILD_arr = all_df['ILD'].unique()\n",
    "\n",
    "\n",
    "# sort ILD arr in ascending order\n",
    "ILD_arr = np.sort(ILD_arr)\n",
    "ABL_arr = np.sort(ABL_arr)\n",
    "\n",
    "print('ABL:', ABL_arr)\n",
    "print('ILD:', ILD_arr)"
   ]
  },
  {
   "cell_type": "code",
   "execution_count": 5,
   "metadata": {},
   "outputs": [
    {
     "name": "stdout",
     "output_type": "stream",
     "text": [
      "short_poke\n",
      "0    108269\n",
      "1     10598\n",
      "Name: count, dtype: int64\n",
      "count    164.000000\n",
      "mean       0.087456\n",
      "std        0.036282\n",
      "min        0.022654\n",
      "25%        0.056332\n",
      "50%        0.089805\n",
      "75%        0.112854\n",
      "max        0.178474\n",
      "Name: short_poke, dtype: float64\n"
     ]
    }
   ],
   "source": [
    "df = all_df.copy()\n",
    "\n",
    "# ----- outcome flags -----\n",
    "df['is_abort']   = (df['abort_event'] == 3).astype(int)\n",
    "df['short_poke'] = ((df['is_abort'] == 1) & (df['TotalFixTime'] < 300)).astype(int)\n",
    "\n",
    "# ----- quick sanity checks -----\n",
    "print(df['short_poke'].value_counts(dropna=False))\n",
    "print(df.groupby(['animal', 'session'])['short_poke'].mean().describe())\n"
   ]
  },
  {
   "cell_type": "markdown",
   "metadata": {},
   "source": [
    "# get the dataframe into a “time-series per session” order"
   ]
  },
  {
   "cell_type": "code",
   "execution_count": 6,
   "metadata": {},
   "outputs": [],
   "source": [
    "df = (df\n",
    "      .sort_values(['animal', 'session', 'trial'])   # critical!\n",
    "      .reset_index(drop=True))\n"
   ]
  },
  {
   "cell_type": "markdown",
   "metadata": {},
   "source": [
    "# build history-based predictors (fixed effects)\n"
   ]
  },
  {
   "cell_type": "code",
   "execution_count": 7,
   "metadata": {},
   "outputs": [],
   "source": [
    "MAX_LAG = 3       # 3 previous trials\n",
    "\n",
    "for lag in range(1, MAX_LAG + 1):\n",
    "    df[f'success_{lag}']   = df.groupby(['animal', 'session'])['success'].shift(lag)\n",
    "    df[f'abort_{lag}']     = df.groupby(['animal', 'session'])['is_abort'].shift(lag)\n",
    "    df[f'shortpoke_{lag}'] = df.groupby(['animal', 'session'])['short_poke'].shift(lag)\n",
    "\n",
    "# session-time variable\n",
    "df['trial_in_session'] = df.groupby(['animal', 'session']).cumcount() + 1\n",
    "\n",
    "# drop first few rows of every session that now contain NaNs\n",
    "df = df.dropna().reset_index(drop=True)\n"
   ]
  },
  {
   "cell_type": "markdown",
   "metadata": {},
   "source": [
    "# specify a hierarchical logistic GLM"
   ]
  },
  {
   "cell_type": "code",
   "execution_count": 9,
   "metadata": {},
   "outputs": [
    {
     "name": "stdout",
     "output_type": "stream",
     "text": [
      "statsmodels version → 0.14.4\n"
     ]
    },
    {
     "ename": "ValueError",
     "evalue": "argument family not permitted for MixedLM initialization",
     "output_type": "error",
     "traceback": [
      "\u001b[0;31m---------------------------------------------------------------------------\u001b[0m",
      "\u001b[0;31mValueError\u001b[0m                                Traceback (most recent call last)",
      "Cell \u001b[0;32mIn[9], line 15\u001b[0m\n\u001b[1;32m      8\u001b[0m MAX_LAG \u001b[38;5;241m=\u001b[39m \u001b[38;5;241m3\u001b[39m\n\u001b[1;32m      9\u001b[0m formula \u001b[38;5;241m=\u001b[39m (\n\u001b[1;32m     10\u001b[0m     \u001b[38;5;124m\"\u001b[39m\u001b[38;5;124mshort_poke ~ \u001b[39m\u001b[38;5;124m\"\u001b[39m\n\u001b[1;32m     11\u001b[0m     \u001b[38;5;241m+\u001b[39m \u001b[38;5;124m\"\u001b[39m\u001b[38;5;124m + \u001b[39m\u001b[38;5;124m\"\u001b[39m\u001b[38;5;241m.\u001b[39mjoin([\u001b[38;5;124mf\u001b[39m\u001b[38;5;124m\"\u001b[39m\u001b[38;5;124msuccess_\u001b[39m\u001b[38;5;132;01m{\u001b[39;00mk\u001b[38;5;132;01m}\u001b[39;00m\u001b[38;5;124m + abort_\u001b[39m\u001b[38;5;132;01m{\u001b[39;00mk\u001b[38;5;132;01m}\u001b[39;00m\u001b[38;5;124m\"\u001b[39m \u001b[38;5;28;01mfor\u001b[39;00m k \u001b[38;5;129;01min\u001b[39;00m \u001b[38;5;28mrange\u001b[39m(\u001b[38;5;241m1\u001b[39m, MAX_LAG\u001b[38;5;241m+\u001b[39m\u001b[38;5;241m1\u001b[39m)])\n\u001b[1;32m     12\u001b[0m     \u001b[38;5;241m+\u001b[39m \u001b[38;5;124m\"\u001b[39m\u001b[38;5;124m + trial_in_session\u001b[39m\u001b[38;5;124m\"\u001b[39m\n\u001b[1;32m     13\u001b[0m )\n\u001b[0;32m---> 15\u001b[0m md \u001b[38;5;241m=\u001b[39m \u001b[43msmf\u001b[49m\u001b[38;5;241;43m.\u001b[39;49m\u001b[43mmixedlm\u001b[49m\u001b[43m(\u001b[49m\n\u001b[1;32m     16\u001b[0m \u001b[43m        \u001b[49m\u001b[43mformula\u001b[49m\u001b[38;5;241;43m=\u001b[39;49m\u001b[43mformula\u001b[49m\u001b[43m,\u001b[49m\n\u001b[1;32m     17\u001b[0m \u001b[43m        \u001b[49m\u001b[43mdata\u001b[49m\u001b[38;5;241;43m=\u001b[39;49m\u001b[43mdf\u001b[49m\u001b[43m,\u001b[49m\n\u001b[1;32m     18\u001b[0m \u001b[43m        \u001b[49m\u001b[43mgroups\u001b[49m\u001b[38;5;241;43m=\u001b[39;49m\u001b[38;5;124;43m\"\u001b[39;49m\u001b[38;5;124;43manimal\u001b[39;49m\u001b[38;5;124;43m\"\u001b[39;49m\u001b[43m,\u001b[49m\n\u001b[1;32m     19\u001b[0m \u001b[43m        \u001b[49m\u001b[43mvc_formula\u001b[49m\u001b[38;5;241;43m=\u001b[39;49m\u001b[43m{\u001b[49m\u001b[38;5;124;43m\"\u001b[39;49m\u001b[38;5;124;43msession\u001b[39;49m\u001b[38;5;124;43m\"\u001b[39;49m\u001b[43m:\u001b[49m\u001b[43m \u001b[49m\u001b[38;5;124;43m\"\u001b[39;49m\u001b[38;5;124;43m0 + C(session)\u001b[39;49m\u001b[38;5;124;43m\"\u001b[39;49m\u001b[43m}\u001b[49m\u001b[43m,\u001b[49m\n\u001b[1;32m     20\u001b[0m \u001b[43m        \u001b[49m\u001b[43mfamily\u001b[49m\u001b[38;5;241;43m=\u001b[39;49m\u001b[43msm\u001b[49m\u001b[38;5;241;43m.\u001b[39;49m\u001b[43mfamilies\u001b[49m\u001b[38;5;241;43m.\u001b[39;49m\u001b[43mBinomial\u001b[49m\u001b[43m(\u001b[49m\u001b[43m)\u001b[49m\u001b[43m   \u001b[49m\u001b[38;5;66;43;03m# ← use sm. not smf.\u001b[39;49;00m\n\u001b[1;32m     21\u001b[0m \u001b[43m)\u001b[49m\n\u001b[1;32m     23\u001b[0m fit \u001b[38;5;241m=\u001b[39m md\u001b[38;5;241m.\u001b[39mfit(method\u001b[38;5;241m=\u001b[39m\u001b[38;5;124m\"\u001b[39m\u001b[38;5;124mlbfgs\u001b[39m\u001b[38;5;124m\"\u001b[39m)\n\u001b[1;32m     24\u001b[0m \u001b[38;5;28mprint\u001b[39m(fit\u001b[38;5;241m.\u001b[39msummary())\n",
      "File \u001b[0;32m/home/rlab/raghavendra/ddm_data/.venv/lib/python3.12/site-packages/statsmodels/regression/mixed_linear_model.py:1046\u001b[0m, in \u001b[0;36mMixedLM.from_formula\u001b[0;34m(cls, formula, data, re_formula, vc_formula, subset, use_sparse, missing, *args, **kwargs)\u001b[0m\n\u001b[1;32m   1044\u001b[0m kwargs[\u001b[38;5;124m\"\u001b[39m\u001b[38;5;124mexog_vc\u001b[39m\u001b[38;5;124m\"\u001b[39m] \u001b[38;5;241m=\u001b[39m exog_vc\n\u001b[1;32m   1045\u001b[0m kwargs[\u001b[38;5;124m\"\u001b[39m\u001b[38;5;124mgroups\u001b[39m\u001b[38;5;124m\"\u001b[39m] \u001b[38;5;241m=\u001b[39m groups\n\u001b[0;32m-> 1046\u001b[0m mod \u001b[38;5;241m=\u001b[39m \u001b[38;5;28;43msuper\u001b[39;49m\u001b[43m(\u001b[49m\u001b[43m)\u001b[49m\u001b[38;5;241;43m.\u001b[39;49m\u001b[43mfrom_formula\u001b[49m\u001b[43m(\u001b[49m\u001b[43mformula\u001b[49m\u001b[43m,\u001b[49m\u001b[43m \u001b[49m\u001b[43mdata\u001b[49m\u001b[43m,\u001b[49m\u001b[43m \u001b[49m\u001b[38;5;241;43m*\u001b[39;49m\u001b[43margs\u001b[49m\u001b[43m,\u001b[49m\u001b[43m \u001b[49m\u001b[38;5;241;43m*\u001b[39;49m\u001b[38;5;241;43m*\u001b[39;49m\u001b[43mkwargs\u001b[49m\u001b[43m)\u001b[49m\n\u001b[1;32m   1048\u001b[0m \u001b[38;5;66;03m# expand re names to account for pairs of RE\u001b[39;00m\n\u001b[1;32m   1049\u001b[0m (param_names,\n\u001b[1;32m   1050\u001b[0m  exog_re_names,\n\u001b[1;32m   1051\u001b[0m  exog_re_names_full) \u001b[38;5;241m=\u001b[39m mod\u001b[38;5;241m.\u001b[39m_make_param_names(exog_re_names)\n",
      "File \u001b[0;32m/home/rlab/raghavendra/ddm_data/.venv/lib/python3.12/site-packages/statsmodels/base/model.py:229\u001b[0m, in \u001b[0;36mModel.from_formula\u001b[0;34m(cls, formula, data, subset, drop_cols, *args, **kwargs)\u001b[0m\n\u001b[1;32m    223\u001b[0m         design_info \u001b[38;5;241m=\u001b[39m design_info\u001b[38;5;241m.\u001b[39msubset(cols)\n\u001b[1;32m    225\u001b[0m kwargs\u001b[38;5;241m.\u001b[39mupdate({\u001b[38;5;124m'\u001b[39m\u001b[38;5;124mmissing_idx\u001b[39m\u001b[38;5;124m'\u001b[39m: missing_idx,\n\u001b[1;32m    226\u001b[0m                \u001b[38;5;124m'\u001b[39m\u001b[38;5;124mmissing\u001b[39m\u001b[38;5;124m'\u001b[39m: missing,\n\u001b[1;32m    227\u001b[0m                \u001b[38;5;124m'\u001b[39m\u001b[38;5;124mformula\u001b[39m\u001b[38;5;124m'\u001b[39m: formula,  \u001b[38;5;66;03m# attach formula for unpckling\u001b[39;00m\n\u001b[1;32m    228\u001b[0m                \u001b[38;5;124m'\u001b[39m\u001b[38;5;124mdesign_info\u001b[39m\u001b[38;5;124m'\u001b[39m: design_info})\n\u001b[0;32m--> 229\u001b[0m mod \u001b[38;5;241m=\u001b[39m \u001b[38;5;28;43mcls\u001b[39;49m\u001b[43m(\u001b[49m\u001b[43mendog\u001b[49m\u001b[43m,\u001b[49m\u001b[43m \u001b[49m\u001b[43mexog\u001b[49m\u001b[43m,\u001b[49m\u001b[43m \u001b[49m\u001b[38;5;241;43m*\u001b[39;49m\u001b[43margs\u001b[49m\u001b[43m,\u001b[49m\u001b[43m \u001b[49m\u001b[38;5;241;43m*\u001b[39;49m\u001b[38;5;241;43m*\u001b[39;49m\u001b[43mkwargs\u001b[49m\u001b[43m)\u001b[49m\n\u001b[1;32m    230\u001b[0m mod\u001b[38;5;241m.\u001b[39mformula \u001b[38;5;241m=\u001b[39m formula\n\u001b[1;32m    231\u001b[0m \u001b[38;5;66;03m# since we got a dataframe, attach the original\u001b[39;00m\n",
      "File \u001b[0;32m/home/rlab/raghavendra/ddm_data/.venv/lib/python3.12/site-packages/statsmodels/regression/mixed_linear_model.py:704\u001b[0m, in \u001b[0;36mMixedLM.__init__\u001b[0;34m(self, endog, exog, groups, exog_re, exog_vc, use_sqrt, missing, **kwargs)\u001b[0m\n\u001b[1;32m    702\u001b[0m \u001b[38;5;28;01mfor\u001b[39;00m x \u001b[38;5;129;01min\u001b[39;00m kwargs\u001b[38;5;241m.\u001b[39mkeys():\n\u001b[1;32m    703\u001b[0m     \u001b[38;5;28;01mif\u001b[39;00m x \u001b[38;5;129;01mnot\u001b[39;00m \u001b[38;5;129;01min\u001b[39;00m _allowed_kwargs:\n\u001b[0;32m--> 704\u001b[0m         \u001b[38;5;28;01mraise\u001b[39;00m \u001b[38;5;167;01mValueError\u001b[39;00m(\n\u001b[1;32m    705\u001b[0m             \u001b[38;5;124m\"\u001b[39m\u001b[38;5;124margument \u001b[39m\u001b[38;5;132;01m%s\u001b[39;00m\u001b[38;5;124m not permitted for MixedLM initialization\u001b[39m\u001b[38;5;124m\"\u001b[39m \u001b[38;5;241m%\u001b[39m x)\n\u001b[1;32m    707\u001b[0m \u001b[38;5;28mself\u001b[39m\u001b[38;5;241m.\u001b[39muse_sqrt \u001b[38;5;241m=\u001b[39m use_sqrt\n\u001b[1;32m    709\u001b[0m \u001b[38;5;66;03m# Some defaults\u001b[39;00m\n",
      "\u001b[0;31mValueError\u001b[0m: argument family not permitted for MixedLM initialization"
     ]
    }
   ],
   "source": [
    "import pandas as pd\n",
    "import numpy as np\n",
    "import statsmodels.api as sm          # ← NEW\n",
    "import statsmodels.formula.api as smf\n",
    "\n",
    "print(\"statsmodels version →\", sm.__version__)  # should print 0.15.x or 0.16.x\n",
    "\n",
    "MAX_LAG = 3\n",
    "formula = (\n",
    "    \"short_poke ~ \"\n",
    "    + \" + \".join([f\"success_{k} + abort_{k}\" for k in range(1, MAX_LAG+1)])\n",
    "    + \" + trial_in_session\"\n",
    ")\n",
    "\n",
    "md = smf.mixedlm(\n",
    "        formula=formula,\n",
    "        data=df,\n",
    "        groups=\"animal\",\n",
    "        vc_formula={\"session\": \"0 + C(session)\"},\n",
    "        family=sm.families.Binomial()   # ← use sm. not smf.\n",
    ")\n",
    "\n",
    "fit = md.fit(method=\"lbfgs\")\n",
    "print(fit.summary())\n"
   ]
  }
 ],
 "metadata": {
  "kernelspec": {
   "display_name": ".venv",
   "language": "python",
   "name": "python3"
  },
  "language_info": {
   "codemirror_mode": {
    "name": "ipython",
    "version": 3
   },
   "file_extension": ".py",
   "mimetype": "text/x-python",
   "name": "python",
   "nbconvert_exporter": "python",
   "pygments_lexer": "ipython3",
   "version": "3.12.3"
  }
 },
 "nbformat": 4,
 "nbformat_minor": 2
}
