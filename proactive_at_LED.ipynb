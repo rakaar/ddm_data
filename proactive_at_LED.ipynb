{
 "cells": [
  {
   "cell_type": "code",
   "execution_count": 1,
   "metadata": {},
   "outputs": [],
   "source": [
    "import numpy as np"
   ]
  },
  {
   "cell_type": "markdown",
   "metadata": {},
   "source": [
    "# Test P(Z = Z_a, t = t)"
   ]
  },
  {
   "cell_type": "code",
   "execution_count": 2,
   "metadata": {},
   "outputs": [],
   "source": [
    "V_A = 1; theta_A = 2\n",
    "N_sim = 1e5\n",
    "dt = 1e-3\n",
    "T = 3\n",
    "N_T = int(T/dt)\n",
    "P_A_arr = np.nan((N_sim, N_T))\n",
    "for i in range(int(N_sim)):\n",
    "    P_A_arr[i, 0] = 0\n",
    "    for j in range(1, N_T):\n",
    "        P_A = P_A + 1*np.random.normal(0, np.sqrt(dt))\n",
    "        P_A_arr[i, j] = P_A\n",
    "        if P_A >= theta_A:\n",
    "            break\n",
    "        "
   ]
  },
  {
   "cell_type": "code",
   "execution_count": null,
   "metadata": {},
   "outputs": [],
   "source": []
  }
 ],
 "metadata": {
  "kernelspec": {
   "display_name": "venv",
   "language": "python",
   "name": "python3"
  },
  "language_info": {
   "codemirror_mode": {
    "name": "ipython",
    "version": 3
   },
   "file_extension": ".py",
   "mimetype": "text/x-python",
   "name": "python",
   "nbconvert_exporter": "python",
   "pygments_lexer": "ipython3",
   "version": "3.10.12"
  }
 },
 "nbformat": 4,
 "nbformat_minor": 2
}
