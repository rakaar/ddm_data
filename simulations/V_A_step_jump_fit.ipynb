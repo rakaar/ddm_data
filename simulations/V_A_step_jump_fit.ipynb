{
 "cells": [
  {
   "cell_type": "code",
   "execution_count": 1,
   "metadata": {},
   "outputs": [],
   "source": [
    "import numpy as np\n",
    "import matplotlib.pyplot as plt\n",
    "from joblib import Parallel, delayed\n",
    "from tqdm import tqdm\n",
    "from scipy.integrate import quad\n",
    "import pandas as pd\n",
    "import random\n",
    "from pyvbmc import VBMC\n",
    "from V_A_step_jump_fit_utils import rho_A_t_fn, cum_A_t_fn"
   ]
  },
  {
   "cell_type": "markdown",
   "metadata": {},
   "source": [
    "# params"
   ]
  },
  {
   "cell_type": "code",
   "execution_count": 2,
   "metadata": {},
   "outputs": [],
   "source": [
    "N_sim = int(10e3)\n",
    "\n",
    "dt = 1e-4\n",
    "dB = np.sqrt(dt)\n",
    "\n",
    "\n",
    "V_A_old = 2\n",
    "V_A_new = 2.3\n",
    "theta_A = 2\n",
    "\n",
    "rate_lambda = 0.14\n",
    "T_0 = 0.66 * (1e-3)\n",
    "theta_E = 40.5\n",
    "\n",
    "t_A_aff = 0.05\n",
    "t_E_aff = 0\n",
    "t_motor = 0\n",
    "\n",
    "Z_E = 0\n",
    "L = 0.5\n",
    "\n",
    "N_print = int(100e5)\n",
    "\n",
    "T_trunc = 0.3"
   ]
  },
  {
   "cell_type": "markdown",
   "metadata": {},
   "source": [
    "# get LED times"
   ]
  },
  {
   "cell_type": "code",
   "execution_count": 3,
   "metadata": {},
   "outputs": [
    {
     "data": {
      "image/png": "[encoded data removed]",
      "text/plain": [
       "<Figure size 640x480 with 1 Axes>"
      ]
     },
     "metadata": {},
     "output_type": "display_data"
    }
   ],
   "source": [
    "og_df = pd.read_csv('../out_LED.csv')\n",
    "df = og_df[ og_df['repeat_trial'].isin([0,2]) | og_df['repeat_trial'].isna() ]\n",
    "session_type = 7    \n",
    "df = df[ df['session_type'].isin([session_type]) ]\n",
    "training_level = 16\n",
    "df = df[ df['training_level'].isin([training_level]) ]\n",
    "\n",
    "# t_stim_and_led_tuple = [(row['intended_fix'], row['LED_onset_time']) for _, row in df.iterrows()]\n",
    "\n",
    "LED_times = (df['intended_fix'] - df['LED_onset_time']).values\n",
    "plt.hist(LED_times, bins=100, density=True);\n",
    "\n",
    "# remove zero from LED_times\n",
    "LED_times = LED_times[LED_times != 0]\n",
    "plt.hist(LED_times, bins=100, density=True, label='no zero');\n",
    "\n",
    "LED_times = np.unique(LED_times)\n",
    "\n",
    "\n",
    "stim_times = df['intended_fix'].values\n",
    "stim_times = np.unique(stim_times)\n",
    "\n",
    "plt.legend();\n",
    "\n",
    "# Remove zero LED_onset_times\n",
    "# filtered_df = df[df['intended_fix'] - df['LED_onset_time'] != 0]\n",
    "\n",
    "# keep zero LED_onset_times\n",
    "df = df[ df['LED_trial'] == 1]\n",
    "tuple_column = list(zip(df['intended_fix'], df['intended_fix'] - df['LED_onset_time']))\n"
   ]
  },
  {
   "cell_type": "markdown",
   "metadata": {},
   "source": [
    "# simulator"
   ]
  },
  {
   "cell_type": "code",
   "execution_count": 4,
   "metadata": {},
   "outputs": [],
   "source": [
    "def psiam_tied_data_gen_wrapper(base_V_A, new_V_A, theta_A, ABL_arr, ILD_arr, rate_lambda, T_0, theta_E, Z_E, t_A_aff, t_E_aff, t_motor, L, \\\n",
    "                                iter_num, N_print, dt):\n",
    "    ABL = random.choice(ABL_arr)\n",
    "    ILD = random.choice(ILD_arr)\n",
    "    \n",
    "    # t_stim and t_led\n",
    "    # t_stim = np.random.choice(stim_times)\n",
    "    # t_led =  np.random.choice(LED_times)\n",
    "\n",
    "    stim_led_pair = tuple_column[np.random.choice(len(tuple_column))]\n",
    "    t_stim = stim_led_pair[0]\n",
    "    t_led = stim_led_pair[1]\n",
    "\n",
    "    # print after every N_print iterations\n",
    "    if iter_num % N_print == 0:\n",
    "        print(f'In iter_num: {iter_num}, ABL: {ABL}, ILD: {ILD}, t_stim: {t_stim}')\n",
    "\n",
    "\n",
    "    choice, rt, is_act = simulate_psiam_tied(base_V_A, new_V_A, theta_A, ABL, ILD, rate_lambda, T_0, theta_E, Z_E, t_stim, t_led, t_A_aff, t_E_aff, t_motor, L, dt)\n",
    "    return {'choice': choice, 'rt': rt, 'is_act': is_act ,'ABL': ABL, 'ILD': ILD, 't_stim': t_stim, 't_led': t_led}\n",
    "\n",
    "def simulate_psiam_tied(base_V_A, new_V_A, theta_A, ABL, ILD, rate_lambda, T_0, theta_E, Z_E, t_stim, t_led, t_A_aff, t_E_aff, t_motor, L, dt):\n",
    "    AI = 0; DV = Z_E; t = 0; dB = dt**0.5\n",
    "    \n",
    "    chi = 17.37; q_e = 1\n",
    "    theta = theta_E * q_e\n",
    "    mu = (2*q_e/T_0) * (10**(rate_lambda * ABL/20)) * np.sinh(rate_lambda * ILD/chi)\n",
    "    sigma = np.sqrt( (2*(q_e**2)/T_0) * (10**(rate_lambda * ABL/20)) * np.cosh(rate_lambda * ILD/ chi) )\n",
    "    \n",
    "    is_act = 0\n",
    "    while True:\n",
    "        if t*dt < t_led:\n",
    "            V_A = base_V_A\n",
    "        else:\n",
    "            V_A = new_V_A\n",
    "\n",
    "        if t*dt > t_stim + t_E_aff:\n",
    "            DV += mu*dt + sigma*np.random.normal(0, dB)\n",
    "        \n",
    "        if t*dt > t_A_aff:\n",
    "            AI += V_A*dt + np.random.normal(0, dB)\n",
    "        \n",
    "        t += 1\n",
    "        \n",
    "        if DV >= theta:\n",
    "            choice = +1; RT = t*dt + t_motor\n",
    "            break\n",
    "        elif DV <= -theta:\n",
    "            choice = -1; RT = t*dt + t_motor\n",
    "            break\n",
    "        \n",
    "        if AI >= theta_A:\n",
    "            is_act = 1\n",
    "            AI_hit_time = t*dt\n",
    "            # if t*dt > t_stim - t_motor:\n",
    "            while t*dt <= (AI_hit_time + t_E_aff + t_motor):#  u can process evidence till stim plays\n",
    "                if t*dt > t_stim + t_E_aff: # Evid accum wil begin only after stim starts and afferent delay\n",
    "                    DV += mu*dt + sigma*np.random.normal(0, dB)\n",
    "                    if DV >= theta:\n",
    "                        DV = theta\n",
    "                        break\n",
    "                    elif DV <= -theta:\n",
    "                        DV = -theta\n",
    "                        break\n",
    "                t += 1\n",
    "            \n",
    "            break\n",
    "        \n",
    "        \n",
    "    if is_act == 1:\n",
    "        RT = AI_hit_time + t_motor\n",
    "        # if DV != 0:\n",
    "        if DV >= (1 + (L/2) - 1)*theta:\n",
    "            choice = 1\n",
    "        elif DV <= (1 - (L/2) - 1)*theta:\n",
    "            choice = -1\n",
    "        else:\n",
    "            prob_hit_up = (1/L)*((DV/theta) + 1) + (0.5 - (1/L))            \n",
    "            if np.random.rand() <= prob_hit_up:\n",
    "                choice = 1\n",
    "            else:\n",
    "                choice = -1\n",
    "    \n",
    "    return choice, RT, is_act"
   ]
  },
  {
   "cell_type": "code",
   "execution_count": 5,
   "metadata": {},
   "outputs": [
    {
     "name": "stdout",
     "output_type": "stream",
     "text": [
      "In iter_num: 0, ABL: 60, ILD: 1.0, t_stim: 0.635363963735096\n"
     ]
    }
   ],
   "source": [
    "sim_results = Parallel(n_jobs=-1)(delayed(psiam_tied_data_gen_wrapper)(V_A_old, V_A_new, theta_A, np.unique(df['ABL'].values), np.unique(df['ILD'].values), \\\n",
    "                                                                       rate_lambda, T_0, theta_E, Z_E, t_A_aff, t_E_aff, t_motor, L, \\\n",
    "                                iter_num, N_print, dt) for iter_num in range(N_sim))"
   ]
  },
  {
   "cell_type": "code",
   "execution_count": 6,
   "metadata": {},
   "outputs": [
    {
     "name": "stdout",
     "output_type": "stream",
     "text": [
      "% of aborts = 20.01\n"
     ]
    }
   ],
   "source": [
    "num_aborts = len([ 1 for res in sim_results if res['rt'] < res['t_stim'] ]) \n",
    "print(f'% of aborts = {100*num_aborts/N_sim}')"
   ]
  },
  {
   "cell_type": "code",
   "execution_count": 7,
   "metadata": {},
   "outputs": [
    {
     "name": "stdout",
     "output_type": "stream",
     "text": [
      "% of aborts > T_trunc = 19.83, # of aborts > T_trunc = 1983\n"
     ]
    }
   ],
   "source": [
    "# num of aborts > T_trunc\n",
    "num_aborts = len([ 1 for res in sim_results if res['rt'] < res['t_stim'] and res['rt'] > T_trunc ])\n",
    "print(f'% of aborts > T_trunc = {100*num_aborts/N_sim}, # of aborts > T_trunc = {num_aborts}')"
   ]
  },
  {
   "cell_type": "markdown",
   "metadata": {},
   "source": [
    "# VBMC"
   ]
  },
  {
   "cell_type": "code",
   "execution_count": 8,
   "metadata": {},
   "outputs": [],
   "source": [
    "from V_A_step_jump_fit_utils import PDF_hit_V_A_change, CDF_hit_V_A_change\n",
    "\n",
    "\n",
    "def compute_loglike(res, base_V_A, new_V_A, theta_A, t_A_aff):\n",
    "    t_stim = res['t_stim']\n",
    "    rt = res['rt']\n",
    "    t_led = res['t_led']\n",
    "\n",
    "    if rt - t_A_aff < T_trunc:\n",
    "        likelihood = 0\n",
    "    else:\n",
    "        if t_led == 0: # only new V_A will be used\n",
    "            pdf_trunc_factor = 1 - cum_A_t_fn(T_trunc - t_A_aff, new_V_A, theta_A)\n",
    "            if rt - t_A_aff < t_stim:\n",
    "                likelihood =  rho_A_t_fn(rt - t_A_aff, new_V_A, theta_A) / pdf_trunc_factor\n",
    "            elif rt - t_A_aff > t_stim:\n",
    "                if t_stim <= T_trunc:\n",
    "                    likelihood = 1\n",
    "                else:\n",
    "                    likelihood = ( 1 - cum_A_t_fn(t_stim - t_A_aff, new_V_A, theta_A) ) / pdf_trunc_factor\n",
    "        else: # V_A change in middle\n",
    "            trunc_factor = 1 - CDF_hit_V_A_change(T_trunc - t_A_aff, base_V_A, new_V_A, theta_A, t_led)\n",
    "            if rt - t_A_aff < t_stim:\n",
    "                likelihood = PDF_hit_V_A_change(rt-t_A_aff, base_V_A, new_V_A, theta_A, t_led) / trunc_factor\n",
    "            elif rt - t_A_aff > t_stim:\n",
    "                if t_stim <= T_trunc: # if stim is before truncation, the abort prob = 0\n",
    "                    likelihood = 1\n",
    "                else:\n",
    "                    likelihood = ( 1 - CDF_hit_V_A_change(t_stim - t_A_aff, base_V_A, new_V_A, theta_A, t_led) ) / trunc_factor\n",
    "\n",
    "    if likelihood <= 0:\n",
    "        likelihood = 1e-50\n",
    "\n",
    "    \n",
    "    return np.log(likelihood)    \n",
    "\n",
    "\n",
    "\n",
    "def psiam_tied_loglike_fn(params):\n",
    "    base_V_A, new_V_A, theta_A, t_A_aff = params\n",
    "\n",
    "    all_loglike = Parallel(n_jobs=-1)(delayed(compute_loglike)(res, base_V_A, new_V_A, theta_A, t_A_aff) for res in sim_results)\n",
    "                                   \n",
    "\n",
    "    loglike = np.sum(all_loglike)\n",
    "    return loglike"
   ]
  },
  {
   "cell_type": "markdown",
   "metadata": {},
   "source": [
    "# bounds"
   ]
  },
  {
   "cell_type": "code",
   "execution_count": 9,
   "metadata": {},
   "outputs": [],
   "source": [
    "base_V_A_bounds = [0.1, 5]\n",
    "new_V_A_bounds = [0.1, 5]\n",
    "theta_A_bounds = [0.5, 5]\n",
    "t_A_aff_bounds = [0.03, 0.07]\n",
    "\n",
    "base_V_A_plausible_bounds = [0.5, 3]\n",
    "new_V_A_plausible_bounds = [0.5, 3]\n",
    "theta_A_plausible_bounds = [1, 3]\n",
    "t_A_aff_plausible_bounds = [0.04, 0.06]"
   ]
  },
  {
   "cell_type": "markdown",
   "metadata": {},
   "source": [
    "# prior"
   ]
  },
  {
   "cell_type": "code",
   "execution_count": 10,
   "metadata": {},
   "outputs": [],
   "source": [
    "def trapezoidal_logpdf(x, a, b, c, d):\n",
    "    if x < a or x > d:\n",
    "        return -np.inf  # Logarithm of zero\n",
    "    area = ((b - a) + (d - c)) / 2 + (c - b)\n",
    "    h_max = 1.0 / area  # Height of the trapezoid to normalize the area to 1\n",
    "    \n",
    "    if a <= x <= b:\n",
    "        pdf_value = ((x - a) / (b - a)) * h_max\n",
    "    elif b < x < c:\n",
    "        pdf_value = h_max\n",
    "    elif c <= x <= d:\n",
    "        pdf_value = ((d - x) / (d - c)) * h_max\n",
    "    else:\n",
    "        pdf_value = 0.0  # This case is redundant due to the initial check\n",
    "\n",
    "    if pdf_value <= 0.0:\n",
    "        return -np.inf\n",
    "    else:\n",
    "        return np.log(pdf_value)\n",
    "    \n",
    "\n",
    "def vbmc_prior_abort_fn(params):\n",
    "    base_V_A, new_V_A, theta_A,t_A_aff = params\n",
    "\n",
    "    base_V_A_logpdf = trapezoidal_logpdf(base_V_A, base_V_A_bounds[0], base_V_A_plausible_bounds[0], base_V_A_plausible_bounds[1], base_V_A_bounds[1])\n",
    "    new_V_A_logpdf = trapezoidal_logpdf(new_V_A, new_V_A_bounds[0], new_V_A_plausible_bounds[0], new_V_A_plausible_bounds[1], new_V_A_bounds[1])\n",
    "    theta_A_logpdf = trapezoidal_logpdf(theta_A, theta_A_bounds[0], theta_A_plausible_bounds[0], theta_A_plausible_bounds[1], theta_A_bounds[1])\n",
    "    t_A_aff_logpdf = trapezoidal_logpdf(t_A_aff, t_A_aff_bounds[0], t_A_aff_plausible_bounds[0], t_A_aff_plausible_bounds[1], t_A_aff_bounds[1])\n",
    "    return base_V_A_logpdf + new_V_A_logpdf + theta_A_logpdf + t_A_aff_logpdf"
   ]
  },
  {
   "cell_type": "markdown",
   "metadata": {},
   "source": [
    "# joint"
   ]
  },
  {
   "cell_type": "code",
   "execution_count": 11,
   "metadata": {},
   "outputs": [],
   "source": [
    "def vbmc_joint(params):\n",
    "    return vbmc_prior_abort_fn(params) + psiam_tied_loglike_fn(params)"
   ]
  },
  {
   "cell_type": "markdown",
   "metadata": {},
   "source": [
    "# run vbmc"
   ]
  },
  {
   "cell_type": "code",
   "execution_count": 12,
   "metadata": {},
   "outputs": [],
   "source": [
    "lb = [base_V_A_bounds[0], new_V_A_bounds[0], theta_A_bounds[0], t_A_aff_bounds[0]]\n",
    "ub = [base_V_A_bounds[1], new_V_A_bounds[1], theta_A_bounds[1], t_A_aff_bounds[1]]\n",
    "\n",
    "plb = [base_V_A_plausible_bounds[0], new_V_A_plausible_bounds[0], theta_A_plausible_bounds[0], t_A_aff_plausible_bounds[0]]\n",
    "pub = [base_V_A_plausible_bounds[1], new_V_A_plausible_bounds[1], theta_A_plausible_bounds[1], t_A_aff_plausible_bounds[1]]\n",
    "\n",
    "np.random.seed(42)\n",
    "base_V_A_0 = np.random.uniform(base_V_A_plausible_bounds[0], base_V_A_plausible_bounds[1])\n",
    "new_V_A_0 = np.random.uniform(new_V_A_plausible_bounds[0], new_V_A_plausible_bounds[1])\n",
    "theta_A_0 = np.random.uniform(theta_A_plausible_bounds[0], theta_A_plausible_bounds[1])\n",
    "t_A_aff_0 = np.random.uniform(t_A_aff_plausible_bounds[0], t_A_aff_plausible_bounds[1])\n",
    "\n",
    "x_0 = np.array([base_V_A_0, new_V_A_0, theta_A_0, t_A_aff_0])"
   ]
  },
  {
   "cell_type": "code",
   "execution_count": 13,
   "metadata": {},
   "outputs": [
    {
     "name": "stdout",
     "output_type": "stream",
     "text": [
      "Reshaping x0 to row vector.\n",
      "Reshaping lower bounds to (1, 4).\n",
      "Reshaping upper bounds to (1, 4).\n",
      "Reshaping plausible lower bounds to (1, 4).\n",
      "Reshaping plausible upper bounds to (1, 4).\n"
     ]
    },
    {
     "ename": "KeyboardInterrupt",
     "evalue": "",
     "output_type": "error",
     "traceback": [
      "\u001b[0;31m---------------------------------------------------------------------------\u001b[0m",
      "\u001b[0;31mKeyboardInterrupt\u001b[0m                         Traceback (most recent call last)",
      "Cell \u001b[0;32mIn[13], line 2\u001b[0m\n\u001b[1;32m      1\u001b[0m vbmc \u001b[38;5;241m=\u001b[39m VBMC(vbmc_joint, x_0, lb, ub, plb, pub, options\u001b[38;5;241m=\u001b[39m{\u001b[38;5;124m'\u001b[39m\u001b[38;5;124mdisplay\u001b[39m\u001b[38;5;124m'\u001b[39m: \u001b[38;5;124m'\u001b[39m\u001b[38;5;124moff\u001b[39m\u001b[38;5;124m'\u001b[39m})\n\u001b[0;32m----> 2\u001b[0m vp, results \u001b[38;5;241m=\u001b[39m \u001b[43mvbmc\u001b[49m\u001b[38;5;241;43m.\u001b[39;49m\u001b[43moptimize\u001b[49m\u001b[43m(\u001b[49m\u001b[43m)\u001b[49m\n",
      "File \u001b[0;32m~/raghavendra/ddm_data/.venv/lib/python3.12/site-packages/pyvbmc/vbmc/vbmc.py:1121\u001b[0m, in \u001b[0;36mVBMC.optimize\u001b[0;34m(self)\u001b[0m\n\u001b[1;32m   1117\u001b[0m \u001b[38;5;66;03m## Train gp\u001b[39;00m\n\u001b[1;32m   1119\u001b[0m timer\u001b[38;5;241m.\u001b[39mstart_timer(\u001b[38;5;124m\"\u001b[39m\u001b[38;5;124mgp_train\u001b[39m\u001b[38;5;124m\"\u001b[39m)\n\u001b[0;32m-> 1121\u001b[0m \u001b[38;5;28mself\u001b[39m\u001b[38;5;241m.\u001b[39mgp, Ns_gp, sn2_hpd, \u001b[38;5;28mself\u001b[39m\u001b[38;5;241m.\u001b[39mhyp_dict \u001b[38;5;241m=\u001b[39m \u001b[43mtrain_gp\u001b[49m\u001b[43m(\u001b[49m\n\u001b[1;32m   1122\u001b[0m \u001b[43m    \u001b[49m\u001b[38;5;28;43mself\u001b[39;49m\u001b[38;5;241;43m.\u001b[39;49m\u001b[43mhyp_dict\u001b[49m\u001b[43m,\u001b[49m\n\u001b[1;32m   1123\u001b[0m \u001b[43m    \u001b[49m\u001b[38;5;28;43mself\u001b[39;49m\u001b[38;5;241;43m.\u001b[39;49m\u001b[43moptim_state\u001b[49m\u001b[43m,\u001b[49m\n\u001b[1;32m   1124\u001b[0m \u001b[43m    \u001b[49m\u001b[38;5;28;43mself\u001b[39;49m\u001b[38;5;241;43m.\u001b[39;49m\u001b[43mfunction_logger\u001b[49m\u001b[43m,\u001b[49m\n\u001b[1;32m   1125\u001b[0m \u001b[43m    \u001b[49m\u001b[38;5;28;43mself\u001b[39;49m\u001b[38;5;241;43m.\u001b[39;49m\u001b[43miteration_history\u001b[49m\u001b[43m,\u001b[49m\n\u001b[1;32m   1126\u001b[0m \u001b[43m    \u001b[49m\u001b[38;5;28;43mself\u001b[39;49m\u001b[38;5;241;43m.\u001b[39;49m\u001b[43moptions\u001b[49m\u001b[43m,\u001b[49m\n\u001b[1;32m   1127\u001b[0m \u001b[43m    \u001b[49m\u001b[38;5;28;43mself\u001b[39;49m\u001b[38;5;241;43m.\u001b[39;49m\u001b[43moptim_state\u001b[49m\u001b[43m[\u001b[49m\u001b[38;5;124;43m\"\u001b[39;49m\u001b[38;5;124;43mplb_tran\u001b[39;49m\u001b[38;5;124;43m\"\u001b[39;49m\u001b[43m]\u001b[49m\u001b[43m,\u001b[49m\n\u001b[1;32m   1128\u001b[0m \u001b[43m    \u001b[49m\u001b[38;5;28;43mself\u001b[39;49m\u001b[38;5;241;43m.\u001b[39;49m\u001b[43moptim_state\u001b[49m\u001b[43m[\u001b[49m\u001b[38;5;124;43m\"\u001b[39;49m\u001b[38;5;124;43mpub_tran\u001b[39;49m\u001b[38;5;124;43m\"\u001b[39;49m\u001b[43m]\u001b[49m\u001b[43m,\u001b[49m\n\u001b[1;32m   1129\u001b[0m \u001b[43m\u001b[49m\u001b[43m)\u001b[49m\n\u001b[1;32m   1130\u001b[0m \u001b[38;5;28mself\u001b[39m\u001b[38;5;241m.\u001b[39moptim_state[\u001b[38;5;124m\"\u001b[39m\u001b[38;5;124msn2_hpd\u001b[39m\u001b[38;5;124m\"\u001b[39m] \u001b[38;5;241m=\u001b[39m sn2_hpd\n\u001b[1;32m   1132\u001b[0m timer\u001b[38;5;241m.\u001b[39mstop_timer(\u001b[38;5;124m\"\u001b[39m\u001b[38;5;124mgp_train\u001b[39m\u001b[38;5;124m\"\u001b[39m)\n",
      "File \u001b[0;32m~/raghavendra/ddm_data/.venv/lib/python3.12/site-packages/pyvbmc/vbmc/gaussian_process_train.py:160\u001b[0m, in \u001b[0;36mtrain_gp\u001b[0;34m(hyp_dict, optim_state, function_logger, iteration_history, options, plb_tran, pub_tran)\u001b[0m\n\u001b[1;32m    157\u001b[0m     hyp0 \u001b[38;5;241m=\u001b[39m hyp_dict[\u001b[38;5;124m\"\u001b[39m\u001b[38;5;124mhyp_vp\u001b[39m\u001b[38;5;124m\"\u001b[39m]\n\u001b[1;32m    159\u001b[0m \u001b[38;5;66;03m# print(hyp0.shape)\u001b[39;00m\n\u001b[0;32m--> 160\u001b[0m hyp_dict[\u001b[38;5;124m\"\u001b[39m\u001b[38;5;124mhyp\u001b[39m\u001b[38;5;124m\"\u001b[39m], _, res \u001b[38;5;241m=\u001b[39m \u001b[43mgp\u001b[49m\u001b[38;5;241;43m.\u001b[39;49m\u001b[43mfit\u001b[49m\u001b[43m(\u001b[49m\n\u001b[1;32m    161\u001b[0m \u001b[43m    \u001b[49m\u001b[43mx_train\u001b[49m\u001b[43m,\u001b[49m\u001b[43m \u001b[49m\u001b[43my_train\u001b[49m\u001b[43m,\u001b[49m\u001b[43m \u001b[49m\u001b[43ms2_train\u001b[49m\u001b[43m,\u001b[49m\u001b[43m \u001b[49m\u001b[43mhyp0\u001b[49m\u001b[38;5;241;43m=\u001b[39;49m\u001b[43mhyp0\u001b[49m\u001b[43m,\u001b[49m\u001b[43m \u001b[49m\u001b[43moptions\u001b[49m\u001b[38;5;241;43m=\u001b[39;49m\u001b[43mgp_train\u001b[49m\n\u001b[1;32m    162\u001b[0m \u001b[43m\u001b[49m\u001b[43m)\u001b[49m\n\u001b[1;32m    164\u001b[0m \u001b[38;5;28;01mif\u001b[39;00m res \u001b[38;5;129;01mis\u001b[39;00m \u001b[38;5;129;01mnot\u001b[39;00m \u001b[38;5;28;01mNone\u001b[39;00m:\n\u001b[1;32m    165\u001b[0m     \u001b[38;5;66;03m# Pre-thinning GP hyperparameters\u001b[39;00m\n\u001b[1;32m    166\u001b[0m     hyp_dict[\u001b[38;5;124m\"\u001b[39m\u001b[38;5;124mfull\u001b[39m\u001b[38;5;124m\"\u001b[39m] \u001b[38;5;241m=\u001b[39m res[\u001b[38;5;124m\"\u001b[39m\u001b[38;5;124msamples\u001b[39m\u001b[38;5;124m\"\u001b[39m]\n",
      "File \u001b[0;32m~/raghavendra/ddm_data/.venv/lib/python3.12/site-packages/gpyreg/gaussian_process.py:1221\u001b[0m, in \u001b[0;36mGP.fit\u001b[0;34m(self, X, y, s2, hyp0, options)\u001b[0m\n\u001b[1;32m   1219\u001b[0m     widths \u001b[38;5;241m=\u001b[39m np\u001b[38;5;241m.\u001b[39mminimum(widths, widths_default)\n\u001b[1;32m   1220\u001b[0m slicer \u001b[38;5;241m=\u001b[39m SliceSampler(sample_f, hyp_start, widths, LB, UB, options)\n\u001b[0;32m-> 1221\u001b[0m sampling_result \u001b[38;5;241m=\u001b[39m \u001b[43mslicer\u001b[49m\u001b[38;5;241;43m.\u001b[39;49m\u001b[43msample\u001b[49m\u001b[43m(\u001b[49m\u001b[43meff_s_N\u001b[49m\u001b[43m,\u001b[49m\u001b[43m \u001b[49m\u001b[43mburn\u001b[49m\u001b[38;5;241;43m=\u001b[39;49m\u001b[43mburn_in\u001b[49m\u001b[43m)\u001b[49m\n\u001b[1;32m   1223\u001b[0m \u001b[38;5;66;03m# Thin samples\u001b[39;00m\n\u001b[1;32m   1224\u001b[0m hyp_pre_thin \u001b[38;5;241m=\u001b[39m sampling_result[\u001b[38;5;124m\"\u001b[39m\u001b[38;5;124msamples\u001b[39m\u001b[38;5;124m\"\u001b[39m]\n",
      "File \u001b[0;32m~/raghavendra/ddm_data/.venv/lib/python3.12/site-packages/gpyreg/slice_sample.py:442\u001b[0m, in \u001b[0;36mSliceSampler.sample\u001b[0;34m(self, N, thin, burn)\u001b[0m\n\u001b[1;32m    438\u001b[0m shrink \u001b[38;5;241m+\u001b[39m\u001b[38;5;241m=\u001b[39m \u001b[38;5;241m1\u001b[39m\n\u001b[1;32m    439\u001b[0m xprime[dd] \u001b[38;5;241m=\u001b[39m (\n\u001b[1;32m    440\u001b[0m     np\u001b[38;5;241m.\u001b[39mrandom\u001b[38;5;241m.\u001b[39mrand() \u001b[38;5;241m*\u001b[39m (x_r[dd] \u001b[38;5;241m-\u001b[39m x_l[dd]) \u001b[38;5;241m+\u001b[39m x_l[dd]\n\u001b[1;32m    441\u001b[0m )\n\u001b[0;32m--> 442\u001b[0m log_Px, f_val, log_prior \u001b[38;5;241m=\u001b[39m \u001b[43mlogdist_vec\u001b[49m\u001b[43m(\u001b[49m\u001b[43mxprime\u001b[49m\u001b[43m)\u001b[49m\n\u001b[1;32m    443\u001b[0m \u001b[38;5;28;01mif\u001b[39;00m log_Px \u001b[38;5;241m>\u001b[39m log_uprime:\n\u001b[1;32m    444\u001b[0m     \u001b[38;5;28;01mbreak\u001b[39;00m  \u001b[38;5;66;03m# this is the only way to leave the while loop\u001b[39;00m\n",
      "File \u001b[0;32m~/raghavendra/ddm_data/.venv/lib/python3.12/site-packages/gpyreg/slice_sample.py:360\u001b[0m, in \u001b[0;36mSliceSampler.sample.<locals>.<lambda>\u001b[0;34m(x)\u001b[0m\n\u001b[1;32m    358\u001b[0m xx_shape \u001b[38;5;241m=\u001b[39m xx\u001b[38;5;241m.\u001b[39mshape\n\u001b[1;32m    359\u001b[0m xx \u001b[38;5;241m=\u001b[39m xx\u001b[38;5;241m.\u001b[39mravel()\n\u001b[0;32m--> 360\u001b[0m logdist_vec \u001b[38;5;241m=\u001b[39m \u001b[38;5;28;01mlambda\u001b[39;00m x: \u001b[43mlog_dist\u001b[49m\u001b[43m(\u001b[49m\u001b[43mnp\u001b[49m\u001b[38;5;241;43m.\u001b[39;49m\u001b[43mreshape\u001b[49m\u001b[43m(\u001b[49m\u001b[43mx\u001b[49m\u001b[43m,\u001b[49m\u001b[43m \u001b[49m\u001b[43mxx_shape\u001b[49m\u001b[43m)\u001b[49m\u001b[43m)\u001b[49m\n\u001b[1;32m    362\u001b[0m \u001b[38;5;28mself\u001b[39m\u001b[38;5;241m.\u001b[39mlogger\u001b[38;5;241m.\u001b[39mdebug(\n\u001b[1;32m    363\u001b[0m     \u001b[38;5;124m\"\u001b[39m\u001b[38;5;124m Iteration     f-count       log p(x)                   Action\u001b[39m\u001b[38;5;124m\"\u001b[39m\n\u001b[1;32m    364\u001b[0m )\n\u001b[1;32m    365\u001b[0m display_format \u001b[38;5;241m=\u001b[39m \u001b[38;5;124m\"\u001b[39m\u001b[38;5;124m \u001b[39m\u001b[38;5;132;01m%7.0f\u001b[39;00m\u001b[38;5;124m     \u001b[39m\u001b[38;5;132;01m%8.0f\u001b[39;00m\u001b[38;5;124m    \u001b[39m\u001b[38;5;132;01m%12.6g\u001b[39;00m\u001b[38;5;124m    \u001b[39m\u001b[38;5;132;01m%26s\u001b[39;00m\u001b[38;5;124m\"\u001b[39m\n",
      "File \u001b[0;32m~/raghavendra/ddm_data/.venv/lib/python3.12/site-packages/gpyreg/slice_sample.py:672\u001b[0m, in \u001b[0;36mSliceSampler.__log_pdf_bound\u001b[0;34m(self, x)\u001b[0m\n\u001b[1;32m    669\u001b[0m \u001b[38;5;28;01melse\u001b[39;00m:\n\u001b[1;32m    670\u001b[0m     log_prior \u001b[38;5;241m=\u001b[39m \u001b[38;5;241m0\u001b[39m\n\u001b[0;32m--> 672\u001b[0m f_val \u001b[38;5;241m=\u001b[39m \u001b[38;5;28;43mself\u001b[39;49m\u001b[38;5;241;43m.\u001b[39;49m\u001b[43mlog_f\u001b[49m\u001b[43m(\u001b[49m\u001b[43mx\u001b[49m\u001b[43m)\u001b[49m\n\u001b[1;32m    673\u001b[0m \u001b[38;5;28mself\u001b[39m\u001b[38;5;241m.\u001b[39mfunc_count \u001b[38;5;241m+\u001b[39m\u001b[38;5;241m=\u001b[39m \u001b[38;5;241m1\u001b[39m\n\u001b[1;32m    675\u001b[0m \u001b[38;5;28;01mif\u001b[39;00m np\u001b[38;5;241m.\u001b[39many(np\u001b[38;5;241m.\u001b[39misnan(f_val)):\n",
      "File \u001b[0;32m~/raghavendra/ddm_data/.venv/lib/python3.12/site-packages/gpyreg/gaussian_process.py:1214\u001b[0m, in \u001b[0;36mGP.fit.<locals>.<lambda>\u001b[0;34m(hyp_)\u001b[0m\n\u001b[1;32m   1211\u001b[0m \u001b[38;5;28;01mif\u001b[39;00m sampler_name \u001b[38;5;241m!=\u001b[39m \u001b[38;5;124m\"\u001b[39m\u001b[38;5;124mslicesample\u001b[39m\u001b[38;5;124m\"\u001b[39m:\n\u001b[1;32m   1212\u001b[0m     \u001b[38;5;28;01mraise\u001b[39;00m \u001b[38;5;167;01mValueError\u001b[39;00m(\u001b[38;5;124m\"\u001b[39m\u001b[38;5;124mUnknown sampler!\u001b[39m\u001b[38;5;124m\"\u001b[39m)\n\u001b[0;32m-> 1214\u001b[0m sample_f \u001b[38;5;241m=\u001b[39m \u001b[38;5;28;01mlambda\u001b[39;00m hyp_: \u001b[38;5;28;43mself\u001b[39;49m\u001b[38;5;241;43m.\u001b[39;49m\u001b[43m__gp_obj_fun\u001b[49m\u001b[43m(\u001b[49m\u001b[43mhyp_\u001b[49m\u001b[43m,\u001b[49m\u001b[43m \u001b[49m\u001b[38;5;28;43;01mFalse\u001b[39;49;00m\u001b[43m,\u001b[49m\u001b[43m \u001b[49m\u001b[38;5;28;43;01mTrue\u001b[39;49;00m\u001b[43m)\u001b[49m\n\u001b[1;32m   1215\u001b[0m options \u001b[38;5;241m=\u001b[39m {\u001b[38;5;124m\"\u001b[39m\u001b[38;5;124mdisplay\u001b[39m\u001b[38;5;124m\"\u001b[39m: \u001b[38;5;124m\"\u001b[39m\u001b[38;5;124moff\u001b[39m\u001b[38;5;124m\"\u001b[39m, \u001b[38;5;124m\"\u001b[39m\u001b[38;5;124mdiagnostics\u001b[39m\u001b[38;5;124m\"\u001b[39m: \u001b[38;5;28;01mFalse\u001b[39;00m}\n\u001b[1;32m   1216\u001b[0m \u001b[38;5;28;01mif\u001b[39;00m widths \u001b[38;5;129;01mis\u001b[39;00m \u001b[38;5;28;01mNone\u001b[39;00m:\n",
      "File \u001b[0;32m~/raghavendra/ddm_data/.venv/lib/python3.12/site-packages/gpyreg/gaussian_process.py:1546\u001b[0m, in \u001b[0;36mGP.__gp_obj_fun\u001b[0;34m(self, hyp, compute_grad, swap_sign)\u001b[0m\n\u001b[1;32m   1542\u001b[0m     nlZ, dnlZ \u001b[38;5;241m=\u001b[39m \u001b[38;5;28mself\u001b[39m\u001b[38;5;241m.\u001b[39m__compute_nlZ(\n\u001b[1;32m   1543\u001b[0m         hyp, compute_grad, \u001b[38;5;28mself\u001b[39m\u001b[38;5;241m.\u001b[39mno_prior \u001b[38;5;129;01mis\u001b[39;00m \u001b[38;5;129;01mnot\u001b[39;00m \u001b[38;5;28;01mTrue\u001b[39;00m\n\u001b[1;32m   1544\u001b[0m     )\n\u001b[1;32m   1545\u001b[0m \u001b[38;5;28;01melse\u001b[39;00m:\n\u001b[0;32m-> 1546\u001b[0m     nlZ \u001b[38;5;241m=\u001b[39m \u001b[38;5;28;43mself\u001b[39;49m\u001b[38;5;241;43m.\u001b[39;49m\u001b[43m__compute_nlZ\u001b[49m\u001b[43m(\u001b[49m\n\u001b[1;32m   1547\u001b[0m \u001b[43m        \u001b[49m\u001b[43mhyp\u001b[49m\u001b[43m,\u001b[49m\u001b[43m \u001b[49m\u001b[43mcompute_grad\u001b[49m\u001b[43m,\u001b[49m\u001b[43m \u001b[49m\u001b[38;5;28;43mself\u001b[39;49m\u001b[38;5;241;43m.\u001b[39;49m\u001b[43mno_prior\u001b[49m\u001b[43m \u001b[49m\u001b[38;5;129;43;01mis\u001b[39;49;00m\u001b[43m \u001b[49m\u001b[38;5;129;43;01mnot\u001b[39;49;00m\u001b[43m \u001b[49m\u001b[38;5;28;43;01mTrue\u001b[39;49;00m\n\u001b[1;32m   1548\u001b[0m \u001b[43m    \u001b[49m\u001b[43m)\u001b[49m\n\u001b[1;32m   1550\u001b[0m \u001b[38;5;66;03m# Swap sign of negative log marginal likelihood (e.g. for sampling)\u001b[39;00m\n\u001b[1;32m   1551\u001b[0m \u001b[38;5;28;01mif\u001b[39;00m swap_sign:\n",
      "File \u001b[0;32m~/raghavendra/ddm_data/.venv/lib/python3.12/site-packages/gpyreg/gaussian_process.py:1524\u001b[0m, in \u001b[0;36mGP.__compute_nlZ\u001b[0;34m(self, hyp, compute_grad, compute_prior)\u001b[0m\n\u001b[1;32m   1522\u001b[0m     nlZ, dnlZ \u001b[38;5;241m=\u001b[39m \u001b[38;5;28mself\u001b[39m\u001b[38;5;241m.\u001b[39m__core_computation(hyp, \u001b[38;5;241m1\u001b[39m, compute_grad)\n\u001b[1;32m   1523\u001b[0m \u001b[38;5;28;01melse\u001b[39;00m:\n\u001b[0;32m-> 1524\u001b[0m     nlZ \u001b[38;5;241m=\u001b[39m \u001b[38;5;28;43mself\u001b[39;49m\u001b[38;5;241;43m.\u001b[39;49m\u001b[43m__core_computation\u001b[49m\u001b[43m(\u001b[49m\u001b[43mhyp\u001b[49m\u001b[43m,\u001b[49m\u001b[43m \u001b[49m\u001b[38;5;241;43m1\u001b[39;49m\u001b[43m,\u001b[49m\u001b[43m \u001b[49m\u001b[43mcompute_grad\u001b[49m\u001b[43m)\u001b[49m\n\u001b[1;32m   1526\u001b[0m \u001b[38;5;28;01mif\u001b[39;00m compute_prior:\n\u001b[1;32m   1527\u001b[0m     \u001b[38;5;28;01mif\u001b[39;00m compute_grad:\n",
      "File \u001b[0;32m~/raghavendra/ddm_data/.venv/lib/python3.12/site-packages/gpyreg/gaussian_process.py:2415\u001b[0m, in \u001b[0;36mGP.__core_computation\u001b[0;34m(self, hyp, compute_nlZ, compute_nlZ_grad)\u001b[0m\n\u001b[1;32m   2413\u001b[0m \u001b[38;5;28;01mfor\u001b[39;00m i \u001b[38;5;129;01min\u001b[39;00m \u001b[38;5;28mrange\u001b[39m(\u001b[38;5;241m0\u001b[39m, \u001b[38;5;241m10\u001b[39m):\n\u001b[1;32m   2414\u001b[0m     \u001b[38;5;28;01mtry\u001b[39;00m:  \u001b[38;5;66;03m# Cholesky decomposition until it works\u001b[39;00m\n\u001b[0;32m-> 2415\u001b[0m         L \u001b[38;5;241m=\u001b[39m \u001b[43msp\u001b[49m\u001b[38;5;241;43m.\u001b[39;49m\u001b[43mlinalg\u001b[49m\u001b[38;5;241;43m.\u001b[39;49m\u001b[43mcholesky\u001b[49m\u001b[43m(\u001b[49m\n\u001b[1;32m   2416\u001b[0m \u001b[43m            \u001b[49m\u001b[43mK\u001b[49m\u001b[43m \u001b[49m\u001b[38;5;241;43m/\u001b[39;49m\u001b[43m \u001b[49m\u001b[43m(\u001b[49m\u001b[43msn2_div\u001b[49m\u001b[43m \u001b[49m\u001b[38;5;241;43m*\u001b[39;49m\u001b[43m \u001b[49m\u001b[43msn2_mult\u001b[49m\u001b[43m)\u001b[49m\u001b[43m \u001b[49m\u001b[38;5;241;43m+\u001b[39;49m\u001b[43m \u001b[49m\u001b[43msn2_mat\u001b[49m\u001b[43m,\u001b[49m\u001b[43m \u001b[49m\u001b[43mcheck_finite\u001b[49m\u001b[38;5;241;43m=\u001b[39;49m\u001b[38;5;28;43;01mFalse\u001b[39;49;00m\n\u001b[1;32m   2417\u001b[0m \u001b[43m        \u001b[49m\u001b[43m)\u001b[49m\n\u001b[1;32m   2418\u001b[0m     \u001b[38;5;28;01mexcept\u001b[39;00m sp\u001b[38;5;241m.\u001b[39mlinalg\u001b[38;5;241m.\u001b[39mLinAlgError:\n\u001b[1;32m   2419\u001b[0m         sn2_mult \u001b[38;5;241m*\u001b[39m\u001b[38;5;241m=\u001b[39m \u001b[38;5;241m10\u001b[39m\n",
      "File \u001b[0;32m~/raghavendra/ddm_data/.venv/lib/python3.12/site-packages/scipy/linalg/_decomp_cholesky.py:88\u001b[0m, in \u001b[0;36mcholesky\u001b[0;34m(a, lower, overwrite_a, check_finite)\u001b[0m\n\u001b[1;32m     44\u001b[0m \u001b[38;5;28;01mdef\u001b[39;00m \u001b[38;5;21mcholesky\u001b[39m(a, lower\u001b[38;5;241m=\u001b[39m\u001b[38;5;28;01mFalse\u001b[39;00m, overwrite_a\u001b[38;5;241m=\u001b[39m\u001b[38;5;28;01mFalse\u001b[39;00m, check_finite\u001b[38;5;241m=\u001b[39m\u001b[38;5;28;01mTrue\u001b[39;00m):\n\u001b[1;32m     45\u001b[0m \u001b[38;5;250m    \u001b[39m\u001b[38;5;124;03m\"\"\"\u001b[39;00m\n\u001b[1;32m     46\u001b[0m \u001b[38;5;124;03m    Compute the Cholesky decomposition of a matrix.\u001b[39;00m\n\u001b[1;32m     47\u001b[0m \n\u001b[0;32m   (...)\u001b[0m\n\u001b[1;32m     86\u001b[0m \n\u001b[1;32m     87\u001b[0m \u001b[38;5;124;03m    \"\"\"\u001b[39;00m\n\u001b[0;32m---> 88\u001b[0m     c, lower \u001b[38;5;241m=\u001b[39m \u001b[43m_cholesky\u001b[49m\u001b[43m(\u001b[49m\u001b[43ma\u001b[49m\u001b[43m,\u001b[49m\u001b[43m \u001b[49m\u001b[43mlower\u001b[49m\u001b[38;5;241;43m=\u001b[39;49m\u001b[43mlower\u001b[49m\u001b[43m,\u001b[49m\u001b[43m \u001b[49m\u001b[43moverwrite_a\u001b[49m\u001b[38;5;241;43m=\u001b[39;49m\u001b[43moverwrite_a\u001b[49m\u001b[43m,\u001b[49m\u001b[43m \u001b[49m\u001b[43mclean\u001b[49m\u001b[38;5;241;43m=\u001b[39;49m\u001b[38;5;28;43;01mTrue\u001b[39;49;00m\u001b[43m,\u001b[49m\n\u001b[1;32m     89\u001b[0m \u001b[43m                         \u001b[49m\u001b[43mcheck_finite\u001b[49m\u001b[38;5;241;43m=\u001b[39;49m\u001b[43mcheck_finite\u001b[49m\u001b[43m)\u001b[49m\n\u001b[1;32m     90\u001b[0m     \u001b[38;5;28;01mreturn\u001b[39;00m c\n",
      "File \u001b[0;32m~/raghavendra/ddm_data/.venv/lib/python3.12/site-packages/scipy/linalg/_decomp_cholesky.py:34\u001b[0m, in \u001b[0;36m_cholesky\u001b[0;34m(a, lower, overwrite_a, clean, check_finite)\u001b[0m\n\u001b[1;32m     32\u001b[0m overwrite_a \u001b[38;5;241m=\u001b[39m overwrite_a \u001b[38;5;129;01mor\u001b[39;00m _datacopied(a1, a)\n\u001b[1;32m     33\u001b[0m potrf, \u001b[38;5;241m=\u001b[39m get_lapack_funcs((\u001b[38;5;124m'\u001b[39m\u001b[38;5;124mpotrf\u001b[39m\u001b[38;5;124m'\u001b[39m,), (a1,))\n\u001b[0;32m---> 34\u001b[0m c, info \u001b[38;5;241m=\u001b[39m \u001b[43mpotrf\u001b[49m\u001b[43m(\u001b[49m\u001b[43ma1\u001b[49m\u001b[43m,\u001b[49m\u001b[43m \u001b[49m\u001b[43mlower\u001b[49m\u001b[38;5;241;43m=\u001b[39;49m\u001b[43mlower\u001b[49m\u001b[43m,\u001b[49m\u001b[43m \u001b[49m\u001b[43moverwrite_a\u001b[49m\u001b[38;5;241;43m=\u001b[39;49m\u001b[43moverwrite_a\u001b[49m\u001b[43m,\u001b[49m\u001b[43m \u001b[49m\u001b[43mclean\u001b[49m\u001b[38;5;241;43m=\u001b[39;49m\u001b[43mclean\u001b[49m\u001b[43m)\u001b[49m\n\u001b[1;32m     35\u001b[0m \u001b[38;5;28;01mif\u001b[39;00m info \u001b[38;5;241m>\u001b[39m \u001b[38;5;241m0\u001b[39m:\n\u001b[1;32m     36\u001b[0m     \u001b[38;5;28;01mraise\u001b[39;00m LinAlgError(\u001b[38;5;124m\"\u001b[39m\u001b[38;5;132;01m%d\u001b[39;00m\u001b[38;5;124m-th leading minor of the array is not positive \u001b[39m\u001b[38;5;124m\"\u001b[39m\n\u001b[1;32m     37\u001b[0m                       \u001b[38;5;124m\"\u001b[39m\u001b[38;5;124mdefinite\u001b[39m\u001b[38;5;124m\"\u001b[39m \u001b[38;5;241m%\u001b[39m info)\n",
      "\u001b[0;31mKeyboardInterrupt\u001b[0m: "
     ]
    }
   ],
   "source": [
    "vbmc = VBMC(vbmc_joint, x_0, lb, ub, plb, pub, options={'display': 'off'})\n",
    "vp, results = vbmc.optimize()"
   ]
  },
  {
   "cell_type": "code",
   "execution_count": null,
   "metadata": {},
   "outputs": [],
   "source": []
  },
  {
   "cell_type": "markdown",
   "metadata": {},
   "source": [
    "# debug the integration warning"
   ]
  },
  {
   "cell_type": "markdown",
   "metadata": {},
   "source": [
    "quad fails at abrupt jumps in func values, quad_vec handles it well"
   ]
  },
  {
   "cell_type": "code",
   "execution_count": null,
   "metadata": {},
   "outputs": [],
   "source": [
    "# #  t=0.20853853529150929, V_A_old=1.4363502971184063, V_A_new=2.87678576602479, a=2.46398788362281, t_LED=0.20808828278775598\n",
    "# # t=1.343891481553597, V_A_old=0.5841618435023734, V_A_new=2.8404592339020054, a=2.916641577777321, t_LED=0.550585160962662\n",
    "# t_warn = 1.343891481553597\n",
    "# V_A_old_warn = 0.5841618435023734\n",
    "# V_A_new_warn = 2.8404592339020054\n",
    "# a_warn = 2.916641577777321\n",
    "# t_LED_warn = 0.550585160962662\n",
    "\n",
    "# # t_warn = 0.20853853529150929\n",
    "# # V_A_old_warn = 1.4363502971184063\n",
    "# # V_A_new_warn = 2.87678576602479\n",
    "# # a_warn = 2.46398788362281\n",
    "# # t_LED_warn = 0.20808828278775598\n",
    "\n",
    "# CDF_hit_V_A_change(t_warn, V_A_old_warn, V_A_new_warn, a_warn, t_LED_warn)\n",
    "# from V_A_step_jump_fit_utils import P_old_at_x_times_CDF_new_hit\n",
    "\n",
    "# a_pts = np.linspace(-10, a_warn, 100)\n",
    "\n",
    "# p_vs_a = [P_old_at_x_times_CDF_new_hit(i, t_warn, V_A_old_warn, V_A_new_warn, a_warn, t_LED_warn) for i in a_pts]\n",
    "# quad(P_old_at_x_times_CDF_new_hit, -10, a_warn, args=(t_warn, V_A_old_warn, V_A_new_warn, a_warn, t_LED_warn))\n",
    "# import time\n",
    "\n",
    "\n",
    "# start_time = time.time()\n",
    "\n",
    "# bw = 0.01\n",
    "# x_pts = np.arange(-10, a_warn, bw)\n",
    "# y_pts = [P_old_at_x_times_CDF_new_hit(i, t_warn, V_A_old_warn, V_A_new_warn, a_warn, t_LED_warn) for i in x_pts]\n",
    "\n",
    "# result = np.trapz(y_pts, x_pts)\n",
    "# end_time = time.time()\n",
    "\n",
    "# print(\"Integration result using numpy.trapz:\", result)\n",
    "# print(\"Time taken for integration:\", end_time - start_time, \"seconds\")\n",
    "# from scipy.integrate import quad_vec\n",
    "\n",
    "# result = quad_vec(\n",
    "#     P_old_at_x_times_CDF_new_hit,  # Function to integrate\n",
    "#     -10,                  # Lower bound\n",
    "#     a_warn,                  # Upper bound\n",
    "#     args=(t_warn, V_A_old_warn, V_A_new_warn, a_warn, t_LED_warn)  # Additional arguments\n",
    "# )\n",
    "# plt.plot(a_pts, p_vs_a, label='func')\n",
    "# plt.axvline(a_warn, color='red', linestyle='--', label='upper limit')\n",
    "# plt.xlabel('x');plt.ylabel('y')\n",
    "# plt.legend();\n"
   ]
  },
  {
   "cell_type": "markdown",
   "metadata": {},
   "source": [
    "# corner plot"
   ]
  },
  {
   "cell_type": "code",
   "execution_count": null,
   "metadata": {},
   "outputs": [],
   "source": [
    "import corner\n",
    "vp_samples = vp.sample(int(1e6))[0]\n",
    "base_V_A_samp = vp_samples[:,0]\n",
    "new_V_A_samp = vp_samples[:,1]\n",
    "theta_A_samp = vp_samples[:,2]\n",
    "t_A_aff_samp = vp_samples[:,3]\n",
    "\n",
    "combined_samples = np.transpose(np.vstack((base_V_A_samp, new_V_A_samp, theta_A_samp, t_A_aff_samp)))\n",
    "param_labels = ['base_V_A', 'new_V_A', 'theta_A', 't_A_aff']\n",
    "true_params = [V_A_old, V_A_new , theta_A, t_A_aff]\n",
    "corner.corner (combined_samples, labels=param_labels, show_titles=True, title_fmt=\".4f\", truths=true_params  );\n"
   ]
  },
  {
   "cell_type": "code",
   "execution_count": null,
   "metadata": {},
   "outputs": [],
   "source": []
  },
  {
   "cell_type": "markdown",
   "metadata": {},
   "source": [
    "# check likelihood funcs"
   ]
  },
  {
   "cell_type": "code",
   "execution_count": null,
   "metadata": {},
   "outputs": [],
   "source": [
    "# ---- For Full DDM, need to include Cummulative also ---------------------\n",
    "# abort_rts_leds = [(res['rt'], res['t_led']) for res in sim_results if res['rt'] < res['t_stim']]\n",
    "\n",
    "# abort_rts = np.array([r[0] for r in abort_rts_leds])\n",
    "# abort_leds = np.array([r[1] for r in abort_rts_leds])\n",
    "\n",
    "# bw = 0.05\n",
    "# bins = np.arange(0, 2, bw)\n",
    "# t_pts = bins[:-1] + bw/2\n",
    "\n",
    "# abort_leds_unique = np.unique(abort_leds)\n",
    "# pdf_all_led = np.zeros((len(abort_leds_unique), len(t_pts)))\n",
    "\n",
    "# for i, led in enumerate(abort_leds_unique):\n",
    "#     pdf_each_led = [PDF_hit_V_A_change(t, V_A_old, V_A_new, theta_A, led) for t in t_pts]\n",
    "#     pdf_all_led[i, :] = pdf_each_led\n",
    "\n",
    "# pdf_all_led_mean = np.mean(pdf_all_led, axis=0)\n",
    "\n",
    "# plt.plot(t_pts, pdf_all_led_mean, label='mean pdf')\n",
    "# plt.hist(abort_rts, bins=bins, density=True, alpha=0.5, label='abort rts');\n",
    "# plt.legend();"
   ]
  },
  {
   "cell_type": "markdown",
   "metadata": {},
   "source": [
    "# check distr"
   ]
  },
  {
   "cell_type": "code",
   "execution_count": null,
   "metadata": {},
   "outputs": [],
   "source": [
    "base_V_A_mean = np.mean(base_V_A_samp)\n",
    "new_V_A_mean = np.mean(new_V_A_samp)\n",
    "theta_A_mean = np.mean(theta_A_samp)\n",
    "t_A_aff_mean = np.mean(t_A_aff_samp)\n",
    "\n",
    "print(f'base_V_A_mean = {base_V_A_mean:.2f}, new_V_A_mean = {new_V_A_mean:.2f}, theta_A_mean = {theta_A_mean:.2f}, t_A_aff_mean = {t_A_aff_mean:.2f}')\n",
    "print(f'og params: base_V_A = {V_A_old}, new_V_A = {V_A_new}, theta_A = {theta_A}, t_A_aff = {t_A_aff}')"
   ]
  },
  {
   "cell_type": "code",
   "execution_count": null,
   "metadata": {},
   "outputs": [],
   "source": [
    "sim_results_vb = Parallel(n_jobs=-1)(delayed(psiam_tied_data_gen_wrapper)(base_V_A_mean, new_V_A_mean, theta_A_mean, np.unique(df['ABL'].values), np.unique(df['ILD'].values), \\\n",
    "                                                                          rate_lambda, T_0, theta_E, Z_E, t_A_aff_mean, t_E_aff, t_motor, L, \\\n",
    "                                iter_num, N_print, dt) for iter_num in range(N_sim))"
   ]
  },
  {
   "cell_type": "code",
   "execution_count": null,
   "metadata": {},
   "outputs": [],
   "source": [
    "og_trunc_aborts = [res['rt'] for res in sim_results if res['rt'] > T_trunc and res['rt'] < res['t_stim']]\n",
    "vb_trunc_aborts = [res['rt'] for res in sim_results_vb if res['rt'] > T_trunc and res['rt'] < res['t_stim'] ]"
   ]
  },
  {
   "cell_type": "code",
   "execution_count": null,
   "metadata": {},
   "outputs": [],
   "source": [
    "bw = 0.05\n",
    "bins = np.arange(0, 2, bw)\n",
    "\n",
    "plt.hist(og_trunc_aborts, bins=bins, density=True, label='OG', histtype='step')\n",
    "plt.hist(vb_trunc_aborts, bins=bins, density=True, label='VBMC', histtype='step')\n",
    "plt.legend();\n",
    "plt.title('Trunc Abort distr')"
   ]
  },
  {
   "cell_type": "markdown",
   "metadata": {},
   "source": [
    "# try with proactive only"
   ]
  },
  {
   "cell_type": "code",
   "execution_count": null,
   "metadata": {},
   "outputs": [],
   "source": [
    "def simulate_single_bound_V_A_change(V_A_old, V_A_new, a, t_LED, dt):\n",
    "    t = 0\n",
    "    DV = 0\n",
    "\n",
    "    while True:\n",
    "        if t >= t_LED:\n",
    "            v = V_A_new\n",
    "        else:\n",
    "            v = V_A_old\n",
    "        \n",
    "        t += dt\n",
    "        DV += v*dt + np.random.normal(0, dB)\n",
    "        \n",
    "        if DV >= a:\n",
    "            return t\n",
    "        \n",
    "\n",
    "fix_led_time = 1\n",
    "sim_results = Parallel(n_jobs=-1)(delayed(simulate_single_bound_V_A_change)\\\n",
    "                                  (V_A_old, V_A_new, theta_A, fix_led_time, dt) for _ in tqdm(range(100e3)))"
   ]
  },
  {
   "cell_type": "code",
   "execution_count": null,
   "metadata": {},
   "outputs": [],
   "source": [
    "from V_A_step_jump_fit_utils import PDF_hit_V_A_change, CDF_hit_V_A_change\n",
    "t_pts = np.linspace(0, 8, 100)\n",
    "plt.hist(sim_results, bins=100, density=True, alpha=0.5, label='simulated rts');\n",
    "theory = [PDF_hit_V_A_change(t, V_A_old, V_A_new, theta_A, fix_led_time) for t in t_pts]\n",
    "plt.plot(t_pts, theory, label='theory');\n",
    "plt.legend();"
   ]
  },
  {
   "cell_type": "code",
   "execution_count": null,
   "metadata": {},
   "outputs": [],
   "source": [
    "plt.hist(sim_results, bins=100, density=True, alpha=0.5, cumulative=True, label='simulated rts', histtype='step', lw=5);\n",
    "theory = [CDF_hit_V_A_change(t, V_A_old, V_A_new, theta_A, fix_led_time) for t in t_pts]\n",
    "plt.plot(t_pts, theory, label='theory');"
   ]
  },
  {
   "cell_type": "code",
   "execution_count": null,
   "metadata": {},
   "outputs": [],
   "source": []
  },
  {
   "cell_type": "code",
   "execution_count": null,
   "metadata": {},
   "outputs": [],
   "source": []
  }
 ],
 "metadata": {
  "kernelspec": {
   "display_name": ".venv",
   "language": "python",
   "name": "python3"
  },
  "language_info": {
   "codemirror_mode": {
    "name": "ipython",
    "version": 3
   },
   "file_extension": ".py",
   "mimetype": "text/x-python",
   "name": "python",
   "nbconvert_exporter": "python",
   "pygments_lexer": "ipython3",
   "version": "3.12.3"
  }
 },
 "nbformat": 4,
 "nbformat_minor": 2
}
