{
 "cells": [
  {
   "cell_type": "code",
   "execution_count": 3,
   "metadata": {},
   "outputs": [],
   "source": [
    "import numpy as np\n",
    "import matplotlib.pyplot as plt\n",
    "import pandas as pd\n",
    "import random"
   ]
  },
  {
   "cell_type": "code",
   "execution_count": 13,
   "metadata": {},
   "outputs": [
    {
     "data": {
      "text/plain": [
       "(0.5, 1.0)"
      ]
     },
     "execution_count": 13,
     "metadata": {},
     "output_type": "execute_result"
    },
    {
     "data": {
      "image/png": "[encoded data removed]",
      "text/plain": [
       "<Figure size 1000x500 with 2 Axes>"
      ]
     },
     "metadata": {},
     "output_type": "display_data"
    }
   ],
   "source": [
    "og_df = pd.read_csv('../out_LED.csv')\n",
    "\n",
    "# chose non repeat trials - 0 or 2 or missing\n",
    "df = og_df[ og_df['repeat_trial'].isin([0,2]) | og_df['repeat_trial'].isna() ]\n",
    "\n",
    "# only session type 7\n",
    "session_type = 7    \n",
    "df = df[ df['session_type'].isin([session_type]) ]\n",
    "\n",
    "# training level 16\n",
    "training_level = 16\n",
    "df = df[ df['training_level'].isin([training_level]) ]\n",
    "\n",
    "# 1 is right , -1 is left\n",
    "df['choice'] = df['response_poke'].apply(lambda x: 1 if x == 3 else (-1 if x == 2 else random.choice([1, -1])))\n",
    "\n",
    "# 1 or 0 if the choice was correct or not\n",
    "df['correct'] = (df['ILD'] * df['choice']).apply(lambda x: 1 if x > 0 else 0)\n",
    "\n",
    "df_led_off = df[df['LED_trial'] == 0]\n",
    "df_led_on = df[df['LED_trial'] == 1]\n",
    "\n",
    "# Bilateral, Left and right same power = 100\n",
    "df_led_on = df_led_on[df_led_on['LED_powerL'] == df_led_on['LED_powerR']]\n",
    "\n",
    "df_led_on_small_aborts_cleaned = df_led_on[ ~((df_led_on['timed_fix'] < df_led_on['intended_fix']) & (df_led_on['timed_fix'] < 0.3)) ]\n",
    "\n",
    "data_df = df_led_on_small_aborts_cleaned.copy()\n",
    "data_df = data_df[ data_df['timed_fix'] - data_df['intended_fix'] < 1 ]\n",
    "\n",
    "data_df = data_df.rename(columns={'timed_fix': 'rt', 'intended_fix': 't_stim'})\n",
    "data_df = data_df[data_df['rt'] > data_df['t_stim']]\n",
    "df = data_df.copy()\n",
    "\n",
    "df['abs_ILD'] = np.abs(df['ILD'])\n",
    "\n",
    "prob_correct_dict = {}\n",
    "\n",
    "all_ABL = np.sort(df['ABL'].unique())\n",
    "all_abs_ILD = np.sort(df['abs_ILD'].unique())\n",
    "\n",
    "for abl in all_ABL:\n",
    "    filtered_df = df[df['ABL'] == abl]\n",
    "    prob_correct_dict[abl] = [\n",
    "        filtered_df[filtered_df['abs_ILD'] == abs_ILD]['correct'].mean()\n",
    "        for abs_ILD in all_abs_ILD\n",
    "    ]\n",
    "\n",
    "plt.figure(figsize=(10, 5))\n",
    "plt.subplot(1,2,1)\n",
    "for ABL in all_ABL:\n",
    "    plt.scatter(all_abs_ILD, prob_correct_dict[ABL], label=f'ABL={ABL}')\n",
    "\n",
    "plt.ylim(0.5, 1)\n",
    "plt.subplot(1,2,2)\n",
    "from diagnostics_class import Diagnostics\n",
    "data_df = df_led_on_small_aborts_cleaned.copy()\n",
    "data_df = data_df[ data_df['timed_fix'] - data_df['intended_fix'] < 1 ]\n",
    "data_df = data_df.rename(columns={'timed_fix': 'rt', 'intended_fix': 't_stim'})\n",
    "data_df_valid = data_df[ data_df['rt'] > data_df['t_stim'] ]\n",
    "data_diagnose_obj_valid = Diagnostics(data_df_valid)\n",
    "\n",
    "data_psycho = data_diagnose_obj_valid.plot_correct_vs_abs_ILD()\n",
    "all_ABL = data_psycho.keys()\n",
    "all_ILD = np.sort(df['ILD'].unique())\n",
    "all_pos_ILD = list(set(np.abs(df['ILD'].unique())))\n",
    "\n",
    "for ABL in all_ABL:\n",
    "    plt.scatter(all_pos_ILD, data_psycho[ABL], label=f'ABL={ABL}')\n",
    "\n",
    "\n",
    "\n",
    "plt.legend()\n",
    "plt.ylim(0.5, 1)\n"
   ]
  },
  {
   "cell_type": "code",
   "execution_count": null,
   "metadata": {},
   "outputs": [],
   "source": []
  }
 ],
 "metadata": {
  "kernelspec": {
   "display_name": ".venv",
   "language": "python",
   "name": "python3"
  },
  "language_info": {
   "codemirror_mode": {
    "name": "ipython",
    "version": 3
   },
   "file_extension": ".py",
   "mimetype": "text/x-python",
   "name": "python",
   "nbconvert_exporter": "python",
   "pygments_lexer": "ipython3",
   "version": "3.12.3"
  }
 },
 "nbformat": 4,
 "nbformat_minor": 2
}
