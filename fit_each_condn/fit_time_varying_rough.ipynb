{
 "cells": [
  {
   "cell_type": "code",
   "execution_count": 1,
   "metadata": {},
   "outputs": [],
   "source": [
    "import numpy as np\n",
    "import matplotlib.pyplot as plt\n",
    "import os\n",
    "\n",
    "from joblib import Parallel, delayed, parallel_backend\n",
    "# from psiam_tied_dv_map_utils_for_noise import psiam_tied_data_gen_wrapper_noise_change_no_L_T0_change\n",
    "from psiam_tied_dv_map_utils_with_PDFs import all_RTs_fit_OPTIM_V_A_change_added_noise_fn, up_RTs_fit_OPTIM_V_A_change_added_noise_fn, down_RTs_fit_OPTIM_V_A_change_added_noise_fn, PA_with_LEDON_2\n",
    "from psiam_tied_dv_map_utils_with_PDFs import up_RTs_fit_OPTIM_V_A_change_gamma_omega_fn, down_RTs_fit_OPTIM_V_A_change_gamma_omega_fn\n",
    "import pandas as pd\n",
    "import random\n",
    "from tqdm.notebook import tqdm\n",
    "from joblib import Parallel, delayed\n",
    "from scipy.integrate import trapezoid as trapz\n",
    "from pyvbmc import VBMC\n",
    "import corner\n",
    "from diagnostics_class import Diagnostics\n",
    "from psiam_tied_dv_map_utils_with_PDFs import all_RTs_fit_OPTIM_fn, CDF_RT_fn\n",
    "from scipy.integrate import cumulative_trapezoid as cumtrapz\n",
    "import pickle\n",
    "from single_cond_utils import PA_with_LEDON_2_VEC\n",
    "from psiam_tied_dv_map_utils_with_PDFs import up_RTs_fit_OPTIM_V_A_change_gamma_omega_P_A_C_A_wrt_stim_fn\n",
    "from psiam_tied_dv_map_utils_with_PDFs import down_RTs_fit_OPTIM_V_A_change_gamma_omega_P_A_C_A_wrt_stim_fn\n",
    "from psiam_tied_dv_map_utils_with_PDFs import all_RTs_fit_OPTIM_omega_gamma_PA_CA_wrt_stim_fn\n",
    "\n",
    "import io\n",
    "import matplotlib.gridspec as gridspec\n",
    "import corner"
   ]
  },
  {
   "cell_type": "code",
   "execution_count": 2,
   "metadata": {},
   "outputs": [],
   "source": [
    "# repeat_trial, T16, S7\n",
    "og_df = pd.read_csv('../out_LED.csv')\n",
    "df = og_df[ og_df['repeat_trial'].isin([0,2]) | og_df['repeat_trial'].isna() ]\n",
    "session_type = 7    \n",
    "df = df[ df['session_type'].isin([session_type]) ]\n",
    "training_level = 16\n",
    "df = df[ df['training_level'].isin([training_level]) ]\n",
    "\n",
    "\n",
    "# t_stim, t_LED, ABL, ILD\n",
    "t_stim_and_led_tuple = [(row['intended_fix'], row['intended_fix'] - row['LED_onset_time']) for _, row in df.iterrows()]\n",
    "ABL_arr = df['ABL'].unique(); ABL_arr.sort()\n",
    "ILD_arr = df['ILD'].unique(); ILD_arr.sort()\n",
    "\n",
    "\n",
    "# 1 is right , -1 is left\n",
    "df['choice'] = df['response_poke'].apply(lambda x: 1 if x == 3 else (-1 if x == 2 else random.choice([1, -1])))\n",
    "# 1 or 0 if the choice was correct or not\n",
    "df['correct'] = (df['ILD'] * df['choice']).apply(lambda x: 1 if x > 0 else 0)\n"
   ]
  },
  {
   "cell_type": "code",
   "execution_count": 3,
   "metadata": {},
   "outputs": [
    {
     "name": "stdout",
     "output_type": "stream",
     "text": [
      "len of LED off: 66226\n",
      "len of led off valid trials = 53472\n",
      "len of valid trials < 1s : 52799\n"
     ]
    }
   ],
   "source": [
    "# LED OFF\n",
    "df_led_off = df[df['LED_trial'] == 0]\n",
    "print(f'len of LED off: {len(df_led_off)}')\n",
    "\n",
    "# valid trials\n",
    "df_led_off_valid_trials = df_led_off[df_led_off['success'].isin([1,-1])]\n",
    "print(f'len of led off valid trials = {len(df_led_off_valid_trials)}')\n",
    "\n",
    "# remove trials with RT > 1s\n",
    "df_led_off_valid_trials = df_led_off_valid_trials[df_led_off_valid_trials['timed_fix'] - df_led_off_valid_trials['intended_fix'] < 1]\n",
    "print(f'len of valid trials < 1s : {len(df_led_off_valid_trials)}')"
   ]
  },
  {
   "cell_type": "code",
   "execution_count": 4,
   "metadata": {},
   "outputs": [
    {
     "name": "stdout",
     "output_type": "stream",
     "text": [
      "len of df_led_off_valid_trials_case = 1688\n"
     ]
    }
   ],
   "source": [
    "ABL = 20; ILD = 1\n",
    "df_led_off_valid_trials_case = df_led_off_valid_trials[\n",
    "    (df_led_off_valid_trials['ABL'] == ABL) &\n",
    "    (df_led_off_valid_trials['ILD'] == ILD)\n",
    "]\n",
    "\n",
    "print(f'len of df_led_off_valid_trials_case = {len(df_led_off_valid_trials_case)}')"
   ]
  },
  {
   "cell_type": "code",
   "execution_count": 5,
   "metadata": {},
   "outputs": [],
   "source": [
    "def K0(y, h, a, b):\n",
    "    # a*sin(2*pi/h*(y-b)) where (y-b)>=0 and (y-b)<h/4, else 0\n",
    "    return a * np.sin(2 * np.pi/h * (y - b)) * ((y - b) >= 0) * ((y - b) < h/4)\n",
    "\n",
    "def K1(y, h, a, b):\n",
    "    # (1+a*sin(2*pi/h*(y-b))) for (y-b) in [h/4, h/2)\n",
    "    return (1 + a * np.sin(2 * np.pi/h * (y - b))) * ((y - b) >= h/4) * ((y - b) < h/2)\n",
    "\n",
    "def K2(y, h, a, b):\n",
    "    # (1 - a*(y-b)/h * exp(1 - (y-b)/h)) for (y-b)>=0\n",
    "    return (1 - a * (y - b) / h * np.exp(1 - (y - b)/h)) * ((y - b) >= 0)\n",
    "\n",
    "def phi_fn(y, h1, a1, b1, h2, a2):\n",
    "    # Combination of K0, K1, and K2 functions\n",
    "    return K0(y, h1, 1 + a1, b1) + K1(y, h1, a1, b1) + K2(y, h2, a2, b1 + h1/2)\n",
    "\n",
    "def I0(y, h, a, b):\n",
    "    # a*h/pi * sin(pi/h*(y-b))^2 for (y-b)>=0 and (y-b)<=h/4\n",
    "    return a * h/np.pi * (np.sin(np.pi/h * (y - b))**2) * ((y - b) >= 0) * ((y - b) <= h/4)\n",
    "\n",
    "def I1(y, h, a, b):\n",
    "    # I0 evaluated at b+h/4 plus extra terms for y in (b+h/4, b+h/2]\n",
    "    term1 = I0(b + h/4, h, 1 + a, b)\n",
    "    term2 = y - (b + h/4)\n",
    "    term3 = a * h/(2 * np.pi) * np.cos(2 * np.pi/h * (y - b))\n",
    "    return (term1 + term2 - term3) * ((y - b) > h/4) * ((y - b) <= h/2)\n",
    "\n",
    "def I2(y, h1, a1, b1, h2, a2, b2):\n",
    "    # I1 evaluated at b2 plus extra terms for y > b2\n",
    "    term1 = I1(b2, h1, a1, b1)\n",
    "    term2 = y - b2\n",
    "    # The expression: -a2*h2*(-exp(1-(y-b2)/h2).*((y-b2)/h2+1)+exp(1))\n",
    "    term3 = a2 * h2 * (-np.exp(1 - (y - b2)/h2) * ((y - b2)/h2 + 1) + np.exp(1))\n",
    "    return (term1 + term2 - term3) * ((y - b2) > 0)\n",
    "\n",
    "def int_phi(y, h1, a1, b1, h2, a2):\n",
    "    # Combination of I0, I1, and I2 functions with b2 = b1+h1/2\n",
    "    b2 = b1 + h1/2\n",
    "    return I0(y, h1, 1 + a1, b1) + I1(y, h1, a1, b1) + I2(y, h1, a1, b1, h2, a2, b2)\n",
    "\n"
   ]
  },
  {
   "cell_type": "code",
   "execution_count": 6,
   "metadata": {},
   "outputs": [
    {
     "data": {
      "text/plain": [
       "Text(0.5, 1.0, 'int phi t')"
      ]
     },
     "execution_count": 6,
     "metadata": {},
     "output_type": "execute_result"
    },
    {
     "data": {
      "image/png": "[encoded data removed]",
      "text/plain": [
       "<Figure size 1000x500 with 2 Axes>"
      ]
     },
     "metadata": {},
     "output_type": "display_data"
    }
   ],
   "source": [
    "bump_width = 0.23   # h1\n",
    "bump_height = 0.25  # a1\n",
    "bump_offset = 0     # b1\n",
    "dip_width = 0.05    # h2\n",
    "dip_height = 0.5    # a2\n",
    "\n",
    "# Example usage with a NumPy array for y\n",
    "import numpy as np\n",
    "y = np.arange(0, 2, 0.001)  # example y values\n",
    "\n",
    "phi_vals = phi_fn(y, bump_width, bump_height, bump_offset, dip_width, dip_height)\n",
    "int_phi_vals = int_phi(y, bump_width, bump_height, bump_offset, dip_width, dip_height)\n",
    "plt.figure(figsize=(10,5))\n",
    "plt.subplot(1,2,1)\n",
    "plt.plot(y, phi_vals);\n",
    "plt.title('phi(t)')\n",
    "\n",
    "plt.subplot(1,2,2)\n",
    "plt.plot(y, int_phi_vals)\n",
    "# numerical \n",
    "num_int_phi = cumtrapz(phi_vals, y, initial=0)\n",
    "plt.plot(y, num_int_phi, ls='--', color='r', alpha=0.3, lw=4)\n",
    "plt.title('int phi t')\n"
   ]
  },
  {
   "cell_type": "code",
   "execution_count": 7,
   "metadata": {},
   "outputs": [],
   "source": [
    "df_up = df_led_off_valid_trials_case[df_led_off_valid_trials_case['choice'] == 1]\n",
    "df_down = df_led_off_valid_trials_case[df_led_off_valid_trials_case['choice'] == -1]"
   ]
  },
  {
   "cell_type": "code",
   "execution_count": 8,
   "metadata": {},
   "outputs": [],
   "source": [
    "rt_up = df_up['timed_fix'] - df_up['intended_fix']\n",
    "rt_down = df_down['timed_fix'] - df_down['intended_fix']"
   ]
  },
  {
   "cell_type": "code",
   "execution_count": 9,
   "metadata": {},
   "outputs": [],
   "source": [
    "bins = np.arange(0, 1, 0.02)\n",
    "\n",
    "rt_up_hist, _ = np.histogram(rt_up, bins=bins, density=True)\n",
    "rt_down_hist, _ = np.histogram(rt_down, bins=bins, density=True)\n",
    "\n",
    "frac_up = len(rt_up) / len(df_led_off_valid_trials_case)\n",
    "frac_down = len(rt_down) / len(df_led_off_valid_trials_case)"
   ]
  },
  {
   "cell_type": "code",
   "execution_count": 10,
   "metadata": {},
   "outputs": [],
   "source": [
    "####################### theory #######################\n",
    "from single_cond_utils import PA_with_LEDON_2_VEC\n",
    "V_A = 1.6\n",
    "theta_A = 2.53\n",
    "V_A_post_LED = V_A # LED OFF\n",
    "\n",
    "# delays\n",
    "t_A_aff = -0.187\n",
    "del_go = 0.13 \n",
    "\n",
    "\n",
    "N_theory = int(1e3)\n",
    "random_indices = np.random.randint(0, len(t_stim_and_led_tuple), N_theory)\n",
    "t_pts = np.arange(0, 2, 0.001)\n",
    "\n",
    "P_A_samples = np.zeros((N_theory, len(t_pts)))\n",
    "for idx in range(N_theory):\n",
    "    t_stim, t_LED = t_stim_and_led_tuple[random_indices[idx]]\n",
    "    pdf = PA_with_LEDON_2_VEC(t_pts, V_A, V_A_post_LED, theta_A, t_stim, t_LED, t_A_aff)\n",
    "    P_A_samples[idx, :] = pdf\n",
    "\n",
    "\n",
    "P_A_samples_mean = np.mean(P_A_samples, axis=0)\n",
    "C_A_mean = cumtrapz(P_A_samples_mean, t_pts, initial=0)"
   ]
  },
  {
   "cell_type": "code",
   "execution_count": 11,
   "metadata": {},
   "outputs": [],
   "source": [
    "# \n",
    "from psiam_tied_dv_map_utils_with_PDFs import up_or_down_RTs_fit_OPTIM_V_A_change_gamma_omega_P_A_C_A_wrt_stim_time_varying_fn"
   ]
  },
  {
   "cell_type": "code",
   "execution_count": 18,
   "metadata": {},
   "outputs": [
    {
     "name": "stdout",
     "output_type": "stream",
     "text": [
      "0.6437851800976914 0.6273696682464455\n",
      "0.3557605169058546 0.3726303317535545\n",
      "0.9995456970035459\n"
     ]
    },
    {
     "data": {
      "text/plain": [
       "Text(0.5, 1.0, 't_E_aff=0.3, b1 = 0, area=1.00')"
      ]
     },
     "execution_count": 18,
     "metadata": {},
     "output_type": "execute_result"
    },
    {
     "data": {
      "image/png": "[encoded data removed]",
      "text/plain": [
       "<Figure size 640x480 with 1 Axes>"
      ]
     },
     "metadata": {},
     "output_type": "display_data"
    }
   ],
   "source": [
    "from types import SimpleNamespace\n",
    "\n",
    "## Temp params - eye fit juan \n",
    "gamma  = 0.43\n",
    "omega = 3.1543\n",
    "t_E_aff = 0.3\n",
    "\n",
    "bump_width = 0.23\n",
    "bump_height = 0.25\n",
    "bump_offset = 0\n",
    "dip_width = 0.038857\n",
    "dip_height = 0.9\n",
    "\n",
    "\n",
    "phi_params =  {\n",
    "    'h1': bump_width,\n",
    "    'a1': bump_height,\n",
    "    'b1': bump_offset,\n",
    "    'h2': dip_width,\n",
    "    'a2': dip_height\n",
    "}\n",
    "phi_params_obj = SimpleNamespace(**phi_params)\n",
    "\n",
    "K_max = 10\n",
    "up_wrt_stim = np.zeros_like(t_pts)\n",
    "down_wrt_stim = np.zeros_like(t_pts)\n",
    "for idx, t in enumerate(t_pts):\n",
    "    P_A = P_A_samples_mean[idx]\n",
    "    C_A = C_A_mean[idx]\n",
    "    up_wrt_stim[idx] =  up_or_down_RTs_fit_OPTIM_V_A_change_gamma_omega_P_A_C_A_wrt_stim_time_varying_fn(t, P_A, C_A, gamma, omega, t_E_aff, del_go, phi_params_obj, 1, K_max)\n",
    "    down_wrt_stim[idx] = up_or_down_RTs_fit_OPTIM_V_A_change_gamma_omega_P_A_C_A_wrt_stim_time_varying_fn(t, P_A, C_A, gamma, omega, t_E_aff, del_go, phi_params_obj, -1, K_max)\n",
    "\n",
    "theory_area_up = trapz(up_wrt_stim, t_pts)\n",
    "theory_area_down = trapz(down_wrt_stim, t_pts)\n",
    "\n",
    "print(theory_area_up, frac_up)\n",
    "print(theory_area_down, frac_down)\n",
    "print(theory_area_up + theory_area_down)\n",
    "total_area = theory_area_up + theory_area_down\n",
    "\n",
    "bin_centers = 0.5*(bins[1:] + bins[:-1])\n",
    "\n",
    "plt.plot(bin_centers, rt_up_hist * frac_up)\n",
    "plt.plot(bin_centers, -rt_down_hist * frac_down)\n",
    "\n",
    "plt.plot(t_pts, up_wrt_stim, ls='--')\n",
    "plt.plot(t_pts, -down_wrt_stim, ls='--')\n",
    "plt.title(f'ABL = {ABL}, ILD = {ILD}')\n",
    "plt.title(f't_E_aff={t_E_aff}, b1 = {phi_params_obj.b1}, area={total_area :.2f}')\n"
   ]
  },
  {
   "cell_type": "code",
   "execution_count": null,
   "metadata": {},
   "outputs": [],
   "source": [
    "plt.plot(t_pts,up_wrt_stim + down_wrt_stim )\n",
    "plt.hist(df_led_off_valid_trials_case['timed_fix']-df_led_off_valid_trials_case['intended_fix'], \\\n",
    "         bins=np.arange(0,1,0.01), density=True, histtype='step')\n",
    "plt.axvline(t_E_aff, color='k', alpha=0.3, label='del E')\n",
    "plt.legend()\n",
    "plt.title(f'del E = {t_E_aff}. up + down')"
   ]
  },
  {
   "cell_type": "code",
   "execution_count": null,
   "metadata": {},
   "outputs": [],
   "source": [
    "plt.plot(t_pts, P_A_samples_mean, label='proactive')\n",
    "plt.plot(t_pts, up_wrt_stim, color='g', label='up')\n",
    "plt.plot(t_pts, down_wrt_stim, color='r', label='down')\n",
    "plt.plot(t_pts, up_wrt_stim + down_wrt_stim, color='k', label='up+down', ls='--')\n",
    "plt.ylim(0, 0.6)\n",
    "plt.axvline(t_E_aff, alpha=0.3, label='del E')\n",
    "plt.legend()\n",
    "plt.xlabel('RT')\n",
    "plt.ylabel('density')\n",
    "plt.title(f'del E = {t_E_aff}')"
   ]
  },
  {
   "cell_type": "markdown",
   "metadata": {},
   "source": [
    "# vbmc"
   ]
  },
  {
   "cell_type": "markdown",
   "metadata": {},
   "source": [
    "## loglike fn"
   ]
  },
  {
   "cell_type": "code",
   "execution_count": null,
   "metadata": {},
   "outputs": [],
   "source": [
    "def compute_loglike_trial(row, gamma, omega, t_E_aff, h1, a1, h2, a2):\n",
    "    # data\n",
    "    rt = row['timed_fix']\n",
    "    t_stim = row['intended_fix']\n",
    "    t_LED = row['intended_fix'] - row['LED_onset_time']\n",
    "\n",
    "    response_poke = row['response_poke']\n",
    "\n",
    "    phi_params = {'h1': h1, 'a1': a1, 'h2': h2, 'a2': a2, 'b1': 0 }\n",
    "    phi_params_obj = SimpleNamespace(**phi_params)\n",
    "\n",
    "    t_pts_1 = np.arange(t_stim, t_stim + 1, 0.001)\n",
    "    P_A_LED_change = np.array([PA_with_LEDON_2(i, V_A, V_A_post_LED, theta_A, 0, t_LED, t_A_aff) for i in t_pts_1])\n",
    "    area_btn_stim_and_1s = trapz(P_A_LED_change, t_pts_1)\n",
    "    trunc_factor_p_joint = area_btn_stim_and_1s\n",
    "        \n",
    "    # PA and CA\n",
    "    P_A = PA_with_LEDON_2(rt, V_A, V_A_post_LED, theta_A, 0, t_LED, t_A_aff)\n",
    "    t_pts_2 = np.arange(0, t, 0.001)\n",
    "    P_A_LED_change = np.array([PA_with_LEDON_2(i, V_A, V_A_post_LED, theta_A, 0, t_LED, t_A_aff) for i in t_pts_2])\n",
    "    C_A = trapz(P_A_LED_change, t_pts_2)\n",
    "\n",
    "    if response_poke == 3:\n",
    "        # up\n",
    "        P_joint_rt_choice =     up_RTs_fit_OPTIM_V_A_change_gamma_omega_P_A_C_A_wrt_stim_time_varying_fn(\n",
    "                                        rt, P_A, C_A, gamma, omega, t_E_aff, del_go, phi_params_obj, K_max\n",
    "                                        )\n",
    "    elif response_poke == 2:\n",
    "        # down\n",
    "        P_joint_rt_choice = down_RTs_fit_OPTIM_V_A_change_gamma_omega_P_A_C_A_wrt_stim_time_varying_fn(\n",
    "                                        rt, P_A, C_A, gamma, omega, t_E_aff, del_go, phi_params_obj, K_max\n",
    "                                        )\n",
    "    \n",
    "\n",
    "    \n",
    "    P_joint_rt_choice_trunc = max(P_joint_rt_choice / (trunc_factor_p_joint + 1e-10), 1e-10)\n",
    "    \n",
    "    wt_log_like = np.log(P_joint_rt_choice_trunc)\n",
    "\n",
    "    if np.isnan(wt_log_like):\n",
    "        return np.log(1e-50)\n",
    "\n",
    "    return wt_log_like\n",
    "\n",
    "\n",
    "def vbmc_loglike_fn(params):\n",
    "    gamma, omega, t_E_aff, h1, a1, h2, a2 = params\n",
    "\n",
    "    all_loglike = Parallel(n_jobs=30)(delayed(compute_loglike_trial)(row, gamma, omega, t_E_aff, h1, a1, h2, a2) \\\n",
    "                                     for _, row in df_led_off_valid_trials_case.iterrows())\n",
    "    \n",
    "    return np.sum(all_loglike)"
   ]
  },
  {
   "cell_type": "code",
   "execution_count": null,
   "metadata": {},
   "outputs": [],
   "source": [
    "gamma_bounds = [0.02, 2]\n",
    "gamma_plausible_bounds = [0.09, 0.9]\n",
    "\n",
    "omega_bounds = [0.05, 50]\n",
    "omega_plausible_bounds = [0.5, 10]\n",
    "\n",
    "t_E_aff_bounds = [0, 1]\n",
    "t_E_aff_plausible_bounds = [0.01, 0.2]\n",
    "\n",
    "# bump_width = 0.23   # h1\n",
    "# bump_height = 0.25  # a1\n",
    "# bump_offset = 0     # b1\n",
    "# dip_width = 0.05    # h2\n",
    "# dip_height = 0.5    # a2\n",
    "\n",
    "h1_bounds = [0.001, 1]\n",
    "h1_plausible_bounds = [0.02, 0.7]\n",
    "\n",
    "a1_bounds = [0.001, 1]\n",
    "a1_plausible_bounds = [0.02, 0.7]\n",
    "\n",
    "h2_bounds = [0.001, 0.9]\n",
    "h2_plausible_bounds = [0.02, 0.09]\n",
    "\n",
    "a2_bounds = [0.001, 5]\n",
    "a2_plausible_bounds = [0.1, 0.9]"
   ]
  },
  {
   "cell_type": "code",
   "execution_count": null,
   "metadata": {},
   "outputs": [],
   "source": [
    "def trapezoidal_logpdf(x, a, b, c, d):\n",
    "    if x < a or x > d:\n",
    "        return -np.inf  # Logarithm of zero\n",
    "    area = ((b - a) + (d - c)) / 2 + (c - b)\n",
    "    h_max = 1.0 / area  # Height of the trapezoid to normalize the area to 1\n",
    "    \n",
    "    if a <= x <= b:\n",
    "        pdf_value = ((x - a) / (b - a)) * h_max\n",
    "    elif b < x < c:\n",
    "        pdf_value = h_max\n",
    "    elif c <= x <= d:\n",
    "        pdf_value = ((d - x) / (d - c)) * h_max\n",
    "    else:\n",
    "        pdf_value = 0.0  # This case is redundant due to the initial check\n",
    "\n",
    "    if pdf_value <= 0.0:\n",
    "        return -np.inf\n",
    "    else:\n",
    "        return np.log(pdf_value)\n",
    "    \n",
    "\n",
    "def vbmc_prior_fn(params):\n",
    "    gamma, omega, t_E_aff, h1, a1, h2, a2 = params\n",
    "    gamma_logpdf = trapezoidal_logpdf(gamma, gamma_bounds[0], gamma_plausible_bounds[0], gamma_plausible_bounds[1], gamma_bounds[1])\n",
    "    omega_logpdf = trapezoidal_logpdf(omega, omega_bounds[0], omega_plausible_bounds[0], omega_plausible_bounds[1], omega_bounds[1])\n",
    "    t_E_aff_logpdf = trapezoidal_logpdf(t_E_aff, t_E_aff_bounds[0], t_E_aff_plausible_bounds[0], t_E_aff_plausible_bounds[1], t_E_aff_bounds[1])\n",
    "    h1_logpdf = trapezoidal_logpdf(h1, h1_bounds[0], h1_plausible_bounds[0], h1_plausible_bounds[1], h1_bounds[1])\n",
    "    a1_logpdf = trapezoidal_logpdf(a1, a1_bounds[0], a1_plausible_bounds[0], a1_plausible_bounds[1], a1_bounds[1])\n",
    "    h2_logpdf = trapezoidal_logpdf(h2, h2_bounds[0], h2_plausible_bounds[0], h2_plausible_bounds[1], h2_bounds[1])\n",
    "    a2_logpdf = trapezoidal_logpdf(a2, a2_bounds[0], a2_plausible_bounds[0], a2_plausible_bounds[1], a2_bounds[1])\n",
    "    return gamma_logpdf + omega_logpdf + t_E_aff_logpdf + h1_logpdf + a1_logpdf + h2_logpdf + a2_logpdf"
   ]
  },
  {
   "cell_type": "code",
   "execution_count": null,
   "metadata": {},
   "outputs": [],
   "source": [
    "def vbmc_joint_fn(params):\n",
    "    priors = vbmc_prior_fn(params)\n",
    "    loglike = vbmc_loglike_fn(params)\n",
    "\n",
    "    return priors + loglike"
   ]
  },
  {
   "cell_type": "code",
   "execution_count": null,
   "metadata": {},
   "outputs": [],
   "source": [
    "# Create bounds arrays\n",
    "lb = np.array([\n",
    "    gamma_bounds[0], omega_bounds[0], t_E_aff_bounds[0],\n",
    "    h1_bounds[0], a1_bounds[0], h2_bounds[0], a2_bounds[0]\n",
    "])\n",
    "ub = np.array([\n",
    "    gamma_bounds[1], omega_bounds[1], t_E_aff_bounds[1],\n",
    "    h1_bounds[1], a1_bounds[1], h2_bounds[1], a2_bounds[1]\n",
    "])\n",
    "\n",
    "plb = np.array([\n",
    "    gamma_plausible_bounds[0], omega_plausible_bounds[0], t_E_aff_plausible_bounds[0],\n",
    "    h1_plausible_bounds[0], a1_plausible_bounds[0], h2_plausible_bounds[0], a2_plausible_bounds[0]\n",
    "])\n",
    "pub = np.array([\n",
    "    gamma_plausible_bounds[1], omega_plausible_bounds[1], t_E_aff_plausible_bounds[1],\n",
    "    h1_plausible_bounds[1], a1_plausible_bounds[1], h2_plausible_bounds[1], a2_plausible_bounds[1]\n",
    "])\n",
    "\n",
    "# Initialize with random values within plausible bounds\n",
    "np.random.seed(42)\n",
    "gamma_0 = np.random.uniform(*gamma_plausible_bounds)\n",
    "omega_0 = np.random.uniform(*omega_plausible_bounds)\n",
    "t_E_aff_0 = np.random.uniform(*t_E_aff_plausible_bounds)\n",
    "h1_0 = np.random.uniform(*h1_plausible_bounds)\n",
    "a1_0 = np.random.uniform(*a1_plausible_bounds)\n",
    "h2_0 = np.random.uniform(*h2_plausible_bounds)\n",
    "a2_0 = np.random.uniform(*a2_plausible_bounds)\n",
    "\n",
    "x_0 = np.array([gamma_0, omega_0, t_E_aff_0, h1_0, a1_0, h2_0, a2_0])"
   ]
  },
  {
   "cell_type": "code",
   "execution_count": null,
   "metadata": {},
   "outputs": [],
   "source": [
    "vbmc = VBMC(vbmc_joint_fn, x_0, lb, ub, plb, pub, options={'display': 'on'})\n",
    "vp, results = vbmc.optimize()"
   ]
  },
  {
   "cell_type": "code",
   "execution_count": null,
   "metadata": {},
   "outputs": [],
   "source": [
    "# Draw samples from the variational posterior\n",
    "vp_samples = vp.sample(int(1e5))[0]\n",
    "\n",
    "# Extract individual parameter samples\n",
    "gamma_samples = vp_samples[:, 0]\n",
    "omega_samples = vp_samples[:, 1]\n",
    "t_E_aff_samples = vp_samples[:, 2]\n",
    "h1_samples = vp_samples[:, 3]\n",
    "a1_samples = vp_samples[:, 4]\n",
    "h2_samples = vp_samples[:, 5]\n",
    "a2_samples = vp_samples[:, 6]\n",
    "\n",
    "# Compute posterior means\n",
    "gamma = gamma_samples.mean()\n",
    "omega = omega_samples.mean()\n",
    "t_E_aff = t_E_aff_samples.mean()\n",
    "h1 = h1_samples.mean()\n",
    "a1 = a1_samples.mean()\n",
    "h2 = h2_samples.mean()\n",
    "a2 = a2_samples.mean()\n",
    "\n",
    "# Stack all parameters for the corner plot\n",
    "corner_samples = np.vstack([\n",
    "    gamma_samples, omega_samples, t_E_aff_samples,\n",
    "    h1_samples, a1_samples, h2_samples, a2_samples\n",
    "]).T\n",
    "\n",
    "# Compute ranges for plotting\n",
    "percentiles = np.percentile(corner_samples, [0, 100], axis=0)\n",
    "_ranges = [(percentiles[0, i], percentiles[1, i]) for i in range(corner_samples.shape[1])]\n",
    "\n",
    "# Parameter labels\n",
    "param_labels = ['gamma', 'omega', 't_E_aff', 'h1', 'a1', 'h2', 'a2']\n",
    "\n",
    "# Plot the corner plot\n",
    "corner.corner(\n",
    "    corner_samples,\n",
    "    labels=param_labels,\n",
    "    show_titles=True,\n",
    "    quantiles=[0.025, 0.5, 0.975],\n",
    "    range=_ranges,\n",
    "    title_fmt=\".4f\"\n",
    ");\n"
   ]
  },
  {
   "cell_type": "code",
   "execution_count": null,
   "metadata": {},
   "outputs": [],
   "source": []
  },
  {
   "cell_type": "code",
   "execution_count": null,
   "metadata": {},
   "outputs": [],
   "source": []
  }
 ],
 "metadata": {
  "kernelspec": {
   "display_name": ".venv",
   "language": "python",
   "name": "python3"
  },
  "language_info": {
   "codemirror_mode": {
    "name": "ipython",
    "version": 3
   },
   "file_extension": ".py",
   "mimetype": "text/x-python",
   "name": "python",
   "nbconvert_exporter": "python",
   "pygments_lexer": "ipython3",
   "version": "3.12.3"
  }
 },
 "nbformat": 4,
 "nbformat_minor": 2
}
